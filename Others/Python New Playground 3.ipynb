{
 "cells": [
  {
   "cell_type": "code",
   "execution_count": 1,
   "metadata": {},
   "outputs": [],
   "source": [
    "# data visualization and utilities\n",
    "import pandas as pd\n",
    "import numpy as np\n",
    "import matplotlib.pyplot as plt\n",
    "import seaborn as sns\n",
    "%matplotlib inline"
   ]
  },
  {
   "cell_type": "code",
   "execution_count": 2,
   "metadata": {},
   "outputs": [],
   "source": [
    "# classifier\n",
    "from sklearn.linear_model import LinearRegression\n",
    "from sklearn.linear_model import LogisticRegression\n",
    "from sklearn.tree import DecisionTreeRegressor\n",
    "from sklearn.ensemble import RandomForestRegressor\n",
    "from sklearn.neighbors import KNeighborsRegressor\n",
    "from sklearn.neural_network import MLPClassifier as MLP\n",
    "from sklearn.svm import SVR"
   ]
  },
  {
   "cell_type": "code",
   "execution_count": 3,
   "metadata": {},
   "outputs": [],
   "source": [
    "# evaluation\n",
    "from sklearn.metrics import classification_report, confusion_matrix\n",
    "from sklearn.model_selection import KFold, GridSearchCV, train_test_split\n",
    "from sklearn.metrics import r2_score\n",
    "from sklearn.metrics import explained_variance_score\n",
    "from sklearn.metrics import mean_absolute_error\n",
    "from sklearn.metrics import mean_squared_error\n",
    "from sklearn.metrics import mean_squared_log_error\n",
    "from sklearn.metrics import median_absolute_error\n",
    "from sklearn.metrics import r2_score\n",
    "from sklearn.metrics import precision_score"
   ]
  },
  {
   "cell_type": "code",
   "execution_count": 4,
   "metadata": {},
   "outputs": [],
   "source": [
    "# data preprocessing\n",
    "from sklearn.preprocessing import StandardScaler\n",
    "from sklearn.discriminant_analysis import LinearDiscriminantAnalysis as LDA\n",
    "from sklearn.decomposition import PCA\n",
    "from sklearn.feature_selection import SelectKBest, f_classif"
   ]
  },
  {
   "cell_type": "code",
   "execution_count": 5,
   "metadata": {},
   "outputs": [],
   "source": [
    "def draw(row, labels):\n",
    "    # draw a label from a row with the corrsponding weight\n",
    "    if len(row) != len(labels):\n",
    "        print('length of row does not match length of labels')\n",
    "        return \n",
    "    else:\n",
    "        count_positive = sum([1 if each >= 0 else 0 for each in row])\n",
    "        if count_positive == len(row):\n",
    "            # all positive            \n",
    "            sample = np.random.uniform(0, sum(row))\n",
    "            pointer = 0\n",
    "            for i in range(len(row)):\n",
    "                if pointer + row[i] > sample:            \n",
    "                    return y_labels[i]\n",
    "                else:\n",
    "                    pointer += row[i]\n",
    "        elif count_positive > 0:\n",
    "            temp_row = [each if each > 0 else 0 for each in row]\n",
    "            sample = np.random.uniform(0, sum(temp_row))\n",
    "            pointer = 0\n",
    "            for i in range(len(temp_row)):\n",
    "                if pointer + temp_row[i] > sample:\n",
    "                    return y_labels[i]\n",
    "                else:\n",
    "                    pointer += temp_row[i]\n",
    "        else:\n",
    "            # all negative\n",
    "            base = min(row)\n",
    "            temp_row = [each - base for each in row]\n",
    "            sample = np.random.uniform(0, sum(temp_row))\n",
    "            pointer = 0\n",
    "            for i in range(len(temp_row)):\n",
    "                if pointer + temp_row[i] > sample:\n",
    "                    return y_labels[i]\n",
    "                else:\n",
    "                    pointer += temp_row[i]"
   ]
  },
  {
   "cell_type": "code",
   "execution_count": 6,
   "metadata": {},
   "outputs": [],
   "source": [
    "def convert(row,labels):\n",
    "    if len(row) != len(labels):\n",
    "        print('length of row does not match length of labels')\n",
    "        return \n",
    "    else:\n",
    "        max_value = row[0]\n",
    "        max_index = 0\n",
    "        for i in range(len(row)):\n",
    "            if row[i] > max_value:\n",
    "                max_value = row[i]\n",
    "                max_index = i\n",
    "        return labels[max_index]"
   ]
  },
  {
   "cell_type": "code",
   "execution_count": 7,
   "metadata": {},
   "outputs": [],
   "source": [
    "loan_raw = pd.read_csv('kiva_loans.csv')"
   ]
  },
  {
   "cell_type": "code",
   "execution_count": 8,
   "metadata": {},
   "outputs": [],
   "source": [
    "loan_std = pd.read_csv('kiva_loans_standardized.csv')"
   ]
  },
  {
   "cell_type": "code",
   "execution_count": null,
   "metadata": {},
   "outputs": [],
   "source": []
  },
  {
   "cell_type": "code",
   "execution_count": 9,
   "metadata": {},
   "outputs": [],
   "source": [
    "dataframe_features = list(loan_std.columns)"
   ]
  },
  {
   "cell_type": "code",
   "execution_count": 10,
   "metadata": {},
   "outputs": [],
   "source": [
    "dataframe_score = ['repayment_interval_bullet','repayment_interval_monthly','repayment_interval_weekly','repayment_interval_irregular']"
   ]
  },
  {
   "cell_type": "code",
   "execution_count": 11,
   "metadata": {},
   "outputs": [],
   "source": [
    "for i in range(len(dataframe_score)):\n",
    "    dataframe_features.remove(dataframe_score[i])"
   ]
  },
  {
   "cell_type": "code",
   "execution_count": 12,
   "metadata": {},
   "outputs": [],
   "source": [
    "X = loan_std[dataframe_features]\n",
    "y = loan_std[dataframe_score]"
   ]
  },
  {
   "cell_type": "code",
   "execution_count": null,
   "metadata": {},
   "outputs": [],
   "source": []
  },
  {
   "cell_type": "code",
   "execution_count": 13,
   "metadata": {},
   "outputs": [],
   "source": [
    "X_train, X_test, y_train, y_test = train_test_split(X, y, test_size=0.1)"
   ]
  },
  {
   "cell_type": "code",
   "execution_count": 14,
   "metadata": {},
   "outputs": [],
   "source": [
    "dr = DecisionTreeRegressor()"
   ]
  },
  {
   "cell_type": "code",
   "execution_count": 15,
   "metadata": {},
   "outputs": [
    {
     "data": {
      "text/plain": [
       "DecisionTreeRegressor(criterion='mse', max_depth=None, max_features=None,\n",
       "           max_leaf_nodes=None, min_impurity_decrease=0.0,\n",
       "           min_impurity_split=None, min_samples_leaf=1,\n",
       "           min_samples_split=2, min_weight_fraction_leaf=0.0,\n",
       "           presort=False, random_state=None, splitter='best')"
      ]
     },
     "execution_count": 15,
     "metadata": {},
     "output_type": "execute_result"
    }
   ],
   "source": [
    "dr.fit(X_train,y_train)"
   ]
  },
  {
   "cell_type": "code",
   "execution_count": 17,
   "metadata": {},
   "outputs": [],
   "source": [
    "y_revise = dr.predict(X_train)"
   ]
  },
  {
   "cell_type": "code",
   "execution_count": 18,
   "metadata": {},
   "outputs": [],
   "source": [
    "y_labels = ['bullet','monthly','weekly','irregular']"
   ]
  },
  {
   "cell_type": "code",
   "execution_count": 19,
   "metadata": {},
   "outputs": [],
   "source": [
    "y_raw_label = [convert(row, y_labels) for row in y_revise]   "
   ]
  },
  {
   "cell_type": "code",
   "execution_count": 20,
   "metadata": {},
   "outputs": [],
   "source": [
    "y_true_label = [convert(row, y_labels) for row in y_train.values.tolist()]"
   ]
  },
  {
   "cell_type": "code",
   "execution_count": 30,
   "metadata": {},
   "outputs": [],
   "source": [
    "y_corr = confusion_matrix(y_true_label, y_raw_label)\n",
    "y_corr = y_corr.T\n",
    "y_corr = [row/sum(row) for row in y_corr]\n",
    "y_corr = np.array(y_corr)\n",
    "y_corr_new = []\n",
    "for i in range(len(y_corr)):\n",
    "    temp = y_corr[i][i] / sum(y_corr[i])\n",
    "    y_corr_new.append(temp) "
   ]
  },
  {
   "cell_type": "code",
   "execution_count": 33,
   "metadata": {},
   "outputs": [
    {
     "name": "stdout",
     "output_type": "stream",
     "text": [
      "[0.9679821524732672, 0.9738090923994167, 0.9812189427829875, 0.8881469115191987]\n"
     ]
    }
   ],
   "source": [
    "print(y_corr_new)"
   ]
  },
  {
   "cell_type": "code",
   "execution_count": 34,
   "metadata": {},
   "outputs": [
    {
     "name": "stdout",
     "output_type": "stream",
     "text": [
      "              precision    recall  f1-score   support\n",
      "\n",
      "      bullet       0.97      0.99      0.98     63732\n",
      "   irregular       0.97      0.98      0.97    231399\n",
      "     monthly       0.98      0.98      0.98    308406\n",
      "      weekly       0.89      0.97      0.93       547\n",
      "\n",
      "   micro avg       0.98      0.98      0.98    604084\n",
      "   macro avg       0.95      0.98      0.96    604084\n",
      "weighted avg       0.98      0.98      0.98    604084\n",
      "\n"
     ]
    }
   ],
   "source": [
    "print(classification_report(y_true_label, y_raw_label))"
   ]
  },
  {
   "cell_type": "code",
   "execution_count": 35,
   "metadata": {},
   "outputs": [
    {
     "name": "stdout",
     "output_type": "stream",
     "text": [
      "[[ 62914    185    633      0]\n",
      " [   482 225727   5125     65]\n",
      " [  1599   5873 300932      2]\n",
      " [     0     13      2    532]]\n"
     ]
    }
   ],
   "source": [
    "print(confusion_matrix(y_true_label, y_raw_label))"
   ]
  },
  {
   "cell_type": "code",
   "execution_count": 37,
   "metadata": {},
   "outputs": [],
   "source": [
    "y_bayes_train = []\n",
    "for row in y_revise:\n",
    "    y_bayes_train.append([y_corr_new[i] * row[i] for i in range(len(row))])"
   ]
  },
  {
   "cell_type": "code",
   "execution_count": 38,
   "metadata": {},
   "outputs": [
    {
     "data": {
      "text/plain": [
       "[[0.9679821524732672, 0.0, 0.0, 0.0],\n",
       " [0.0, 0.9738090923994167, 0.0, 0.0],\n",
       " [0.9679821524732672, 0.0, 0.0, 0.0],\n",
       " [0.0, 0.9738090923994167, 0.0, 0.0],\n",
       " [0.0, 0.0, 0.0, 0.8881469115191987]]"
      ]
     },
     "execution_count": 38,
     "metadata": {},
     "output_type": "execute_result"
    }
   ],
   "source": [
    "y_bayes_train[0:5]"
   ]
  },
  {
   "cell_type": "code",
   "execution_count": 39,
   "metadata": {},
   "outputs": [],
   "source": [
    "# y_bayes_label_train = [draw(row, y_labels) for row in y_bayes_train]\n",
    "y_bayes_label_train = [convert(row, y_labels) for row in y_bayes_train]"
   ]
  },
  {
   "cell_type": "code",
   "execution_count": 40,
   "metadata": {},
   "outputs": [
    {
     "data": {
      "text/plain": [
       "['bullet', 'monthly', 'bullet', 'monthly', 'irregular']"
      ]
     },
     "execution_count": 40,
     "metadata": {},
     "output_type": "execute_result"
    }
   ],
   "source": [
    "y_bayes_label_train[0:5]"
   ]
  },
  {
   "cell_type": "code",
   "execution_count": 41,
   "metadata": {},
   "outputs": [
    {
     "name": "stdout",
     "output_type": "stream",
     "text": [
      "              precision    recall  f1-score   support\n",
      "\n",
      "      bullet       0.98      0.97      0.98     63732\n",
      "   irregular       0.97      0.98      0.97    231399\n",
      "     monthly       0.98      0.98      0.98    308406\n",
      "      weekly       0.89      0.98      0.93       547\n",
      "\n",
      "   micro avg       0.98      0.98      0.98    604084\n",
      "   macro avg       0.96      0.98      0.96    604084\n",
      "weighted avg       0.98      0.98      0.98    604084\n",
      "\n"
     ]
    }
   ],
   "source": [
    "print(classification_report(y_true_label, y_bayes_label_train))"
   ]
  },
  {
   "cell_type": "code",
   "execution_count": 42,
   "metadata": {},
   "outputs": [
    {
     "name": "stdout",
     "output_type": "stream",
     "text": [
      "[[ 61980    185   1567      0]\n",
      " [   428 225663   5243     65]\n",
      " [   665   5813 301924      4]\n",
      " [     0     13      0    534]]\n"
     ]
    }
   ],
   "source": [
    "print(confusion_matrix(y_true_label, y_bayes_label_train))"
   ]
  },
  {
   "cell_type": "code",
   "execution_count": null,
   "metadata": {},
   "outputs": [],
   "source": []
  },
  {
   "cell_type": "code",
   "execution_count": 45,
   "metadata": {},
   "outputs": [],
   "source": [
    "y_pred = dr.predict(X_test)"
   ]
  },
  {
   "cell_type": "code",
   "execution_count": 46,
   "metadata": {},
   "outputs": [],
   "source": [
    "y_pred_label = [convert(row, y_labels) for row in y_pred]   "
   ]
  },
  {
   "cell_type": "code",
   "execution_count": 47,
   "metadata": {},
   "outputs": [],
   "source": [
    "y_test_label = [convert(row, y_labels) for row in y_test.values.tolist()]"
   ]
  },
  {
   "cell_type": "code",
   "execution_count": 48,
   "metadata": {},
   "outputs": [
    {
     "name": "stdout",
     "output_type": "stream",
     "text": [
      "              precision    recall  f1-score   support\n",
      "\n",
      "      bullet       0.86      0.88      0.87      6996\n",
      "   irregular       0.91      0.91      0.91     25759\n",
      "     monthly       0.92      0.92      0.92     34311\n",
      "      weekly       0.72      0.84      0.77        55\n",
      "\n",
      "   micro avg       0.91      0.91      0.91     67121\n",
      "   macro avg       0.86      0.89      0.87     67121\n",
      "weighted avg       0.91      0.91      0.91     67121\n",
      "\n"
     ]
    }
   ],
   "source": [
    "print(classification_report(y_test_label, y_pred_label))"
   ]
  },
  {
   "cell_type": "code",
   "execution_count": 49,
   "metadata": {},
   "outputs": [
    {
     "name": "stdout",
     "output_type": "stream",
     "text": [
      "[[ 6164   172   659     1]\n",
      " [  234 23568  1942    15]\n",
      " [  741  2036 31532     2]\n",
      " [    0     8     1    46]]\n"
     ]
    }
   ],
   "source": [
    "print(confusion_matrix(y_test_label, y_pred_label))"
   ]
  },
  {
   "cell_type": "code",
   "execution_count": 53,
   "metadata": {},
   "outputs": [],
   "source": [
    "y_bayes_test = []\n",
    "for row in y_pred:\n",
    "    y_bayes_test.append([y_corr_new[i] * row[i] for i in range(len(row))])"
   ]
  },
  {
   "cell_type": "code",
   "execution_count": 54,
   "metadata": {},
   "outputs": [],
   "source": [
    "y_bayes_label_test = [convert(row, y_labels) for row in y_bayes_test]"
   ]
  },
  {
   "cell_type": "code",
   "execution_count": 55,
   "metadata": {},
   "outputs": [
    {
     "name": "stdout",
     "output_type": "stream",
     "text": [
      "              precision    recall  f1-score   support\n",
      "\n",
      "      bullet       0.87      0.87      0.87      6996\n",
      "   irregular       0.91      0.91      0.91     25759\n",
      "     monthly       0.92      0.92      0.92     34311\n",
      "      weekly       0.72      0.84      0.77        55\n",
      "\n",
      "   micro avg       0.91      0.91      0.91     67121\n",
      "   macro avg       0.86      0.89      0.87     67121\n",
      "weighted avg       0.91      0.91      0.91     67121\n",
      "\n"
     ]
    }
   ],
   "source": [
    "print(classification_report(y_test_label, y_bayes_label_test))"
   ]
  },
  {
   "cell_type": "code",
   "execution_count": 56,
   "metadata": {},
   "outputs": [
    {
     "name": "stdout",
     "output_type": "stream",
     "text": [
      "[[ 6090   172   733     1]\n",
      " [  219 23563  1962    15]\n",
      " [  666  2034 31609     2]\n",
      " [    0     8     1    46]]\n"
     ]
    }
   ],
   "source": [
    "print(confusion_matrix(y_test_label, y_bayes_label_test))"
   ]
  },
  {
   "cell_type": "code",
   "execution_count": 60,
   "metadata": {},
   "outputs": [
    {
     "data": {
      "text/plain": [
       "0.9135846811889121"
      ]
     },
     "execution_count": 60,
     "metadata": {},
     "output_type": "execute_result"
    }
   ],
   "source": [
    "precision_score(y_test_label, y_pred_label,average = 'weighted')"
   ]
  },
  {
   "cell_type": "code",
   "execution_count": 61,
   "metadata": {},
   "outputs": [
    {
     "data": {
      "text/plain": [
       "0.913409234494649"
      ]
     },
     "execution_count": 61,
     "metadata": {},
     "output_type": "execute_result"
    }
   ],
   "source": [
    "precision_score(y_test_label, y_bayes_label_test,average = 'weighted')"
   ]
  },
  {
   "cell_type": "code",
   "execution_count": null,
   "metadata": {},
   "outputs": [],
   "source": []
  },
  {
   "cell_type": "code",
   "execution_count": null,
   "metadata": {},
   "outputs": [],
   "source": []
  },
  {
   "cell_type": "code",
   "execution_count": null,
   "metadata": {},
   "outputs": [],
   "source": []
  },
  {
   "cell_type": "code",
   "execution_count": 156,
   "metadata": {},
   "outputs": [],
   "source": [
    "vector = y_revise[3]"
   ]
  },
  {
   "cell_type": "code",
   "execution_count": 157,
   "metadata": {},
   "outputs": [
    {
     "data": {
      "text/plain": [
       "array([0.        , 0.15151515, 0.        , 0.84848485])"
      ]
     },
     "execution_count": 157,
     "metadata": {},
     "output_type": "execute_result"
    }
   ],
   "source": [
    "vector"
   ]
  },
  {
   "cell_type": "code",
   "execution_count": 158,
   "metadata": {},
   "outputs": [
    {
     "data": {
      "text/plain": [
       "array([[ 62657,    171,    635,      0],\n",
       "       [   486, 225489,   5162,     65],\n",
       "       [  1594,   5852, 301441,      2],\n",
       "       [     0,     12,      1,    517]], dtype=int64)"
      ]
     },
     "execution_count": 158,
     "metadata": {},
     "output_type": "execute_result"
    }
   ],
   "source": [
    "y_corr"
   ]
  },
  {
   "cell_type": "code",
   "execution_count": 165,
   "metadata": {},
   "outputs": [],
   "source": [
    "result = np.transpose(np.dot(y_corr, np.transpose(vector)))"
   ]
  },
  {
   "cell_type": "code",
   "execution_count": 166,
   "metadata": {},
   "outputs": [
    {
     "data": {
      "text/plain": [
       "array([2.59090909e+01, 3.42201515e+04, 8.88363636e+02, 4.40484848e+02])"
      ]
     },
     "execution_count": 166,
     "metadata": {},
     "output_type": "execute_result"
    }
   ],
   "source": [
    "result"
   ]
  },
  {
   "cell_type": "code",
   "execution_count": 149,
   "metadata": {},
   "outputs": [
    {
     "data": {
      "text/plain": [
       "array([0., 1., 0., 0.])"
      ]
     },
     "execution_count": 149,
     "metadata": {},
     "output_type": "execute_result"
    }
   ],
   "source": []
  },
  {
   "cell_type": "code",
   "execution_count": 152,
   "metadata": {},
   "outputs": [
    {
     "data": {
      "text/plain": [
       "array([0., 1., 0., 0.])"
      ]
     },
     "execution_count": 152,
     "metadata": {},
     "output_type": "execute_result"
    }
   ],
   "source": [
    "y_revise[4]"
   ]
  },
  {
   "cell_type": "code",
   "execution_count": 155,
   "metadata": {},
   "outputs": [
    {
     "data": {
      "text/plain": [
       "array([0.        , 0.15151515, 0.        , 0.84848485])"
      ]
     },
     "execution_count": 155,
     "metadata": {},
     "output_type": "execute_result"
    }
   ],
   "source": [
    "y_revise[3]"
   ]
  },
  {
   "cell_type": "code",
   "execution_count": 162,
   "metadata": {},
   "outputs": [
    {
     "data": {
      "text/plain": [
       "repayment_interval_bullet       0\n",
       "repayment_interval_monthly      0\n",
       "repayment_interval_weekly       0\n",
       "repayment_interval_irregular    1\n",
       "Name: 621599, dtype: int64"
      ]
     },
     "execution_count": 162,
     "metadata": {},
     "output_type": "execute_result"
    }
   ],
   "source": [
    "y_train.iloc[3]"
   ]
  },
  {
   "cell_type": "code",
   "execution_count": 169,
   "metadata": {},
   "outputs": [],
   "source": [
    "y_corr_norm = [row/sum(row) for row in y_corr]"
   ]
  },
  {
   "cell_type": "code",
   "execution_count": 170,
   "metadata": {},
   "outputs": [
    {
     "data": {
      "text/plain": [
       "[array([0.98729969, 0.00269448, 0.01000583, 0.        ]),\n",
       " array([2.10205794e-03, 9.75290006e-01, 2.23267965e-02, 2.81139437e-04]),\n",
       " array([5.16042980e-03, 1.89453169e-02, 9.75887778e-01, 6.47481781e-06]),\n",
       " array([0.        , 0.02264151, 0.00188679, 0.9754717 ])]"
      ]
     },
     "execution_count": 170,
     "metadata": {},
     "output_type": "execute_result"
    }
   ],
   "source": [
    "y_corr_norm"
   ]
  },
  {
   "cell_type": "code",
   "execution_count": 171,
   "metadata": {},
   "outputs": [
    {
     "data": {
      "text/plain": [
       "array([4.08255061e-04, 1.48009756e-01, 2.87599635e-03, 8.31103488e-01])"
      ]
     },
     "execution_count": 171,
     "metadata": {},
     "output_type": "execute_result"
    }
   ],
   "source": [
    "np.dot(y_corr_norm, vector)"
   ]
  },
  {
   "cell_type": "code",
   "execution_count": 182,
   "metadata": {},
   "outputs": [
    {
     "data": {
      "text/plain": [
       "5.615193960592706"
      ]
     },
     "execution_count": 182,
     "metadata": {},
     "output_type": "execute_result"
    }
   ],
   "source": [
    "8.31103488e-01 / 1.48009756e-01"
   ]
  },
  {
   "cell_type": "code",
   "execution_count": 183,
   "metadata": {},
   "outputs": [
    {
     "data": {
      "text/plain": [
       "5.600000066000001"
      ]
     },
     "execution_count": 183,
     "metadata": {},
     "output_type": "execute_result"
    }
   ],
   "source": [
    "0.84848485 / 0.15151515"
   ]
  },
  {
   "cell_type": "code",
   "execution_count": 185,
   "metadata": {},
   "outputs": [
    {
     "data": {
      "text/plain": [
       "0.1178430309129251"
      ]
     },
     "execution_count": 185,
     "metadata": {},
     "output_type": "execute_result"
    }
   ],
   "source": [
    "np.var(np.dot(y_corr_norm, vector))"
   ]
  },
  {
   "cell_type": "code",
   "execution_count": 186,
   "metadata": {},
   "outputs": [
    {
     "data": {
      "text/plain": [
       "0.12322084481175391"
      ]
     },
     "execution_count": 186,
     "metadata": {},
     "output_type": "execute_result"
    }
   ],
   "source": [
    "np.var(vector)"
   ]
  },
  {
   "cell_type": "code",
   "execution_count": null,
   "metadata": {},
   "outputs": [],
   "source": []
  }
 ],
 "metadata": {
  "kernelspec": {
   "display_name": "Python 3",
   "language": "python",
   "name": "python3"
  },
  "language_info": {
   "codemirror_mode": {
    "name": "ipython",
    "version": 3
   },
   "file_extension": ".py",
   "mimetype": "text/x-python",
   "name": "python",
   "nbconvert_exporter": "python",
   "pygments_lexer": "ipython3",
   "version": "3.7.1"
  }
 },
 "nbformat": 4,
 "nbformat_minor": 2
}
