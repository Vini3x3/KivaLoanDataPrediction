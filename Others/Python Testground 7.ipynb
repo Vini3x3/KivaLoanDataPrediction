{
 "cells": [
  {
   "cell_type": "markdown",
   "metadata": {},
   "source": [
    "# Abstract"
   ]
  },
  {
   "cell_type": "markdown",
   "metadata": {},
   "source": [
    "This notebook explores the possibilities of using a filter method: first fiter out all the possibilies of the `weekly` labels, then identify the remaining types of repayment interval.  This method is proposed based on the observation of high accuracy in k-fold validation when there is no `weekly` data.  However, at the conclusion, it is at best that a single Decision Tree can outperforms all the other models and feature selection.  The raw standardized and dummified dataset is already the ceiling of prediction.  "
   ]
  },
  {
   "cell_type": "markdown",
   "metadata": {},
   "source": [
    "# Initialization"
   ]
  },
  {
   "cell_type": "code",
   "execution_count": 150,
   "metadata": {},
   "outputs": [],
   "source": [
    "# data visualization and utilities\n",
    "import pandas as pd\n",
    "import numpy as np\n",
    "import matplotlib.pyplot as plt\n",
    "import seaborn as sns\n",
    "from mpl_toolkits.mplot3d import Axes3D\n",
    "import graphviz\n",
    "%matplotlib inline"
   ]
  },
  {
   "cell_type": "code",
   "execution_count": 2,
   "metadata": {},
   "outputs": [],
   "source": [
    "# classifier\n",
    "from sklearn.linear_model import Perceptron\n",
    "from sklearn.linear_model import LinearRegression\n",
    "from sklearn.linear_model import LogisticRegression\n",
    "from sklearn.ensemble import RandomForestClassifier\n",
    "from sklearn.neural_network import MLPClassifier as MLP\n",
    "from sklearn.svm import SVC\n",
    "from sklearn.tree import DecisionTreeClassifier as DTC\n",
    "from sklearn.neighbors import KNeighborsClassifier as KNN\n",
    "from sklearn.ensemble import GradientBoostingClassifier as GBC\n",
    "from sklearn.linear_model import Lasso"
   ]
  },
  {
   "cell_type": "code",
   "execution_count": 3,
   "metadata": {},
   "outputs": [],
   "source": [
    "# evaluation\n",
    "from sklearn.metrics import classification_report, confusion_matrix\n",
    "from sklearn.model_selection import KFold, GridSearchCV"
   ]
  },
  {
   "cell_type": "code",
   "execution_count": 96,
   "metadata": {},
   "outputs": [],
   "source": [
    "# data preprocessing\n",
    "from sklearn.model_selection import train_test_split\n",
    "from sklearn.preprocessing import StandardScaler, MinMaxScaler\n",
    "from sklearn.discriminant_analysis import LinearDiscriminantAnalysis as LDA\n",
    "from sklearn.decomposition import PCA\n",
    "from sklearn.feature_selection import SelectKBest, f_classif"
   ]
  },
  {
   "cell_type": "code",
   "execution_count": 5,
   "metadata": {},
   "outputs": [],
   "source": [
    "loan = pd.read_csv('kiva_loans.csv')"
   ]
  },
  {
   "cell_type": "code",
   "execution_count": 194,
   "metadata": {},
   "outputs": [],
   "source": [
    "loan_encoded = pd.read_csv('kiva_loans_dummied.csv')"
   ]
  },
  {
   "cell_type": "code",
   "execution_count": 6,
   "metadata": {},
   "outputs": [],
   "source": [
    "loan_std = pd.read_csv('kiva_loans_standardized.csv')"
   ]
  },
  {
   "cell_type": "markdown",
   "metadata": {},
   "source": [
    "# Part I: Find a classifier to identify whether the data is a repayment intervel of weekly or not"
   ]
  },
  {
   "cell_type": "markdown",
   "metadata": {},
   "source": [
    "## Sectino I: Only Dummified and Standardized dataset"
   ]
  },
  {
   "cell_type": "markdown",
   "metadata": {},
   "source": [
    "**Set up dataset**"
   ]
  },
  {
   "cell_type": "code",
   "execution_count": 7,
   "metadata": {},
   "outputs": [],
   "source": [
    "selected_features = list(loan_std.columns)\n",
    "selected_features.remove('repayment_interval_irregular')\n",
    "selected_features.remove('repayment_interval_monthly')\n",
    "selected_features.remove('repayment_interval_weekly')\n",
    "selected_features.remove('repayment_interval_bullet')"
   ]
  },
  {
   "cell_type": "code",
   "execution_count": 8,
   "metadata": {},
   "outputs": [],
   "source": [
    "y_weekly_std = loan_std['repayment_interval_weekly']\n",
    "X = loan_std[selected_features]"
   ]
  },
  {
   "cell_type": "markdown",
   "metadata": {},
   "source": [
    "**Model Selection**"
   ]
  },
  {
   "cell_type": "code",
   "execution_count": 30,
   "metadata": {},
   "outputs": [
    {
     "name": "stdout",
     "output_type": "stream",
     "text": [
      "              precision    recall  f1-score   support\n",
      "\n",
      "           0       1.00      1.00      1.00    670603\n",
      "           1       0.72      0.71      0.71       602\n",
      "\n",
      "   micro avg       1.00      1.00      1.00    671205\n",
      "   macro avg       0.86      0.86      0.86    671205\n",
      "weighted avg       1.00      1.00      1.00    671205\n",
      "\n",
      "[[670433    170]\n",
      " [   174    428]]\n"
     ]
    }
   ],
   "source": [
    "dtree = DTC()\n",
    "\n",
    "ALL_TRUE_LABEL = []\n",
    "ALL_PRED_LABEL = []\n",
    "kf = KFold(n_splits=10)\n",
    "for train_index, test_index in kf.split(X):\n",
    "    X_train, X_test = X.iloc[train_index], X.iloc[test_index]\n",
    "    y_train, y_test = y_weekly_std.iloc[train_index], y_weekly_std.iloc[test_index]\n",
    "    dtree.fit(X_train,y_train)\n",
    "    ALL_PRED_LABEL.extend(dtree.predict(X_test))\n",
    "    ALL_TRUE_LABEL.extend(y_test)\n",
    "print(classification_report(ALL_TRUE_LABEL,ALL_PRED_LABEL))\n",
    "print(confusion_matrix(ALL_TRUE_LABEL,ALL_PRED_LABEL))"
   ]
  },
  {
   "cell_type": "code",
   "execution_count": 32,
   "metadata": {},
   "outputs": [
    {
     "name": "stderr",
     "output_type": "stream",
     "text": [
      "c:\\program files\\python37\\lib\\site-packages\\sklearn\\metrics\\classification.py:1143: UndefinedMetricWarning: Precision and F-score are ill-defined and being set to 0.0 in labels with no predicted samples.\n",
      "  'precision', 'predicted', average, warn_for)\n"
     ]
    },
    {
     "name": "stdout",
     "output_type": "stream",
     "text": [
      "              precision    recall  f1-score   support\n",
      "\n",
      "           0       1.00      1.00      1.00    670603\n",
      "           1       0.00      0.00      0.00       602\n",
      "\n",
      "   micro avg       1.00      1.00      1.00    671205\n",
      "   macro avg       0.50      0.50      0.50    671205\n",
      "weighted avg       1.00      1.00      1.00    671205\n",
      "\n",
      "[[670603      0]\n",
      " [   602      0]]\n"
     ]
    }
   ],
   "source": [
    "forest = RandomForestClassifier(n_estimators=10, max_depth=3)\n",
    "\n",
    "ALL_TRUE_LABEL = []\n",
    "ALL_PRED_LABEL = []\n",
    "kf = KFold(n_splits=10)\n",
    "for train_index, test_index in kf.split(X):\n",
    "    X_train, X_test = X.iloc[train_index], X.iloc[test_index]\n",
    "    y_train, y_test = y_weekly_std.iloc[train_index], y_weekly_std.iloc[test_index]\n",
    "    forest.fit(X_train,y_train)\n",
    "    ALL_PRED_LABEL.extend(forest.predict(X_test))\n",
    "    ALL_TRUE_LABEL.extend(y_test)\n",
    "print(classification_report(ALL_TRUE_LABEL,ALL_PRED_LABEL))\n",
    "print(confusion_matrix(ALL_TRUE_LABEL,ALL_PRED_LABEL))"
   ]
  },
  {
   "cell_type": "code",
   "execution_count": 31,
   "metadata": {},
   "outputs": [
    {
     "name": "stderr",
     "output_type": "stream",
     "text": [
      "c:\\program files\\python37\\lib\\site-packages\\sklearn\\linear_model\\logistic.py:433: FutureWarning: Default solver will be changed to 'lbfgs' in 0.22. Specify a solver to silence this warning.\n",
      "  FutureWarning)\n",
      "c:\\program files\\python37\\lib\\site-packages\\sklearn\\linear_model\\logistic.py:433: FutureWarning: Default solver will be changed to 'lbfgs' in 0.22. Specify a solver to silence this warning.\n",
      "  FutureWarning)\n",
      "c:\\program files\\python37\\lib\\site-packages\\sklearn\\linear_model\\logistic.py:433: FutureWarning: Default solver will be changed to 'lbfgs' in 0.22. Specify a solver to silence this warning.\n",
      "  FutureWarning)\n",
      "c:\\program files\\python37\\lib\\site-packages\\sklearn\\linear_model\\logistic.py:433: FutureWarning: Default solver will be changed to 'lbfgs' in 0.22. Specify a solver to silence this warning.\n",
      "  FutureWarning)\n",
      "c:\\program files\\python37\\lib\\site-packages\\sklearn\\linear_model\\logistic.py:433: FutureWarning: Default solver will be changed to 'lbfgs' in 0.22. Specify a solver to silence this warning.\n",
      "  FutureWarning)\n",
      "c:\\program files\\python37\\lib\\site-packages\\sklearn\\linear_model\\logistic.py:433: FutureWarning: Default solver will be changed to 'lbfgs' in 0.22. Specify a solver to silence this warning.\n",
      "  FutureWarning)\n",
      "c:\\program files\\python37\\lib\\site-packages\\sklearn\\linear_model\\logistic.py:433: FutureWarning: Default solver will be changed to 'lbfgs' in 0.22. Specify a solver to silence this warning.\n",
      "  FutureWarning)\n",
      "c:\\program files\\python37\\lib\\site-packages\\sklearn\\linear_model\\logistic.py:433: FutureWarning: Default solver will be changed to 'lbfgs' in 0.22. Specify a solver to silence this warning.\n",
      "  FutureWarning)\n",
      "c:\\program files\\python37\\lib\\site-packages\\sklearn\\linear_model\\logistic.py:433: FutureWarning: Default solver will be changed to 'lbfgs' in 0.22. Specify a solver to silence this warning.\n",
      "  FutureWarning)\n",
      "c:\\program files\\python37\\lib\\site-packages\\sklearn\\linear_model\\logistic.py:433: FutureWarning: Default solver will be changed to 'lbfgs' in 0.22. Specify a solver to silence this warning.\n",
      "  FutureWarning)\n"
     ]
    },
    {
     "name": "stdout",
     "output_type": "stream",
     "text": [
      "              precision    recall  f1-score   support\n",
      "\n",
      "           0       1.00      1.00      1.00    670603\n",
      "           1       0.00      0.00      0.00       602\n",
      "\n",
      "   micro avg       1.00      1.00      1.00    671205\n",
      "   macro avg       0.50      0.50      0.50    671205\n",
      "weighted avg       1.00      1.00      1.00    671205\n",
      "\n",
      "[[670602      1]\n",
      " [   602      0]]\n"
     ]
    }
   ],
   "source": [
    "lg = LogisticRegression()\n",
    "\n",
    "ALL_TRUE_LABEL = []\n",
    "ALL_PRED_LABEL = []\n",
    "kf = KFold(n_splits=10)\n",
    "for train_index, test_index in kf.split(X):\n",
    "    X_train, X_test = X.iloc[train_index], X.iloc[test_index]\n",
    "    y_train, y_test = y_weekly_std.iloc[train_index], y_weekly_std.iloc[test_index]\n",
    "    lg.fit(X_train,y_train)\n",
    "    ALL_PRED_LABEL.extend(lg.predict(X_test))\n",
    "    ALL_TRUE_LABEL.extend(y_test)\n",
    "print(classification_report(ALL_TRUE_LABEL,ALL_PRED_LABEL))\n",
    "print(confusion_matrix(ALL_TRUE_LABEL,ALL_PRED_LABEL))"
   ]
  },
  {
   "cell_type": "markdown",
   "metadata": {},
   "source": [
    "**Summary**"
   ]
  },
  {
   "cell_type": "markdown",
   "metadata": {},
   "source": [
    "Since KNN and SVM suffer from the curse of dimentionality, it is nearly impossible to test them for 270+ columns/features.  Therefore, we conclude that only Decision Tree has a good prediction.  "
   ]
  },
  {
   "cell_type": "markdown",
   "metadata": {},
   "source": [
    "## Section II: Test with LDA dataset"
   ]
  },
  {
   "cell_type": "markdown",
   "metadata": {},
   "source": [
    "**Set up dataset**"
   ]
  },
  {
   "cell_type": "code",
   "execution_count": 33,
   "metadata": {},
   "outputs": [
    {
     "name": "stderr",
     "output_type": "stream",
     "text": [
      "c:\\program files\\python37\\lib\\site-packages\\sklearn\\discriminant_analysis.py:388: UserWarning: Variables are collinear.\n",
      "  warnings.warn(\"Variables are collinear.\")\n"
     ]
    }
   ],
   "source": [
    "lda = LDA()\n",
    "X_lda = lda.fit_transform(X, y_weekly_std)"
   ]
  },
  {
   "cell_type": "code",
   "execution_count": 35,
   "metadata": {},
   "outputs": [],
   "source": [
    "X_lda = pd.DataFrame(X_lda)"
   ]
  },
  {
   "cell_type": "markdown",
   "metadata": {},
   "source": [
    "**Model Selection**"
   ]
  },
  {
   "cell_type": "code",
   "execution_count": 36,
   "metadata": {
    "scrolled": true
   },
   "outputs": [
    {
     "name": "stdout",
     "output_type": "stream",
     "text": [
      "              precision    recall  f1-score   support\n",
      "\n",
      "           0       1.00      1.00      1.00    670603\n",
      "           1       0.36      0.33      0.35       602\n",
      "\n",
      "   micro avg       1.00      1.00      1.00    671205\n",
      "   macro avg       0.68      0.67      0.67    671205\n",
      "weighted avg       1.00      1.00      1.00    671205\n",
      "\n",
      "[[670254    349]\n",
      " [   402    200]]\n"
     ]
    }
   ],
   "source": [
    "dtree = DTC()\n",
    "\n",
    "ALL_TRUE_LABEL = []\n",
    "ALL_PRED_LABEL = []\n",
    "kf = KFold(n_splits=10)\n",
    "for train_index, test_index in kf.split(X_lda):\n",
    "    X_train, X_test = X_lda.iloc[train_index], X_lda.iloc[test_index]\n",
    "    y_train, y_test = y_weekly_std.iloc[train_index], y_weekly_std.iloc[test_index]\n",
    "    dtree.fit(X_train,y_train)\n",
    "    ALL_PRED_LABEL.extend(dtree.predict(X_test))\n",
    "    ALL_TRUE_LABEL.extend(y_test)\n",
    "print(classification_report(ALL_TRUE_LABEL,ALL_PRED_LABEL))\n",
    "print(confusion_matrix(ALL_TRUE_LABEL,ALL_PRED_LABEL))"
   ]
  },
  {
   "cell_type": "code",
   "execution_count": 38,
   "metadata": {},
   "outputs": [
    {
     "name": "stdout",
     "output_type": "stream",
     "text": [
      "              precision    recall  f1-score   support\n",
      "\n",
      "           0       1.00      1.00      1.00    670603\n",
      "           1       0.11      0.00      0.00       602\n",
      "\n",
      "   micro avg       1.00      1.00      1.00    671205\n",
      "   macro avg       0.56      0.50      0.50    671205\n",
      "weighted avg       1.00      1.00      1.00    671205\n",
      "\n",
      "[[670595      8]\n",
      " [   601      1]]\n"
     ]
    }
   ],
   "source": [
    "forest = RandomForestClassifier(n_estimators=10, max_depth=3)\n",
    "\n",
    "ALL_TRUE_LABEL = []\n",
    "ALL_PRED_LABEL = []\n",
    "kf = KFold(n_splits=10)\n",
    "for train_index, test_index in kf.split(X_lda):\n",
    "    X_train, X_test = X_lda.iloc[train_index], X_lda.iloc[test_index]\n",
    "    y_train, y_test = y_weekly_std.iloc[train_index], y_weekly_std.iloc[test_index]\n",
    "    forest.fit(X_train,y_train)\n",
    "    ALL_PRED_LABEL.extend(forest.predict(X_test))\n",
    "    ALL_TRUE_LABEL.extend(y_test)\n",
    "print(classification_report(ALL_TRUE_LABEL,ALL_PRED_LABEL))\n",
    "print(confusion_matrix(ALL_TRUE_LABEL,ALL_PRED_LABEL))"
   ]
  },
  {
   "cell_type": "code",
   "execution_count": 37,
   "metadata": {},
   "outputs": [
    {
     "name": "stderr",
     "output_type": "stream",
     "text": [
      "c:\\program files\\python37\\lib\\site-packages\\sklearn\\linear_model\\logistic.py:433: FutureWarning: Default solver will be changed to 'lbfgs' in 0.22. Specify a solver to silence this warning.\n",
      "  FutureWarning)\n",
      "c:\\program files\\python37\\lib\\site-packages\\sklearn\\linear_model\\logistic.py:433: FutureWarning: Default solver will be changed to 'lbfgs' in 0.22. Specify a solver to silence this warning.\n",
      "  FutureWarning)\n",
      "c:\\program files\\python37\\lib\\site-packages\\sklearn\\linear_model\\logistic.py:433: FutureWarning: Default solver will be changed to 'lbfgs' in 0.22. Specify a solver to silence this warning.\n",
      "  FutureWarning)\n",
      "c:\\program files\\python37\\lib\\site-packages\\sklearn\\linear_model\\logistic.py:433: FutureWarning: Default solver will be changed to 'lbfgs' in 0.22. Specify a solver to silence this warning.\n",
      "  FutureWarning)\n",
      "c:\\program files\\python37\\lib\\site-packages\\sklearn\\linear_model\\logistic.py:433: FutureWarning: Default solver will be changed to 'lbfgs' in 0.22. Specify a solver to silence this warning.\n",
      "  FutureWarning)\n",
      "c:\\program files\\python37\\lib\\site-packages\\sklearn\\linear_model\\logistic.py:433: FutureWarning: Default solver will be changed to 'lbfgs' in 0.22. Specify a solver to silence this warning.\n",
      "  FutureWarning)\n",
      "c:\\program files\\python37\\lib\\site-packages\\sklearn\\linear_model\\logistic.py:433: FutureWarning: Default solver will be changed to 'lbfgs' in 0.22. Specify a solver to silence this warning.\n",
      "  FutureWarning)\n",
      "c:\\program files\\python37\\lib\\site-packages\\sklearn\\linear_model\\logistic.py:433: FutureWarning: Default solver will be changed to 'lbfgs' in 0.22. Specify a solver to silence this warning.\n",
      "  FutureWarning)\n",
      "c:\\program files\\python37\\lib\\site-packages\\sklearn\\linear_model\\logistic.py:433: FutureWarning: Default solver will be changed to 'lbfgs' in 0.22. Specify a solver to silence this warning.\n",
      "  FutureWarning)\n",
      "c:\\program files\\python37\\lib\\site-packages\\sklearn\\linear_model\\logistic.py:433: FutureWarning: Default solver will be changed to 'lbfgs' in 0.22. Specify a solver to silence this warning.\n",
      "  FutureWarning)\n",
      "c:\\program files\\python37\\lib\\site-packages\\sklearn\\metrics\\classification.py:1143: UndefinedMetricWarning: Precision and F-score are ill-defined and being set to 0.0 in labels with no predicted samples.\n",
      "  'precision', 'predicted', average, warn_for)\n"
     ]
    },
    {
     "name": "stdout",
     "output_type": "stream",
     "text": [
      "              precision    recall  f1-score   support\n",
      "\n",
      "           0       1.00      1.00      1.00    670603\n",
      "           1       0.00      0.00      0.00       602\n",
      "\n",
      "   micro avg       1.00      1.00      1.00    671205\n",
      "   macro avg       0.50      0.50      0.50    671205\n",
      "weighted avg       1.00      1.00      1.00    671205\n",
      "\n",
      "[[670603      0]\n",
      " [   602      0]]\n"
     ]
    }
   ],
   "source": [
    "lg = LogisticRegression()\n",
    "\n",
    "ALL_TRUE_LABEL = []\n",
    "ALL_PRED_LABEL = []\n",
    "kf = KFold(n_splits=10)\n",
    "for train_index, test_index in kf.split(X_lda):\n",
    "    X_train, X_test = X_lda.iloc[train_index], X_lda.iloc[test_index]\n",
    "    y_train, y_test = y_weekly_std.iloc[train_index], y_weekly_std.iloc[test_index]\n",
    "    lg.fit(X_train,y_train)\n",
    "    ALL_PRED_LABEL.extend(lg.predict(X_test))\n",
    "    ALL_TRUE_LABEL.extend(y_test)\n",
    "print(classification_report(ALL_TRUE_LABEL,ALL_PRED_LABEL))\n",
    "print(confusion_matrix(ALL_TRUE_LABEL,ALL_PRED_LABEL))"
   ]
  },
  {
   "cell_type": "code",
   "execution_count": 39,
   "metadata": {
    "scrolled": true
   },
   "outputs": [
    {
     "name": "stderr",
     "output_type": "stream",
     "text": [
      "c:\\program files\\python37\\lib\\site-packages\\sklearn\\metrics\\classification.py:1143: UndefinedMetricWarning: Precision and F-score are ill-defined and being set to 0.0 in labels with no predicted samples.\n",
      "  'precision', 'predicted', average, warn_for)\n"
     ]
    },
    {
     "name": "stdout",
     "output_type": "stream",
     "text": [
      "              precision    recall  f1-score   support\n",
      "\n",
      "           0       1.00      1.00      1.00    670603\n",
      "           1       0.00      0.00      0.00       602\n",
      "\n",
      "   micro avg       1.00      1.00      1.00    671205\n",
      "   macro avg       0.50      0.50      0.50    671205\n",
      "weighted avg       1.00      1.00      1.00    671205\n",
      "\n",
      "[[670603      0]\n",
      " [   602      0]]\n"
     ]
    }
   ],
   "source": [
    "knn = KNN(n_neighbors=100)\n",
    "\n",
    "ALL_TRUE_LABEL = []\n",
    "ALL_PRED_LABEL = []\n",
    "kf = KFold(n_splits=10)\n",
    "for train_index, test_index in kf.split(X_lda):\n",
    "    X_train, X_test = X_lda.iloc[train_index], X_lda.iloc[test_index]\n",
    "    y_train, y_test = y_weekly_std.iloc[train_index], y_weekly_std.iloc[test_index]\n",
    "    knn.fit(X_train,y_train)\n",
    "    ALL_PRED_LABEL.extend(knn.predict(X_test))\n",
    "    ALL_TRUE_LABEL.extend(y_test)\n",
    "print(classification_report(ALL_TRUE_LABEL,ALL_PRED_LABEL))\n",
    "print(confusion_matrix(ALL_TRUE_LABEL,ALL_PRED_LABEL))"
   ]
  },
  {
   "cell_type": "code",
   "execution_count": null,
   "metadata": {},
   "outputs": [],
   "source": [
    "svm = SVC(gamma='auto')\n",
    "\n",
    "ALL_TRUE_LABEL = []\n",
    "ALL_PRED_LABEL = []\n",
    "kf = KFold(n_splits=10)\n",
    "for train_index, test_index in kf.split(X_lda):\n",
    "    X_train, X_test = X_lda.iloc[train_index[0:2000]], X_lda.iloc[test_index[0:2000]]\n",
    "    y_train, y_test = y_weekly_std.iloc[train_index[0:200]], y_weekly_std.iloc[test_index[0:200]]\n",
    "    svm.fit(X_train,y_train)\n",
    "    ALL_PRED_LABEL.extend(svm.predict(X_test))\n",
    "    ALL_TRUE_LABEL.extend(y_test)\n",
    "print(classification_report(ALL_TRUE_LABEL,ALL_PRED_LABEL))\n",
    "print(confusion_matrix(ALL_TRUE_LABEL,ALL_PRED_LABEL))"
   ]
  },
  {
   "cell_type": "markdown",
   "metadata": {},
   "source": [
    "**Summary**"
   ]
  },
  {
   "cell_type": "markdown",
   "metadata": {},
   "source": [
    "Decision Tree has the best predictions among all the models.  Only Decision Tree and Random Forest succeed to predict `weekly` data, while Decision Tree has better accuracy than Random Forest.  "
   ]
  },
  {
   "cell_type": "markdown",
   "metadata": {},
   "source": [
    "## Conclusion"
   ]
  },
  {
   "cell_type": "markdown",
   "metadata": {},
   "source": [
    "After compare the performance, it is better that Decision Tree first filter out the possible weekly cases without LDA feature extraction.  "
   ]
  },
  {
   "cell_type": "markdown",
   "metadata": {},
   "source": [
    "# Part II: Find a classifier to identify whether the data is a repayment intervel of bullet, monthly or irregular.  "
   ]
  },
  {
   "cell_type": "markdown",
   "metadata": {},
   "source": [
    "## Section I: Only Dummified and Standardized dataset"
   ]
  },
  {
   "cell_type": "markdown",
   "metadata": {},
   "source": [
    "**Set up dataset**"
   ]
  },
  {
   "cell_type": "code",
   "execution_count": 9,
   "metadata": {},
   "outputs": [],
   "source": [
    "# To verify the hypothesis\n",
    "\n",
    "y_no_weekly = loan['repayment_interval']\n",
    "y_no_weekly = y_no_weekly.loc[y_no_weekly != 'weekly']\n",
    "\n",
    "X_no_weekly = loan_std.loc[loan_std['repayment_interval_weekly'] < 1]\n",
    "\n",
    "selected_features = list(X_no_weekly.columns)\n",
    "selected_features.remove('repayment_interval_irregular')\n",
    "selected_features.remove('repayment_interval_monthly')\n",
    "selected_features.remove('repayment_interval_weekly')\n",
    "selected_features.remove('repayment_interval_bullet')\n",
    "\n",
    "X_no_weekly = X_no_weekly[selected_features]"
   ]
  },
  {
   "cell_type": "markdown",
   "metadata": {},
   "source": [
    "**Model Selection**"
   ]
  },
  {
   "cell_type": "code",
   "execution_count": 22,
   "metadata": {},
   "outputs": [
    {
     "name": "stdout",
     "output_type": "stream",
     "text": [
      "happy\n",
      "happy\n",
      "happy\n",
      "happy\n",
      "happy\n",
      "happy\n",
      "happy\n",
      "happy\n",
      "happy\n",
      "happy\n",
      "              precision    recall  f1-score   support\n",
      "\n",
      "      bullet       0.84      0.85      0.85     70728\n",
      "   irregular       0.89      0.91      0.90    257158\n",
      "     monthly       0.92      0.90      0.91    342717\n",
      "\n",
      "   micro avg       0.90      0.90      0.90    670603\n",
      "   macro avg       0.88      0.89      0.89    670603\n",
      "weighted avg       0.90      0.90      0.90    670603\n",
      "\n",
      "[[ 59990   2607   8131]\n",
      " [  2463 235058  19637]\n",
      " [  8798  25025 308894]]\n"
     ]
    }
   ],
   "source": [
    "# from experiment, 1 minutes for each iteration\n",
    "\n",
    "dtree = DTC()\n",
    "\n",
    "ALL_TRUE_LABEL = []\n",
    "ALL_PRED_LABEL = []\n",
    "kf = KFold(n_splits=10)\n",
    "for train_index, test_index in kf.split(X_no_weekly):    \n",
    "    print('happy')\n",
    "    X_train, X_test = X_no_weekly.iloc[train_index], X_no_weekly.iloc[test_index]\n",
    "    y_train, y_test = y_no_weekly.iloc[train_index], y_no_weekly.iloc[test_index]\n",
    "    dtree.fit(X_train,y_train)\n",
    "    ALL_PRED_LABEL.extend(dtree.predict(X_test))\n",
    "    ALL_TRUE_LABEL.extend(y_test)\n",
    "print(classification_report(ALL_TRUE_LABEL,ALL_PRED_LABEL))\n",
    "print(confusion_matrix(ALL_TRUE_LABEL,ALL_PRED_LABEL))"
   ]
  },
  {
   "cell_type": "code",
   "execution_count": 24,
   "metadata": {},
   "outputs": [
    {
     "name": "stdout",
     "output_type": "stream",
     "text": [
      "Finish Test Iteration  0\n",
      "Finish Test Iteration  1\n",
      "Finish Test Iteration  2\n",
      "Finish Test Iteration  3\n",
      "Finish Test Iteration  4\n",
      "Finish Test Iteration  5\n",
      "Finish Test Iteration  6\n",
      "Finish Test Iteration  7\n",
      "Finish Test Iteration  8\n",
      "Finish Test Iteration  9\n",
      "              precision    recall  f1-score   support\n",
      "\n",
      "      bullet       1.00      0.00      0.00     70728\n",
      "   irregular       0.87      0.60      0.71    257158\n",
      "     monthly       0.65      0.94      0.77    342717\n",
      "\n",
      "   micro avg       0.71      0.71      0.71    670603\n",
      "   macro avg       0.84      0.51      0.49    670603\n",
      "weighted avg       0.77      0.71      0.67    670603\n",
      "\n",
      "[[    99   2721  67908]\n",
      " [     0 153807 103351]\n",
      " [     0  20476 322241]]\n"
     ]
    }
   ],
   "source": [
    "forest = RandomForestClassifier(n_estimators=10, max_depth=3)\n",
    "\n",
    "ALL_TRUE_LABEL = []\n",
    "ALL_PRED_LABEL = []\n",
    "kf = KFold(n_splits=10)\n",
    "i = 0\n",
    "for train_index, test_index in kf.split(X_no_weekly):        \n",
    "    X_train, X_test = X_no_weekly.iloc[train_index], X_no_weekly.iloc[test_index]\n",
    "    y_train, y_test = y_no_weekly.iloc[train_index], y_no_weekly.iloc[test_index]\n",
    "    forest.fit(X_train,y_train)\n",
    "    ALL_PRED_LABEL.extend(forest.predict(X_test))\n",
    "    ALL_TRUE_LABEL.extend(y_test)\n",
    "    \n",
    "    # Screen Output for tracking the progress, sometimes I wait too long......\n",
    "    print('Finish Test Iteration ',i)\n",
    "    i += 1\n",
    "    \n",
    "print(classification_report(ALL_TRUE_LABEL,ALL_PRED_LABEL))\n",
    "print(confusion_matrix(ALL_TRUE_LABEL,ALL_PRED_LABEL))"
   ]
  },
  {
   "cell_type": "code",
   "execution_count": 10,
   "metadata": {},
   "outputs": [
    {
     "name": "stderr",
     "output_type": "stream",
     "text": [
      "c:\\program files\\python37\\lib\\site-packages\\sklearn\\linear_model\\logistic.py:758: ConvergenceWarning: lbfgs failed to converge. Increase the number of iterations.\n",
      "  \"of iterations.\", ConvergenceWarning)\n",
      "c:\\program files\\python37\\lib\\site-packages\\sklearn\\linear_model\\logistic.py:758: ConvergenceWarning: lbfgs failed to converge. Increase the number of iterations.\n",
      "  \"of iterations.\", ConvergenceWarning)\n",
      "c:\\program files\\python37\\lib\\site-packages\\sklearn\\linear_model\\logistic.py:758: ConvergenceWarning: lbfgs failed to converge. Increase the number of iterations.\n",
      "  \"of iterations.\", ConvergenceWarning)\n"
     ]
    },
    {
     "name": "stdout",
     "output_type": "stream",
     "text": [
      "Finish Test Iteration  0\n"
     ]
    },
    {
     "name": "stderr",
     "output_type": "stream",
     "text": [
      "c:\\program files\\python37\\lib\\site-packages\\sklearn\\linear_model\\logistic.py:758: ConvergenceWarning: lbfgs failed to converge. Increase the number of iterations.\n",
      "  \"of iterations.\", ConvergenceWarning)\n",
      "c:\\program files\\python37\\lib\\site-packages\\sklearn\\linear_model\\logistic.py:758: ConvergenceWarning: lbfgs failed to converge. Increase the number of iterations.\n",
      "  \"of iterations.\", ConvergenceWarning)\n",
      "c:\\program files\\python37\\lib\\site-packages\\sklearn\\linear_model\\logistic.py:758: ConvergenceWarning: lbfgs failed to converge. Increase the number of iterations.\n",
      "  \"of iterations.\", ConvergenceWarning)\n"
     ]
    },
    {
     "name": "stdout",
     "output_type": "stream",
     "text": [
      "Finish Test Iteration  1\n"
     ]
    },
    {
     "name": "stderr",
     "output_type": "stream",
     "text": [
      "c:\\program files\\python37\\lib\\site-packages\\sklearn\\linear_model\\logistic.py:758: ConvergenceWarning: lbfgs failed to converge. Increase the number of iterations.\n",
      "  \"of iterations.\", ConvergenceWarning)\n",
      "c:\\program files\\python37\\lib\\site-packages\\sklearn\\linear_model\\logistic.py:758: ConvergenceWarning: lbfgs failed to converge. Increase the number of iterations.\n",
      "  \"of iterations.\", ConvergenceWarning)\n",
      "c:\\program files\\python37\\lib\\site-packages\\sklearn\\linear_model\\logistic.py:758: ConvergenceWarning: lbfgs failed to converge. Increase the number of iterations.\n",
      "  \"of iterations.\", ConvergenceWarning)\n"
     ]
    },
    {
     "name": "stdout",
     "output_type": "stream",
     "text": [
      "Finish Test Iteration  2\n"
     ]
    },
    {
     "name": "stderr",
     "output_type": "stream",
     "text": [
      "c:\\program files\\python37\\lib\\site-packages\\sklearn\\linear_model\\logistic.py:758: ConvergenceWarning: lbfgs failed to converge. Increase the number of iterations.\n",
      "  \"of iterations.\", ConvergenceWarning)\n",
      "c:\\program files\\python37\\lib\\site-packages\\sklearn\\linear_model\\logistic.py:758: ConvergenceWarning: lbfgs failed to converge. Increase the number of iterations.\n",
      "  \"of iterations.\", ConvergenceWarning)\n",
      "c:\\program files\\python37\\lib\\site-packages\\sklearn\\linear_model\\logistic.py:758: ConvergenceWarning: lbfgs failed to converge. Increase the number of iterations.\n",
      "  \"of iterations.\", ConvergenceWarning)\n"
     ]
    },
    {
     "name": "stdout",
     "output_type": "stream",
     "text": [
      "Finish Test Iteration  3\n"
     ]
    },
    {
     "name": "stderr",
     "output_type": "stream",
     "text": [
      "c:\\program files\\python37\\lib\\site-packages\\sklearn\\linear_model\\logistic.py:758: ConvergenceWarning: lbfgs failed to converge. Increase the number of iterations.\n",
      "  \"of iterations.\", ConvergenceWarning)\n",
      "c:\\program files\\python37\\lib\\site-packages\\sklearn\\linear_model\\logistic.py:758: ConvergenceWarning: lbfgs failed to converge. Increase the number of iterations.\n",
      "  \"of iterations.\", ConvergenceWarning)\n",
      "c:\\program files\\python37\\lib\\site-packages\\sklearn\\linear_model\\logistic.py:758: ConvergenceWarning: lbfgs failed to converge. Increase the number of iterations.\n",
      "  \"of iterations.\", ConvergenceWarning)\n"
     ]
    },
    {
     "name": "stdout",
     "output_type": "stream",
     "text": [
      "Finish Test Iteration  4\n"
     ]
    },
    {
     "name": "stderr",
     "output_type": "stream",
     "text": [
      "c:\\program files\\python37\\lib\\site-packages\\sklearn\\linear_model\\logistic.py:758: ConvergenceWarning: lbfgs failed to converge. Increase the number of iterations.\n",
      "  \"of iterations.\", ConvergenceWarning)\n",
      "c:\\program files\\python37\\lib\\site-packages\\sklearn\\linear_model\\logistic.py:758: ConvergenceWarning: lbfgs failed to converge. Increase the number of iterations.\n",
      "  \"of iterations.\", ConvergenceWarning)\n",
      "c:\\program files\\python37\\lib\\site-packages\\sklearn\\linear_model\\logistic.py:758: ConvergenceWarning: lbfgs failed to converge. Increase the number of iterations.\n",
      "  \"of iterations.\", ConvergenceWarning)\n"
     ]
    },
    {
     "name": "stdout",
     "output_type": "stream",
     "text": [
      "Finish Test Iteration  5\n"
     ]
    },
    {
     "name": "stderr",
     "output_type": "stream",
     "text": [
      "c:\\program files\\python37\\lib\\site-packages\\sklearn\\linear_model\\logistic.py:758: ConvergenceWarning: lbfgs failed to converge. Increase the number of iterations.\n",
      "  \"of iterations.\", ConvergenceWarning)\n",
      "c:\\program files\\python37\\lib\\site-packages\\sklearn\\linear_model\\logistic.py:758: ConvergenceWarning: lbfgs failed to converge. Increase the number of iterations.\n",
      "  \"of iterations.\", ConvergenceWarning)\n",
      "c:\\program files\\python37\\lib\\site-packages\\sklearn\\linear_model\\logistic.py:758: ConvergenceWarning: lbfgs failed to converge. Increase the number of iterations.\n",
      "  \"of iterations.\", ConvergenceWarning)\n"
     ]
    },
    {
     "name": "stdout",
     "output_type": "stream",
     "text": [
      "Finish Test Iteration  6\n"
     ]
    },
    {
     "name": "stderr",
     "output_type": "stream",
     "text": [
      "c:\\program files\\python37\\lib\\site-packages\\sklearn\\linear_model\\logistic.py:758: ConvergenceWarning: lbfgs failed to converge. Increase the number of iterations.\n",
      "  \"of iterations.\", ConvergenceWarning)\n",
      "c:\\program files\\python37\\lib\\site-packages\\sklearn\\linear_model\\logistic.py:758: ConvergenceWarning: lbfgs failed to converge. Increase the number of iterations.\n",
      "  \"of iterations.\", ConvergenceWarning)\n",
      "c:\\program files\\python37\\lib\\site-packages\\sklearn\\linear_model\\logistic.py:758: ConvergenceWarning: lbfgs failed to converge. Increase the number of iterations.\n",
      "  \"of iterations.\", ConvergenceWarning)\n"
     ]
    },
    {
     "name": "stdout",
     "output_type": "stream",
     "text": [
      "Finish Test Iteration  7\n"
     ]
    },
    {
     "name": "stderr",
     "output_type": "stream",
     "text": [
      "c:\\program files\\python37\\lib\\site-packages\\sklearn\\linear_model\\logistic.py:758: ConvergenceWarning: lbfgs failed to converge. Increase the number of iterations.\n",
      "  \"of iterations.\", ConvergenceWarning)\n",
      "c:\\program files\\python37\\lib\\site-packages\\sklearn\\linear_model\\logistic.py:758: ConvergenceWarning: lbfgs failed to converge. Increase the number of iterations.\n",
      "  \"of iterations.\", ConvergenceWarning)\n",
      "c:\\program files\\python37\\lib\\site-packages\\sklearn\\linear_model\\logistic.py:758: ConvergenceWarning: lbfgs failed to converge. Increase the number of iterations.\n",
      "  \"of iterations.\", ConvergenceWarning)\n"
     ]
    },
    {
     "name": "stdout",
     "output_type": "stream",
     "text": [
      "Finish Test Iteration  8\n"
     ]
    },
    {
     "name": "stderr",
     "output_type": "stream",
     "text": [
      "c:\\program files\\python37\\lib\\site-packages\\sklearn\\linear_model\\logistic.py:758: ConvergenceWarning: lbfgs failed to converge. Increase the number of iterations.\n",
      "  \"of iterations.\", ConvergenceWarning)\n",
      "c:\\program files\\python37\\lib\\site-packages\\sklearn\\linear_model\\logistic.py:758: ConvergenceWarning: lbfgs failed to converge. Increase the number of iterations.\n",
      "  \"of iterations.\", ConvergenceWarning)\n",
      "c:\\program files\\python37\\lib\\site-packages\\sklearn\\linear_model\\logistic.py:758: ConvergenceWarning: lbfgs failed to converge. Increase the number of iterations.\n",
      "  \"of iterations.\", ConvergenceWarning)\n"
     ]
    },
    {
     "name": "stdout",
     "output_type": "stream",
     "text": [
      "Finish Test Iteration  9\n",
      "              precision    recall  f1-score   support\n",
      "\n",
      "      bullet       0.75      0.70      0.72     70728\n",
      "   irregular       0.85      0.77      0.81    257158\n",
      "     monthly       0.80      0.87      0.83    342717\n",
      "\n",
      "   micro avg       0.81      0.81      0.81    670603\n",
      "   macro avg       0.80      0.78      0.79    670603\n",
      "weighted avg       0.82      0.81      0.81    670603\n",
      "\n",
      "[[ 49254   3847  17627]\n",
      " [  2685 197631  56842]\n",
      " [ 13405  30518 298794]]\n"
     ]
    }
   ],
   "source": [
    "# from experiment, 1 minutes for each iteration\n",
    "\n",
    "lg = LogisticRegression(multi_class='ovr', solver='lbfgs')\n",
    "\n",
    "ALL_TRUE_LABEL = []\n",
    "ALL_PRED_LABEL = []\n",
    "kf = KFold(n_splits=10)\n",
    "i = 0\n",
    "for train_index, test_index in kf.split(X_no_weekly):\n",
    "    \n",
    "    X_train, X_test = X_no_weekly.iloc[train_index], X_no_weekly.iloc[test_index]\n",
    "    y_train, y_test = y_no_weekly.iloc[train_index], y_no_weekly.iloc[test_index]\n",
    "    lg.fit(X_train,y_train)\n",
    "    ALL_PRED_LABEL.extend(lg.predict(X_test))\n",
    "    ALL_TRUE_LABEL.extend(y_test)\n",
    "    \n",
    "    # Screen Output for tracking the progress, sometimes I wait too long......\n",
    "    print('Finish Test Iteration ',i)\n",
    "    i += 1\n",
    "\n",
    "print(classification_report(ALL_TRUE_LABEL,ALL_PRED_LABEL))\n",
    "print(confusion_matrix(ALL_TRUE_LABEL,ALL_PRED_LABEL))"
   ]
  },
  {
   "cell_type": "markdown",
   "metadata": {},
   "source": [
    "**summary**"
   ]
  },
  {
   "cell_type": "markdown",
   "metadata": {},
   "source": [
    "Given the 270+ features / columns, only Logistic Regression, Random Forest and Decision Tree can be tested.  Decision Tree has the best prediction.  "
   ]
  },
  {
   "cell_type": "markdown",
   "metadata": {},
   "source": [
    "## Part II: LDA extraction"
   ]
  },
  {
   "cell_type": "markdown",
   "metadata": {},
   "source": [
    "**LDA Extraction**"
   ]
  },
  {
   "cell_type": "code",
   "execution_count": 11,
   "metadata": {},
   "outputs": [
    {
     "name": "stderr",
     "output_type": "stream",
     "text": [
      "c:\\program files\\python37\\lib\\site-packages\\sklearn\\discriminant_analysis.py:388: UserWarning: Variables are collinear.\n",
      "  warnings.warn(\"Variables are collinear.\")\n"
     ]
    }
   ],
   "source": [
    "lda = LDA()\n",
    "X_lda_no_weekly = lda.fit_transform(X_no_weekly, y_no_weekly)\n",
    "X_lda_no_weekly = pd.DataFrame(X_lda_no_weekly)"
   ]
  },
  {
   "cell_type": "markdown",
   "metadata": {},
   "source": [
    "**Model Selection**"
   ]
  },
  {
   "cell_type": "code",
   "execution_count": 13,
   "metadata": {
    "scrolled": false
   },
   "outputs": [
    {
     "name": "stdout",
     "output_type": "stream",
     "text": [
      "Finish Test Iteration  0\n",
      "Finish Test Iteration  1\n",
      "Finish Test Iteration  2\n",
      "Finish Test Iteration  3\n",
      "Finish Test Iteration  4\n",
      "Finish Test Iteration  5\n",
      "Finish Test Iteration  6\n",
      "Finish Test Iteration  7\n",
      "Finish Test Iteration  8\n",
      "Finish Test Iteration  9\n",
      "              precision    recall  f1-score   support\n",
      "\n",
      "      bullet       0.72      0.73      0.72     70728\n",
      "   irregular       0.80      0.82      0.81    257158\n",
      "     monthly       0.83      0.82      0.83    342717\n",
      "\n",
      "   micro avg       0.81      0.81      0.81    670603\n",
      "   macro avg       0.79      0.79      0.79    670603\n",
      "weighted avg       0.81      0.81      0.81    670603\n",
      "\n",
      "[[ 51516   4386  14826]\n",
      " [  4277 211623  41258]\n",
      " [ 15621  46981 280115]]\n"
     ]
    }
   ],
   "source": [
    "# from experiment, 4 seconds for each iteration\n",
    "\n",
    "dtree = DTC()\n",
    "\n",
    "ALL_TRUE_LABEL = []\n",
    "ALL_PRED_LABEL = []\n",
    "kf = KFold(n_splits=10)\n",
    "i = 0\n",
    "for train_index, test_index in kf.split(X_lda_no_weekly):    \n",
    "    \n",
    "    X_train, X_test = X_lda_no_weekly.iloc[train_index], X_lda_no_weekly.iloc[test_index]\n",
    "    y_train, y_test = y_no_weekly.iloc[train_index], y_no_weekly.iloc[test_index]\n",
    "    dtree.fit(X_train,y_train)\n",
    "    ALL_PRED_LABEL.extend(dtree.predict(X_test))\n",
    "    ALL_TRUE_LABEL.extend(y_test)\n",
    "    \n",
    "    # Screen Output for tracking the progress, sometimes I wait too long......\n",
    "    print('Finish Test Iteration ',i)\n",
    "    i += 1\n",
    "    \n",
    "print(classification_report(ALL_TRUE_LABEL,ALL_PRED_LABEL))\n",
    "print(confusion_matrix(ALL_TRUE_LABEL,ALL_PRED_LABEL))"
   ]
  },
  {
   "cell_type": "code",
   "execution_count": 16,
   "metadata": {},
   "outputs": [
    {
     "name": "stdout",
     "output_type": "stream",
     "text": [
      "Finish Test Iteration  0\n",
      "Finish Test Iteration  1\n",
      "Finish Test Iteration  2\n",
      "Finish Test Iteration  3\n",
      "Finish Test Iteration  4\n",
      "Finish Test Iteration  5\n",
      "Finish Test Iteration  6\n",
      "Finish Test Iteration  7\n",
      "Finish Test Iteration  8\n",
      "Finish Test Iteration  9\n",
      "              precision    recall  f1-score   support\n",
      "\n",
      "      bullet       0.70      0.71      0.70     70728\n",
      "   irregular       0.85      0.79      0.82    257158\n",
      "     monthly       0.81      0.85      0.83    342717\n",
      "\n",
      "   micro avg       0.81      0.81      0.81    670603\n",
      "   macro avg       0.79      0.78      0.78    670603\n",
      "weighted avg       0.81      0.81      0.81    670603\n",
      "\n",
      "[[ 50245   3710  16773]\n",
      " [  2869 202248  52041]\n",
      " [ 18804  32203 291710]]\n"
     ]
    }
   ],
   "source": [
    "# from experiment, 10 seconds for each iteration\n",
    "\n",
    "forest = RandomForestClassifier(n_estimators=20, max_depth=3)\n",
    "\n",
    "ALL_TRUE_LABEL = []\n",
    "ALL_PRED_LABEL = []\n",
    "kf = KFold(n_splits=10)\n",
    "i = 0\n",
    "for train_index, test_index in kf.split(X_lda_no_weekly):    \n",
    "    \n",
    "    X_train, X_test = X_lda_no_weekly.iloc[train_index], X_lda_no_weekly.iloc[test_index]\n",
    "    y_train, y_test = y_no_weekly.iloc[train_index], y_no_weekly.iloc[test_index]\n",
    "    forest.fit(X_train,y_train)\n",
    "    ALL_PRED_LABEL.extend(forest.predict(X_test))\n",
    "    ALL_TRUE_LABEL.extend(y_test)\n",
    "    \n",
    "    # Screen Output for tracking the progress, sometimes I wait too long......\n",
    "    print('Finish Test Iteration ',i)\n",
    "    i += 1\n",
    "    \n",
    "print(classification_report(ALL_TRUE_LABEL,ALL_PRED_LABEL))\n",
    "print(confusion_matrix(ALL_TRUE_LABEL,ALL_PRED_LABEL))"
   ]
  },
  {
   "cell_type": "code",
   "execution_count": 18,
   "metadata": {},
   "outputs": [
    {
     "name": "stdout",
     "output_type": "stream",
     "text": [
      "Finish Test Iteration  0\n",
      "Finish Test Iteration  1\n",
      "Finish Test Iteration  2\n",
      "Finish Test Iteration  3\n",
      "Finish Test Iteration  4\n",
      "Finish Test Iteration  5\n",
      "Finish Test Iteration  6\n",
      "Finish Test Iteration  7\n",
      "Finish Test Iteration  8\n",
      "Finish Test Iteration  9\n",
      "              precision    recall  f1-score   support\n",
      "\n",
      "      bullet       0.76      0.81      0.79     70728\n",
      "   irregular       0.85      0.84      0.85    257158\n",
      "     monthly       0.86      0.85      0.86    342717\n",
      "\n",
      "   micro avg       0.84      0.84      0.84    670603\n",
      "   macro avg       0.82      0.84      0.83    670603\n",
      "weighted avg       0.84      0.84      0.84    670603\n",
      "\n",
      "[[ 57608   2376  10744]\n",
      " [  3893 217200  36065]\n",
      " [ 14388  37343 290986]]\n"
     ]
    }
   ],
   "source": [
    "# from experiment, 5 seconds for each iteration\n",
    "knn = KNN(n_neighbors=30)\n",
    "\n",
    "ALL_TRUE_LABEL = []\n",
    "ALL_PRED_LABEL = []\n",
    "kf = KFold(n_splits=10)\n",
    "i = 0\n",
    "for train_index, test_index in kf.split(X_lda_no_weekly):    \n",
    "    \n",
    "    X_train, X_test = X_lda_no_weekly.iloc[train_index], X_lda_no_weekly.iloc[test_index]\n",
    "    y_train, y_test = y_no_weekly.iloc[train_index], y_no_weekly.iloc[test_index]\n",
    "    knn.fit(X_train,y_train)\n",
    "    ALL_PRED_LABEL.extend(knn.predict(X_test))\n",
    "    ALL_TRUE_LABEL.extend(y_test)\n",
    "    \n",
    "    # Screen Output for tracking the progress, sometimes I wait too long......\n",
    "    print('Finish Test Iteration ',i)\n",
    "    i += 1\n",
    "    \n",
    "print(classification_report(ALL_TRUE_LABEL,ALL_PRED_LABEL))\n",
    "print(confusion_matrix(ALL_TRUE_LABEL,ALL_PRED_LABEL))"
   ]
  },
  {
   "cell_type": "code",
   "execution_count": 25,
   "metadata": {},
   "outputs": [
    {
     "name": "stdout",
     "output_type": "stream",
     "text": [
      "Finish Test Iteration  0\n",
      "Finish Test Iteration  1\n",
      "Finish Test Iteration  2\n",
      "Finish Test Iteration  3\n",
      "Finish Test Iteration  4\n",
      "Finish Test Iteration  5\n",
      "Finish Test Iteration  6\n",
      "Finish Test Iteration  7\n",
      "Finish Test Iteration  8\n",
      "Finish Test Iteration  9\n",
      "              precision    recall  f1-score   support\n",
      "\n",
      "      bullet       0.66      0.31      0.43      2191\n",
      "   irregular       0.82      0.82      0.82      7860\n",
      "     monthly       0.76      0.85      0.80      9949\n",
      "\n",
      "   micro avg       0.78      0.78      0.78     20000\n",
      "   macro avg       0.75      0.66      0.68     20000\n",
      "weighted avg       0.78      0.78      0.77     20000\n",
      "\n",
      "[[ 687  145 1359]\n",
      " [ 117 6452 1291]\n",
      " [ 230 1240 8479]]\n"
     ]
    }
   ],
   "source": [
    "# from experiment, 5 seconds for each iteration\n",
    "svm = SVC(gamma='auto')\n",
    "\n",
    "ALL_TRUE_LABEL = []\n",
    "ALL_PRED_LABEL = []\n",
    "kf = KFold(n_splits=10)\n",
    "i = 0\n",
    "for train_index, test_index in kf.split(X_lda_no_weekly):    \n",
    "    \n",
    "    X_train, X_test = X_lda_no_weekly.iloc[train_index[0:20000]], X_lda_no_weekly.iloc[test_index[0:2000]]\n",
    "    y_train, y_test = y_no_weekly.iloc[train_index[0:20000]], y_no_weekly.iloc[test_index[0:2000]]\n",
    "    svm.fit(X_train,y_train)\n",
    "    ALL_PRED_LABEL.extend(svm.predict(X_test))\n",
    "    ALL_TRUE_LABEL.extend(y_test)\n",
    "    \n",
    "    # Screen Output for tracking the progress, sometimes I wait too long......\n",
    "    print('Finish Test Iteration ',i)\n",
    "    i += 1\n",
    "    \n",
    "print(classification_report(ALL_TRUE_LABEL,ALL_PRED_LABEL))\n",
    "print(confusion_matrix(ALL_TRUE_LABEL,ALL_PRED_LABEL))"
   ]
  },
  {
   "cell_type": "code",
   "execution_count": 14,
   "metadata": {},
   "outputs": [
    {
     "name": "stdout",
     "output_type": "stream",
     "text": [
      "Finish Test Iteration  0\n",
      "Finish Test Iteration  1\n",
      "Finish Test Iteration  2\n",
      "Finish Test Iteration  3\n",
      "Finish Test Iteration  4\n",
      "Finish Test Iteration  5\n",
      "Finish Test Iteration  6\n",
      "Finish Test Iteration  7\n",
      "Finish Test Iteration  8\n",
      "Finish Test Iteration  9\n",
      "              precision    recall  f1-score   support\n",
      "\n",
      "      bullet       0.73      0.64      0.68     70728\n",
      "   irregular       0.86      0.76      0.81    257158\n",
      "     monthly       0.79      0.87      0.83    342717\n",
      "\n",
      "   micro avg       0.81      0.81      0.81    670603\n",
      "   macro avg       0.79      0.76      0.77    670603\n",
      "weighted avg       0.81      0.81      0.80    670603\n",
      "\n",
      "[[ 45173   4128  21427]\n",
      " [  1652 195967  59539]\n",
      " [ 14898  28226 299593]]\n"
     ]
    }
   ],
   "source": [
    "# from experiment, 7 seconds for each iteration\n",
    "\n",
    "lg = LogisticRegression(multi_class='ovr', solver='lbfgs')\n",
    "\n",
    "ALL_TRUE_LABEL = []\n",
    "ALL_PRED_LABEL = []\n",
    "kf = KFold(n_splits=10)\n",
    "i = 0\n",
    "for train_index, test_index in kf.split(X_lda_no_weekly):    \n",
    "    \n",
    "    X_train, X_test = X_lda_no_weekly.iloc[train_index], X_lda_no_weekly.iloc[test_index]\n",
    "    y_train, y_test = y_no_weekly.iloc[train_index], y_no_weekly.iloc[test_index]\n",
    "    lg.fit(X_train,y_train)\n",
    "    ALL_PRED_LABEL.extend(lg.predict(X_test))\n",
    "    ALL_TRUE_LABEL.extend(y_test)\n",
    "    \n",
    "    # Screen Output for tracking the progress, sometimes I wait too long......\n",
    "    print('Finish Test Iteration ',i)\n",
    "    i += 1\n",
    "    \n",
    "print(classification_report(ALL_TRUE_LABEL,ALL_PRED_LABEL))\n",
    "print(confusion_matrix(ALL_TRUE_LABEL,ALL_PRED_LABEL))"
   ]
  },
  {
   "cell_type": "markdown",
   "metadata": {},
   "source": [
    "**Summary**"
   ]
  },
  {
   "cell_type": "markdown",
   "metadata": {},
   "source": [
    "Decision Tree performs the best.  Although SVM has its potential, it reaches its limit when the rate of increase of trainig data cannot catch up with the performance.  "
   ]
  },
  {
   "cell_type": "markdown",
   "metadata": {},
   "source": [
    "## Conclusion"
   ]
  },
  {
   "cell_type": "markdown",
   "metadata": {},
   "source": [
    "Decision Tree, again, is chosen for the model of prediction.  More importantly, it is better not to have LDA feature extraction.  Other extraction methods may be used, for example, best subset or Lasso.   "
   ]
  },
  {
   "cell_type": "markdown",
   "metadata": {},
   "source": [
    "# Part III: Combined Prediction"
   ]
  },
  {
   "cell_type": "markdown",
   "metadata": {},
   "source": [
    "This is the last step of the prediction.  The prediction is divided into two steps: \n",
    "\n",
    "1. A decision tree specialized in identifying `weekly` repayment interval; if not, proceed to step 2.  \n",
    "2. Another decision tree identify whether the loan application is `bullet`, `monthly` or `irregular`.  \n",
    "\n",
    "Before ending the development of prediction, same test is run for a single decision tree to compare the performance.  Decision is chosen because it has the best classification among all the models.  "
   ]
  },
  {
   "cell_type": "markdown",
   "metadata": {},
   "source": [
    "**Prepare for dataset**"
   ]
  },
  {
   "cell_type": "code",
   "execution_count": 14,
   "metadata": {},
   "outputs": [],
   "source": [
    "y = loan['repayment_interval']"
   ]
  },
  {
   "cell_type": "code",
   "execution_count": 15,
   "metadata": {},
   "outputs": [],
   "source": [
    "selected_features = list(loan_std.columns)\n",
    "selected_features.remove('repayment_interval_irregular')\n",
    "selected_features.remove('repayment_interval_monthly')\n",
    "selected_features.remove('repayment_interval_bullet')"
   ]
  },
  {
   "cell_type": "code",
   "execution_count": 16,
   "metadata": {},
   "outputs": [],
   "source": [
    "X = loan_std[selected_features]"
   ]
  },
  {
   "cell_type": "markdown",
   "metadata": {},
   "source": [
    "**Model Testing**"
   ]
  },
  {
   "cell_type": "code",
   "execution_count": 90,
   "metadata": {
    "scrolled": true
   },
   "outputs": [
    {
     "name": "stdout",
     "output_type": "stream",
     "text": [
      "77\n",
      "Finish Test Iteration  0\n",
      "135\n",
      "Finish Test Iteration  1\n",
      "148\n",
      "Finish Test Iteration  2\n",
      "199\n",
      "Finish Test Iteration  3\n",
      "34\n",
      "Finish Test Iteration  4\n",
      "4\n",
      "Finish Test Iteration  5\n",
      "2\n",
      "Finish Test Iteration  6\n",
      "1\n",
      "Finish Test Iteration  7\n",
      "1\n",
      "Finish Test Iteration  8\n",
      "0\n",
      "Finish Test Iteration  9\n",
      "              precision    recall  f1-score   support\n",
      "\n",
      "      bullet       0.84      0.85      0.84     70728\n",
      "   irregular       0.89      0.91      0.90    257158\n",
      "     monthly       0.92      0.90      0.91    342717\n",
      "      weekly       0.71      0.70      0.70       602\n",
      "\n",
      "   micro avg       0.90      0.90      0.90    671205\n",
      "   macro avg       0.84      0.84      0.84    671205\n",
      "weighted avg       0.90      0.90      0.90    671205\n",
      "\n",
      "[[ 59976   2585   8156     11]\n",
      " [  2475 234928  19617    138]\n",
      " [  8811  24925 308953     28]\n",
      " [     5    147     26    424]]\n"
     ]
    }
   ],
   "source": [
    "# from experiment, 7 seconds for each iteration\n",
    "\n",
    "dtree1 = DTC()\n",
    "dtree2 = DTC()\n",
    "\n",
    "ALL_TRUE_LABEL = []\n",
    "ALL_PRED_LABEL = []\n",
    "kf = KFold(n_splits=10)\n",
    "i = 0\n",
    "for train_index, test_index in kf.split(X):    \n",
    "    \n",
    "    X_train, X_test = X.iloc[train_index], X.iloc[test_index]\n",
    "    y_train, y_test = y.iloc[train_index], y.iloc[test_index]\n",
    "    \n",
    "    selected_columns = list(X.columns)\n",
    "    selected_columns.remove('repayment_interval_weekly')\n",
    "    \n",
    "    # make a dataset only contains `weekly` and `non-weekly` label\n",
    "    dataset_weekly_train, dataset_weekly_test = X_train[selected_columns], X_test[selected_columns]\n",
    "    label_weekly_train, label_weekly_test = X_train['repayment_interval_weekly'], X_test['repayment_interval_weekly']\n",
    "    \n",
    "    # make a dataset without `weekly` data and label\n",
    "    dataset_no_weekly_train, dataset_no_weekly_test = X_train.loc[X_train['repayment_interval_weekly'] < 1], X_test.loc[X_test['repayment_interval_weekly'] < 1]\n",
    "    dataset_no_weekly_train, dataset_no_weekly_test = dataset_no_weekly_train[selected_columns], dataset_no_weekly_test[selected_columns]\n",
    "    label_no_weekly_train, label_no_weekly_test = y_train.loc[y_train != 'weekly'], y_test.loc[y_test != 'weekly']\n",
    "        \n",
    "    # train a dtree for recognizing `weekly` or not\n",
    "    dtree1.fit(dataset_weekly_train,label_weekly_train)\n",
    "        \n",
    "    # train a dtree for recognizing `irregular`,`monthly` and `bullet`        \n",
    "    dtree2.fit(dataset_no_weekly_train,label_no_weekly_train)\n",
    "    \n",
    "    # start prediction\n",
    "    y_pred_1 = dtree1.predict(dataset_weekly_test)  \n",
    "    y_pred_2 = dtree2.predict(dataset_weekly_test)\n",
    "    \n",
    "    print(sum(y_pred_1))\n",
    "    \n",
    "    # Merge Prediction Result\n",
    "    y_pred = []\n",
    "    for j in range(len(test_index)):\n",
    "        if y_pred_1[j]:\n",
    "            y_pred.append('weekly')\n",
    "        else:\n",
    "            y_pred.append(y_pred_2[j])\n",
    "\n",
    "    ALL_PRED_LABEL.extend(y_pred)\n",
    "    ALL_TRUE_LABEL.extend(y_test)\n",
    "    \n",
    "    # Screen Output for tracking the progress, sometimes I wait too long......\n",
    "    print('Finish Test Iteration ',i)\n",
    "    i += 1\n",
    "#     break\n",
    "    \n",
    "print(classification_report(ALL_TRUE_LABEL,ALL_PRED_LABEL))\n",
    "print(confusion_matrix(ALL_TRUE_LABEL,ALL_PRED_LABEL))"
   ]
  },
  {
   "cell_type": "markdown",
   "metadata": {},
   "source": [
    "**Best Subset Selection**"
   ]
  },
  {
   "cell_type": "code",
   "execution_count": 111,
   "metadata": {
    "scrolled": true
   },
   "outputs": [],
   "source": [
    "from sklearn.metrics import precision_score"
   ]
  },
  {
   "cell_type": "code",
   "execution_count": 124,
   "metadata": {},
   "outputs": [
    {
     "name": "stdout",
     "output_type": "stream",
     "text": [
      "Finish Test Iteration  0\n",
      "Finish Test Iteration  1\n",
      "Finish Test Iteration  2\n",
      "Finish Test Iteration  3\n",
      "Finish Test Iteration  4\n",
      "Finish Test Iteration  5\n",
      "Finish Test Iteration  6\n",
      "Finish Test Iteration  7\n",
      "Finish Test Iteration  8\n",
      "Finish Test Iteration  9\n",
      "Finish Subset Iteration  1\n",
      "Finish Test Iteration  0\n",
      "Finish Test Iteration  1\n",
      "Finish Test Iteration  2\n",
      "Finish Test Iteration  3\n",
      "Finish Test Iteration  4\n",
      "Finish Test Iteration  5\n",
      "Finish Test Iteration  6\n",
      "Finish Test Iteration  7\n",
      "Finish Test Iteration  8\n",
      "Finish Test Iteration  9\n",
      "Finish Subset Iteration  2\n",
      "Finish Test Iteration  0\n",
      "Finish Test Iteration  1\n",
      "Finish Test Iteration  2\n",
      "Finish Test Iteration  3\n",
      "Finish Test Iteration  4\n",
      "Finish Test Iteration  5\n",
      "Finish Test Iteration  6\n",
      "Finish Test Iteration  7\n",
      "Finish Test Iteration  8\n",
      "Finish Test Iteration  9\n",
      "Finish Subset Iteration  3\n",
      "Finish Test Iteration  0\n",
      "Finish Test Iteration  1\n",
      "Finish Test Iteration  2\n",
      "Finish Test Iteration  3\n",
      "Finish Test Iteration  4\n",
      "Finish Test Iteration  5\n",
      "Finish Test Iteration  6\n",
      "Finish Test Iteration  7\n",
      "Finish Test Iteration  8\n",
      "Finish Test Iteration  9\n",
      "Finish Subset Iteration  4\n",
      "Finish Test Iteration  0\n",
      "Finish Test Iteration  1\n",
      "Finish Test Iteration  2\n",
      "Finish Test Iteration  3\n",
      "Finish Test Iteration  4\n",
      "Finish Test Iteration  5\n",
      "Finish Test Iteration  6\n",
      "Finish Test Iteration  7\n",
      "Finish Test Iteration  8\n",
      "Finish Test Iteration  9\n",
      "Finish Subset Iteration  5\n",
      "Finish Test Iteration  0\n",
      "Finish Test Iteration  1\n",
      "Finish Test Iteration  2\n",
      "Finish Test Iteration  3\n",
      "Finish Test Iteration  4\n",
      "Finish Test Iteration  5\n",
      "Finish Test Iteration  6\n",
      "Finish Test Iteration  7\n",
      "Finish Test Iteration  8\n",
      "Finish Test Iteration  9\n",
      "Finish Subset Iteration  6\n",
      "Finish Test Iteration  0\n",
      "Finish Test Iteration  1\n",
      "Finish Test Iteration  2\n",
      "Finish Test Iteration  3\n",
      "Finish Test Iteration  4\n",
      "Finish Test Iteration  5\n",
      "Finish Test Iteration  6\n",
      "Finish Test Iteration  7\n",
      "Finish Test Iteration  8\n",
      "Finish Test Iteration  9\n",
      "Finish Subset Iteration  7\n",
      "Finish Test Iteration  0\n",
      "Finish Test Iteration  1\n",
      "Finish Test Iteration  2\n",
      "Finish Test Iteration  3\n",
      "Finish Test Iteration  4\n",
      "Finish Test Iteration  5\n",
      "Finish Test Iteration  6\n",
      "Finish Test Iteration  7\n",
      "Finish Test Iteration  8\n",
      "Finish Test Iteration  9\n",
      "Finish Subset Iteration  8\n",
      "Finish Test Iteration  0\n",
      "Finish Test Iteration  1\n",
      "Finish Test Iteration  2\n",
      "Finish Test Iteration  3\n",
      "Finish Test Iteration  4\n",
      "Finish Test Iteration  5\n",
      "Finish Test Iteration  6\n",
      "Finish Test Iteration  7\n",
      "Finish Test Iteration  8\n",
      "Finish Test Iteration  9\n",
      "Finish Subset Iteration  9\n",
      "Finish Test Iteration  0\n",
      "Finish Test Iteration  1\n",
      "Finish Test Iteration  2\n",
      "Finish Test Iteration  3\n",
      "Finish Test Iteration  4\n",
      "Finish Test Iteration  5\n",
      "Finish Test Iteration  6\n",
      "Finish Test Iteration  7\n",
      "Finish Test Iteration  8\n",
      "Finish Test Iteration  9\n",
      "Finish Subset Iteration  10\n"
     ]
    }
   ],
   "source": [
    "score = []\n",
    "j = 1\n",
    "for j in range(1,11):\n",
    "    \n",
    "    X_subset = SelectKBest(f_classif, k=j*27).fit_transform(X, y)\n",
    "    X_subset = pd.DataFrame(X_subset)\n",
    "    \n",
    "    dtree = DTC()\n",
    "\n",
    "    ALL_TRUE_LABEL = []\n",
    "    ALL_PRED_LABEL = []\n",
    "    kf = KFold(n_splits=10)\n",
    "    i = 0\n",
    "\n",
    "    for train_index, test_index in kf.split(X_subset):    \n",
    "\n",
    "        X_train, X_test = X_subset.iloc[train_index], X_subset.iloc[test_index]\n",
    "        y_train, y_test = y.iloc[train_index], y.iloc[test_index]\n",
    "\n",
    "        dtree.fit(X_train,y_train)\n",
    "        ALL_PRED_LABEL.extend(dtree.predict(X_test))\n",
    "        ALL_TRUE_LABEL.extend(y_test)\n",
    "\n",
    "        # Screen Output for tracking the progress, sometimes I wait too long......\n",
    "        print('Finish Test Iteration ',i)\n",
    "        i += 1\n",
    "    score.append(precision_score(ALL_TRUE_LABEL, ALL_PRED_LABEL, average = 'macro'))\n",
    "    print('Finish Subset Iteration ',j)\n",
    "#     print(classification_report(ALL_TRUE_LABEL,ALL_PRED_LABEL))\n",
    "#     print(confusion_matrix(ALL_TRUE_LABEL,ALL_PRED_LABEL))"
   ]
  },
  {
   "cell_type": "code",
   "execution_count": 130,
   "metadata": {},
   "outputs": [
    {
     "data": {
      "text/plain": [
       "[27, 54, 81, 108, 135, 162, 189, 216, 243, 270]"
      ]
     },
     "execution_count": 130,
     "metadata": {},
     "output_type": "execute_result"
    }
   ],
   "source": [
    "k_subset = [i * 27 for i in range(1,11)]\n",
    "k_subset"
   ]
  },
  {
   "cell_type": "code",
   "execution_count": 144,
   "metadata": {},
   "outputs": [
    {
     "data": {
      "image/png": "[encoded data removed]",
      "text/plain": [
       "<Figure size 432x288 with 1 Axes>"
      ]
     },
     "metadata": {
      "needs_background": "light"
     },
     "output_type": "display_data"
    }
   ],
   "source": [
    "plt.plot(k_subset, score)\n",
    "# plt.xlabel('Precision(macro)')\n",
    "# plt.ylabel('Number of Selected Columns')\n",
    "plt.title('Best Subset Selection')\n",
    "plt.show()"
   ]
  },
  {
   "cell_type": "markdown",
   "metadata": {},
   "source": [
    "Thus, it is better to use all features.  "
   ]
  },
  {
   "cell_type": "markdown",
   "metadata": {},
   "source": [
    "**Single Model Prediction (Decision Tree)**"
   ]
  },
  {
   "cell_type": "code",
   "execution_count": 146,
   "metadata": {},
   "outputs": [],
   "source": [
    "y = loan['repayment_interval']"
   ]
  },
  {
   "cell_type": "code",
   "execution_count": 147,
   "metadata": {},
   "outputs": [],
   "source": [
    "selected_features = list(loan_std.columns)\n",
    "selected_features.remove('repayment_interval_weekly')\n",
    "selected_features.remove('repayment_interval_irregular')\n",
    "selected_features.remove('repayment_interval_monthly')\n",
    "selected_features.remove('repayment_interval_bullet')"
   ]
  },
  {
   "cell_type": "code",
   "execution_count": 148,
   "metadata": {},
   "outputs": [],
   "source": [
    "X = loan_std[selected_features]"
   ]
  },
  {
   "cell_type": "code",
   "execution_count": 149,
   "metadata": {},
   "outputs": [
    {
     "name": "stdout",
     "output_type": "stream",
     "text": [
      "Finish Test Iteration  0\n",
      "Finish Test Iteration  1\n",
      "Finish Test Iteration  2\n",
      "Finish Test Iteration  3\n",
      "Finish Test Iteration  4\n",
      "Finish Test Iteration  5\n",
      "Finish Test Iteration  6\n",
      "Finish Test Iteration  7\n",
      "Finish Test Iteration  8\n",
      "Finish Test Iteration  9\n",
      "              precision    recall  f1-score   support\n",
      "\n",
      "      bullet       0.84      0.85      0.85     70728\n",
      "   irregular       0.89      0.91      0.90    257158\n",
      "     monthly       0.92      0.90      0.91    342717\n",
      "      weekly       0.73      0.70      0.72       602\n",
      "\n",
      "   micro avg       0.90      0.90      0.90    671205\n",
      "   macro avg       0.85      0.84      0.84    671205\n",
      "weighted avg       0.90      0.90      0.90    671205\n",
      "\n",
      "[[ 59982   2620   8113     13]\n",
      " [  2450 234882  19712    114]\n",
      " [  8802  24944 308942     29]\n",
      " [     3    147     29    423]]\n"
     ]
    }
   ],
   "source": [
    "dtree = DTC()\n",
    "\n",
    "ALL_TRUE_LABEL = []\n",
    "ALL_PRED_LABEL = []\n",
    "kf = KFold(n_splits=10)\n",
    "i = 0\n",
    "\n",
    "for train_index, test_index in kf.split(X):    \n",
    "    \n",
    "    X_train, X_test = X.iloc[train_index], X.iloc[test_index]\n",
    "    y_train, y_test = y.iloc[train_index], y.iloc[test_index]\n",
    "        \n",
    "    dtree.fit(X_train,y_train)\n",
    "    ALL_PRED_LABEL.extend(dtree.predict(X_test))\n",
    "    ALL_TRUE_LABEL.extend(y_test)\n",
    "    \n",
    "    # Screen Output for tracking the progress, sometimes I wait too long......\n",
    "    print('Finish Test Iteration ',i)\n",
    "    i += 1\n",
    "    \n",
    "print(classification_report(ALL_TRUE_LABEL,ALL_PRED_LABEL))\n",
    "print(confusion_matrix(ALL_TRUE_LABEL,ALL_PRED_LABEL))"
   ]
  },
  {
   "cell_type": "markdown",
   "metadata": {},
   "source": [
    "The single model selection is even better.  "
   ]
  },
  {
   "cell_type": "markdown",
   "metadata": {},
   "source": [
    "# Interpretation"
   ]
  },
  {
   "cell_type": "markdown",
   "metadata": {},
   "source": [
    "Data visualization is as important as accurate prediction.  Below we try to visualize the Decision Tree of single model.  "
   ]
  },
  {
   "cell_type": "code",
   "execution_count": 154,
   "metadata": {},
   "outputs": [
    {
     "data": {
      "text/plain": [
       "DecisionTreeClassifier(class_weight=None, criterion='gini', max_depth=None,\n",
       "            max_features=None, max_leaf_nodes=None,\n",
       "            min_impurity_decrease=0.0, min_impurity_split=None,\n",
       "            min_samples_leaf=1, min_samples_split=2,\n",
       "            min_weight_fraction_leaf=0.0, presort=False, random_state=None,\n",
       "            splitter='best')"
      ]
     },
     "execution_count": 154,
     "metadata": {},
     "output_type": "execute_result"
    }
   ],
   "source": [
    "dtree = DTC()    \n",
    "dtree.fit(X,y)"
   ]
  },
  {
   "cell_type": "code",
   "execution_count": 171,
   "metadata": {},
   "outputs": [],
   "source": [
    "from graphviz import Source\n",
    "from sklearn import tree"
   ]
  },
  {
   "cell_type": "code",
   "execution_count": 176,
   "metadata": {},
   "outputs": [],
   "source": [
    "dotfile = open(\"dtree.dot\", 'w')\n",
    "tree.export_graphviz(dtree, out_file = dotfile, feature_names = X.columns)\n",
    "dotfile.close()"
   ]
  },
  {
   "cell_type": "markdown",
   "metadata": {},
   "source": [
    "However, the data are in normal distribution.  It is difficult to read, as data like `term_in_months` are transformed to float, e.g. 1.123.  In order to have better visualization, another decision tree is trained for this purpose.  "
   ]
  },
  {
   "cell_type": "code",
   "execution_count": 196,
   "metadata": {},
   "outputs": [],
   "source": [
    "selected_features = list(loan_encoded.columns)\n",
    "selected_features.remove('repayment_interval_weekly')\n",
    "selected_features.remove('repayment_interval_irregular')\n",
    "selected_features.remove('repayment_interval_monthly')\n",
    "selected_features.remove('repayment_interval_bullet')\n",
    "X_encoded = loan_encoded[selected_features]\n",
    "y = loan['repayment_interval']"
   ]
  },
  {
   "cell_type": "code",
   "execution_count": 198,
   "metadata": {},
   "outputs": [
    {
     "data": {
      "text/plain": [
       "DecisionTreeClassifier(class_weight=None, criterion='gini', max_depth=None,\n",
       "            max_features=None, max_leaf_nodes=None,\n",
       "            min_impurity_decrease=0.0, min_impurity_split=None,\n",
       "            min_samples_leaf=1, min_samples_split=2,\n",
       "            min_weight_fraction_leaf=0.0, presort=False, random_state=None,\n",
       "            splitter='best')"
      ]
     },
     "execution_count": 198,
     "metadata": {},
     "output_type": "execute_result"
    }
   ],
   "source": [
    "dtree = DTC()    \n",
    "dtree.fit(X_encoded,y)"
   ]
  },
  {
   "cell_type": "code",
   "execution_count": 199,
   "metadata": {},
   "outputs": [],
   "source": [
    "dotfile2 = open(\"dtree2.dot\", 'w')\n",
    "tree.export_graphviz(dtree, out_file = dotfile2, feature_names = X.columns)\n",
    "dotfile2.close()"
   ]
  },
  {
   "cell_type": "markdown",
   "metadata": {},
   "source": [
    "As the result is too large, only the first 1000 nodes are explored from 107922 nodes.  "
   ]
  },
  {
   "cell_type": "markdown",
   "metadata": {},
   "source": [
    "The value in each nodes are refers to the outcomes / possible labels.  They are in order of bullet, irregular, monthly, weekly, same as the order in classification report.  As one traverses down the tree, fewer cases in the result arary are observed, which means the possibility narrows down.  The Left arrow is True, while Right arrow is False.  Each split is binary (either True or False).  "
   ]
  },
  {
   "cell_type": "markdown",
   "metadata": {},
   "source": [
    "From the result, we can see there are several improtant split: \n",
    "\n",
    "- terms in months < 2.5: (split A)\n",
    "\n",
    "No `monthly` outcome.  \n",
    "\n",
    "- country_code_KE < 0.5 (i.e. not KE): (if split A is True)\n",
    "\n",
    "No `weekly` outcome.  \n",
    "\n",
    "- count_female < 0.5 (i.e. no female borrower): (if split A is False) (split B)\n",
    "\n",
    "No `weekly` outcome.  \n",
    "\n",
    "- country_SV < 0.5 (i.e. not SV): (if split A is False and split B is False)\n",
    "\n",
    "No `monthly` outcome.  "
   ]
  },
  {
   "cell_type": "markdown",
   "metadata": {},
   "source": [
    "# Conclusion"
   ]
  },
  {
   "cell_type": "markdown",
   "metadata": {},
   "source": [
    "The first few splits are related to `country_code`, `terms_in_months` and `sector_Agriculture`.  This shows that the location, the industry and the length of repayment much affects the repayment interval.  It is also clear that the data is highly specific, all feature extraction fails to give higher performance to the prediction.  "
   ]
  }
 ],
 "metadata": {
  "kernelspec": {
   "display_name": "Python 3",
   "language": "python",
   "name": "python3"
  },
  "language_info": {
   "codemirror_mode": {
    "name": "ipython",
    "version": 3
   },
   "file_extension": ".py",
   "mimetype": "text/x-python",
   "name": "python",
   "nbconvert_exporter": "python",
   "pygments_lexer": "ipython3",
   "version": "3.7.1"
  }
 },
 "nbformat": 4,
 "nbformat_minor": 2
}
