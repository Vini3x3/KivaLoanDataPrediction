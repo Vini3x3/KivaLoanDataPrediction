{
 "cells": [
  {
   "cell_type": "code",
   "execution_count": null,
   "metadata": {},
   "outputs": [],
   "source": []
  },
  {
   "cell_type": "markdown",
   "metadata": {},
   "source": [
    "## Import Library"
   ]
  },
  {
   "cell_type": "code",
   "execution_count": 1,
   "metadata": {},
   "outputs": [],
   "source": [
    "library(MASS)"
   ]
  },
  {
   "cell_type": "code",
   "execution_count": 2,
   "metadata": {},
   "outputs": [],
   "source": [
    "library(class)"
   ]
  },
  {
   "cell_type": "code",
   "execution_count": 4,
   "metadata": {},
   "outputs": [
    {
     "name": "stderr",
     "output_type": "stream",
     "text": [
      "Loading required package: caret\n",
      "\n",
      "Loading required package: lattice\n",
      "\n",
      "Loading required package: ggplot2\n",
      "\n"
     ]
    }
   ],
   "source": [
    "require(caret)"
   ]
  },
  {
   "cell_type": "code",
   "execution_count": null,
   "metadata": {},
   "outputs": [],
   "source": [
    "library(e1071)"
   ]
  },
  {
   "cell_type": "markdown",
   "metadata": {},
   "source": [
    "## Load Dataset"
   ]
  },
  {
   "cell_type": "code",
   "execution_count": 5,
   "metadata": {},
   "outputs": [],
   "source": [
    "loan.raw <- read.csv('kiva_loans.csv')"
   ]
  },
  {
   "cell_type": "code",
   "execution_count": 6,
   "metadata": {},
   "outputs": [],
   "source": [
    "loan.cod <- read.csv('kiva_loans_dummied.csv')"
   ]
  },
  {
   "cell_type": "code",
   "execution_count": 7,
   "metadata": {},
   "outputs": [],
   "source": [
    "loan.std <- read.csv('kiva_loans_standardized.csv')"
   ]
  },
  {
   "cell_type": "code",
   "execution_count": 8,
   "metadata": {},
   "outputs": [],
   "source": [
    "loan.lda <- read.csv('kiva_loans_lda.csv')"
   ]
  },
  {
   "cell_type": "markdown",
   "metadata": {},
   "source": [
    "## Check Data"
   ]
  },
  {
   "cell_type": "code",
   "execution_count": 9,
   "metadata": {},
   "outputs": [
    {
     "data": {
      "text/html": [
       "<table>\n",
       "<caption>A data.frame: 6 × 20</caption>\n",
       "<thead>\n",
       "\t<tr><th scope=col>id</th><th scope=col>funded_amount</th><th scope=col>loan_amount</th><th scope=col>activity</th><th scope=col>sector</th><th scope=col>use</th><th scope=col>country_code</th><th scope=col>country</th><th scope=col>region</th><th scope=col>currency</th><th scope=col>partner_id</th><th scope=col>posted_time</th><th scope=col>disbursed_time</th><th scope=col>funded_time</th><th scope=col>term_in_months</th><th scope=col>lender_count</th><th scope=col>tags</th><th scope=col>borrower_genders</th><th scope=col>repayment_interval</th><th scope=col>date</th></tr>\n",
       "\t<tr><th scope=col>&lt;int&gt;</th><th scope=col>&lt;dbl&gt;</th><th scope=col>&lt;dbl&gt;</th><th scope=col>&lt;fct&gt;</th><th scope=col>&lt;fct&gt;</th><th scope=col>&lt;fct&gt;</th><th scope=col>&lt;fct&gt;</th><th scope=col>&lt;fct&gt;</th><th scope=col>&lt;fct&gt;</th><th scope=col>&lt;fct&gt;</th><th scope=col>&lt;dbl&gt;</th><th scope=col>&lt;fct&gt;</th><th scope=col>&lt;fct&gt;</th><th scope=col>&lt;fct&gt;</th><th scope=col>&lt;dbl&gt;</th><th scope=col>&lt;int&gt;</th><th scope=col>&lt;fct&gt;</th><th scope=col>&lt;fct&gt;</th><th scope=col>&lt;fct&gt;</th><th scope=col>&lt;fct&gt;</th></tr>\n",
       "</thead>\n",
       "<tbody>\n",
       "\t<tr><td> 653051</td><td>300</td><td>300</td><td>Fruits &amp; Vegetables</td><td><span style=white-space:pre-wrap>Food          </span></td><td><span style=white-space:pre-wrap>To buy seasonal, fresh fruits to sell.                                             </span></td><td>PK</td><td>Pakistan</td><td><span style=white-space:pre-wrap>Lahore      </span></td><td>PKR</td><td>247</td><td>2014-01-01 06:12:39+00:00</td><td>2013-12-17 08:00:00+00:00</td><td>2014-01-02 10:06:32+00:00</td><td>12</td><td>12</td><td><span style=white-space:pre-wrap>                            </span></td><td><span style=white-space:pre-wrap>female        </span></td><td>irregular</td><td>2014-01-01</td></tr>\n",
       "\t<tr><td> 653053</td><td>575</td><td>575</td><td>Rickshaw           </td><td>Transportation</td><td>to repair and maintain the auto rickshaw used in their business.                   </td><td>PK</td><td>Pakistan</td><td>Lahore      </td><td>PKR</td><td>247</td><td>2014-01-01 06:51:08+00:00</td><td>2013-12-17 08:00:00+00:00</td><td>2014-01-02 09:17:23+00:00</td><td>11</td><td>14</td><td>                            </td><td>female, female</td><td>irregular</td><td>2014-01-01</td></tr>\n",
       "\t<tr><td> 653068</td><td>150</td><td>150</td><td>Transportation     </td><td>Transportation</td><td>To repair their old cycle-van and buy another one to rent out as a source of income</td><td>IN</td><td>India   </td><td>Maynaguri   </td><td>INR</td><td>334</td><td>2014-01-01 09:58:07+00:00</td><td>2013-12-17 08:00:00+00:00</td><td>2014-01-01 16:01:36+00:00</td><td>43</td><td> 6</td><td>user_favorite, user_favorite</td><td>female        </td><td>bullet   </td><td>2014-01-01</td></tr>\n",
       "\t<tr><td> 653063</td><td>200</td><td>200</td><td>Embroidery         </td><td>Arts          </td><td>to purchase an embroidery machine and a variety of new embroidery materials.       </td><td>PK</td><td>Pakistan</td><td>Lahore      </td><td>PKR</td><td>247</td><td>2014-01-01 08:03:11+00:00</td><td>2013-12-24 08:00:00+00:00</td><td>2014-01-01 13:00:00+00:00</td><td>11</td><td> 8</td><td>                            </td><td>female        </td><td>irregular</td><td>2014-01-01</td></tr>\n",
       "\t<tr><td> 653084</td><td>400</td><td>400</td><td>Milk Sales         </td><td>Food          </td><td>to purchase one buffalo.                                                           </td><td>PK</td><td>Pakistan</td><td>Abdul Hakeem</td><td>PKR</td><td>245</td><td>2014-01-01 11:53:19+00:00</td><td>2013-12-17 08:00:00+00:00</td><td>2014-01-01 19:18:51+00:00</td><td>14</td><td>16</td><td>                            </td><td>female        </td><td>monthly  </td><td>2014-01-01</td></tr>\n",
       "\t<tr><td>1080148</td><td>250</td><td>250</td><td>Services           </td><td>Services      </td><td>purchase leather for my business using ksh 20000.                                  </td><td>KE</td><td>Kenya   </td><td>            </td><td>KES</td><td> NA</td><td>2014-01-01 10:06:19+00:00</td><td>2014-01-30 01:42:48+00:00</td><td>2014-01-29 14:14:57+00:00</td><td> 4</td><td> 6</td><td>                            </td><td>female        </td><td>irregular</td><td>2014-01-01</td></tr>\n",
       "</tbody>\n",
       "</table>\n"
      ],
      "text/latex": [
       "A data.frame: 6 × 20\n",
       "\\begin{tabular}{r|llllllllllllllllllll}\n",
       " id & funded\\_amount & loan\\_amount & activity & sector & use & country\\_code & country & region & currency & partner\\_id & posted\\_time & disbursed\\_time & funded\\_time & term\\_in\\_months & lender\\_count & tags & borrower\\_genders & repayment\\_interval & date\\\\\n",
       " <int> & <dbl> & <dbl> & <fct> & <fct> & <fct> & <fct> & <fct> & <fct> & <fct> & <dbl> & <fct> & <fct> & <fct> & <dbl> & <int> & <fct> & <fct> & <fct> & <fct>\\\\\n",
       "\\hline\n",
       "\t  653051 & 300 & 300 & Fruits \\& Vegetables & Food           & To buy seasonal, fresh fruits to sell.                                              & PK & Pakistan & Lahore       & PKR & 247 & 2014-01-01 06:12:39+00:00 & 2013-12-17 08:00:00+00:00 & 2014-01-02 10:06:32+00:00 & 12 & 12 &                              & female         & irregular & 2014-01-01\\\\\n",
       "\t  653053 & 575 & 575 & Rickshaw            & Transportation & to repair and maintain the auto rickshaw used in their business.                    & PK & Pakistan & Lahore       & PKR & 247 & 2014-01-01 06:51:08+00:00 & 2013-12-17 08:00:00+00:00 & 2014-01-02 09:17:23+00:00 & 11 & 14 &                              & female, female & irregular & 2014-01-01\\\\\n",
       "\t  653068 & 150 & 150 & Transportation      & Transportation & To repair their old cycle-van and buy another one to rent out as a source of income & IN & India    & Maynaguri    & INR & 334 & 2014-01-01 09:58:07+00:00 & 2013-12-17 08:00:00+00:00 & 2014-01-01 16:01:36+00:00 & 43 &  6 & user\\_favorite, user\\_favorite & female         & bullet    & 2014-01-01\\\\\n",
       "\t  653063 & 200 & 200 & Embroidery          & Arts           & to purchase an embroidery machine and a variety of new embroidery materials.        & PK & Pakistan & Lahore       & PKR & 247 & 2014-01-01 08:03:11+00:00 & 2013-12-24 08:00:00+00:00 & 2014-01-01 13:00:00+00:00 & 11 &  8 &                              & female         & irregular & 2014-01-01\\\\\n",
       "\t  653084 & 400 & 400 & Milk Sales          & Food           & to purchase one buffalo.                                                            & PK & Pakistan & Abdul Hakeem & PKR & 245 & 2014-01-01 11:53:19+00:00 & 2013-12-17 08:00:00+00:00 & 2014-01-01 19:18:51+00:00 & 14 & 16 &                              & female         & monthly   & 2014-01-01\\\\\n",
       "\t 1080148 & 250 & 250 & Services            & Services       & purchase leather for my business using ksh 20000.                                   & KE & Kenya    &              & KES &  NA & 2014-01-01 10:06:19+00:00 & 2014-01-30 01:42:48+00:00 & 2014-01-29 14:14:57+00:00 &  4 &  6 &                              & female         & irregular & 2014-01-01\\\\\n",
       "\\end{tabular}\n"
      ],
      "text/markdown": [
       "\n",
       "A data.frame: 6 × 20\n",
       "\n",
       "| id &lt;int&gt; | funded_amount &lt;dbl&gt; | loan_amount &lt;dbl&gt; | activity &lt;fct&gt; | sector &lt;fct&gt; | use &lt;fct&gt; | country_code &lt;fct&gt; | country &lt;fct&gt; | region &lt;fct&gt; | currency &lt;fct&gt; | partner_id &lt;dbl&gt; | posted_time &lt;fct&gt; | disbursed_time &lt;fct&gt; | funded_time &lt;fct&gt; | term_in_months &lt;dbl&gt; | lender_count &lt;int&gt; | tags &lt;fct&gt; | borrower_genders &lt;fct&gt; | repayment_interval &lt;fct&gt; | date &lt;fct&gt; |\n",
       "|---|---|---|---|---|---|---|---|---|---|---|---|---|---|---|---|---|---|---|---|\n",
       "|  653051 | 300 | 300 | Fruits &amp; Vegetables | Food           | To buy seasonal, fresh fruits to sell.                                              | PK | Pakistan | Lahore       | PKR | 247 | 2014-01-01 06:12:39+00:00 | 2013-12-17 08:00:00+00:00 | 2014-01-02 10:06:32+00:00 | 12 | 12 | <!----> | female         | irregular | 2014-01-01 |\n",
       "|  653053 | 575 | 575 | Rickshaw            | Transportation | to repair and maintain the auto rickshaw used in their business.                    | PK | Pakistan | Lahore       | PKR | 247 | 2014-01-01 06:51:08+00:00 | 2013-12-17 08:00:00+00:00 | 2014-01-02 09:17:23+00:00 | 11 | 14 | <!----> | female, female | irregular | 2014-01-01 |\n",
       "|  653068 | 150 | 150 | Transportation      | Transportation | To repair their old cycle-van and buy another one to rent out as a source of income | IN | India    | Maynaguri    | INR | 334 | 2014-01-01 09:58:07+00:00 | 2013-12-17 08:00:00+00:00 | 2014-01-01 16:01:36+00:00 | 43 |  6 | user_favorite, user_favorite | female         | bullet    | 2014-01-01 |\n",
       "|  653063 | 200 | 200 | Embroidery          | Arts           | to purchase an embroidery machine and a variety of new embroidery materials.        | PK | Pakistan | Lahore       | PKR | 247 | 2014-01-01 08:03:11+00:00 | 2013-12-24 08:00:00+00:00 | 2014-01-01 13:00:00+00:00 | 11 |  8 | <!----> | female         | irregular | 2014-01-01 |\n",
       "|  653084 | 400 | 400 | Milk Sales          | Food           | to purchase one buffalo.                                                            | PK | Pakistan | Abdul Hakeem | PKR | 245 | 2014-01-01 11:53:19+00:00 | 2013-12-17 08:00:00+00:00 | 2014-01-01 19:18:51+00:00 | 14 | 16 | <!----> | female         | monthly   | 2014-01-01 |\n",
       "| 1080148 | 250 | 250 | Services            | Services       | purchase leather for my business using ksh 20000.                                   | KE | Kenya    | <!----> | KES |  NA | 2014-01-01 10:06:19+00:00 | 2014-01-30 01:42:48+00:00 | 2014-01-29 14:14:57+00:00 |  4 |  6 | <!----> | female         | irregular | 2014-01-01 |\n",
       "\n"
      ],
      "text/plain": [
       "  id      funded_amount loan_amount activity            sector        \n",
       "1  653051 300           300         Fruits & Vegetables Food          \n",
       "2  653053 575           575         Rickshaw            Transportation\n",
       "3  653068 150           150         Transportation      Transportation\n",
       "4  653063 200           200         Embroidery          Arts          \n",
       "5  653084 400           400         Milk Sales          Food          \n",
       "6 1080148 250           250         Services            Services      \n",
       "  use                                                                                \n",
       "1 To buy seasonal, fresh fruits to sell.                                             \n",
       "2 to repair and maintain the auto rickshaw used in their business.                   \n",
       "3 To repair their old cycle-van and buy another one to rent out as a source of income\n",
       "4 to purchase an embroidery machine and a variety of new embroidery materials.       \n",
       "5 to purchase one buffalo.                                                           \n",
       "6 purchase leather for my business using ksh 20000.                                  \n",
       "  country_code country  region       currency partner_id\n",
       "1 PK           Pakistan Lahore       PKR      247       \n",
       "2 PK           Pakistan Lahore       PKR      247       \n",
       "3 IN           India    Maynaguri    INR      334       \n",
       "4 PK           Pakistan Lahore       PKR      247       \n",
       "5 PK           Pakistan Abdul Hakeem PKR      245       \n",
       "6 KE           Kenya                 KES       NA       \n",
       "  posted_time               disbursed_time            funded_time              \n",
       "1 2014-01-01 06:12:39+00:00 2013-12-17 08:00:00+00:00 2014-01-02 10:06:32+00:00\n",
       "2 2014-01-01 06:51:08+00:00 2013-12-17 08:00:00+00:00 2014-01-02 09:17:23+00:00\n",
       "3 2014-01-01 09:58:07+00:00 2013-12-17 08:00:00+00:00 2014-01-01 16:01:36+00:00\n",
       "4 2014-01-01 08:03:11+00:00 2013-12-24 08:00:00+00:00 2014-01-01 13:00:00+00:00\n",
       "5 2014-01-01 11:53:19+00:00 2013-12-17 08:00:00+00:00 2014-01-01 19:18:51+00:00\n",
       "6 2014-01-01 10:06:19+00:00 2014-01-30 01:42:48+00:00 2014-01-29 14:14:57+00:00\n",
       "  term_in_months lender_count tags                         borrower_genders\n",
       "1 12             12                                        female          \n",
       "2 11             14                                        female, female  \n",
       "3 43              6           user_favorite, user_favorite female          \n",
       "4 11              8                                        female          \n",
       "5 14             16                                        female          \n",
       "6  4              6                                        female          \n",
       "  repayment_interval date      \n",
       "1 irregular          2014-01-01\n",
       "2 irregular          2014-01-01\n",
       "3 bullet             2014-01-01\n",
       "4 irregular          2014-01-01\n",
       "5 monthly            2014-01-01\n",
       "6 irregular          2014-01-01"
      ]
     },
     "metadata": {},
     "output_type": "display_data"
    }
   ],
   "source": [
    "head(loan.raw)"
   ]
  },
  {
   "cell_type": "code",
   "execution_count": 10,
   "metadata": {},
   "outputs": [
    {
     "data": {
      "text/html": [
       "<table>\n",
       "<caption>A data.frame: 6 × 274</caption>\n",
       "<thead>\n",
       "\t<tr><th scope=col>loan_amount</th><th scope=col>activity_Adult.Care</th><th scope=col>activity_Agriculture</th><th scope=col>activity_Air.Conditioning</th><th scope=col>activity_Animal.Sales</th><th scope=col>activity_Aquaculture</th><th scope=col>activity_Arts</th><th scope=col>activity_Auto.Repair</th><th scope=col>activity_Bakery</th><th scope=col>activity_Balut.Making</th><th scope=col>...</th><th scope=col>country_code_ZM</th><th scope=col>country_code_ZW</th><th scope=col>term_in_months</th><th scope=col>lender_count</th><th scope=col>repayment_interval_bullet</th><th scope=col>repayment_interval_irregular</th><th scope=col>repayment_interval_monthly</th><th scope=col>repayment_interval_weekly</th><th scope=col>count_male</th><th scope=col>count_female</th></tr>\n",
       "\t<tr><th scope=col>&lt;dbl&gt;</th><th scope=col>&lt;int&gt;</th><th scope=col>&lt;int&gt;</th><th scope=col>&lt;int&gt;</th><th scope=col>&lt;int&gt;</th><th scope=col>&lt;int&gt;</th><th scope=col>&lt;int&gt;</th><th scope=col>&lt;int&gt;</th><th scope=col>&lt;int&gt;</th><th scope=col>&lt;int&gt;</th><th scope=col>...</th><th scope=col>&lt;int&gt;</th><th scope=col>&lt;int&gt;</th><th scope=col>&lt;int&gt;</th><th scope=col>&lt;int&gt;</th><th scope=col>&lt;int&gt;</th><th scope=col>&lt;int&gt;</th><th scope=col>&lt;int&gt;</th><th scope=col>&lt;int&gt;</th><th scope=col>&lt;int&gt;</th><th scope=col>&lt;int&gt;</th></tr>\n",
       "</thead>\n",
       "<tbody>\n",
       "\t<tr><td>300</td><td>0</td><td>0</td><td>0</td><td>0</td><td>0</td><td>0</td><td>0</td><td>0</td><td>0</td><td>...</td><td>0</td><td>0</td><td>12</td><td>12</td><td>0</td><td>1</td><td>0</td><td>0</td><td>0</td><td>1</td></tr>\n",
       "\t<tr><td>575</td><td>0</td><td>0</td><td>0</td><td>0</td><td>0</td><td>0</td><td>0</td><td>0</td><td>0</td><td>...</td><td>0</td><td>0</td><td>11</td><td>14</td><td>0</td><td>1</td><td>0</td><td>0</td><td>0</td><td>2</td></tr>\n",
       "\t<tr><td>150</td><td>0</td><td>0</td><td>0</td><td>0</td><td>0</td><td>0</td><td>0</td><td>0</td><td>0</td><td>...</td><td>0</td><td>0</td><td>43</td><td> 6</td><td>1</td><td>0</td><td>0</td><td>0</td><td>0</td><td>1</td></tr>\n",
       "\t<tr><td>200</td><td>0</td><td>0</td><td>0</td><td>0</td><td>0</td><td>0</td><td>0</td><td>0</td><td>0</td><td>...</td><td>0</td><td>0</td><td>11</td><td> 8</td><td>0</td><td>1</td><td>0</td><td>0</td><td>0</td><td>1</td></tr>\n",
       "\t<tr><td>400</td><td>0</td><td>0</td><td>0</td><td>0</td><td>0</td><td>0</td><td>0</td><td>0</td><td>0</td><td>...</td><td>0</td><td>0</td><td>14</td><td>16</td><td>0</td><td>0</td><td>1</td><td>0</td><td>0</td><td>1</td></tr>\n",
       "\t<tr><td>250</td><td>0</td><td>0</td><td>0</td><td>0</td><td>0</td><td>0</td><td>0</td><td>0</td><td>0</td><td>...</td><td>0</td><td>0</td><td> 4</td><td> 6</td><td>0</td><td>1</td><td>0</td><td>0</td><td>0</td><td>1</td></tr>\n",
       "</tbody>\n",
       "</table>\n"
      ],
      "text/latex": [
       "A data.frame: 6 × 274\n",
       "\\begin{tabular}{r|llllllllllllllllllllllllllllllllllllllllllllllllllllllllllllllllllllllllllllllllllllllllllllllllllllllllllllllllllllllllllllllllllllllllllllllllllllllllllllllllllllllllllllllllllllllllllllllllllllllllllllllllllllllllllllllllllllllllllllllllllllllllllllllllllllllllllllllllll}\n",
       " loan\\_amount & activity\\_Adult.Care & activity\\_Agriculture & activity\\_Air.Conditioning & activity\\_Animal.Sales & activity\\_Aquaculture & activity\\_Arts & activity\\_Auto.Repair & activity\\_Bakery & activity\\_Balut.Making & activity\\_Barber.Shop & activity\\_Beauty.Salon & activity\\_Beekeeping & activity\\_Beverages & activity\\_Bicycle.Repair & activity\\_Bicycle.Sales & activity\\_Blacksmith & activity\\_Bookbinding & activity\\_Bookstore & activity\\_Bricks & activity\\_Butcher.Shop & activity\\_Cafe & activity\\_Call.Center & activity\\_Carpentry & activity\\_Catering & activity\\_Cattle & activity\\_Celebrations & activity\\_Cement & activity\\_Cereals & activity\\_Charcoal.Sales & activity\\_Cheese.Making & activity\\_Child.Care & activity\\_Cleaning.Services & activity\\_Cloth...Dressmaking.Supplies & activity\\_Clothing & activity\\_Clothing.Sales & activity\\_Cobbler & activity\\_Communications & activity\\_Computer & activity\\_Computers & activity\\_Construction & activity\\_Construction.Supplies & activity\\_Consumer.Goods & activity\\_Cosmetics.Sales & activity\\_Crafts & activity\\_Dairy & activity\\_Decorations.Sales & activity\\_Dental & activity\\_Education.provider & activity\\_Electrical.Goods & activity\\_Electrician & activity\\_Electronics.Repair & activity\\_Electronics.Sales & activity\\_Embroidery & activity\\_Energy & activity\\_Entertainment & activity\\_Event.Planning & activity\\_Farm.Supplies & activity\\_Farming & activity\\_Film & activity\\_Fish.Selling & activity\\_Fishing & activity\\_Florist & activity\\_Flowers & activity\\_Food & activity\\_Food.Market & activity\\_Food.Production.Sales & activity\\_Food.Stall & activity\\_Fruits...Vegetables & activity\\_Fuel.Firewood & activity\\_Funerals & activity\\_Furniture.Making & activity\\_Games & activity\\_General.Store & activity\\_Goods.Distribution & activity\\_Grocery.Store & activity\\_Hardware & activity\\_Health & activity\\_Higher.education.costs & activity\\_Home.Appliances & activity\\_Home.Energy & activity\\_Home.Products.Sales & activity\\_Hotel & activity\\_Internet.Cafe & activity\\_Jewelry & activity\\_Knitting & activity\\_Land.Rental & activity\\_Landscaping...Gardening & activity\\_Laundry & activity\\_Liquor.Store...Off.License & activity\\_Livestock & activity\\_Machine.Shop & activity\\_Machinery.Rental & activity\\_Manufacturing & activity\\_Medical.Clinic & activity\\_Metal.Shop & activity\\_Milk.Sales & activity\\_Mobile.Phones & activity\\_Mobile.Transactions & activity\\_Motorcycle.Repair & activity\\_Motorcycle.Transport & activity\\_Movie.Tapes...DVDs & activity\\_Music.Discs...Tapes & activity\\_Musical.Instruments & activity\\_Musical.Performance & activity\\_Natural.Medicines & activity\\_Office.Supplies & activity\\_Paper.Sales & activity\\_Party.Supplies & activity\\_Patchwork & activity\\_Perfumes & activity\\_Personal.Care.Products & activity\\_Personal.Expenses & activity\\_Personal.Housing.Expenses & activity\\_Personal.Medical.Expenses & activity\\_Personal.Products.Sales & activity\\_Pharmacy & activity\\_Phone.Accessories & activity\\_Phone.Repair & activity\\_Phone.Use.Sales & activity\\_Photography & activity\\_Pigs & activity\\_Plastics.Sales & activity\\_Poultry & activity\\_Primary.secondary.school.costs & activity\\_Printing & activity\\_Property & activity\\_Pub & activity\\_Quarrying & activity\\_Recycled.Materials & activity\\_Recycling & activity\\_Religious.Articles & activity\\_Renewable.Energy.Products & activity\\_Restaurant & activity\\_Retail & activity\\_Rickshaw & activity\\_Secretarial.Services & activity\\_Services & activity\\_Sewing & activity\\_Shoe.Sales & activity\\_Souvenir.Sales & activity\\_Spare.Parts & activity\\_Sporting.Good.Sales & activity\\_Tailoring & activity\\_Taxi & activity\\_Technology & activity\\_Textiles & activity\\_Timber.Sales & activity\\_Tourism & activity\\_Transportation & activity\\_Traveling.Sales & activity\\_Upholstery & activity\\_Used.Clothing & activity\\_Used.Shoes & activity\\_Utilities & activity\\_Vehicle & activity\\_Vehicle.Repairs & activity\\_Veterinary.Sales & activity\\_Waste.Management & activity\\_Water.Distribution & activity\\_Weaving & activity\\_Wedding.Expenses & activity\\_Well.digging & activity\\_Wholesale & sector\\_Agriculture & sector\\_Arts & sector\\_Clothing & sector\\_Construction & sector\\_Education & sector\\_Entertainment & sector\\_Food & sector\\_Health & sector\\_Housing & sector\\_Manufacturing & sector\\_Personal.Use & sector\\_Retail & sector\\_Services & sector\\_Transportation & sector\\_Wholesale & country\\_code\\_ & country\\_code\\_AF & country\\_code\\_AL & country\\_code\\_AM & country\\_code\\_AZ & country\\_code\\_BF & country\\_code\\_BI & country\\_code\\_BJ & country\\_code\\_BO & country\\_code\\_BR & country\\_code\\_BT & country\\_code\\_BZ & country\\_code\\_CD & country\\_code\\_CG & country\\_code\\_CI & country\\_code\\_CL & country\\_code\\_CM & country\\_code\\_CN & country\\_code\\_CO & country\\_code\\_CR & country\\_code\\_DO & country\\_code\\_EC & country\\_code\\_EG & country\\_code\\_GE & country\\_code\\_GH & country\\_code\\_GT & country\\_code\\_GU & country\\_code\\_HN & country\\_code\\_HT & country\\_code\\_ID & country\\_code\\_IL & country\\_code\\_IN & country\\_code\\_IQ & country\\_code\\_JO & country\\_code\\_KE & country\\_code\\_KG & country\\_code\\_KH & country\\_code\\_LA & country\\_code\\_LB & country\\_code\\_LR & country\\_code\\_LS & country\\_code\\_MD & country\\_code\\_MG & country\\_code\\_ML & country\\_code\\_MM & country\\_code\\_MN & country\\_code\\_MR & country\\_code\\_MW & country\\_code\\_MX & country\\_code\\_MZ & country\\_code\\_NG & country\\_code\\_NI & country\\_code\\_NP & country\\_code\\_PA & country\\_code\\_PE & country\\_code\\_PH & country\\_code\\_PK & country\\_code\\_PR & country\\_code\\_PS & country\\_code\\_PY & country\\_code\\_RW & country\\_code\\_SB & country\\_code\\_SL & country\\_code\\_SN & country\\_code\\_SO & country\\_code\\_SR & country\\_code\\_SS & country\\_code\\_SV & country\\_code\\_TG & country\\_code\\_TH & country\\_code\\_TJ & country\\_code\\_TL & country\\_code\\_TR & country\\_code\\_TZ & country\\_code\\_UA & country\\_code\\_UG & country\\_code\\_US & country\\_code\\_VC & country\\_code\\_VI & country\\_code\\_VN & country\\_code\\_VU & country\\_code\\_WS & country\\_code\\_XK & country\\_code\\_YE & country\\_code\\_ZA & country\\_code\\_ZM & country\\_code\\_ZW & term\\_in\\_months & lender\\_count & repayment\\_interval\\_bullet & repayment\\_interval\\_irregular & repayment\\_interval\\_monthly & repayment\\_interval\\_weekly & count\\_male & count\\_female\\\\\n",
       " <dbl> & <int> & <int> & <int> & <int> & <int> & <int> & <int> & <int> & <int> & <int> & <int> & <int> & <int> & <int> & <int> & <int> & <int> & <int> & <int> & <int> & <int> & <int> & <int> & <int> & <int> & <int> & <int> & <int> & <int> & <int> & <int> & <int> & <int> & <int> & <int> & <int> & <int> & <int> & <int> & <int> & <int> & <int> & <int> & <int> & <int> & <int> & <int> & <int> & <int> & <int> & <int> & <int> & <int> & <int> & <int> & <int> & <int> & <int> & <int> & <int> & <int> & <int> & <int> & <int> & <int> & <int> & <int> & <int> & <int> & <int> & <int> & <int> & <int> & <int> & <int> & <int> & <int> & <int> & <int> & <int> & <int> & <int> & <int> & <int> & <int> & <int> & <int> & <int> & <int> & <int> & <int> & <int> & <int> & <int> & <int> & <int> & <int> & <int> & <int> & <int> & <int> & <int> & <int> & <int> & <int> & <int> & <int> & <int> & <int> & <int> & <int> & <int> & <int> & <int> & <int> & <int> & <int> & <int> & <int> & <int> & <int> & <int> & <int> & <int> & <int> & <int> & <int> & <int> & <int> & <int> & <int> & <int> & <int> & <int> & <int> & <int> & <int> & <int> & <int> & <int> & <int> & <int> & <int> & <int> & <int> & <int> & <int> & <int> & <int> & <int> & <int> & <int> & <int> & <int> & <int> & <int> & <int> & <int> & <int> & <int> & <int> & <int> & <int> & <int> & <int> & <int> & <int> & <int> & <int> & <int> & <int> & <int> & <int> & <int> & <int> & <int> & <int> & <int> & <int> & <int> & <int> & <int> & <int> & <int> & <int> & <int> & <int> & <int> & <int> & <int> & <int> & <int> & <int> & <int> & <int> & <int> & <int> & <int> & <int> & <int> & <int> & <int> & <int> & <int> & <int> & <int> & <int> & <int> & <int> & <int> & <int> & <int> & <int> & <int> & <int> & <int> & <int> & <int> & <int> & <int> & <int> & <int> & <int> & <int> & <int> & <int> & <int> & <int> & <int> & <int> & <int> & <int> & <int> & <int> & <int> & <int> & <int> & <int> & <int> & <int> & <int> & <int> & <int> & <int> & <int> & <int> & <int> & <int> & <int> & <int> & <int> & <int> & <int> & <int> & <int> & <int> & <int> & <int> & <int> & <int> & <int> & <int> & <int> & <int> & <int> & <int> & <int> & <int> & <int> & <int> & <int> & <int> & <int>\\\\\n",
       "\\hline\n",
       "\t 300 & 0 & 0 & 0 & 0 & 0 & 0 & 0 & 0 & 0 & 0 & 0 & 0 & 0 & 0 & 0 & 0 & 0 & 0 & 0 & 0 & 0 & 0 & 0 & 0 & 0 & 0 & 0 & 0 & 0 & 0 & 0 & 0 & 0 & 0 & 0 & 0 & 0 & 0 & 0 & 0 & 0 & 0 & 0 & 0 & 0 & 0 & 0 & 0 & 0 & 0 & 0 & 0 & 0 & 0 & 0 & 0 & 0 & 0 & 0 & 0 & 0 & 0 & 0 & 0 & 0 & 0 & 0 & 1 & 0 & 0 & 0 & 0 & 0 & 0 & 0 & 0 & 0 & 0 & 0 & 0 & 0 & 0 & 0 & 0 & 0 & 0 & 0 & 0 & 0 & 0 & 0 & 0 & 0 & 0 & 0 & 0 & 0 & 0 & 0 & 0 & 0 & 0 & 0 & 0 & 0 & 0 & 0 & 0 & 0 & 0 & 0 & 0 & 0 & 0 & 0 & 0 & 0 & 0 & 0 & 0 & 0 & 0 & 0 & 0 & 0 & 0 & 0 & 0 & 0 & 0 & 0 & 0 & 0 & 0 & 0 & 0 & 0 & 0 & 0 & 0 & 0 & 0 & 0 & 0 & 0 & 0 & 0 & 0 & 0 & 0 & 0 & 0 & 0 & 0 & 0 & 0 & 0 & 0 & 0 & 0 & 0 & 0 & 0 & 0 & 0 & 0 & 0 & 0 & 0 & 1 & 0 & 0 & 0 & 0 & 0 & 0 & 0 & 0 & 0 & 0 & 0 & 0 & 0 & 0 & 0 & 0 & 0 & 0 & 0 & 0 & 0 & 0 & 0 & 0 & 0 & 0 & 0 & 0 & 0 & 0 & 0 & 0 & 0 & 0 & 0 & 0 & 0 & 0 & 0 & 0 & 0 & 0 & 0 & 0 & 0 & 0 & 0 & 0 & 0 & 0 & 0 & 0 & 0 & 0 & 0 & 0 & 0 & 0 & 0 & 0 & 0 & 0 & 0 & 0 & 1 & 0 & 0 & 0 & 0 & 0 & 0 & 0 & 0 & 0 & 0 & 0 & 0 & 0 & 0 & 0 & 0 & 0 & 0 & 0 & 0 & 0 & 0 & 0 & 0 & 0 & 0 & 0 & 0 & 0 & 0 & 12 & 12 & 0 & 1 & 0 & 0 & 0 & 1\\\\\n",
       "\t 575 & 0 & 0 & 0 & 0 & 0 & 0 & 0 & 0 & 0 & 0 & 0 & 0 & 0 & 0 & 0 & 0 & 0 & 0 & 0 & 0 & 0 & 0 & 0 & 0 & 0 & 0 & 0 & 0 & 0 & 0 & 0 & 0 & 0 & 0 & 0 & 0 & 0 & 0 & 0 & 0 & 0 & 0 & 0 & 0 & 0 & 0 & 0 & 0 & 0 & 0 & 0 & 0 & 0 & 0 & 0 & 0 & 0 & 0 & 0 & 0 & 0 & 0 & 0 & 0 & 0 & 0 & 0 & 0 & 0 & 0 & 0 & 0 & 0 & 0 & 0 & 0 & 0 & 0 & 0 & 0 & 0 & 0 & 0 & 0 & 0 & 0 & 0 & 0 & 0 & 0 & 0 & 0 & 0 & 0 & 0 & 0 & 0 & 0 & 0 & 0 & 0 & 0 & 0 & 0 & 0 & 0 & 0 & 0 & 0 & 0 & 0 & 0 & 0 & 0 & 0 & 0 & 0 & 0 & 0 & 0 & 0 & 0 & 0 & 0 & 0 & 0 & 0 & 0 & 0 & 0 & 0 & 0 & 0 & 0 & 1 & 0 & 0 & 0 & 0 & 0 & 0 & 0 & 0 & 0 & 0 & 0 & 0 & 0 & 0 & 0 & 0 & 0 & 0 & 0 & 0 & 0 & 0 & 0 & 0 & 0 & 0 & 0 & 0 & 0 & 0 & 0 & 0 & 0 & 0 & 0 & 0 & 0 & 0 & 0 & 0 & 0 & 1 & 0 & 0 & 0 & 0 & 0 & 0 & 0 & 0 & 0 & 0 & 0 & 0 & 0 & 0 & 0 & 0 & 0 & 0 & 0 & 0 & 0 & 0 & 0 & 0 & 0 & 0 & 0 & 0 & 0 & 0 & 0 & 0 & 0 & 0 & 0 & 0 & 0 & 0 & 0 & 0 & 0 & 0 & 0 & 0 & 0 & 0 & 0 & 0 & 0 & 0 & 0 & 0 & 0 & 0 & 0 & 0 & 0 & 1 & 0 & 0 & 0 & 0 & 0 & 0 & 0 & 0 & 0 & 0 & 0 & 0 & 0 & 0 & 0 & 0 & 0 & 0 & 0 & 0 & 0 & 0 & 0 & 0 & 0 & 0 & 0 & 0 & 0 & 0 & 11 & 14 & 0 & 1 & 0 & 0 & 0 & 2\\\\\n",
       "\t 150 & 0 & 0 & 0 & 0 & 0 & 0 & 0 & 0 & 0 & 0 & 0 & 0 & 0 & 0 & 0 & 0 & 0 & 0 & 0 & 0 & 0 & 0 & 0 & 0 & 0 & 0 & 0 & 0 & 0 & 0 & 0 & 0 & 0 & 0 & 0 & 0 & 0 & 0 & 0 & 0 & 0 & 0 & 0 & 0 & 0 & 0 & 0 & 0 & 0 & 0 & 0 & 0 & 0 & 0 & 0 & 0 & 0 & 0 & 0 & 0 & 0 & 0 & 0 & 0 & 0 & 0 & 0 & 0 & 0 & 0 & 0 & 0 & 0 & 0 & 0 & 0 & 0 & 0 & 0 & 0 & 0 & 0 & 0 & 0 & 0 & 0 & 0 & 0 & 0 & 0 & 0 & 0 & 0 & 0 & 0 & 0 & 0 & 0 & 0 & 0 & 0 & 0 & 0 & 0 & 0 & 0 & 0 & 0 & 0 & 0 & 0 & 0 & 0 & 0 & 0 & 0 & 0 & 0 & 0 & 0 & 0 & 0 & 0 & 0 & 0 & 0 & 0 & 0 & 0 & 0 & 0 & 0 & 0 & 0 & 0 & 0 & 0 & 0 & 0 & 0 & 0 & 0 & 0 & 0 & 0 & 0 & 0 & 0 & 1 & 0 & 0 & 0 & 0 & 0 & 0 & 0 & 0 & 0 & 0 & 0 & 0 & 0 & 0 & 0 & 0 & 0 & 0 & 0 & 0 & 0 & 0 & 0 & 0 & 0 & 0 & 0 & 1 & 0 & 0 & 0 & 0 & 0 & 0 & 0 & 0 & 0 & 0 & 0 & 0 & 0 & 0 & 0 & 0 & 0 & 0 & 0 & 0 & 0 & 0 & 0 & 0 & 0 & 0 & 0 & 0 & 0 & 0 & 0 & 0 & 1 & 0 & 0 & 0 & 0 & 0 & 0 & 0 & 0 & 0 & 0 & 0 & 0 & 0 & 0 & 0 & 0 & 0 & 0 & 0 & 0 & 0 & 0 & 0 & 0 & 0 & 0 & 0 & 0 & 0 & 0 & 0 & 0 & 0 & 0 & 0 & 0 & 0 & 0 & 0 & 0 & 0 & 0 & 0 & 0 & 0 & 0 & 0 & 0 & 0 & 0 & 0 & 0 & 0 & 0 & 0 & 43 &  6 & 1 & 0 & 0 & 0 & 0 & 1\\\\\n",
       "\t 200 & 0 & 0 & 0 & 0 & 0 & 0 & 0 & 0 & 0 & 0 & 0 & 0 & 0 & 0 & 0 & 0 & 0 & 0 & 0 & 0 & 0 & 0 & 0 & 0 & 0 & 0 & 0 & 0 & 0 & 0 & 0 & 0 & 0 & 0 & 0 & 0 & 0 & 0 & 0 & 0 & 0 & 0 & 0 & 0 & 0 & 0 & 0 & 0 & 0 & 0 & 0 & 0 & 1 & 0 & 0 & 0 & 0 & 0 & 0 & 0 & 0 & 0 & 0 & 0 & 0 & 0 & 0 & 0 & 0 & 0 & 0 & 0 & 0 & 0 & 0 & 0 & 0 & 0 & 0 & 0 & 0 & 0 & 0 & 0 & 0 & 0 & 0 & 0 & 0 & 0 & 0 & 0 & 0 & 0 & 0 & 0 & 0 & 0 & 0 & 0 & 0 & 0 & 0 & 0 & 0 & 0 & 0 & 0 & 0 & 0 & 0 & 0 & 0 & 0 & 0 & 0 & 0 & 0 & 0 & 0 & 0 & 0 & 0 & 0 & 0 & 0 & 0 & 0 & 0 & 0 & 0 & 0 & 0 & 0 & 0 & 0 & 0 & 0 & 0 & 0 & 0 & 0 & 0 & 0 & 0 & 0 & 0 & 0 & 0 & 0 & 0 & 0 & 0 & 0 & 0 & 0 & 0 & 0 & 0 & 0 & 0 & 0 & 0 & 0 & 1 & 0 & 0 & 0 & 0 & 0 & 0 & 0 & 0 & 0 & 0 & 0 & 0 & 0 & 0 & 0 & 0 & 0 & 0 & 0 & 0 & 0 & 0 & 0 & 0 & 0 & 0 & 0 & 0 & 0 & 0 & 0 & 0 & 0 & 0 & 0 & 0 & 0 & 0 & 0 & 0 & 0 & 0 & 0 & 0 & 0 & 0 & 0 & 0 & 0 & 0 & 0 & 0 & 0 & 0 & 0 & 0 & 0 & 0 & 0 & 0 & 0 & 0 & 0 & 0 & 0 & 0 & 0 & 0 & 0 & 1 & 0 & 0 & 0 & 0 & 0 & 0 & 0 & 0 & 0 & 0 & 0 & 0 & 0 & 0 & 0 & 0 & 0 & 0 & 0 & 0 & 0 & 0 & 0 & 0 & 0 & 0 & 0 & 0 & 0 & 0 & 11 &  8 & 0 & 1 & 0 & 0 & 0 & 1\\\\\n",
       "\t 400 & 0 & 0 & 0 & 0 & 0 & 0 & 0 & 0 & 0 & 0 & 0 & 0 & 0 & 0 & 0 & 0 & 0 & 0 & 0 & 0 & 0 & 0 & 0 & 0 & 0 & 0 & 0 & 0 & 0 & 0 & 0 & 0 & 0 & 0 & 0 & 0 & 0 & 0 & 0 & 0 & 0 & 0 & 0 & 0 & 0 & 0 & 0 & 0 & 0 & 0 & 0 & 0 & 0 & 0 & 0 & 0 & 0 & 0 & 0 & 0 & 0 & 0 & 0 & 0 & 0 & 0 & 0 & 0 & 0 & 0 & 0 & 0 & 0 & 0 & 0 & 0 & 0 & 0 & 0 & 0 & 0 & 0 & 0 & 0 & 0 & 0 & 0 & 0 & 0 & 0 & 0 & 0 & 0 & 0 & 0 & 1 & 0 & 0 & 0 & 0 & 0 & 0 & 0 & 0 & 0 & 0 & 0 & 0 & 0 & 0 & 0 & 0 & 0 & 0 & 0 & 0 & 0 & 0 & 0 & 0 & 0 & 0 & 0 & 0 & 0 & 0 & 0 & 0 & 0 & 0 & 0 & 0 & 0 & 0 & 0 & 0 & 0 & 0 & 0 & 0 & 0 & 0 & 0 & 0 & 0 & 0 & 0 & 0 & 0 & 0 & 0 & 0 & 0 & 0 & 0 & 0 & 0 & 0 & 0 & 0 & 0 & 0 & 0 & 0 & 0 & 0 & 0 & 0 & 0 & 1 & 0 & 0 & 0 & 0 & 0 & 0 & 0 & 0 & 0 & 0 & 0 & 0 & 0 & 0 & 0 & 0 & 0 & 0 & 0 & 0 & 0 & 0 & 0 & 0 & 0 & 0 & 0 & 0 & 0 & 0 & 0 & 0 & 0 & 0 & 0 & 0 & 0 & 0 & 0 & 0 & 0 & 0 & 0 & 0 & 0 & 0 & 0 & 0 & 0 & 0 & 0 & 0 & 0 & 0 & 0 & 0 & 0 & 0 & 0 & 0 & 0 & 0 & 0 & 0 & 1 & 0 & 0 & 0 & 0 & 0 & 0 & 0 & 0 & 0 & 0 & 0 & 0 & 0 & 0 & 0 & 0 & 0 & 0 & 0 & 0 & 0 & 0 & 0 & 0 & 0 & 0 & 0 & 0 & 0 & 0 & 14 & 16 & 0 & 0 & 1 & 0 & 0 & 1\\\\\n",
       "\t 250 & 0 & 0 & 0 & 0 & 0 & 0 & 0 & 0 & 0 & 0 & 0 & 0 & 0 & 0 & 0 & 0 & 0 & 0 & 0 & 0 & 0 & 0 & 0 & 0 & 0 & 0 & 0 & 0 & 0 & 0 & 0 & 0 & 0 & 0 & 0 & 0 & 0 & 0 & 0 & 0 & 0 & 0 & 0 & 0 & 0 & 0 & 0 & 0 & 0 & 0 & 0 & 0 & 0 & 0 & 0 & 0 & 0 & 0 & 0 & 0 & 0 & 0 & 0 & 0 & 0 & 0 & 0 & 0 & 0 & 0 & 0 & 0 & 0 & 0 & 0 & 0 & 0 & 0 & 0 & 0 & 0 & 0 & 0 & 0 & 0 & 0 & 0 & 0 & 0 & 0 & 0 & 0 & 0 & 0 & 0 & 0 & 0 & 0 & 0 & 0 & 0 & 0 & 0 & 0 & 0 & 0 & 0 & 0 & 0 & 0 & 0 & 0 & 0 & 0 & 0 & 0 & 0 & 0 & 0 & 0 & 0 & 0 & 0 & 0 & 0 & 0 & 0 & 0 & 0 & 0 & 0 & 0 & 0 & 0 & 0 & 0 & 1 & 0 & 0 & 0 & 0 & 0 & 0 & 0 & 0 & 0 & 0 & 0 & 0 & 0 & 0 & 0 & 0 & 0 & 0 & 0 & 0 & 0 & 0 & 0 & 0 & 0 & 0 & 0 & 0 & 0 & 0 & 0 & 0 & 0 & 0 & 0 & 0 & 0 & 0 & 1 & 0 & 0 & 0 & 0 & 0 & 0 & 0 & 0 & 0 & 0 & 0 & 0 & 0 & 0 & 0 & 0 & 0 & 0 & 0 & 0 & 0 & 0 & 0 & 0 & 0 & 0 & 0 & 0 & 0 & 0 & 0 & 0 & 0 & 0 & 0 & 0 & 1 & 0 & 0 & 0 & 0 & 0 & 0 & 0 & 0 & 0 & 0 & 0 & 0 & 0 & 0 & 0 & 0 & 0 & 0 & 0 & 0 & 0 & 0 & 0 & 0 & 0 & 0 & 0 & 0 & 0 & 0 & 0 & 0 & 0 & 0 & 0 & 0 & 0 & 0 & 0 & 0 & 0 & 0 & 0 & 0 & 0 & 0 & 0 & 0 & 0 & 0 & 0 & 0 &  4 &  6 & 0 & 1 & 0 & 0 & 0 & 1\\\\\n",
       "\\end{tabular}\n"
      ],
      "text/markdown": [
       "\n",
       "A data.frame: 6 × 274\n",
       "\n",
       "| loan_amount &lt;dbl&gt; | activity_Adult.Care &lt;int&gt; | activity_Agriculture &lt;int&gt; | activity_Air.Conditioning &lt;int&gt; | activity_Animal.Sales &lt;int&gt; | activity_Aquaculture &lt;int&gt; | activity_Arts &lt;int&gt; | activity_Auto.Repair &lt;int&gt; | activity_Bakery &lt;int&gt; | activity_Balut.Making &lt;int&gt; | ... ... | country_code_ZM &lt;int&gt; | country_code_ZW &lt;int&gt; | term_in_months &lt;int&gt; | lender_count &lt;int&gt; | repayment_interval_bullet &lt;int&gt; | repayment_interval_irregular &lt;int&gt; | repayment_interval_monthly &lt;int&gt; | repayment_interval_weekly &lt;int&gt; | count_male &lt;int&gt; | count_female &lt;int&gt; |\n",
       "|---|---|---|---|---|---|---|---|---|---|---|---|---|---|---|---|---|---|---|---|---|\n",
       "| 300 | 0 | 0 | 0 | 0 | 0 | 0 | 0 | 0 | 0 | ... | 0 | 0 | 12 | 12 | 0 | 1 | 0 | 0 | 0 | 1 |\n",
       "| 575 | 0 | 0 | 0 | 0 | 0 | 0 | 0 | 0 | 0 | ... | 0 | 0 | 11 | 14 | 0 | 1 | 0 | 0 | 0 | 2 |\n",
       "| 150 | 0 | 0 | 0 | 0 | 0 | 0 | 0 | 0 | 0 | ... | 0 | 0 | 43 |  6 | 1 | 0 | 0 | 0 | 0 | 1 |\n",
       "| 200 | 0 | 0 | 0 | 0 | 0 | 0 | 0 | 0 | 0 | ... | 0 | 0 | 11 |  8 | 0 | 1 | 0 | 0 | 0 | 1 |\n",
       "| 400 | 0 | 0 | 0 | 0 | 0 | 0 | 0 | 0 | 0 | ... | 0 | 0 | 14 | 16 | 0 | 0 | 1 | 0 | 0 | 1 |\n",
       "| 250 | 0 | 0 | 0 | 0 | 0 | 0 | 0 | 0 | 0 | ... | 0 | 0 |  4 |  6 | 0 | 1 | 0 | 0 | 0 | 1 |\n",
       "\n"
      ],
      "text/plain": [
       "  loan_amount activity_Adult.Care activity_Agriculture\n",
       "1 300         0                   0                   \n",
       "2 575         0                   0                   \n",
       "3 150         0                   0                   \n",
       "4 200         0                   0                   \n",
       "5 400         0                   0                   \n",
       "6 250         0                   0                   \n",
       "  activity_Air.Conditioning activity_Animal.Sales activity_Aquaculture\n",
       "1 0                         0                     0                   \n",
       "2 0                         0                     0                   \n",
       "3 0                         0                     0                   \n",
       "4 0                         0                     0                   \n",
       "5 0                         0                     0                   \n",
       "6 0                         0                     0                   \n",
       "  activity_Arts activity_Auto.Repair activity_Bakery activity_Balut.Making ...\n",
       "1 0             0                    0               0                     ...\n",
       "2 0             0                    0               0                     ...\n",
       "3 0             0                    0               0                     ...\n",
       "4 0             0                    0               0                     ...\n",
       "5 0             0                    0               0                     ...\n",
       "6 0             0                    0               0                     ...\n",
       "  country_code_ZM country_code_ZW term_in_months lender_count\n",
       "1 0               0               12             12          \n",
       "2 0               0               11             14          \n",
       "3 0               0               43              6          \n",
       "4 0               0               11              8          \n",
       "5 0               0               14             16          \n",
       "6 0               0                4              6          \n",
       "  repayment_interval_bullet repayment_interval_irregular\n",
       "1 0                         1                           \n",
       "2 0                         1                           \n",
       "3 1                         0                           \n",
       "4 0                         1                           \n",
       "5 0                         0                           \n",
       "6 0                         1                           \n",
       "  repayment_interval_monthly repayment_interval_weekly count_male count_female\n",
       "1 0                          0                         0          1           \n",
       "2 0                          0                         0          2           \n",
       "3 0                          0                         0          1           \n",
       "4 0                          0                         0          1           \n",
       "5 1                          0                         0          1           \n",
       "6 0                          0                         0          1           "
      ]
     },
     "metadata": {},
     "output_type": "display_data"
    }
   ],
   "source": [
    "head(loan.cod)"
   ]
  },
  {
   "cell_type": "code",
   "execution_count": 11,
   "metadata": {},
   "outputs": [
    {
     "data": {
      "text/html": [
       "<table>\n",
       "<caption>A data.frame: 6 × 274</caption>\n",
       "<thead>\n",
       "\t<tr><th scope=col>loan_amount</th><th scope=col>activity_Adult.Care</th><th scope=col>activity_Agriculture</th><th scope=col>activity_Air.Conditioning</th><th scope=col>activity_Animal.Sales</th><th scope=col>activity_Aquaculture</th><th scope=col>activity_Arts</th><th scope=col>activity_Auto.Repair</th><th scope=col>activity_Bakery</th><th scope=col>activity_Balut.Making</th><th scope=col>...</th><th scope=col>country_code_ZM</th><th scope=col>country_code_ZW</th><th scope=col>term_in_months</th><th scope=col>lender_count</th><th scope=col>repayment_interval_bullet</th><th scope=col>repayment_interval_irregular</th><th scope=col>repayment_interval_monthly</th><th scope=col>repayment_interval_weekly</th><th scope=col>count_male</th><th scope=col>count_female</th></tr>\n",
       "\t<tr><th scope=col>&lt;dbl&gt;</th><th scope=col>&lt;int&gt;</th><th scope=col>&lt;int&gt;</th><th scope=col>&lt;int&gt;</th><th scope=col>&lt;int&gt;</th><th scope=col>&lt;int&gt;</th><th scope=col>&lt;int&gt;</th><th scope=col>&lt;int&gt;</th><th scope=col>&lt;int&gt;</th><th scope=col>&lt;int&gt;</th><th scope=col>...</th><th scope=col>&lt;int&gt;</th><th scope=col>&lt;int&gt;</th><th scope=col>&lt;dbl&gt;</th><th scope=col>&lt;dbl&gt;</th><th scope=col>&lt;int&gt;</th><th scope=col>&lt;int&gt;</th><th scope=col>&lt;int&gt;</th><th scope=col>&lt;int&gt;</th><th scope=col>&lt;dbl&gt;</th><th scope=col>&lt;dbl&gt;</th></tr>\n",
       "</thead>\n",
       "<tbody>\n",
       "\t<tr><td>-0.4525029</td><td>0</td><td>0</td><td>0</td><td>0</td><td>0</td><td>0</td><td>0</td><td>0</td><td>0</td><td>...</td><td>0</td><td>0</td><td>-0.20223722</td><td>-0.3018643</td><td>0</td><td>1</td><td>0</td><td>0</td><td>-0.3668482</td><td>-0.1964635</td></tr>\n",
       "\t<tr><td>-0.2230800</td><td>0</td><td>0</td><td>0</td><td>0</td><td>0</td><td>0</td><td>0</td><td>0</td><td>0</td><td>...</td><td>0</td><td>0</td><td>-0.31853091</td><td>-0.2315891</td><td>0</td><td>1</td><td>0</td><td>0</td><td>-0.3668482</td><td> 0.1331198</td></tr>\n",
       "\t<tr><td>-0.5776426</td><td>0</td><td>0</td><td>0</td><td>0</td><td>0</td><td>0</td><td>0</td><td>0</td><td>0</td><td>...</td><td>0</td><td>0</td><td> 3.40286689</td><td>-0.5126898</td><td>1</td><td>0</td><td>0</td><td>0</td><td>-0.3668482</td><td>-0.1964635</td></tr>\n",
       "\t<tr><td>-0.5359293</td><td>0</td><td>0</td><td>0</td><td>0</td><td>0</td><td>0</td><td>0</td><td>0</td><td>0</td><td>...</td><td>0</td><td>0</td><td>-0.31853091</td><td>-0.4424147</td><td>0</td><td>1</td><td>0</td><td>0</td><td>-0.3668482</td><td>-0.1964635</td></tr>\n",
       "\t<tr><td>-0.3690764</td><td>0</td><td>0</td><td>0</td><td>0</td><td>0</td><td>0</td><td>0</td><td>0</td><td>0</td><td>...</td><td>0</td><td>0</td><td> 0.03035014</td><td>-0.1613139</td><td>0</td><td>0</td><td>1</td><td>0</td><td>-0.3668482</td><td>-0.1964635</td></tr>\n",
       "\t<tr><td>-0.4942161</td><td>0</td><td>0</td><td>0</td><td>0</td><td>0</td><td>0</td><td>0</td><td>0</td><td>0</td><td>...</td><td>0</td><td>0</td><td>-1.13258667</td><td>-0.5126898</td><td>0</td><td>1</td><td>0</td><td>0</td><td>-0.3668482</td><td>-0.1964635</td></tr>\n",
       "</tbody>\n",
       "</table>\n"
      ],
      "text/latex": [
       "A data.frame: 6 × 274\n",
       "\\begin{tabular}{r|llllllllllllllllllllllllllllllllllllllllllllllllllllllllllllllllllllllllllllllllllllllllllllllllllllllllllllllllllllllllllllllllllllllllllllllllllllllllllllllllllllllllllllllllllllllllllllllllllllllllllllllllllllllllllllllllllllllllllllllllllllllllllllllllllllllllllllllllll}\n",
       " loan\\_amount & activity\\_Adult.Care & activity\\_Agriculture & activity\\_Air.Conditioning & activity\\_Animal.Sales & activity\\_Aquaculture & activity\\_Arts & activity\\_Auto.Repair & activity\\_Bakery & activity\\_Balut.Making & activity\\_Barber.Shop & activity\\_Beauty.Salon & activity\\_Beekeeping & activity\\_Beverages & activity\\_Bicycle.Repair & activity\\_Bicycle.Sales & activity\\_Blacksmith & activity\\_Bookbinding & activity\\_Bookstore & activity\\_Bricks & activity\\_Butcher.Shop & activity\\_Cafe & activity\\_Call.Center & activity\\_Carpentry & activity\\_Catering & activity\\_Cattle & activity\\_Celebrations & activity\\_Cement & activity\\_Cereals & activity\\_Charcoal.Sales & activity\\_Cheese.Making & activity\\_Child.Care & activity\\_Cleaning.Services & activity\\_Cloth...Dressmaking.Supplies & activity\\_Clothing & activity\\_Clothing.Sales & activity\\_Cobbler & activity\\_Communications & activity\\_Computer & activity\\_Computers & activity\\_Construction & activity\\_Construction.Supplies & activity\\_Consumer.Goods & activity\\_Cosmetics.Sales & activity\\_Crafts & activity\\_Dairy & activity\\_Decorations.Sales & activity\\_Dental & activity\\_Education.provider & activity\\_Electrical.Goods & activity\\_Electrician & activity\\_Electronics.Repair & activity\\_Electronics.Sales & activity\\_Embroidery & activity\\_Energy & activity\\_Entertainment & activity\\_Event.Planning & activity\\_Farm.Supplies & activity\\_Farming & activity\\_Film & activity\\_Fish.Selling & activity\\_Fishing & activity\\_Florist & activity\\_Flowers & activity\\_Food & activity\\_Food.Market & activity\\_Food.Production.Sales & activity\\_Food.Stall & activity\\_Fruits...Vegetables & activity\\_Fuel.Firewood & activity\\_Funerals & activity\\_Furniture.Making & activity\\_Games & activity\\_General.Store & activity\\_Goods.Distribution & activity\\_Grocery.Store & activity\\_Hardware & activity\\_Health & activity\\_Higher.education.costs & activity\\_Home.Appliances & activity\\_Home.Energy & activity\\_Home.Products.Sales & activity\\_Hotel & activity\\_Internet.Cafe & activity\\_Jewelry & activity\\_Knitting & activity\\_Land.Rental & activity\\_Landscaping...Gardening & activity\\_Laundry & activity\\_Liquor.Store...Off.License & activity\\_Livestock & activity\\_Machine.Shop & activity\\_Machinery.Rental & activity\\_Manufacturing & activity\\_Medical.Clinic & activity\\_Metal.Shop & activity\\_Milk.Sales & activity\\_Mobile.Phones & activity\\_Mobile.Transactions & activity\\_Motorcycle.Repair & activity\\_Motorcycle.Transport & activity\\_Movie.Tapes...DVDs & activity\\_Music.Discs...Tapes & activity\\_Musical.Instruments & activity\\_Musical.Performance & activity\\_Natural.Medicines & activity\\_Office.Supplies & activity\\_Paper.Sales & activity\\_Party.Supplies & activity\\_Patchwork & activity\\_Perfumes & activity\\_Personal.Care.Products & activity\\_Personal.Expenses & activity\\_Personal.Housing.Expenses & activity\\_Personal.Medical.Expenses & activity\\_Personal.Products.Sales & activity\\_Pharmacy & activity\\_Phone.Accessories & activity\\_Phone.Repair & activity\\_Phone.Use.Sales & activity\\_Photography & activity\\_Pigs & activity\\_Plastics.Sales & activity\\_Poultry & activity\\_Primary.secondary.school.costs & activity\\_Printing & activity\\_Property & activity\\_Pub & activity\\_Quarrying & activity\\_Recycled.Materials & activity\\_Recycling & activity\\_Religious.Articles & activity\\_Renewable.Energy.Products & activity\\_Restaurant & activity\\_Retail & activity\\_Rickshaw & activity\\_Secretarial.Services & activity\\_Services & activity\\_Sewing & activity\\_Shoe.Sales & activity\\_Souvenir.Sales & activity\\_Spare.Parts & activity\\_Sporting.Good.Sales & activity\\_Tailoring & activity\\_Taxi & activity\\_Technology & activity\\_Textiles & activity\\_Timber.Sales & activity\\_Tourism & activity\\_Transportation & activity\\_Traveling.Sales & activity\\_Upholstery & activity\\_Used.Clothing & activity\\_Used.Shoes & activity\\_Utilities & activity\\_Vehicle & activity\\_Vehicle.Repairs & activity\\_Veterinary.Sales & activity\\_Waste.Management & activity\\_Water.Distribution & activity\\_Weaving & activity\\_Wedding.Expenses & activity\\_Well.digging & activity\\_Wholesale & sector\\_Agriculture & sector\\_Arts & sector\\_Clothing & sector\\_Construction & sector\\_Education & sector\\_Entertainment & sector\\_Food & sector\\_Health & sector\\_Housing & sector\\_Manufacturing & sector\\_Personal.Use & sector\\_Retail & sector\\_Services & sector\\_Transportation & sector\\_Wholesale & country\\_code\\_ & country\\_code\\_AF & country\\_code\\_AL & country\\_code\\_AM & country\\_code\\_AZ & country\\_code\\_BF & country\\_code\\_BI & country\\_code\\_BJ & country\\_code\\_BO & country\\_code\\_BR & country\\_code\\_BT & country\\_code\\_BZ & country\\_code\\_CD & country\\_code\\_CG & country\\_code\\_CI & country\\_code\\_CL & country\\_code\\_CM & country\\_code\\_CN & country\\_code\\_CO & country\\_code\\_CR & country\\_code\\_DO & country\\_code\\_EC & country\\_code\\_EG & country\\_code\\_GE & country\\_code\\_GH & country\\_code\\_GT & country\\_code\\_GU & country\\_code\\_HN & country\\_code\\_HT & country\\_code\\_ID & country\\_code\\_IL & country\\_code\\_IN & country\\_code\\_IQ & country\\_code\\_JO & country\\_code\\_KE & country\\_code\\_KG & country\\_code\\_KH & country\\_code\\_LA & country\\_code\\_LB & country\\_code\\_LR & country\\_code\\_LS & country\\_code\\_MD & country\\_code\\_MG & country\\_code\\_ML & country\\_code\\_MM & country\\_code\\_MN & country\\_code\\_MR & country\\_code\\_MW & country\\_code\\_MX & country\\_code\\_MZ & country\\_code\\_NG & country\\_code\\_NI & country\\_code\\_NP & country\\_code\\_PA & country\\_code\\_PE & country\\_code\\_PH & country\\_code\\_PK & country\\_code\\_PR & country\\_code\\_PS & country\\_code\\_PY & country\\_code\\_RW & country\\_code\\_SB & country\\_code\\_SL & country\\_code\\_SN & country\\_code\\_SO & country\\_code\\_SR & country\\_code\\_SS & country\\_code\\_SV & country\\_code\\_TG & country\\_code\\_TH & country\\_code\\_TJ & country\\_code\\_TL & country\\_code\\_TR & country\\_code\\_TZ & country\\_code\\_UA & country\\_code\\_UG & country\\_code\\_US & country\\_code\\_VC & country\\_code\\_VI & country\\_code\\_VN & country\\_code\\_VU & country\\_code\\_WS & country\\_code\\_XK & country\\_code\\_YE & country\\_code\\_ZA & country\\_code\\_ZM & country\\_code\\_ZW & term\\_in\\_months & lender\\_count & repayment\\_interval\\_bullet & repayment\\_interval\\_irregular & repayment\\_interval\\_monthly & repayment\\_interval\\_weekly & count\\_male & count\\_female\\\\\n",
       " <dbl> & <int> & <int> & <int> & <int> & <int> & <int> & <int> & <int> & <int> & <int> & <int> & <int> & <int> & <int> & <int> & <int> & <int> & <int> & <int> & <int> & <int> & <int> & <int> & <int> & <int> & <int> & <int> & <int> & <int> & <int> & <int> & <int> & <int> & <int> & <int> & <int> & <int> & <int> & <int> & <int> & <int> & <int> & <int> & <int> & <int> & <int> & <int> & <int> & <int> & <int> & <int> & <int> & <int> & <int> & <int> & <int> & <int> & <int> & <int> & <int> & <int> & <int> & <int> & <int> & <int> & <int> & <int> & <int> & <int> & <int> & <int> & <int> & <int> & <int> & <int> & <int> & <int> & <int> & <int> & <int> & <int> & <int> & <int> & <int> & <int> & <int> & <int> & <int> & <int> & <int> & <int> & <int> & <int> & <int> & <int> & <int> & <int> & <int> & <int> & <int> & <int> & <int> & <int> & <int> & <int> & <int> & <int> & <int> & <int> & <int> & <int> & <int> & <int> & <int> & <int> & <int> & <int> & <int> & <int> & <int> & <int> & <int> & <int> & <int> & <int> & <int> & <int> & <int> & <int> & <int> & <int> & <int> & <int> & <int> & <int> & <int> & <int> & <int> & <int> & <int> & <int> & <int> & <int> & <int> & <int> & <int> & <int> & <int> & <int> & <int> & <int> & <int> & <int> & <int> & <int> & <int> & <int> & <int> & <int> & <int> & <int> & <int> & <int> & <int> & <int> & <int> & <int> & <int> & <int> & <int> & <int> & <int> & <int> & <int> & <int> & <int> & <int> & <int> & <int> & <int> & <int> & <int> & <int> & <int> & <int> & <int> & <int> & <int> & <int> & <int> & <int> & <int> & <int> & <int> & <int> & <int> & <int> & <int> & <int> & <int> & <int> & <int> & <int> & <int> & <int> & <int> & <int> & <int> & <int> & <int> & <int> & <int> & <int> & <int> & <int> & <int> & <int> & <int> & <int> & <int> & <int> & <int> & <int> & <int> & <int> & <int> & <int> & <int> & <int> & <int> & <int> & <int> & <int> & <int> & <int> & <int> & <int> & <int> & <int> & <int> & <int> & <int> & <int> & <int> & <int> & <int> & <int> & <int> & <int> & <int> & <int> & <int> & <int> & <int> & <int> & <int> & <int> & <int> & <int> & <int> & <int> & <int> & <int> & <int> & <int> & <dbl> & <dbl> & <int> & <int> & <int> & <int> & <dbl> & <dbl>\\\\\n",
       "\\hline\n",
       "\t -0.4525029 & 0 & 0 & 0 & 0 & 0 & 0 & 0 & 0 & 0 & 0 & 0 & 0 & 0 & 0 & 0 & 0 & 0 & 0 & 0 & 0 & 0 & 0 & 0 & 0 & 0 & 0 & 0 & 0 & 0 & 0 & 0 & 0 & 0 & 0 & 0 & 0 & 0 & 0 & 0 & 0 & 0 & 0 & 0 & 0 & 0 & 0 & 0 & 0 & 0 & 0 & 0 & 0 & 0 & 0 & 0 & 0 & 0 & 0 & 0 & 0 & 0 & 0 & 0 & 0 & 0 & 0 & 0 & 1 & 0 & 0 & 0 & 0 & 0 & 0 & 0 & 0 & 0 & 0 & 0 & 0 & 0 & 0 & 0 & 0 & 0 & 0 & 0 & 0 & 0 & 0 & 0 & 0 & 0 & 0 & 0 & 0 & 0 & 0 & 0 & 0 & 0 & 0 & 0 & 0 & 0 & 0 & 0 & 0 & 0 & 0 & 0 & 0 & 0 & 0 & 0 & 0 & 0 & 0 & 0 & 0 & 0 & 0 & 0 & 0 & 0 & 0 & 0 & 0 & 0 & 0 & 0 & 0 & 0 & 0 & 0 & 0 & 0 & 0 & 0 & 0 & 0 & 0 & 0 & 0 & 0 & 0 & 0 & 0 & 0 & 0 & 0 & 0 & 0 & 0 & 0 & 0 & 0 & 0 & 0 & 0 & 0 & 0 & 0 & 0 & 0 & 0 & 0 & 0 & 0 & 1 & 0 & 0 & 0 & 0 & 0 & 0 & 0 & 0 & 0 & 0 & 0 & 0 & 0 & 0 & 0 & 0 & 0 & 0 & 0 & 0 & 0 & 0 & 0 & 0 & 0 & 0 & 0 & 0 & 0 & 0 & 0 & 0 & 0 & 0 & 0 & 0 & 0 & 0 & 0 & 0 & 0 & 0 & 0 & 0 & 0 & 0 & 0 & 0 & 0 & 0 & 0 & 0 & 0 & 0 & 0 & 0 & 0 & 0 & 0 & 0 & 0 & 0 & 0 & 0 & 1 & 0 & 0 & 0 & 0 & 0 & 0 & 0 & 0 & 0 & 0 & 0 & 0 & 0 & 0 & 0 & 0 & 0 & 0 & 0 & 0 & 0 & 0 & 0 & 0 & 0 & 0 & 0 & 0 & 0 & 0 & -0.20223722 & -0.3018643 & 0 & 1 & 0 & 0 & -0.3668482 & -0.1964635\\\\\n",
       "\t -0.2230800 & 0 & 0 & 0 & 0 & 0 & 0 & 0 & 0 & 0 & 0 & 0 & 0 & 0 & 0 & 0 & 0 & 0 & 0 & 0 & 0 & 0 & 0 & 0 & 0 & 0 & 0 & 0 & 0 & 0 & 0 & 0 & 0 & 0 & 0 & 0 & 0 & 0 & 0 & 0 & 0 & 0 & 0 & 0 & 0 & 0 & 0 & 0 & 0 & 0 & 0 & 0 & 0 & 0 & 0 & 0 & 0 & 0 & 0 & 0 & 0 & 0 & 0 & 0 & 0 & 0 & 0 & 0 & 0 & 0 & 0 & 0 & 0 & 0 & 0 & 0 & 0 & 0 & 0 & 0 & 0 & 0 & 0 & 0 & 0 & 0 & 0 & 0 & 0 & 0 & 0 & 0 & 0 & 0 & 0 & 0 & 0 & 0 & 0 & 0 & 0 & 0 & 0 & 0 & 0 & 0 & 0 & 0 & 0 & 0 & 0 & 0 & 0 & 0 & 0 & 0 & 0 & 0 & 0 & 0 & 0 & 0 & 0 & 0 & 0 & 0 & 0 & 0 & 0 & 0 & 0 & 0 & 0 & 0 & 0 & 1 & 0 & 0 & 0 & 0 & 0 & 0 & 0 & 0 & 0 & 0 & 0 & 0 & 0 & 0 & 0 & 0 & 0 & 0 & 0 & 0 & 0 & 0 & 0 & 0 & 0 & 0 & 0 & 0 & 0 & 0 & 0 & 0 & 0 & 0 & 0 & 0 & 0 & 0 & 0 & 0 & 0 & 1 & 0 & 0 & 0 & 0 & 0 & 0 & 0 & 0 & 0 & 0 & 0 & 0 & 0 & 0 & 0 & 0 & 0 & 0 & 0 & 0 & 0 & 0 & 0 & 0 & 0 & 0 & 0 & 0 & 0 & 0 & 0 & 0 & 0 & 0 & 0 & 0 & 0 & 0 & 0 & 0 & 0 & 0 & 0 & 0 & 0 & 0 & 0 & 0 & 0 & 0 & 0 & 0 & 0 & 0 & 0 & 0 & 0 & 1 & 0 & 0 & 0 & 0 & 0 & 0 & 0 & 0 & 0 & 0 & 0 & 0 & 0 & 0 & 0 & 0 & 0 & 0 & 0 & 0 & 0 & 0 & 0 & 0 & 0 & 0 & 0 & 0 & 0 & 0 & -0.31853091 & -0.2315891 & 0 & 1 & 0 & 0 & -0.3668482 &  0.1331198\\\\\n",
       "\t -0.5776426 & 0 & 0 & 0 & 0 & 0 & 0 & 0 & 0 & 0 & 0 & 0 & 0 & 0 & 0 & 0 & 0 & 0 & 0 & 0 & 0 & 0 & 0 & 0 & 0 & 0 & 0 & 0 & 0 & 0 & 0 & 0 & 0 & 0 & 0 & 0 & 0 & 0 & 0 & 0 & 0 & 0 & 0 & 0 & 0 & 0 & 0 & 0 & 0 & 0 & 0 & 0 & 0 & 0 & 0 & 0 & 0 & 0 & 0 & 0 & 0 & 0 & 0 & 0 & 0 & 0 & 0 & 0 & 0 & 0 & 0 & 0 & 0 & 0 & 0 & 0 & 0 & 0 & 0 & 0 & 0 & 0 & 0 & 0 & 0 & 0 & 0 & 0 & 0 & 0 & 0 & 0 & 0 & 0 & 0 & 0 & 0 & 0 & 0 & 0 & 0 & 0 & 0 & 0 & 0 & 0 & 0 & 0 & 0 & 0 & 0 & 0 & 0 & 0 & 0 & 0 & 0 & 0 & 0 & 0 & 0 & 0 & 0 & 0 & 0 & 0 & 0 & 0 & 0 & 0 & 0 & 0 & 0 & 0 & 0 & 0 & 0 & 0 & 0 & 0 & 0 & 0 & 0 & 0 & 0 & 0 & 0 & 0 & 0 & 1 & 0 & 0 & 0 & 0 & 0 & 0 & 0 & 0 & 0 & 0 & 0 & 0 & 0 & 0 & 0 & 0 & 0 & 0 & 0 & 0 & 0 & 0 & 0 & 0 & 0 & 0 & 0 & 1 & 0 & 0 & 0 & 0 & 0 & 0 & 0 & 0 & 0 & 0 & 0 & 0 & 0 & 0 & 0 & 0 & 0 & 0 & 0 & 0 & 0 & 0 & 0 & 0 & 0 & 0 & 0 & 0 & 0 & 0 & 0 & 0 & 1 & 0 & 0 & 0 & 0 & 0 & 0 & 0 & 0 & 0 & 0 & 0 & 0 & 0 & 0 & 0 & 0 & 0 & 0 & 0 & 0 & 0 & 0 & 0 & 0 & 0 & 0 & 0 & 0 & 0 & 0 & 0 & 0 & 0 & 0 & 0 & 0 & 0 & 0 & 0 & 0 & 0 & 0 & 0 & 0 & 0 & 0 & 0 & 0 & 0 & 0 & 0 & 0 & 0 & 0 & 0 &  3.40286689 & -0.5126898 & 1 & 0 & 0 & 0 & -0.3668482 & -0.1964635\\\\\n",
       "\t -0.5359293 & 0 & 0 & 0 & 0 & 0 & 0 & 0 & 0 & 0 & 0 & 0 & 0 & 0 & 0 & 0 & 0 & 0 & 0 & 0 & 0 & 0 & 0 & 0 & 0 & 0 & 0 & 0 & 0 & 0 & 0 & 0 & 0 & 0 & 0 & 0 & 0 & 0 & 0 & 0 & 0 & 0 & 0 & 0 & 0 & 0 & 0 & 0 & 0 & 0 & 0 & 0 & 0 & 1 & 0 & 0 & 0 & 0 & 0 & 0 & 0 & 0 & 0 & 0 & 0 & 0 & 0 & 0 & 0 & 0 & 0 & 0 & 0 & 0 & 0 & 0 & 0 & 0 & 0 & 0 & 0 & 0 & 0 & 0 & 0 & 0 & 0 & 0 & 0 & 0 & 0 & 0 & 0 & 0 & 0 & 0 & 0 & 0 & 0 & 0 & 0 & 0 & 0 & 0 & 0 & 0 & 0 & 0 & 0 & 0 & 0 & 0 & 0 & 0 & 0 & 0 & 0 & 0 & 0 & 0 & 0 & 0 & 0 & 0 & 0 & 0 & 0 & 0 & 0 & 0 & 0 & 0 & 0 & 0 & 0 & 0 & 0 & 0 & 0 & 0 & 0 & 0 & 0 & 0 & 0 & 0 & 0 & 0 & 0 & 0 & 0 & 0 & 0 & 0 & 0 & 0 & 0 & 0 & 0 & 0 & 0 & 0 & 0 & 0 & 0 & 1 & 0 & 0 & 0 & 0 & 0 & 0 & 0 & 0 & 0 & 0 & 0 & 0 & 0 & 0 & 0 & 0 & 0 & 0 & 0 & 0 & 0 & 0 & 0 & 0 & 0 & 0 & 0 & 0 & 0 & 0 & 0 & 0 & 0 & 0 & 0 & 0 & 0 & 0 & 0 & 0 & 0 & 0 & 0 & 0 & 0 & 0 & 0 & 0 & 0 & 0 & 0 & 0 & 0 & 0 & 0 & 0 & 0 & 0 & 0 & 0 & 0 & 0 & 0 & 0 & 0 & 0 & 0 & 0 & 0 & 1 & 0 & 0 & 0 & 0 & 0 & 0 & 0 & 0 & 0 & 0 & 0 & 0 & 0 & 0 & 0 & 0 & 0 & 0 & 0 & 0 & 0 & 0 & 0 & 0 & 0 & 0 & 0 & 0 & 0 & 0 & -0.31853091 & -0.4424147 & 0 & 1 & 0 & 0 & -0.3668482 & -0.1964635\\\\\n",
       "\t -0.3690764 & 0 & 0 & 0 & 0 & 0 & 0 & 0 & 0 & 0 & 0 & 0 & 0 & 0 & 0 & 0 & 0 & 0 & 0 & 0 & 0 & 0 & 0 & 0 & 0 & 0 & 0 & 0 & 0 & 0 & 0 & 0 & 0 & 0 & 0 & 0 & 0 & 0 & 0 & 0 & 0 & 0 & 0 & 0 & 0 & 0 & 0 & 0 & 0 & 0 & 0 & 0 & 0 & 0 & 0 & 0 & 0 & 0 & 0 & 0 & 0 & 0 & 0 & 0 & 0 & 0 & 0 & 0 & 0 & 0 & 0 & 0 & 0 & 0 & 0 & 0 & 0 & 0 & 0 & 0 & 0 & 0 & 0 & 0 & 0 & 0 & 0 & 0 & 0 & 0 & 0 & 0 & 0 & 0 & 0 & 0 & 1 & 0 & 0 & 0 & 0 & 0 & 0 & 0 & 0 & 0 & 0 & 0 & 0 & 0 & 0 & 0 & 0 & 0 & 0 & 0 & 0 & 0 & 0 & 0 & 0 & 0 & 0 & 0 & 0 & 0 & 0 & 0 & 0 & 0 & 0 & 0 & 0 & 0 & 0 & 0 & 0 & 0 & 0 & 0 & 0 & 0 & 0 & 0 & 0 & 0 & 0 & 0 & 0 & 0 & 0 & 0 & 0 & 0 & 0 & 0 & 0 & 0 & 0 & 0 & 0 & 0 & 0 & 0 & 0 & 0 & 0 & 0 & 0 & 0 & 1 & 0 & 0 & 0 & 0 & 0 & 0 & 0 & 0 & 0 & 0 & 0 & 0 & 0 & 0 & 0 & 0 & 0 & 0 & 0 & 0 & 0 & 0 & 0 & 0 & 0 & 0 & 0 & 0 & 0 & 0 & 0 & 0 & 0 & 0 & 0 & 0 & 0 & 0 & 0 & 0 & 0 & 0 & 0 & 0 & 0 & 0 & 0 & 0 & 0 & 0 & 0 & 0 & 0 & 0 & 0 & 0 & 0 & 0 & 0 & 0 & 0 & 0 & 0 & 0 & 1 & 0 & 0 & 0 & 0 & 0 & 0 & 0 & 0 & 0 & 0 & 0 & 0 & 0 & 0 & 0 & 0 & 0 & 0 & 0 & 0 & 0 & 0 & 0 & 0 & 0 & 0 & 0 & 0 & 0 & 0 &  0.03035014 & -0.1613139 & 0 & 0 & 1 & 0 & -0.3668482 & -0.1964635\\\\\n",
       "\t -0.4942161 & 0 & 0 & 0 & 0 & 0 & 0 & 0 & 0 & 0 & 0 & 0 & 0 & 0 & 0 & 0 & 0 & 0 & 0 & 0 & 0 & 0 & 0 & 0 & 0 & 0 & 0 & 0 & 0 & 0 & 0 & 0 & 0 & 0 & 0 & 0 & 0 & 0 & 0 & 0 & 0 & 0 & 0 & 0 & 0 & 0 & 0 & 0 & 0 & 0 & 0 & 0 & 0 & 0 & 0 & 0 & 0 & 0 & 0 & 0 & 0 & 0 & 0 & 0 & 0 & 0 & 0 & 0 & 0 & 0 & 0 & 0 & 0 & 0 & 0 & 0 & 0 & 0 & 0 & 0 & 0 & 0 & 0 & 0 & 0 & 0 & 0 & 0 & 0 & 0 & 0 & 0 & 0 & 0 & 0 & 0 & 0 & 0 & 0 & 0 & 0 & 0 & 0 & 0 & 0 & 0 & 0 & 0 & 0 & 0 & 0 & 0 & 0 & 0 & 0 & 0 & 0 & 0 & 0 & 0 & 0 & 0 & 0 & 0 & 0 & 0 & 0 & 0 & 0 & 0 & 0 & 0 & 0 & 0 & 0 & 0 & 0 & 1 & 0 & 0 & 0 & 0 & 0 & 0 & 0 & 0 & 0 & 0 & 0 & 0 & 0 & 0 & 0 & 0 & 0 & 0 & 0 & 0 & 0 & 0 & 0 & 0 & 0 & 0 & 0 & 0 & 0 & 0 & 0 & 0 & 0 & 0 & 0 & 0 & 0 & 0 & 1 & 0 & 0 & 0 & 0 & 0 & 0 & 0 & 0 & 0 & 0 & 0 & 0 & 0 & 0 & 0 & 0 & 0 & 0 & 0 & 0 & 0 & 0 & 0 & 0 & 0 & 0 & 0 & 0 & 0 & 0 & 0 & 0 & 0 & 0 & 0 & 0 & 1 & 0 & 0 & 0 & 0 & 0 & 0 & 0 & 0 & 0 & 0 & 0 & 0 & 0 & 0 & 0 & 0 & 0 & 0 & 0 & 0 & 0 & 0 & 0 & 0 & 0 & 0 & 0 & 0 & 0 & 0 & 0 & 0 & 0 & 0 & 0 & 0 & 0 & 0 & 0 & 0 & 0 & 0 & 0 & 0 & 0 & 0 & 0 & 0 & 0 & 0 & 0 & 0 & -1.13258667 & -0.5126898 & 0 & 1 & 0 & 0 & -0.3668482 & -0.1964635\\\\\n",
       "\\end{tabular}\n"
      ],
      "text/markdown": [
       "\n",
       "A data.frame: 6 × 274\n",
       "\n",
       "| loan_amount &lt;dbl&gt; | activity_Adult.Care &lt;int&gt; | activity_Agriculture &lt;int&gt; | activity_Air.Conditioning &lt;int&gt; | activity_Animal.Sales &lt;int&gt; | activity_Aquaculture &lt;int&gt; | activity_Arts &lt;int&gt; | activity_Auto.Repair &lt;int&gt; | activity_Bakery &lt;int&gt; | activity_Balut.Making &lt;int&gt; | ... ... | country_code_ZM &lt;int&gt; | country_code_ZW &lt;int&gt; | term_in_months &lt;dbl&gt; | lender_count &lt;dbl&gt; | repayment_interval_bullet &lt;int&gt; | repayment_interval_irregular &lt;int&gt; | repayment_interval_monthly &lt;int&gt; | repayment_interval_weekly &lt;int&gt; | count_male &lt;dbl&gt; | count_female &lt;dbl&gt; |\n",
       "|---|---|---|---|---|---|---|---|---|---|---|---|---|---|---|---|---|---|---|---|---|\n",
       "| -0.4525029 | 0 | 0 | 0 | 0 | 0 | 0 | 0 | 0 | 0 | ... | 0 | 0 | -0.20223722 | -0.3018643 | 0 | 1 | 0 | 0 | -0.3668482 | -0.1964635 |\n",
       "| -0.2230800 | 0 | 0 | 0 | 0 | 0 | 0 | 0 | 0 | 0 | ... | 0 | 0 | -0.31853091 | -0.2315891 | 0 | 1 | 0 | 0 | -0.3668482 |  0.1331198 |\n",
       "| -0.5776426 | 0 | 0 | 0 | 0 | 0 | 0 | 0 | 0 | 0 | ... | 0 | 0 |  3.40286689 | -0.5126898 | 1 | 0 | 0 | 0 | -0.3668482 | -0.1964635 |\n",
       "| -0.5359293 | 0 | 0 | 0 | 0 | 0 | 0 | 0 | 0 | 0 | ... | 0 | 0 | -0.31853091 | -0.4424147 | 0 | 1 | 0 | 0 | -0.3668482 | -0.1964635 |\n",
       "| -0.3690764 | 0 | 0 | 0 | 0 | 0 | 0 | 0 | 0 | 0 | ... | 0 | 0 |  0.03035014 | -0.1613139 | 0 | 0 | 1 | 0 | -0.3668482 | -0.1964635 |\n",
       "| -0.4942161 | 0 | 0 | 0 | 0 | 0 | 0 | 0 | 0 | 0 | ... | 0 | 0 | -1.13258667 | -0.5126898 | 0 | 1 | 0 | 0 | -0.3668482 | -0.1964635 |\n",
       "\n"
      ],
      "text/plain": [
       "  loan_amount activity_Adult.Care activity_Agriculture\n",
       "1 -0.4525029  0                   0                   \n",
       "2 -0.2230800  0                   0                   \n",
       "3 -0.5776426  0                   0                   \n",
       "4 -0.5359293  0                   0                   \n",
       "5 -0.3690764  0                   0                   \n",
       "6 -0.4942161  0                   0                   \n",
       "  activity_Air.Conditioning activity_Animal.Sales activity_Aquaculture\n",
       "1 0                         0                     0                   \n",
       "2 0                         0                     0                   \n",
       "3 0                         0                     0                   \n",
       "4 0                         0                     0                   \n",
       "5 0                         0                     0                   \n",
       "6 0                         0                     0                   \n",
       "  activity_Arts activity_Auto.Repair activity_Bakery activity_Balut.Making ...\n",
       "1 0             0                    0               0                     ...\n",
       "2 0             0                    0               0                     ...\n",
       "3 0             0                    0               0                     ...\n",
       "4 0             0                    0               0                     ...\n",
       "5 0             0                    0               0                     ...\n",
       "6 0             0                    0               0                     ...\n",
       "  country_code_ZM country_code_ZW term_in_months lender_count\n",
       "1 0               0               -0.20223722    -0.3018643  \n",
       "2 0               0               -0.31853091    -0.2315891  \n",
       "3 0               0                3.40286689    -0.5126898  \n",
       "4 0               0               -0.31853091    -0.4424147  \n",
       "5 0               0                0.03035014    -0.1613139  \n",
       "6 0               0               -1.13258667    -0.5126898  \n",
       "  repayment_interval_bullet repayment_interval_irregular\n",
       "1 0                         1                           \n",
       "2 0                         1                           \n",
       "3 1                         0                           \n",
       "4 0                         1                           \n",
       "5 0                         0                           \n",
       "6 0                         1                           \n",
       "  repayment_interval_monthly repayment_interval_weekly count_male count_female\n",
       "1 0                          0                         -0.3668482 -0.1964635  \n",
       "2 0                          0                         -0.3668482  0.1331198  \n",
       "3 0                          0                         -0.3668482 -0.1964635  \n",
       "4 0                          0                         -0.3668482 -0.1964635  \n",
       "5 1                          0                         -0.3668482 -0.1964635  \n",
       "6 0                          0                         -0.3668482 -0.1964635  "
      ]
     },
     "metadata": {},
     "output_type": "display_data"
    }
   ],
   "source": [
    "head(loan.std)"
   ]
  },
  {
   "cell_type": "code",
   "execution_count": 12,
   "metadata": {},
   "outputs": [
    {
     "data": {
      "text/html": [
       "<table>\n",
       "<caption>A data.frame: 6 × 4</caption>\n",
       "<thead>\n",
       "\t<tr><th scope=col>X</th><th scope=col>x.LD1</th><th scope=col>x.LD2</th><th scope=col>x.LD3</th></tr>\n",
       "\t<tr><th scope=col>&lt;int&gt;</th><th scope=col>&lt;dbl&gt;</th><th scope=col>&lt;dbl&gt;</th><th scope=col>&lt;dbl&gt;</th></tr>\n",
       "</thead>\n",
       "<tbody>\n",
       "\t<tr><td>1</td><td> 0.08698293</td><td> 1.0403199</td><td>-0.5620902</td></tr>\n",
       "\t<tr><td>2</td><td> 0.49430152</td><td> 0.4325484</td><td>-0.1621515</td></tr>\n",
       "\t<tr><td>3</td><td>-2.64729503</td><td>-1.7889887</td><td> 0.1733267</td></tr>\n",
       "\t<tr><td>4</td><td>-0.40180061</td><td> 1.3212769</td><td>-0.1954248</td></tr>\n",
       "\t<tr><td>5</td><td>-0.55986093</td><td> 1.4317578</td><td>-0.4356361</td></tr>\n",
       "\t<tr><td>6</td><td>-0.25946506</td><td> 0.2280333</td><td> 5.5609877</td></tr>\n",
       "</tbody>\n",
       "</table>\n"
      ],
      "text/latex": [
       "A data.frame: 6 × 4\n",
       "\\begin{tabular}{r|llll}\n",
       " X & x.LD1 & x.LD2 & x.LD3\\\\\n",
       " <int> & <dbl> & <dbl> & <dbl>\\\\\n",
       "\\hline\n",
       "\t 1 &  0.08698293 &  1.0403199 & -0.5620902\\\\\n",
       "\t 2 &  0.49430152 &  0.4325484 & -0.1621515\\\\\n",
       "\t 3 & -2.64729503 & -1.7889887 &  0.1733267\\\\\n",
       "\t 4 & -0.40180061 &  1.3212769 & -0.1954248\\\\\n",
       "\t 5 & -0.55986093 &  1.4317578 & -0.4356361\\\\\n",
       "\t 6 & -0.25946506 &  0.2280333 &  5.5609877\\\\\n",
       "\\end{tabular}\n"
      ],
      "text/markdown": [
       "\n",
       "A data.frame: 6 × 4\n",
       "\n",
       "| X &lt;int&gt; | x.LD1 &lt;dbl&gt; | x.LD2 &lt;dbl&gt; | x.LD3 &lt;dbl&gt; |\n",
       "|---|---|---|---|\n",
       "| 1 |  0.08698293 |  1.0403199 | -0.5620902 |\n",
       "| 2 |  0.49430152 |  0.4325484 | -0.1621515 |\n",
       "| 3 | -2.64729503 | -1.7889887 |  0.1733267 |\n",
       "| 4 | -0.40180061 |  1.3212769 | -0.1954248 |\n",
       "| 5 | -0.55986093 |  1.4317578 | -0.4356361 |\n",
       "| 6 | -0.25946506 |  0.2280333 |  5.5609877 |\n",
       "\n"
      ],
      "text/plain": [
       "  X x.LD1       x.LD2      x.LD3     \n",
       "1 1  0.08698293  1.0403199 -0.5620902\n",
       "2 2  0.49430152  0.4325484 -0.1621515\n",
       "3 3 -2.64729503 -1.7889887  0.1733267\n",
       "4 4 -0.40180061  1.3212769 -0.1954248\n",
       "5 5 -0.55986093  1.4317578 -0.4356361\n",
       "6 6 -0.25946506  0.2280333  5.5609877"
      ]
     },
     "metadata": {},
     "output_type": "display_data"
    }
   ],
   "source": [
    "head(loan.lda)"
   ]
  },
  {
   "cell_type": "markdown",
   "metadata": {},
   "source": [
    "# Model Selection"
   ]
  },
  {
   "cell_type": "markdown",
   "metadata": {},
   "source": [
    "### LDA"
   ]
  },
  {
   "cell_type": "markdown",
   "metadata": {},
   "source": [
    "#### Make dataframe"
   ]
  },
  {
   "cell_type": "code",
   "execution_count": 33,
   "metadata": {},
   "outputs": [],
   "source": [
    "dataset = data.frame(loan.lda[,names(loan.lda) %in% c('x.LD1', 'x.LD2', 'x.LD3')])"
   ]
  },
  {
   "cell_type": "code",
   "execution_count": 34,
   "metadata": {},
   "outputs": [],
   "source": [
    "label = data.frame(loan.raw['repayment_interval'])"
   ]
  },
  {
   "cell_type": "code",
   "execution_count": 35,
   "metadata": {},
   "outputs": [],
   "source": [
    "dataframe = data.frame(dataset,label)"
   ]
  },
  {
   "cell_type": "code",
   "execution_count": 36,
   "metadata": {},
   "outputs": [
    {
     "data": {
      "text/html": [
       "<table>\n",
       "<caption>A data.frame: 6 × 3</caption>\n",
       "<thead>\n",
       "\t<tr><th scope=col>x.LD1</th><th scope=col>x.LD2</th><th scope=col>x.LD3</th></tr>\n",
       "\t<tr><th scope=col>&lt;dbl&gt;</th><th scope=col>&lt;dbl&gt;</th><th scope=col>&lt;dbl&gt;</th></tr>\n",
       "</thead>\n",
       "<tbody>\n",
       "\t<tr><td> 0.08698293</td><td> 1.0403199</td><td>-0.5620902</td></tr>\n",
       "\t<tr><td> 0.49430152</td><td> 0.4325484</td><td>-0.1621515</td></tr>\n",
       "\t<tr><td>-2.64729503</td><td>-1.7889887</td><td> 0.1733267</td></tr>\n",
       "\t<tr><td>-0.40180061</td><td> 1.3212769</td><td>-0.1954248</td></tr>\n",
       "\t<tr><td>-0.55986093</td><td> 1.4317578</td><td>-0.4356361</td></tr>\n",
       "\t<tr><td>-0.25946506</td><td> 0.2280333</td><td> 5.5609877</td></tr>\n",
       "</tbody>\n",
       "</table>\n"
      ],
      "text/latex": [
       "A data.frame: 6 × 3\n",
       "\\begin{tabular}{r|lll}\n",
       " x.LD1 & x.LD2 & x.LD3\\\\\n",
       " <dbl> & <dbl> & <dbl>\\\\\n",
       "\\hline\n",
       "\t  0.08698293 &  1.0403199 & -0.5620902\\\\\n",
       "\t  0.49430152 &  0.4325484 & -0.1621515\\\\\n",
       "\t -2.64729503 & -1.7889887 &  0.1733267\\\\\n",
       "\t -0.40180061 &  1.3212769 & -0.1954248\\\\\n",
       "\t -0.55986093 &  1.4317578 & -0.4356361\\\\\n",
       "\t -0.25946506 &  0.2280333 &  5.5609877\\\\\n",
       "\\end{tabular}\n"
      ],
      "text/markdown": [
       "\n",
       "A data.frame: 6 × 3\n",
       "\n",
       "| x.LD1 &lt;dbl&gt; | x.LD2 &lt;dbl&gt; | x.LD3 &lt;dbl&gt; |\n",
       "|---|---|---|\n",
       "|  0.08698293 |  1.0403199 | -0.5620902 |\n",
       "|  0.49430152 |  0.4325484 | -0.1621515 |\n",
       "| -2.64729503 | -1.7889887 |  0.1733267 |\n",
       "| -0.40180061 |  1.3212769 | -0.1954248 |\n",
       "| -0.55986093 |  1.4317578 | -0.4356361 |\n",
       "| -0.25946506 |  0.2280333 |  5.5609877 |\n",
       "\n"
      ],
      "text/plain": [
       "  x.LD1       x.LD2      x.LD3     \n",
       "1  0.08698293  1.0403199 -0.5620902\n",
       "2  0.49430152  0.4325484 -0.1621515\n",
       "3 -2.64729503 -1.7889887  0.1733267\n",
       "4 -0.40180061  1.3212769 -0.1954248\n",
       "5 -0.55986093  1.4317578 -0.4356361\n",
       "6 -0.25946506  0.2280333  5.5609877"
      ]
     },
     "metadata": {},
     "output_type": "display_data"
    }
   ],
   "source": [
    "head(dataset)"
   ]
  },
  {
   "cell_type": "code",
   "execution_count": 37,
   "metadata": {},
   "outputs": [
    {
     "data": {
      "text/html": [
       "<table>\n",
       "<caption>A data.frame: 6 × 1</caption>\n",
       "<thead>\n",
       "\t<tr><th scope=col>repayment_interval</th></tr>\n",
       "\t<tr><th scope=col>&lt;fct&gt;</th></tr>\n",
       "</thead>\n",
       "<tbody>\n",
       "\t<tr><td>irregular</td></tr>\n",
       "\t<tr><td>irregular</td></tr>\n",
       "\t<tr><td>bullet   </td></tr>\n",
       "\t<tr><td>irregular</td></tr>\n",
       "\t<tr><td>monthly  </td></tr>\n",
       "\t<tr><td>irregular</td></tr>\n",
       "</tbody>\n",
       "</table>\n"
      ],
      "text/latex": [
       "A data.frame: 6 × 1\n",
       "\\begin{tabular}{r|l}\n",
       " repayment\\_interval\\\\\n",
       " <fct>\\\\\n",
       "\\hline\n",
       "\t irregular\\\\\n",
       "\t irregular\\\\\n",
       "\t bullet   \\\\\n",
       "\t irregular\\\\\n",
       "\t monthly  \\\\\n",
       "\t irregular\\\\\n",
       "\\end{tabular}\n"
      ],
      "text/markdown": [
       "\n",
       "A data.frame: 6 × 1\n",
       "\n",
       "| repayment_interval &lt;fct&gt; |\n",
       "|---|\n",
       "| irregular |\n",
       "| irregular |\n",
       "| bullet    |\n",
       "| irregular |\n",
       "| monthly   |\n",
       "| irregular |\n",
       "\n"
      ],
      "text/plain": [
       "  repayment_interval\n",
       "1 irregular         \n",
       "2 irregular         \n",
       "3 bullet            \n",
       "4 irregular         \n",
       "5 monthly           \n",
       "6 irregular         "
      ]
     },
     "metadata": {},
     "output_type": "display_data"
    }
   ],
   "source": [
    "head(label)"
   ]
  },
  {
   "cell_type": "code",
   "execution_count": 38,
   "metadata": {},
   "outputs": [
    {
     "data": {
      "text/html": [
       "<table>\n",
       "<caption>A data.frame: 6 × 4</caption>\n",
       "<thead>\n",
       "\t<tr><th scope=col>x.LD1</th><th scope=col>x.LD2</th><th scope=col>x.LD3</th><th scope=col>repayment_interval</th></tr>\n",
       "\t<tr><th scope=col>&lt;dbl&gt;</th><th scope=col>&lt;dbl&gt;</th><th scope=col>&lt;dbl&gt;</th><th scope=col>&lt;fct&gt;</th></tr>\n",
       "</thead>\n",
       "<tbody>\n",
       "\t<tr><td> 0.08698293</td><td> 1.0403199</td><td>-0.5620902</td><td>irregular</td></tr>\n",
       "\t<tr><td> 0.49430152</td><td> 0.4325484</td><td>-0.1621515</td><td>irregular</td></tr>\n",
       "\t<tr><td>-2.64729503</td><td>-1.7889887</td><td> 0.1733267</td><td>bullet   </td></tr>\n",
       "\t<tr><td>-0.40180061</td><td> 1.3212769</td><td>-0.1954248</td><td>irregular</td></tr>\n",
       "\t<tr><td>-0.55986093</td><td> 1.4317578</td><td>-0.4356361</td><td>monthly  </td></tr>\n",
       "\t<tr><td>-0.25946506</td><td> 0.2280333</td><td> 5.5609877</td><td>irregular</td></tr>\n",
       "</tbody>\n",
       "</table>\n"
      ],
      "text/latex": [
       "A data.frame: 6 × 4\n",
       "\\begin{tabular}{r|llll}\n",
       " x.LD1 & x.LD2 & x.LD3 & repayment\\_interval\\\\\n",
       " <dbl> & <dbl> & <dbl> & <fct>\\\\\n",
       "\\hline\n",
       "\t  0.08698293 &  1.0403199 & -0.5620902 & irregular\\\\\n",
       "\t  0.49430152 &  0.4325484 & -0.1621515 & irregular\\\\\n",
       "\t -2.64729503 & -1.7889887 &  0.1733267 & bullet   \\\\\n",
       "\t -0.40180061 &  1.3212769 & -0.1954248 & irregular\\\\\n",
       "\t -0.55986093 &  1.4317578 & -0.4356361 & monthly  \\\\\n",
       "\t -0.25946506 &  0.2280333 &  5.5609877 & irregular\\\\\n",
       "\\end{tabular}\n"
      ],
      "text/markdown": [
       "\n",
       "A data.frame: 6 × 4\n",
       "\n",
       "| x.LD1 &lt;dbl&gt; | x.LD2 &lt;dbl&gt; | x.LD3 &lt;dbl&gt; | repayment_interval &lt;fct&gt; |\n",
       "|---|---|---|---|\n",
       "|  0.08698293 |  1.0403199 | -0.5620902 | irregular |\n",
       "|  0.49430152 |  0.4325484 | -0.1621515 | irregular |\n",
       "| -2.64729503 | -1.7889887 |  0.1733267 | bullet    |\n",
       "| -0.40180061 |  1.3212769 | -0.1954248 | irregular |\n",
       "| -0.55986093 |  1.4317578 | -0.4356361 | monthly   |\n",
       "| -0.25946506 |  0.2280333 |  5.5609877 | irregular |\n",
       "\n"
      ],
      "text/plain": [
       "  x.LD1       x.LD2      x.LD3      repayment_interval\n",
       "1  0.08698293  1.0403199 -0.5620902 irregular         \n",
       "2  0.49430152  0.4325484 -0.1621515 irregular         \n",
       "3 -2.64729503 -1.7889887  0.1733267 bullet            \n",
       "4 -0.40180061  1.3212769 -0.1954248 irregular         \n",
       "5 -0.55986093  1.4317578 -0.4356361 monthly           \n",
       "6 -0.25946506  0.2280333  5.5609877 irregular         "
      ]
     },
     "metadata": {},
     "output_type": "display_data"
    }
   ],
   "source": [
    "head(dataframe)"
   ]
  },
  {
   "cell_type": "markdown",
   "metadata": {},
   "source": [
    "#### Make test train split"
   ]
  },
  {
   "cell_type": "code",
   "execution_count": null,
   "metadata": {},
   "outputs": [],
   "source": []
  },
  {
   "cell_type": "code",
   "execution_count": 40,
   "metadata": {},
   "outputs": [
    {
     "data": {
      "text/html": [
       "671205"
      ],
      "text/latex": [
       "671205"
      ],
      "text/markdown": [
       "671205"
      ],
      "text/plain": [
       "[1] 671205"
      ]
     },
     "metadata": {},
     "output_type": "display_data"
    }
   ],
   "source": [
    "nrow(label)"
   ]
  },
  {
   "cell_type": "code",
   "execution_count": 44,
   "metadata": {},
   "outputs": [],
   "source": [
    "trainIndex <- sample(1:nrow(label), nrow(label) * 0.9)"
   ]
  },
  {
   "cell_type": "code",
   "execution_count": 46,
   "metadata": {},
   "outputs": [],
   "source": [
    "dataset.train<-dataset[trainIndex,]\n",
    "dataframe.train<-dataframe[trainIndex,]\n",
    "label.train<-label[trainIndex,]"
   ]
  },
  {
   "cell_type": "code",
   "execution_count": 47,
   "metadata": {},
   "outputs": [],
   "source": [
    "dataset.validate<-dataset[-trainIndex,]\n",
    "dataframe.validate<-dataframe[-trainIndex,]\n",
    "label.validate<-label[-trainIndex,]"
   ]
  },
  {
   "cell_type": "markdown",
   "metadata": {},
   "source": [
    "#### Train models"
   ]
  },
  {
   "cell_type": "code",
   "execution_count": 48,
   "metadata": {},
   "outputs": [],
   "source": [
    "traincontrol <- trainControl(method = \"cv\", number = 10, savePredictions = TRUE)"
   ]
  },
  {
   "cell_type": "markdown",
   "metadata": {},
   "source": [
    "Reference: https://www.kaggle.com/sindhuee/r-caret-example"
   ]
  },
  {
   "cell_type": "code",
   "execution_count": null,
   "metadata": {},
   "outputs": [],
   "source": []
  },
  {
   "cell_type": "code",
   "execution_count": 49,
   "metadata": {},
   "outputs": [],
   "source": [
    "perform.dtree <- train(repayment_interval ~., data = dataframe.train, method = \"rpart\", trControl = traincontrol)"
   ]
  },
  {
   "cell_type": "code",
   "execution_count": 50,
   "metadata": {},
   "outputs": [
    {
     "data": {
      "text/plain": [
       "CART \n",
       "\n",
       "604084 samples\n",
       "     3 predictor\n",
       "     4 classes: 'bullet', 'irregular', 'monthly', 'weekly' \n",
       "\n",
       "No pre-processing\n",
       "Resampling: Cross-Validated (10 fold) \n",
       "Summary of sample sizes: 543676, 543676, 543676, 543676, 543674, 543675, ... \n",
       "Resampling results across tuning parameters:\n",
       "\n",
       "  cp           Accuracy   Kappa    \n",
       "  0.006820341  0.8058978  0.6745306\n",
       "  0.089097260  0.7869103  0.6254071\n",
       "  0.511971948  0.6354054  0.2764819\n",
       "\n",
       "Accuracy was used to select the optimal model using the largest value.\n",
       "The final value used for the model was cp = 0.006820341."
      ]
     },
     "metadata": {},
     "output_type": "display_data"
    }
   ],
   "source": [
    "perform.dtree"
   ]
  },
  {
   "cell_type": "code",
   "execution_count": 51,
   "metadata": {},
   "outputs": [
    {
     "data": {
      "text/plain": [
       "rpart variable importance\n",
       "\n",
       "      Overall\n",
       "x.LD1  100.00\n",
       "x.LD2   87.19\n",
       "x.LD3    0.00"
      ]
     },
     "metadata": {},
     "output_type": "display_data"
    }
   ],
   "source": [
    "#feature importance\n",
    "varImp(perform.dtree)"
   ]
  },
  {
   "cell_type": "code",
   "execution_count": 52,
   "metadata": {},
   "outputs": [],
   "source": [
    "prediction.dtree<-predict(perform.dtree,dataframe.validate)"
   ]
  },
  {
   "cell_type": "code",
   "execution_count": 53,
   "metadata": {},
   "outputs": [
    {
     "data": {
      "text/plain": [
       "Confusion Matrix and Statistics\n",
       "\n",
       "           Reference\n",
       "Prediction  bullet irregular monthly weekly\n",
       "  bullet      6051      1070    3193      3\n",
       "  irregular    252     20469    3771     18\n",
       "  monthly      694      4157   27402     41\n",
       "  weekly         0         0       0      0\n",
       "\n",
       "Overall Statistics\n",
       "                                          \n",
       "               Accuracy : 0.8034          \n",
       "                 95% CI : (0.8003, 0.8064)\n",
       "    No Information Rate : 0.512           \n",
       "    P-Value [Acc > NIR] : < 2.2e-16       \n",
       "                                          \n",
       "                  Kappa : 0.6711          \n",
       "                                          \n",
       " Mcnemar's Test P-Value : < 2.2e-16       \n",
       "\n",
       "Statistics by Class:\n",
       "\n",
       "                     Class: bullet Class: irregular Class: monthly\n",
       "Sensitivity                0.86480           0.7966         0.7974\n",
       "Specificity                0.92905           0.9025         0.8506\n",
       "Pos Pred Value             0.58651           0.8351         0.8485\n",
       "Neg Pred Value             0.98335           0.8773         0.8000\n",
       "Prevalence                 0.10424           0.3828         0.5120\n",
       "Detection Rate             0.09015           0.3050         0.4082\n",
       "Detection Prevalence       0.15371           0.3652         0.4811\n",
       "Balanced Accuracy          0.89692           0.8495         0.8240\n",
       "                     Class: weekly\n",
       "Sensitivity              0.0000000\n",
       "Specificity              1.0000000\n",
       "Pos Pred Value                 NaN\n",
       "Neg Pred Value           0.9990763\n",
       "Prevalence               0.0009237\n",
       "Detection Rate           0.0000000\n",
       "Detection Prevalence     0.0000000\n",
       "Balanced Accuracy        0.5000000"
      ]
     },
     "metadata": {},
     "output_type": "display_data"
    }
   ],
   "source": [
    "confusionMatrix(prediction.dtree,label.validate)"
   ]
  },
  {
   "cell_type": "code",
   "execution_count": 54,
   "metadata": {},
   "outputs": [
    {
     "name": "stderr",
     "output_type": "stream",
     "text": [
      "Warning message:\n",
      "\"predictions failed for Fold01: k=5 Error in knn3Train(train = structure(c(-0.976043332101688, -0.311815633769236,  : \n",
      "  too many ties in knn\n",
      "\"\n",
      "Warning message:\n",
      "\"predictions failed for Fold01: k=7 Error in knn3Train(train = structure(c(-0.976043332101688, -0.311815633769236,  : \n",
      "  too many ties in knn\n",
      "\"\n",
      "Warning message:\n",
      "\"predictions failed for Fold01: k=9 Error in knn3Train(train = structure(c(-0.976043332101688, -0.311815633769236,  : \n",
      "  too many ties in knn\n",
      "\"\n",
      "Warning message:\n",
      "\"predictions failed for Fold02: k=5 Error in knn3Train(train = structure(c(-0.976043332101688, -0.311815633769236,  : \n",
      "  too many ties in knn\n",
      "\"\n",
      "Warning message:\n",
      "\"predictions failed for Fold02: k=7 Error in knn3Train(train = structure(c(-0.976043332101688, -0.311815633769236,  : \n",
      "  too many ties in knn\n",
      "\"\n",
      "Warning message:\n",
      "\"predictions failed for Fold02: k=9 Error in knn3Train(train = structure(c(-0.976043332101688, -0.311815633769236,  : \n",
      "  too many ties in knn\n",
      "\"\n",
      "Warning message:\n",
      "\"predictions failed for Fold03: k=5 Error in knn3Train(train = structure(c(-0.311815633769236, -3.37304398946222,  : \n",
      "  too many ties in knn\n",
      "\"\n",
      "Warning message:\n",
      "\"predictions failed for Fold03: k=7 Error in knn3Train(train = structure(c(-0.311815633769236, -3.37304398946222,  : \n",
      "  too many ties in knn\n",
      "\"\n",
      "Warning message:\n",
      "\"predictions failed for Fold03: k=9 Error in knn3Train(train = structure(c(-0.311815633769236, -3.37304398946222,  : \n",
      "  too many ties in knn\n",
      "\"\n",
      "Warning message:\n",
      "\"predictions failed for Fold04: k=5 Error in knn3Train(train = structure(c(-0.976043332101688, -0.311815633769236,  : \n",
      "  too many ties in knn\n",
      "\"\n",
      "Warning message:\n",
      "\"predictions failed for Fold04: k=7 Error in knn3Train(train = structure(c(-0.976043332101688, -0.311815633769236,  : \n",
      "  too many ties in knn\n",
      "\"\n",
      "Warning message:\n",
      "\"predictions failed for Fold04: k=9 Error in knn3Train(train = structure(c(-0.976043332101688, -0.311815633769236,  : \n",
      "  too many ties in knn\n",
      "\"\n",
      "Warning message:\n",
      "\"predictions failed for Fold05: k=5 Error in knn3Train(train = structure(c(-0.976043332101688, -0.311815633769236,  : \n",
      "  too many ties in knn\n",
      "\"\n",
      "Warning message:\n",
      "\"predictions failed for Fold05: k=7 Error in knn3Train(train = structure(c(-0.976043332101688, -0.311815633769236,  : \n",
      "  too many ties in knn\n",
      "\"\n",
      "Warning message:\n",
      "\"predictions failed for Fold05: k=9 Error in knn3Train(train = structure(c(-0.976043332101688, -0.311815633769236,  : \n",
      "  too many ties in knn\n",
      "\"\n",
      "Warning message:\n",
      "\"predictions failed for Fold06: k=5 Error in knn3Train(train = structure(c(-0.976043332101688, -0.311815633769236,  : \n",
      "  too many ties in knn\n",
      "\"\n",
      "Warning message:\n",
      "\"predictions failed for Fold06: k=7 Error in knn3Train(train = structure(c(-0.976043332101688, -0.311815633769236,  : \n",
      "  too many ties in knn\n",
      "\"\n",
      "Warning message:\n",
      "\"predictions failed for Fold06: k=9 Error in knn3Train(train = structure(c(-0.976043332101688, -0.311815633769236,  : \n",
      "  too many ties in knn\n",
      "\"\n",
      "Warning message:\n",
      "\"predictions failed for Fold07: k=5 Error in knn3Train(train = structure(c(-0.976043332101688, -0.311815633769236,  : \n",
      "  too many ties in knn\n",
      "\"\n",
      "Warning message:\n",
      "\"predictions failed for Fold07: k=7 Error in knn3Train(train = structure(c(-0.976043332101688, -0.311815633769236,  : \n",
      "  too many ties in knn\n",
      "\"\n",
      "Warning message:\n",
      "\"predictions failed for Fold07: k=9 Error in knn3Train(train = structure(c(-0.976043332101688, -0.311815633769236,  : \n",
      "  too many ties in knn\n",
      "\"\n",
      "Warning message:\n",
      "\"predictions failed for Fold08: k=5 Error in knn3Train(train = structure(c(-0.976043332101688, -0.311815633769236,  : \n",
      "  too many ties in knn\n",
      "\"\n",
      "Warning message:\n",
      "\"predictions failed for Fold08: k=7 Error in knn3Train(train = structure(c(-0.976043332101688, -0.311815633769236,  : \n",
      "  too many ties in knn\n",
      "\"\n",
      "Warning message:\n",
      "\"predictions failed for Fold08: k=9 Error in knn3Train(train = structure(c(-0.976043332101688, -0.311815633769236,  : \n",
      "  too many ties in knn\n",
      "\"\n",
      "Warning message:\n",
      "\"predictions failed for Fold09: k=5 Error in knn3Train(train = structure(c(-0.976043332101688, -3.37304398946222,  : \n",
      "  too many ties in knn\n",
      "\"\n",
      "Warning message:\n",
      "\"predictions failed for Fold09: k=7 Error in knn3Train(train = structure(c(-0.976043332101688, -3.37304398946222,  : \n",
      "  too many ties in knn\n",
      "\"\n",
      "Warning message:\n",
      "\"predictions failed for Fold09: k=9 Error in knn3Train(train = structure(c(-0.976043332101688, -3.37304398946222,  : \n",
      "  too many ties in knn\n",
      "\"\n",
      "Warning message:\n",
      "\"predictions failed for Fold10: k=5 Error in knn3Train(train = structure(c(-0.976043332101688, -0.311815633769236,  : \n",
      "  too many ties in knn\n",
      "\"\n",
      "Warning message:\n",
      "\"predictions failed for Fold10: k=7 Error in knn3Train(train = structure(c(-0.976043332101688, -0.311815633769236,  : \n",
      "  too many ties in knn\n",
      "\"\n",
      "Warning message:\n",
      "\"predictions failed for Fold10: k=9 Error in knn3Train(train = structure(c(-0.976043332101688, -0.311815633769236,  : \n",
      "  too many ties in knn\n",
      "\"\n",
      "Warning message in nominalTrainWorkflow(x = x, y = y, wts = weights, info = trainInfo, :\n",
      "\"There were missing values in resampled performance measures.\"\n"
     ]
    },
    {
     "name": "stdout",
     "output_type": "stream",
     "text": [
      "Something is wrong; all the Accuracy metric values are missing:\n",
      "    Accuracy       Kappa    \n",
      " Min.   : NA   Min.   : NA  \n",
      " 1st Qu.: NA   1st Qu.: NA  \n",
      " Median : NA   Median : NA  \n",
      " Mean   :NaN   Mean   :NaN  \n",
      " 3rd Qu.: NA   3rd Qu.: NA  \n",
      " Max.   : NA   Max.   : NA  \n",
      " NA's   :3     NA's   :3    \n"
     ]
    },
    {
     "ename": "ERROR",
     "evalue": "Error: Stopping\n",
     "output_type": "error",
     "traceback": [
      "Error: Stopping\nTraceback:\n",
      "1. train(repayment_interval ~ ., data = dataframe.train, method = \"knn\", \n .     trControl = traincontrol)",
      "2. train.formula(repayment_interval ~ ., data = dataframe.train, \n .     method = \"knn\", trControl = traincontrol)",
      "3. train(x, y, weights = w, ...)",
      "4. train.default(x, y, weights = w, ...)",
      "5. stop(\"Stopping\", call. = FALSE)"
     ]
    }
   ],
   "source": [
    "perform.knn <- train(repayment_interval ~., data = dataframe.train, method = \"knn\", trControl = traincontrol)"
   ]
  },
  {
   "cell_type": "code",
   "execution_count": null,
   "metadata": {},
   "outputs": [],
   "source": [
    "perform.knn"
   ]
  },
  {
   "cell_type": "code",
   "execution_count": null,
   "metadata": {},
   "outputs": [],
   "source": [
    "#feature importance\n",
    "varImp(perform.knn)"
   ]
  },
  {
   "cell_type": "code",
   "execution_count": null,
   "metadata": {},
   "outputs": [],
   "source": [
    "prediction.knn<-predict(perform.knn,dataframe.validate)"
   ]
  },
  {
   "cell_type": "code",
   "execution_count": null,
   "metadata": {},
   "outputs": [],
   "source": [
    "confusionMatrix(perform.knn,label.validate)"
   ]
  },
  {
   "cell_type": "code",
   "execution_count": null,
   "metadata": {},
   "outputs": [],
   "source": [
    "perform.svm <- train(repayment_interval ~., data = dataframe, method = \"svmRadial\", trControl = traincontrol)"
   ]
  },
  {
   "cell_type": "code",
   "execution_count": null,
   "metadata": {},
   "outputs": [],
   "source": [
    "perform.rf <- train(repayment_interval ~., data = dataframe, method = \"rf\", trControl = traincontrol)"
   ]
  },
  {
   "cell_type": "code",
   "execution_count": null,
   "metadata": {},
   "outputs": [],
   "source": []
  },
  {
   "cell_type": "code",
   "execution_count": 34,
   "metadata": {},
   "outputs": [],
   "source": [
    "train_index <- sample(1:nrow(dataset), 0.9 * nrow(dataset)) "
   ]
  },
  {
   "cell_type": "code",
   "execution_count": 35,
   "metadata": {},
   "outputs": [],
   "source": [
    "train_set <- dataset[train_index,]"
   ]
  },
  {
   "cell_type": "code",
   "execution_count": 36,
   "metadata": {},
   "outputs": [],
   "source": [
    "test_set <- dataset[-train_index,]"
   ]
  },
  {
   "cell_type": "code",
   "execution_count": 57,
   "metadata": {},
   "outputs": [],
   "source": [
    "train_label <- label[train_index,]"
   ]
  },
  {
   "cell_type": "code",
   "execution_count": 40,
   "metadata": {},
   "outputs": [],
   "source": [
    "test_label <- label[-train_index,]"
   ]
  },
  {
   "cell_type": "code",
   "execution_count": 54,
   "metadata": {},
   "outputs": [
    {
     "ename": "ERROR",
     "evalue": "Error in knn(train_set, test_set, cl = train_label, k = 1, use.all = FALSE): too many ties in knn\n",
     "output_type": "error",
     "traceback": [
      "Error in knn(train_set, test_set, cl = train_label, k = 1, use.all = FALSE): too many ties in knn\nTraceback:\n",
      "1. knn(train_set, test_set, cl = train_label, k = 1, use.all = FALSE)"
     ]
    }
   ],
   "source": [
    "#run knn function\n",
    "prediction <- knn(train_set,test_set,cl=train_label,k=1, use.all = FALSE)\n",
    "\n",
    "##create confusion matrix\n",
    "tab <- table(prediction,test_label)"
   ]
  },
  {
   "cell_type": "code",
   "execution_count": 58,
   "metadata": {},
   "outputs": [],
   "source": [
    "label2 = ifelse(label=='weekly',TRUE,FALSE)"
   ]
  },
  {
   "cell_type": "code",
   "execution_count": 59,
   "metadata": {},
   "outputs": [],
   "source": [
    "train_label2 = label2[train_index,]"
   ]
  },
  {
   "cell_type": "code",
   "execution_count": 60,
   "metadata": {},
   "outputs": [],
   "source": [
    "test_label2 = label2[-train_index,]"
   ]
  },
  {
   "cell_type": "code",
   "execution_count": null,
   "metadata": {},
   "outputs": [],
   "source": [
    "head(train_label2)"
   ]
  },
  {
   "cell_type": "code",
   "execution_count": 62,
   "metadata": {},
   "outputs": [
    {
     "ename": "ERROR",
     "evalue": "Error in knn(train_set, test_set, cl = train_label2, k = 1, use.all = FALSE): too many ties in knn\n",
     "output_type": "error",
     "traceback": [
      "Error in knn(train_set, test_set, cl = train_label2, k = 1, use.all = FALSE): too many ties in knn\nTraceback:\n",
      "1. knn(train_set, test_set, cl = train_label2, k = 1, use.all = FALSE)"
     ]
    }
   ],
   "source": [
    "#run knn function\n",
    "prediction <- knn(train_set,test_set,cl=train_label2,k=1, use.all = FALSE)\n",
    "\n",
    "##create confusion matrix\n",
    "tab <- table(prediction,test_label2)"
   ]
  },
  {
   "cell_type": "code",
   "execution_count": null,
   "metadata": {},
   "outputs": [],
   "source": []
  },
  {
   "cell_type": "code",
   "execution_count": 55,
   "metadata": {},
   "outputs": [],
   "source": [
    "temp = unique(dataset)"
   ]
  },
  {
   "cell_type": "code",
   "execution_count": 56,
   "metadata": {},
   "outputs": [
    {
     "data": {
      "text/html": [
       "407893"
      ],
      "text/latex": [
       "407893"
      ],
      "text/markdown": [
       "407893"
      ],
      "text/plain": [
       "[1] 407893"
      ]
     },
     "metadata": {},
     "output_type": "display_data"
    }
   ],
   "source": [
    "nrow(temp)"
   ]
  },
  {
   "cell_type": "code",
   "execution_count": 57,
   "metadata": {},
   "outputs": [
    {
     "data": {
      "text/html": [
       "671205"
      ],
      "text/latex": [
       "671205"
      ],
      "text/markdown": [
       "671205"
      ],
      "text/plain": [
       "[1] 671205"
      ]
     },
     "metadata": {},
     "output_type": "display_data"
    }
   ],
   "source": [
    "nrow(dataset)"
   ]
  },
  {
   "cell_type": "code",
   "execution_count": 58,
   "metadata": {},
   "outputs": [],
   "source": [
    "temp2 = unique(dataframe)"
   ]
  },
  {
   "cell_type": "code",
   "execution_count": 59,
   "metadata": {},
   "outputs": [
    {
     "data": {
      "text/html": [
       "417350"
      ],
      "text/latex": [
       "417350"
      ],
      "text/markdown": [
       "417350"
      ],
      "text/plain": [
       "[1] 417350"
      ]
     },
     "metadata": {},
     "output_type": "display_data"
    }
   ],
   "source": [
    "nrow(temp2)"
   ]
  },
  {
   "cell_type": "code",
   "execution_count": 60,
   "metadata": {},
   "outputs": [
    {
     "data": {
      "text/html": [
       "671205"
      ],
      "text/latex": [
       "671205"
      ],
      "text/markdown": [
       "671205"
      ],
      "text/plain": [
       "[1] 671205"
      ]
     },
     "metadata": {},
     "output_type": "display_data"
    }
   ],
   "source": [
    "nrow(dataframe)"
   ]
  },
  {
   "cell_type": "code",
   "execution_count": 61,
   "metadata": {},
   "outputs": [],
   "source": [
    "perform.knn <- train(repayment_interval ~., data = temp2, method = \"knn\", trControl = traincontrol)"
   ]
  },
  {
   "cell_type": "code",
   "execution_count": null,
   "metadata": {},
   "outputs": [],
   "source": []
  }
 ],
 "metadata": {
  "kernelspec": {
   "display_name": "R",
   "language": "R",
   "name": "ir"
  },
  "language_info": {
   "codemirror_mode": "r",
   "file_extension": ".r",
   "mimetype": "text/x-r-source",
   "name": "R",
   "pygments_lexer": "r",
   "version": "3.6.1"
  }
 },
 "nbformat": 4,
 "nbformat_minor": 2
}
