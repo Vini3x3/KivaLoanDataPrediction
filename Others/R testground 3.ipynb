{
 "cells": [
  {
   "cell_type": "code",
   "execution_count": 26,
   "metadata": {},
   "outputs": [
    {
     "name": "stderr",
     "output_type": "stream",
     "text": [
      "Loading required package: MASS\n",
      "\n"
     ]
    }
   ],
   "source": [
    "require(MASS)"
   ]
  },
  {
   "cell_type": "code",
   "execution_count": 2,
   "metadata": {},
   "outputs": [],
   "source": [
    "loan_std <- read.csv('kiva_loans_standardized.csv')"
   ]
  },
  {
   "cell_type": "code",
   "execution_count": 3,
   "metadata": {},
   "outputs": [],
   "source": [
    "loan <- read.csv('kiva_loans.csv')"
   ]
  },
  {
   "cell_type": "code",
   "execution_count": 17,
   "metadata": {},
   "outputs": [],
   "source": [
    "dropping_features = c('repayment_interval_bullet', 'repayment_interval_monthly', 'repayment_interval_weekly', 'repayment_interval_irregular')"
   ]
  },
  {
   "cell_type": "code",
   "execution_count": 18,
   "metadata": {},
   "outputs": [],
   "source": [
    "selected_features <- names(loan_std)[!names(loan_std) %in% dropping_features]"
   ]
  },
  {
   "cell_type": "code",
   "execution_count": 21,
   "metadata": {},
   "outputs": [],
   "source": [
    "X <- data.frame(loan_std[,names(loan_std) %in% selected_features],loan$repayment_interval)"
   ]
  },
  {
   "cell_type": "code",
   "execution_count": 23,
   "metadata": {},
   "outputs": [
    {
     "data": {
      "text/html": [
       "<table>\n",
       "<caption>A data.frame: 5 × 271</caption>\n",
       "<thead>\n",
       "\t<tr><th scope=col>loan_amount</th><th scope=col>activity_Adult.Care</th><th scope=col>activity_Agriculture</th><th scope=col>activity_Air.Conditioning</th><th scope=col>activity_Animal.Sales</th><th scope=col>activity_Aquaculture</th><th scope=col>activity_Arts</th><th scope=col>activity_Auto.Repair</th><th scope=col>activity_Bakery</th><th scope=col>activity_Balut.Making</th><th scope=col>...</th><th scope=col>country_code_XK</th><th scope=col>country_code_YE</th><th scope=col>country_code_ZA</th><th scope=col>country_code_ZM</th><th scope=col>country_code_ZW</th><th scope=col>term_in_months</th><th scope=col>lender_count</th><th scope=col>count_male</th><th scope=col>count_female</th><th scope=col>loan.repayment_interval</th></tr>\n",
       "\t<tr><th scope=col>&lt;dbl&gt;</th><th scope=col>&lt;int&gt;</th><th scope=col>&lt;int&gt;</th><th scope=col>&lt;int&gt;</th><th scope=col>&lt;int&gt;</th><th scope=col>&lt;int&gt;</th><th scope=col>&lt;int&gt;</th><th scope=col>&lt;int&gt;</th><th scope=col>&lt;int&gt;</th><th scope=col>&lt;int&gt;</th><th scope=col>...</th><th scope=col>&lt;int&gt;</th><th scope=col>&lt;int&gt;</th><th scope=col>&lt;int&gt;</th><th scope=col>&lt;int&gt;</th><th scope=col>&lt;int&gt;</th><th scope=col>&lt;dbl&gt;</th><th scope=col>&lt;dbl&gt;</th><th scope=col>&lt;dbl&gt;</th><th scope=col>&lt;dbl&gt;</th><th scope=col>&lt;fct&gt;</th></tr>\n",
       "</thead>\n",
       "<tbody>\n",
       "\t<tr><td>-0.4525029</td><td>0</td><td>0</td><td>0</td><td>0</td><td>0</td><td>0</td><td>0</td><td>0</td><td>0</td><td>...</td><td>0</td><td>0</td><td>0</td><td>0</td><td>0</td><td>-0.20223722</td><td>-0.3018643</td><td>-0.3668482</td><td>-0.1964635</td><td>irregular</td></tr>\n",
       "\t<tr><td>-0.2230800</td><td>0</td><td>0</td><td>0</td><td>0</td><td>0</td><td>0</td><td>0</td><td>0</td><td>0</td><td>...</td><td>0</td><td>0</td><td>0</td><td>0</td><td>0</td><td>-0.31853091</td><td>-0.2315891</td><td>-0.3668482</td><td> 0.1331198</td><td>irregular</td></tr>\n",
       "\t<tr><td>-0.5776426</td><td>0</td><td>0</td><td>0</td><td>0</td><td>0</td><td>0</td><td>0</td><td>0</td><td>0</td><td>...</td><td>0</td><td>0</td><td>0</td><td>0</td><td>0</td><td> 3.40286689</td><td>-0.5126898</td><td>-0.3668482</td><td>-0.1964635</td><td>bullet   </td></tr>\n",
       "\t<tr><td>-0.5359293</td><td>0</td><td>0</td><td>0</td><td>0</td><td>0</td><td>0</td><td>0</td><td>0</td><td>0</td><td>...</td><td>0</td><td>0</td><td>0</td><td>0</td><td>0</td><td>-0.31853091</td><td>-0.4424147</td><td>-0.3668482</td><td>-0.1964635</td><td>irregular</td></tr>\n",
       "\t<tr><td>-0.3690764</td><td>0</td><td>0</td><td>0</td><td>0</td><td>0</td><td>0</td><td>0</td><td>0</td><td>0</td><td>...</td><td>0</td><td>0</td><td>0</td><td>0</td><td>0</td><td> 0.03035014</td><td>-0.1613139</td><td>-0.3668482</td><td>-0.1964635</td><td>monthly  </td></tr>\n",
       "</tbody>\n",
       "</table>\n"
      ],
      "text/latex": [
       "A data.frame: 5 × 271\n",
       "\\begin{tabular}{r|lllllllllllllllllllllllllllllllllllllllllllllllllllllllllllllllllllllllllllllllllllllllllllllllllllllllllllllllllllllllllllllllllllllllllllllllllllllllllllllllllllllllllllllllllllllllllllllllllllllllllllllllllllllllllllllllllllllllllllllllllllllllllllllllllllllllllllllll}\n",
       " loan\\_amount & activity\\_Adult.Care & activity\\_Agriculture & activity\\_Air.Conditioning & activity\\_Animal.Sales & activity\\_Aquaculture & activity\\_Arts & activity\\_Auto.Repair & activity\\_Bakery & activity\\_Balut.Making & activity\\_Barber.Shop & activity\\_Beauty.Salon & activity\\_Beekeeping & activity\\_Beverages & activity\\_Bicycle.Repair & activity\\_Bicycle.Sales & activity\\_Blacksmith & activity\\_Bookbinding & activity\\_Bookstore & activity\\_Bricks & activity\\_Butcher.Shop & activity\\_Cafe & activity\\_Call.Center & activity\\_Carpentry & activity\\_Catering & activity\\_Cattle & activity\\_Celebrations & activity\\_Cement & activity\\_Cereals & activity\\_Charcoal.Sales & activity\\_Cheese.Making & activity\\_Child.Care & activity\\_Cleaning.Services & activity\\_Cloth...Dressmaking.Supplies & activity\\_Clothing & activity\\_Clothing.Sales & activity\\_Cobbler & activity\\_Communications & activity\\_Computer & activity\\_Computers & activity\\_Construction & activity\\_Construction.Supplies & activity\\_Consumer.Goods & activity\\_Cosmetics.Sales & activity\\_Crafts & activity\\_Dairy & activity\\_Decorations.Sales & activity\\_Dental & activity\\_Education.provider & activity\\_Electrical.Goods & activity\\_Electrician & activity\\_Electronics.Repair & activity\\_Electronics.Sales & activity\\_Embroidery & activity\\_Energy & activity\\_Entertainment & activity\\_Event.Planning & activity\\_Farm.Supplies & activity\\_Farming & activity\\_Film & activity\\_Fish.Selling & activity\\_Fishing & activity\\_Florist & activity\\_Flowers & activity\\_Food & activity\\_Food.Market & activity\\_Food.Production.Sales & activity\\_Food.Stall & activity\\_Fruits...Vegetables & activity\\_Fuel.Firewood & activity\\_Funerals & activity\\_Furniture.Making & activity\\_Games & activity\\_General.Store & activity\\_Goods.Distribution & activity\\_Grocery.Store & activity\\_Hardware & activity\\_Health & activity\\_Higher.education.costs & activity\\_Home.Appliances & activity\\_Home.Energy & activity\\_Home.Products.Sales & activity\\_Hotel & activity\\_Internet.Cafe & activity\\_Jewelry & activity\\_Knitting & activity\\_Land.Rental & activity\\_Landscaping...Gardening & activity\\_Laundry & activity\\_Liquor.Store...Off.License & activity\\_Livestock & activity\\_Machine.Shop & activity\\_Machinery.Rental & activity\\_Manufacturing & activity\\_Medical.Clinic & activity\\_Metal.Shop & activity\\_Milk.Sales & activity\\_Mobile.Phones & activity\\_Mobile.Transactions & activity\\_Motorcycle.Repair & activity\\_Motorcycle.Transport & activity\\_Movie.Tapes...DVDs & activity\\_Music.Discs...Tapes & activity\\_Musical.Instruments & activity\\_Musical.Performance & activity\\_Natural.Medicines & activity\\_Office.Supplies & activity\\_Paper.Sales & activity\\_Party.Supplies & activity\\_Patchwork & activity\\_Perfumes & activity\\_Personal.Care.Products & activity\\_Personal.Expenses & activity\\_Personal.Housing.Expenses & activity\\_Personal.Medical.Expenses & activity\\_Personal.Products.Sales & activity\\_Pharmacy & activity\\_Phone.Accessories & activity\\_Phone.Repair & activity\\_Phone.Use.Sales & activity\\_Photography & activity\\_Pigs & activity\\_Plastics.Sales & activity\\_Poultry & activity\\_Primary.secondary.school.costs & activity\\_Printing & activity\\_Property & activity\\_Pub & activity\\_Quarrying & activity\\_Recycled.Materials & activity\\_Recycling & activity\\_Religious.Articles & activity\\_Renewable.Energy.Products & activity\\_Restaurant & activity\\_Retail & activity\\_Rickshaw & activity\\_Secretarial.Services & activity\\_Services & activity\\_Sewing & activity\\_Shoe.Sales & activity\\_Souvenir.Sales & activity\\_Spare.Parts & activity\\_Sporting.Good.Sales & activity\\_Tailoring & activity\\_Taxi & activity\\_Technology & activity\\_Textiles & activity\\_Timber.Sales & activity\\_Tourism & activity\\_Transportation & activity\\_Traveling.Sales & activity\\_Upholstery & activity\\_Used.Clothing & activity\\_Used.Shoes & activity\\_Utilities & activity\\_Vehicle & activity\\_Vehicle.Repairs & activity\\_Veterinary.Sales & activity\\_Waste.Management & activity\\_Water.Distribution & activity\\_Weaving & activity\\_Wedding.Expenses & activity\\_Well.digging & activity\\_Wholesale & sector\\_Agriculture & sector\\_Arts & sector\\_Clothing & sector\\_Construction & sector\\_Education & sector\\_Entertainment & sector\\_Food & sector\\_Health & sector\\_Housing & sector\\_Manufacturing & sector\\_Personal.Use & sector\\_Retail & sector\\_Services & sector\\_Transportation & sector\\_Wholesale & country\\_code\\_ & country\\_code\\_AF & country\\_code\\_AL & country\\_code\\_AM & country\\_code\\_AZ & country\\_code\\_BF & country\\_code\\_BI & country\\_code\\_BJ & country\\_code\\_BO & country\\_code\\_BR & country\\_code\\_BT & country\\_code\\_BZ & country\\_code\\_CD & country\\_code\\_CG & country\\_code\\_CI & country\\_code\\_CL & country\\_code\\_CM & country\\_code\\_CN & country\\_code\\_CO & country\\_code\\_CR & country\\_code\\_DO & country\\_code\\_EC & country\\_code\\_EG & country\\_code\\_GE & country\\_code\\_GH & country\\_code\\_GT & country\\_code\\_GU & country\\_code\\_HN & country\\_code\\_HT & country\\_code\\_ID & country\\_code\\_IL & country\\_code\\_IN & country\\_code\\_IQ & country\\_code\\_JO & country\\_code\\_KE & country\\_code\\_KG & country\\_code\\_KH & country\\_code\\_LA & country\\_code\\_LB & country\\_code\\_LR & country\\_code\\_LS & country\\_code\\_MD & country\\_code\\_MG & country\\_code\\_ML & country\\_code\\_MM & country\\_code\\_MN & country\\_code\\_MR & country\\_code\\_MW & country\\_code\\_MX & country\\_code\\_MZ & country\\_code\\_NG & country\\_code\\_NI & country\\_code\\_NP & country\\_code\\_PA & country\\_code\\_PE & country\\_code\\_PH & country\\_code\\_PK & country\\_code\\_PR & country\\_code\\_PS & country\\_code\\_PY & country\\_code\\_RW & country\\_code\\_SB & country\\_code\\_SL & country\\_code\\_SN & country\\_code\\_SO & country\\_code\\_SR & country\\_code\\_SS & country\\_code\\_SV & country\\_code\\_TG & country\\_code\\_TH & country\\_code\\_TJ & country\\_code\\_TL & country\\_code\\_TR & country\\_code\\_TZ & country\\_code\\_UA & country\\_code\\_UG & country\\_code\\_US & country\\_code\\_VC & country\\_code\\_VI & country\\_code\\_VN & country\\_code\\_VU & country\\_code\\_WS & country\\_code\\_XK & country\\_code\\_YE & country\\_code\\_ZA & country\\_code\\_ZM & country\\_code\\_ZW & term\\_in\\_months & lender\\_count & count\\_male & count\\_female & loan.repayment\\_interval\\\\\n",
       " <dbl> & <int> & <int> & <int> & <int> & <int> & <int> & <int> & <int> & <int> & <int> & <int> & <int> & <int> & <int> & <int> & <int> & <int> & <int> & <int> & <int> & <int> & <int> & <int> & <int> & <int> & <int> & <int> & <int> & <int> & <int> & <int> & <int> & <int> & <int> & <int> & <int> & <int> & <int> & <int> & <int> & <int> & <int> & <int> & <int> & <int> & <int> & <int> & <int> & <int> & <int> & <int> & <int> & <int> & <int> & <int> & <int> & <int> & <int> & <int> & <int> & <int> & <int> & <int> & <int> & <int> & <int> & <int> & <int> & <int> & <int> & <int> & <int> & <int> & <int> & <int> & <int> & <int> & <int> & <int> & <int> & <int> & <int> & <int> & <int> & <int> & <int> & <int> & <int> & <int> & <int> & <int> & <int> & <int> & <int> & <int> & <int> & <int> & <int> & <int> & <int> & <int> & <int> & <int> & <int> & <int> & <int> & <int> & <int> & <int> & <int> & <int> & <int> & <int> & <int> & <int> & <int> & <int> & <int> & <int> & <int> & <int> & <int> & <int> & <int> & <int> & <int> & <int> & <int> & <int> & <int> & <int> & <int> & <int> & <int> & <int> & <int> & <int> & <int> & <int> & <int> & <int> & <int> & <int> & <int> & <int> & <int> & <int> & <int> & <int> & <int> & <int> & <int> & <int> & <int> & <int> & <int> & <int> & <int> & <int> & <int> & <int> & <int> & <int> & <int> & <int> & <int> & <int> & <int> & <int> & <int> & <int> & <int> & <int> & <int> & <int> & <int> & <int> & <int> & <int> & <int> & <int> & <int> & <int> & <int> & <int> & <int> & <int> & <int> & <int> & <int> & <int> & <int> & <int> & <int> & <int> & <int> & <int> & <int> & <int> & <int> & <int> & <int> & <int> & <int> & <int> & <int> & <int> & <int> & <int> & <int> & <int> & <int> & <int> & <int> & <int> & <int> & <int> & <int> & <int> & <int> & <int> & <int> & <int> & <int> & <int> & <int> & <int> & <int> & <int> & <int> & <int> & <int> & <int> & <int> & <int> & <int> & <int> & <int> & <int> & <int> & <int> & <int> & <int> & <int> & <int> & <int> & <int> & <int> & <int> & <int> & <int> & <int> & <int> & <int> & <int> & <int> & <int> & <int> & <int> & <int> & <int> & <int> & <int> & <int> & <int> & <dbl> & <dbl> & <dbl> & <dbl> & <fct>\\\\\n",
       "\\hline\n",
       "\t -0.4525029 & 0 & 0 & 0 & 0 & 0 & 0 & 0 & 0 & 0 & 0 & 0 & 0 & 0 & 0 & 0 & 0 & 0 & 0 & 0 & 0 & 0 & 0 & 0 & 0 & 0 & 0 & 0 & 0 & 0 & 0 & 0 & 0 & 0 & 0 & 0 & 0 & 0 & 0 & 0 & 0 & 0 & 0 & 0 & 0 & 0 & 0 & 0 & 0 & 0 & 0 & 0 & 0 & 0 & 0 & 0 & 0 & 0 & 0 & 0 & 0 & 0 & 0 & 0 & 0 & 0 & 0 & 0 & 1 & 0 & 0 & 0 & 0 & 0 & 0 & 0 & 0 & 0 & 0 & 0 & 0 & 0 & 0 & 0 & 0 & 0 & 0 & 0 & 0 & 0 & 0 & 0 & 0 & 0 & 0 & 0 & 0 & 0 & 0 & 0 & 0 & 0 & 0 & 0 & 0 & 0 & 0 & 0 & 0 & 0 & 0 & 0 & 0 & 0 & 0 & 0 & 0 & 0 & 0 & 0 & 0 & 0 & 0 & 0 & 0 & 0 & 0 & 0 & 0 & 0 & 0 & 0 & 0 & 0 & 0 & 0 & 0 & 0 & 0 & 0 & 0 & 0 & 0 & 0 & 0 & 0 & 0 & 0 & 0 & 0 & 0 & 0 & 0 & 0 & 0 & 0 & 0 & 0 & 0 & 0 & 0 & 0 & 0 & 0 & 0 & 0 & 0 & 0 & 0 & 0 & 1 & 0 & 0 & 0 & 0 & 0 & 0 & 0 & 0 & 0 & 0 & 0 & 0 & 0 & 0 & 0 & 0 & 0 & 0 & 0 & 0 & 0 & 0 & 0 & 0 & 0 & 0 & 0 & 0 & 0 & 0 & 0 & 0 & 0 & 0 & 0 & 0 & 0 & 0 & 0 & 0 & 0 & 0 & 0 & 0 & 0 & 0 & 0 & 0 & 0 & 0 & 0 & 0 & 0 & 0 & 0 & 0 & 0 & 0 & 0 & 0 & 0 & 0 & 0 & 0 & 1 & 0 & 0 & 0 & 0 & 0 & 0 & 0 & 0 & 0 & 0 & 0 & 0 & 0 & 0 & 0 & 0 & 0 & 0 & 0 & 0 & 0 & 0 & 0 & 0 & 0 & 0 & 0 & 0 & 0 & 0 & -0.20223722 & -0.3018643 & -0.3668482 & -0.1964635 & irregular\\\\\n",
       "\t -0.2230800 & 0 & 0 & 0 & 0 & 0 & 0 & 0 & 0 & 0 & 0 & 0 & 0 & 0 & 0 & 0 & 0 & 0 & 0 & 0 & 0 & 0 & 0 & 0 & 0 & 0 & 0 & 0 & 0 & 0 & 0 & 0 & 0 & 0 & 0 & 0 & 0 & 0 & 0 & 0 & 0 & 0 & 0 & 0 & 0 & 0 & 0 & 0 & 0 & 0 & 0 & 0 & 0 & 0 & 0 & 0 & 0 & 0 & 0 & 0 & 0 & 0 & 0 & 0 & 0 & 0 & 0 & 0 & 0 & 0 & 0 & 0 & 0 & 0 & 0 & 0 & 0 & 0 & 0 & 0 & 0 & 0 & 0 & 0 & 0 & 0 & 0 & 0 & 0 & 0 & 0 & 0 & 0 & 0 & 0 & 0 & 0 & 0 & 0 & 0 & 0 & 0 & 0 & 0 & 0 & 0 & 0 & 0 & 0 & 0 & 0 & 0 & 0 & 0 & 0 & 0 & 0 & 0 & 0 & 0 & 0 & 0 & 0 & 0 & 0 & 0 & 0 & 0 & 0 & 0 & 0 & 0 & 0 & 0 & 0 & 1 & 0 & 0 & 0 & 0 & 0 & 0 & 0 & 0 & 0 & 0 & 0 & 0 & 0 & 0 & 0 & 0 & 0 & 0 & 0 & 0 & 0 & 0 & 0 & 0 & 0 & 0 & 0 & 0 & 0 & 0 & 0 & 0 & 0 & 0 & 0 & 0 & 0 & 0 & 0 & 0 & 0 & 1 & 0 & 0 & 0 & 0 & 0 & 0 & 0 & 0 & 0 & 0 & 0 & 0 & 0 & 0 & 0 & 0 & 0 & 0 & 0 & 0 & 0 & 0 & 0 & 0 & 0 & 0 & 0 & 0 & 0 & 0 & 0 & 0 & 0 & 0 & 0 & 0 & 0 & 0 & 0 & 0 & 0 & 0 & 0 & 0 & 0 & 0 & 0 & 0 & 0 & 0 & 0 & 0 & 0 & 0 & 0 & 0 & 0 & 1 & 0 & 0 & 0 & 0 & 0 & 0 & 0 & 0 & 0 & 0 & 0 & 0 & 0 & 0 & 0 & 0 & 0 & 0 & 0 & 0 & 0 & 0 & 0 & 0 & 0 & 0 & 0 & 0 & 0 & 0 & -0.31853091 & -0.2315891 & -0.3668482 &  0.1331198 & irregular\\\\\n",
       "\t -0.5776426 & 0 & 0 & 0 & 0 & 0 & 0 & 0 & 0 & 0 & 0 & 0 & 0 & 0 & 0 & 0 & 0 & 0 & 0 & 0 & 0 & 0 & 0 & 0 & 0 & 0 & 0 & 0 & 0 & 0 & 0 & 0 & 0 & 0 & 0 & 0 & 0 & 0 & 0 & 0 & 0 & 0 & 0 & 0 & 0 & 0 & 0 & 0 & 0 & 0 & 0 & 0 & 0 & 0 & 0 & 0 & 0 & 0 & 0 & 0 & 0 & 0 & 0 & 0 & 0 & 0 & 0 & 0 & 0 & 0 & 0 & 0 & 0 & 0 & 0 & 0 & 0 & 0 & 0 & 0 & 0 & 0 & 0 & 0 & 0 & 0 & 0 & 0 & 0 & 0 & 0 & 0 & 0 & 0 & 0 & 0 & 0 & 0 & 0 & 0 & 0 & 0 & 0 & 0 & 0 & 0 & 0 & 0 & 0 & 0 & 0 & 0 & 0 & 0 & 0 & 0 & 0 & 0 & 0 & 0 & 0 & 0 & 0 & 0 & 0 & 0 & 0 & 0 & 0 & 0 & 0 & 0 & 0 & 0 & 0 & 0 & 0 & 0 & 0 & 0 & 0 & 0 & 0 & 0 & 0 & 0 & 0 & 0 & 0 & 1 & 0 & 0 & 0 & 0 & 0 & 0 & 0 & 0 & 0 & 0 & 0 & 0 & 0 & 0 & 0 & 0 & 0 & 0 & 0 & 0 & 0 & 0 & 0 & 0 & 0 & 0 & 0 & 1 & 0 & 0 & 0 & 0 & 0 & 0 & 0 & 0 & 0 & 0 & 0 & 0 & 0 & 0 & 0 & 0 & 0 & 0 & 0 & 0 & 0 & 0 & 0 & 0 & 0 & 0 & 0 & 0 & 0 & 0 & 0 & 0 & 1 & 0 & 0 & 0 & 0 & 0 & 0 & 0 & 0 & 0 & 0 & 0 & 0 & 0 & 0 & 0 & 0 & 0 & 0 & 0 & 0 & 0 & 0 & 0 & 0 & 0 & 0 & 0 & 0 & 0 & 0 & 0 & 0 & 0 & 0 & 0 & 0 & 0 & 0 & 0 & 0 & 0 & 0 & 0 & 0 & 0 & 0 & 0 & 0 & 0 & 0 & 0 & 0 & 0 & 0 & 0 &  3.40286689 & -0.5126898 & -0.3668482 & -0.1964635 & bullet   \\\\\n",
       "\t -0.5359293 & 0 & 0 & 0 & 0 & 0 & 0 & 0 & 0 & 0 & 0 & 0 & 0 & 0 & 0 & 0 & 0 & 0 & 0 & 0 & 0 & 0 & 0 & 0 & 0 & 0 & 0 & 0 & 0 & 0 & 0 & 0 & 0 & 0 & 0 & 0 & 0 & 0 & 0 & 0 & 0 & 0 & 0 & 0 & 0 & 0 & 0 & 0 & 0 & 0 & 0 & 0 & 0 & 1 & 0 & 0 & 0 & 0 & 0 & 0 & 0 & 0 & 0 & 0 & 0 & 0 & 0 & 0 & 0 & 0 & 0 & 0 & 0 & 0 & 0 & 0 & 0 & 0 & 0 & 0 & 0 & 0 & 0 & 0 & 0 & 0 & 0 & 0 & 0 & 0 & 0 & 0 & 0 & 0 & 0 & 0 & 0 & 0 & 0 & 0 & 0 & 0 & 0 & 0 & 0 & 0 & 0 & 0 & 0 & 0 & 0 & 0 & 0 & 0 & 0 & 0 & 0 & 0 & 0 & 0 & 0 & 0 & 0 & 0 & 0 & 0 & 0 & 0 & 0 & 0 & 0 & 0 & 0 & 0 & 0 & 0 & 0 & 0 & 0 & 0 & 0 & 0 & 0 & 0 & 0 & 0 & 0 & 0 & 0 & 0 & 0 & 0 & 0 & 0 & 0 & 0 & 0 & 0 & 0 & 0 & 0 & 0 & 0 & 0 & 0 & 1 & 0 & 0 & 0 & 0 & 0 & 0 & 0 & 0 & 0 & 0 & 0 & 0 & 0 & 0 & 0 & 0 & 0 & 0 & 0 & 0 & 0 & 0 & 0 & 0 & 0 & 0 & 0 & 0 & 0 & 0 & 0 & 0 & 0 & 0 & 0 & 0 & 0 & 0 & 0 & 0 & 0 & 0 & 0 & 0 & 0 & 0 & 0 & 0 & 0 & 0 & 0 & 0 & 0 & 0 & 0 & 0 & 0 & 0 & 0 & 0 & 0 & 0 & 0 & 0 & 0 & 0 & 0 & 0 & 0 & 1 & 0 & 0 & 0 & 0 & 0 & 0 & 0 & 0 & 0 & 0 & 0 & 0 & 0 & 0 & 0 & 0 & 0 & 0 & 0 & 0 & 0 & 0 & 0 & 0 & 0 & 0 & 0 & 0 & 0 & 0 & -0.31853091 & -0.4424147 & -0.3668482 & -0.1964635 & irregular\\\\\n",
       "\t -0.3690764 & 0 & 0 & 0 & 0 & 0 & 0 & 0 & 0 & 0 & 0 & 0 & 0 & 0 & 0 & 0 & 0 & 0 & 0 & 0 & 0 & 0 & 0 & 0 & 0 & 0 & 0 & 0 & 0 & 0 & 0 & 0 & 0 & 0 & 0 & 0 & 0 & 0 & 0 & 0 & 0 & 0 & 0 & 0 & 0 & 0 & 0 & 0 & 0 & 0 & 0 & 0 & 0 & 0 & 0 & 0 & 0 & 0 & 0 & 0 & 0 & 0 & 0 & 0 & 0 & 0 & 0 & 0 & 0 & 0 & 0 & 0 & 0 & 0 & 0 & 0 & 0 & 0 & 0 & 0 & 0 & 0 & 0 & 0 & 0 & 0 & 0 & 0 & 0 & 0 & 0 & 0 & 0 & 0 & 0 & 0 & 1 & 0 & 0 & 0 & 0 & 0 & 0 & 0 & 0 & 0 & 0 & 0 & 0 & 0 & 0 & 0 & 0 & 0 & 0 & 0 & 0 & 0 & 0 & 0 & 0 & 0 & 0 & 0 & 0 & 0 & 0 & 0 & 0 & 0 & 0 & 0 & 0 & 0 & 0 & 0 & 0 & 0 & 0 & 0 & 0 & 0 & 0 & 0 & 0 & 0 & 0 & 0 & 0 & 0 & 0 & 0 & 0 & 0 & 0 & 0 & 0 & 0 & 0 & 0 & 0 & 0 & 0 & 0 & 0 & 0 & 0 & 0 & 0 & 0 & 1 & 0 & 0 & 0 & 0 & 0 & 0 & 0 & 0 & 0 & 0 & 0 & 0 & 0 & 0 & 0 & 0 & 0 & 0 & 0 & 0 & 0 & 0 & 0 & 0 & 0 & 0 & 0 & 0 & 0 & 0 & 0 & 0 & 0 & 0 & 0 & 0 & 0 & 0 & 0 & 0 & 0 & 0 & 0 & 0 & 0 & 0 & 0 & 0 & 0 & 0 & 0 & 0 & 0 & 0 & 0 & 0 & 0 & 0 & 0 & 0 & 0 & 0 & 0 & 0 & 1 & 0 & 0 & 0 & 0 & 0 & 0 & 0 & 0 & 0 & 0 & 0 & 0 & 0 & 0 & 0 & 0 & 0 & 0 & 0 & 0 & 0 & 0 & 0 & 0 & 0 & 0 & 0 & 0 & 0 & 0 &  0.03035014 & -0.1613139 & -0.3668482 & -0.1964635 & monthly  \\\\\n",
       "\\end{tabular}\n"
      ],
      "text/markdown": [
       "\n",
       "A data.frame: 5 × 271\n",
       "\n",
       "| loan_amount &lt;dbl&gt; | activity_Adult.Care &lt;int&gt; | activity_Agriculture &lt;int&gt; | activity_Air.Conditioning &lt;int&gt; | activity_Animal.Sales &lt;int&gt; | activity_Aquaculture &lt;int&gt; | activity_Arts &lt;int&gt; | activity_Auto.Repair &lt;int&gt; | activity_Bakery &lt;int&gt; | activity_Balut.Making &lt;int&gt; | ... ... | country_code_XK &lt;int&gt; | country_code_YE &lt;int&gt; | country_code_ZA &lt;int&gt; | country_code_ZM &lt;int&gt; | country_code_ZW &lt;int&gt; | term_in_months &lt;dbl&gt; | lender_count &lt;dbl&gt; | count_male &lt;dbl&gt; | count_female &lt;dbl&gt; | loan.repayment_interval &lt;fct&gt; |\n",
       "|---|---|---|---|---|---|---|---|---|---|---|---|---|---|---|---|---|---|---|---|---|\n",
       "| -0.4525029 | 0 | 0 | 0 | 0 | 0 | 0 | 0 | 0 | 0 | ... | 0 | 0 | 0 | 0 | 0 | -0.20223722 | -0.3018643 | -0.3668482 | -0.1964635 | irregular |\n",
       "| -0.2230800 | 0 | 0 | 0 | 0 | 0 | 0 | 0 | 0 | 0 | ... | 0 | 0 | 0 | 0 | 0 | -0.31853091 | -0.2315891 | -0.3668482 |  0.1331198 | irregular |\n",
       "| -0.5776426 | 0 | 0 | 0 | 0 | 0 | 0 | 0 | 0 | 0 | ... | 0 | 0 | 0 | 0 | 0 |  3.40286689 | -0.5126898 | -0.3668482 | -0.1964635 | bullet    |\n",
       "| -0.5359293 | 0 | 0 | 0 | 0 | 0 | 0 | 0 | 0 | 0 | ... | 0 | 0 | 0 | 0 | 0 | -0.31853091 | -0.4424147 | -0.3668482 | -0.1964635 | irregular |\n",
       "| -0.3690764 | 0 | 0 | 0 | 0 | 0 | 0 | 0 | 0 | 0 | ... | 0 | 0 | 0 | 0 | 0 |  0.03035014 | -0.1613139 | -0.3668482 | -0.1964635 | monthly   |\n",
       "\n"
      ],
      "text/plain": [
       "  loan_amount activity_Adult.Care activity_Agriculture\n",
       "1 -0.4525029  0                   0                   \n",
       "2 -0.2230800  0                   0                   \n",
       "3 -0.5776426  0                   0                   \n",
       "4 -0.5359293  0                   0                   \n",
       "5 -0.3690764  0                   0                   \n",
       "  activity_Air.Conditioning activity_Animal.Sales activity_Aquaculture\n",
       "1 0                         0                     0                   \n",
       "2 0                         0                     0                   \n",
       "3 0                         0                     0                   \n",
       "4 0                         0                     0                   \n",
       "5 0                         0                     0                   \n",
       "  activity_Arts activity_Auto.Repair activity_Bakery activity_Balut.Making ...\n",
       "1 0             0                    0               0                     ...\n",
       "2 0             0                    0               0                     ...\n",
       "3 0             0                    0               0                     ...\n",
       "4 0             0                    0               0                     ...\n",
       "5 0             0                    0               0                     ...\n",
       "  country_code_XK country_code_YE country_code_ZA country_code_ZM\n",
       "1 0               0               0               0              \n",
       "2 0               0               0               0              \n",
       "3 0               0               0               0              \n",
       "4 0               0               0               0              \n",
       "5 0               0               0               0              \n",
       "  country_code_ZW term_in_months lender_count count_male count_female\n",
       "1 0               -0.20223722    -0.3018643   -0.3668482 -0.1964635  \n",
       "2 0               -0.31853091    -0.2315891   -0.3668482  0.1331198  \n",
       "3 0                3.40286689    -0.5126898   -0.3668482 -0.1964635  \n",
       "4 0               -0.31853091    -0.4424147   -0.3668482 -0.1964635  \n",
       "5 0                0.03035014    -0.1613139   -0.3668482 -0.1964635  \n",
       "  loan.repayment_interval\n",
       "1 irregular              \n",
       "2 irregular              \n",
       "3 bullet                 \n",
       "4 irregular              \n",
       "5 monthly                "
      ]
     },
     "metadata": {},
     "output_type": "display_data"
    }
   ],
   "source": [
    "head(X,5)"
   ]
  },
  {
   "cell_type": "code",
   "execution_count": 28,
   "metadata": {},
   "outputs": [
    {
     "name": "stderr",
     "output_type": "stream",
     "text": [
      "Warning message in lda.default(x, grouping, ...):\n",
      "\"variables are collinear\"\n"
     ]
    }
   ],
   "source": [
    "lda_x <- lda(formula = loan.repayment_interval~., data = X)"
   ]
  },
  {
   "cell_type": "code",
   "execution_count": 51,
   "metadata": {
    "scrolled": true
   },
   "outputs": [],
   "source": [
    "lda_x_df = as.data.frame(predict(lda_x, X))"
   ]
  },
  {
   "cell_type": "code",
   "execution_count": 52,
   "metadata": {},
   "outputs": [
    {
     "data": {
      "text/html": [
       "<table>\n",
       "<caption>A data.frame: 6 × 8</caption>\n",
       "<thead>\n",
       "\t<tr><th scope=col>class</th><th scope=col>posterior.bullet</th><th scope=col>posterior.irregular</th><th scope=col>posterior.monthly</th><th scope=col>posterior.weekly</th><th scope=col>x.LD1</th><th scope=col>x.LD2</th><th scope=col>x.LD3</th></tr>\n",
       "\t<tr><th scope=col>&lt;fct&gt;</th><th scope=col>&lt;dbl&gt;</th><th scope=col>&lt;dbl&gt;</th><th scope=col>&lt;dbl&gt;</th><th scope=col>&lt;dbl&gt;</th><th scope=col>&lt;dbl&gt;</th><th scope=col>&lt;dbl&gt;</th><th scope=col>&lt;dbl&gt;</th></tr>\n",
       "</thead>\n",
       "<tbody>\n",
       "\t<tr><td>monthly</td><td>1.127114e-04</td><td>1.110251e-01</td><td>0.8888621472</td><td>1.317052e-09</td><td> 0.08698293</td><td> 1.0403199</td><td>-0.5620902</td></tr>\n",
       "\t<tr><td>monthly</td><td>2.181305e-04</td><td>3.798629e-01</td><td>0.6199189998</td><td>9.818704e-09</td><td> 0.49430152</td><td> 0.4325484</td><td>-0.1621515</td></tr>\n",
       "\t<tr><td>bullet </td><td>9.772054e-01</td><td>4.305094e-04</td><td>0.0223640489</td><td>4.589992e-10</td><td>-2.64729503</td><td>-1.7889887</td><td> 0.1733267</td></tr>\n",
       "\t<tr><td>monthly</td><td>1.292666e-04</td><td>3.180886e-02</td><td>0.9680618647</td><td>5.507060e-09</td><td>-0.40180061</td><td> 1.3212769</td><td>-0.1954248</td></tr>\n",
       "\t<tr><td>monthly</td><td>1.254875e-04</td><td>2.036339e-02</td><td>0.9795111189</td><td>1.539855e-09</td><td>-0.55986093</td><td> 1.4317578</td><td>-0.4356361</td></tr>\n",
       "\t<tr><td>weekly </td><td>3.066373e-07</td><td>2.272589e-05</td><td>0.0001273402</td><td>9.998496e-01</td><td>-0.25946506</td><td> 0.2280333</td><td> 5.5609877</td></tr>\n",
       "</tbody>\n",
       "</table>\n"
      ],
      "text/latex": [
       "A data.frame: 6 × 8\n",
       "\\begin{tabular}{r|llllllll}\n",
       " class & posterior.bullet & posterior.irregular & posterior.monthly & posterior.weekly & x.LD1 & x.LD2 & x.LD3\\\\\n",
       " <fct> & <dbl> & <dbl> & <dbl> & <dbl> & <dbl> & <dbl> & <dbl>\\\\\n",
       "\\hline\n",
       "\t monthly & 1.127114e-04 & 1.110251e-01 & 0.8888621472 & 1.317052e-09 &  0.08698293 &  1.0403199 & -0.5620902\\\\\n",
       "\t monthly & 2.181305e-04 & 3.798629e-01 & 0.6199189998 & 9.818704e-09 &  0.49430152 &  0.4325484 & -0.1621515\\\\\n",
       "\t bullet  & 9.772054e-01 & 4.305094e-04 & 0.0223640489 & 4.589992e-10 & -2.64729503 & -1.7889887 &  0.1733267\\\\\n",
       "\t monthly & 1.292666e-04 & 3.180886e-02 & 0.9680618647 & 5.507060e-09 & -0.40180061 &  1.3212769 & -0.1954248\\\\\n",
       "\t monthly & 1.254875e-04 & 2.036339e-02 & 0.9795111189 & 1.539855e-09 & -0.55986093 &  1.4317578 & -0.4356361\\\\\n",
       "\t weekly  & 3.066373e-07 & 2.272589e-05 & 0.0001273402 & 9.998496e-01 & -0.25946506 &  0.2280333 &  5.5609877\\\\\n",
       "\\end{tabular}\n"
      ],
      "text/markdown": [
       "\n",
       "A data.frame: 6 × 8\n",
       "\n",
       "| class &lt;fct&gt; | posterior.bullet &lt;dbl&gt; | posterior.irregular &lt;dbl&gt; | posterior.monthly &lt;dbl&gt; | posterior.weekly &lt;dbl&gt; | x.LD1 &lt;dbl&gt; | x.LD2 &lt;dbl&gt; | x.LD3 &lt;dbl&gt; |\n",
       "|---|---|---|---|---|---|---|---|\n",
       "| monthly | 1.127114e-04 | 1.110251e-01 | 0.8888621472 | 1.317052e-09 |  0.08698293 |  1.0403199 | -0.5620902 |\n",
       "| monthly | 2.181305e-04 | 3.798629e-01 | 0.6199189998 | 9.818704e-09 |  0.49430152 |  0.4325484 | -0.1621515 |\n",
       "| bullet  | 9.772054e-01 | 4.305094e-04 | 0.0223640489 | 4.589992e-10 | -2.64729503 | -1.7889887 |  0.1733267 |\n",
       "| monthly | 1.292666e-04 | 3.180886e-02 | 0.9680618647 | 5.507060e-09 | -0.40180061 |  1.3212769 | -0.1954248 |\n",
       "| monthly | 1.254875e-04 | 2.036339e-02 | 0.9795111189 | 1.539855e-09 | -0.55986093 |  1.4317578 | -0.4356361 |\n",
       "| weekly  | 3.066373e-07 | 2.272589e-05 | 0.0001273402 | 9.998496e-01 | -0.25946506 |  0.2280333 |  5.5609877 |\n",
       "\n"
      ],
      "text/plain": [
       "  class   posterior.bullet posterior.irregular posterior.monthly\n",
       "1 monthly 1.127114e-04     1.110251e-01        0.8888621472     \n",
       "2 monthly 2.181305e-04     3.798629e-01        0.6199189998     \n",
       "3 bullet  9.772054e-01     4.305094e-04        0.0223640489     \n",
       "4 monthly 1.292666e-04     3.180886e-02        0.9680618647     \n",
       "5 monthly 1.254875e-04     2.036339e-02        0.9795111189     \n",
       "6 weekly  3.066373e-07     2.272589e-05        0.0001273402     \n",
       "  posterior.weekly x.LD1       x.LD2      x.LD3     \n",
       "1 1.317052e-09      0.08698293  1.0403199 -0.5620902\n",
       "2 9.818704e-09      0.49430152  0.4325484 -0.1621515\n",
       "3 4.589992e-10     -2.64729503 -1.7889887  0.1733267\n",
       "4 5.507060e-09     -0.40180061  1.3212769 -0.1954248\n",
       "5 1.539855e-09     -0.55986093  1.4317578 -0.4356361\n",
       "6 9.998496e-01     -0.25946506  0.2280333  5.5609877"
      ]
     },
     "metadata": {},
     "output_type": "display_data"
    }
   ],
   "source": [
    "head(lda_x_df)"
   ]
  },
  {
   "cell_type": "code",
   "execution_count": 56,
   "metadata": {},
   "outputs": [],
   "source": [
    "selected_columns = c('x.LD1', 'x.LD2', 'x.LD3')"
   ]
  },
  {
   "cell_type": "code",
   "execution_count": null,
   "metadata": {},
   "outputs": [],
   "source": [
    "lda_x_df_selected = lda_x_df[names(lda_x_df) %in% selected_columns]"
   ]
  },
  {
   "cell_type": "code",
   "execution_count": 57,
   "metadata": {},
   "outputs": [
    {
     "data": {
      "text/html": [
       "<table>\n",
       "<caption>A data.frame: 6 × 3</caption>\n",
       "<thead>\n",
       "\t<tr><th scope=col>x.LD1</th><th scope=col>x.LD2</th><th scope=col>x.LD3</th></tr>\n",
       "\t<tr><th scope=col>&lt;dbl&gt;</th><th scope=col>&lt;dbl&gt;</th><th scope=col>&lt;dbl&gt;</th></tr>\n",
       "</thead>\n",
       "<tbody>\n",
       "\t<tr><td> 0.08698293</td><td> 1.0403199</td><td>-0.5620902</td></tr>\n",
       "\t<tr><td> 0.49430152</td><td> 0.4325484</td><td>-0.1621515</td></tr>\n",
       "\t<tr><td>-2.64729503</td><td>-1.7889887</td><td> 0.1733267</td></tr>\n",
       "\t<tr><td>-0.40180061</td><td> 1.3212769</td><td>-0.1954248</td></tr>\n",
       "\t<tr><td>-0.55986093</td><td> 1.4317578</td><td>-0.4356361</td></tr>\n",
       "\t<tr><td>-0.25946506</td><td> 0.2280333</td><td> 5.5609877</td></tr>\n",
       "</tbody>\n",
       "</table>\n"
      ],
      "text/latex": [
       "A data.frame: 6 × 3\n",
       "\\begin{tabular}{r|lll}\n",
       " x.LD1 & x.LD2 & x.LD3\\\\\n",
       " <dbl> & <dbl> & <dbl>\\\\\n",
       "\\hline\n",
       "\t  0.08698293 &  1.0403199 & -0.5620902\\\\\n",
       "\t  0.49430152 &  0.4325484 & -0.1621515\\\\\n",
       "\t -2.64729503 & -1.7889887 &  0.1733267\\\\\n",
       "\t -0.40180061 &  1.3212769 & -0.1954248\\\\\n",
       "\t -0.55986093 &  1.4317578 & -0.4356361\\\\\n",
       "\t -0.25946506 &  0.2280333 &  5.5609877\\\\\n",
       "\\end{tabular}\n"
      ],
      "text/markdown": [
       "\n",
       "A data.frame: 6 × 3\n",
       "\n",
       "| x.LD1 &lt;dbl&gt; | x.LD2 &lt;dbl&gt; | x.LD3 &lt;dbl&gt; |\n",
       "|---|---|---|\n",
       "|  0.08698293 |  1.0403199 | -0.5620902 |\n",
       "|  0.49430152 |  0.4325484 | -0.1621515 |\n",
       "| -2.64729503 | -1.7889887 |  0.1733267 |\n",
       "| -0.40180061 |  1.3212769 | -0.1954248 |\n",
       "| -0.55986093 |  1.4317578 | -0.4356361 |\n",
       "| -0.25946506 |  0.2280333 |  5.5609877 |\n",
       "\n"
      ],
      "text/plain": [
       "  x.LD1       x.LD2      x.LD3     \n",
       "1  0.08698293  1.0403199 -0.5620902\n",
       "2  0.49430152  0.4325484 -0.1621515\n",
       "3 -2.64729503 -1.7889887  0.1733267\n",
       "4 -0.40180061  1.3212769 -0.1954248\n",
       "5 -0.55986093  1.4317578 -0.4356361\n",
       "6 -0.25946506  0.2280333  5.5609877"
      ]
     },
     "metadata": {},
     "output_type": "display_data"
    }
   ],
   "source": [
    "head(lda_x_df_selected)"
   ]
  },
  {
   "cell_type": "code",
   "execution_count": 58,
   "metadata": {
    "scrolled": true
   },
   "outputs": [],
   "source": [
    "write.csv(lda_x_df_selected, \"kiva_loans_lda.csv\")"
   ]
  },
  {
   "cell_type": "code",
   "execution_count": 61,
   "metadata": {},
   "outputs": [
    {
     "data": {
      "text/html": [
       "<ol class=list-inline>\n",
       "\t<li>'x.LD1'</li>\n",
       "\t<li>'x.LD2'</li>\n",
       "\t<li>'x.LD3'</li>\n",
       "</ol>\n"
      ],
      "text/latex": [
       "\\begin{enumerate*}\n",
       "\\item 'x.LD1'\n",
       "\\item 'x.LD2'\n",
       "\\item 'x.LD3'\n",
       "\\end{enumerate*}\n"
      ],
      "text/markdown": [
       "1. 'x.LD1'\n",
       "2. 'x.LD2'\n",
       "3. 'x.LD3'\n",
       "\n",
       "\n"
      ],
      "text/plain": [
       "[1] \"x.LD1\" \"x.LD2\" \"x.LD3\""
      ]
     },
     "metadata": {},
     "output_type": "display_data"
    }
   ],
   "source": [
    "names(lda_x_df_selected)"
   ]
  },
  {
   "cell_type": "code",
   "execution_count": 63,
   "metadata": {},
   "outputs": [
    {
     "data": {
      "text/html": [
       "671205"
      ],
      "text/latex": [
       "671205"
      ],
      "text/markdown": [
       "671205"
      ],
      "text/plain": [
       "[1] 671205"
      ]
     },
     "metadata": {},
     "output_type": "display_data"
    }
   ],
   "source": [
    "nrow(lda_x_df_selected)"
   ]
  },
  {
   "cell_type": "code",
   "execution_count": 64,
   "metadata": {},
   "outputs": [
    {
     "data": {
      "text/html": [
       "671205"
      ],
      "text/latex": [
       "671205"
      ],
      "text/markdown": [
       "671205"
      ],
      "text/plain": [
       "[1] 671205"
      ]
     },
     "metadata": {},
     "output_type": "display_data"
    }
   ],
   "source": [
    "nrow(X)"
   ]
  },
  {
   "cell_type": "code",
   "execution_count": null,
   "metadata": {},
   "outputs": [],
   "source": []
  }
 ],
 "metadata": {
  "kernelspec": {
   "display_name": "R",
   "language": "R",
   "name": "ir"
  },
  "language_info": {
   "codemirror_mode": "r",
   "file_extension": ".r",
   "mimetype": "text/x-r-source",
   "name": "R",
   "pygments_lexer": "r",
   "version": "3.6.1"
  }
 },
 "nbformat": 4,
 "nbformat_minor": 2
}
