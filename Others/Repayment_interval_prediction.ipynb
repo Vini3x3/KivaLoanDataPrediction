{
 "cells": [
  {
   "cell_type": "markdown",
   "metadata": {},
   "source": [
    "# TOC:\n",
    "* [Import_Library](#Import_Library)\n",
    "* [Import_Dataset](#Import_Dataset)\n",
    "* [Data_Visualization](#Data_Visualization)\n",
    "* [Data_Preprocessing](#Data_Preprocessing)\n",
    "* [Training_Method](#Training_Method)\n",
    "* [Model_Selection](#Model_Selection)\n",
    "* [Feature_Extraction](#Feature_Extraction)\n",
    "* [Tuning_Parameter](#Tuning_Parameter)\n",
    "* [Evaluation](#Evaluation)\n",
    "* [Interpretation](#Interpretation)"
   ]
  },
  {
   "cell_type": "markdown",
   "metadata": {},
   "source": [
    "# Import_Library"
   ]
  },
  {
   "cell_type": "code",
   "execution_count": 149,
   "metadata": {},
   "outputs": [],
   "source": [
    "# data visualization and utilities\n",
    "import pandas as pd\n",
    "import numpy as np\n",
    "import matplotlib.pyplot as plt\n",
    "import seaborn as sns\n",
    "from mpl_toolkits.mplot3d import Axes3D\n",
    "%matplotlib inline"
   ]
  },
  {
   "cell_type": "code",
   "execution_count": 47,
   "metadata": {},
   "outputs": [],
   "source": [
    "# classifier\n",
    "from sklearn.linear_model import Perceptron\n",
    "from sklearn.linear_model import LinearRegression\n",
    "from sklearn.linear_model import LogisticRegression\n",
    "from sklearn.ensemble import RandomForestClassifier\n",
    "from sklearn.neural_network import MLPClassifier as MLP\n",
    "from sklearn.svm import SVC\n",
    "from sklearn.tree import DecisionTreeClassifier as DTC\n",
    "from sklearn.neighbors import KNeighborsClassifier as KNN\n",
    "from sklearn.ensemble import GradientBoostingClassifier as GBC\n",
    "from sklearn.linear_model import Lasso"
   ]
  },
  {
   "cell_type": "code",
   "execution_count": 46,
   "metadata": {},
   "outputs": [],
   "source": [
    "# evaluation\n",
    "from sklearn.metrics import classification_report, confusion_matrix\n",
    "from sklearn.model_selection import KFold, GridSearchCV"
   ]
  },
  {
   "cell_type": "code",
   "execution_count": 4,
   "metadata": {},
   "outputs": [],
   "source": [
    "# data preprocessing\n",
    "from sklearn.model_selection import train_test_split\n",
    "from sklearn.preprocessing import StandardScaler\n",
    "from sklearn.preprocessing import MinMaxScaler\n",
    "from sklearn.discriminant_analysis import LinearDiscriminantAnalysis as LDA\n",
    "from sklearn.decomposition import PCA"
   ]
  },
  {
   "cell_type": "markdown",
   "metadata": {},
   "source": [
    "# Import_Dataset"
   ]
  },
  {
   "cell_type": "code",
   "execution_count": 5,
   "metadata": {},
   "outputs": [],
   "source": [
    "loan = pd.read_csv('kiva_loans.csv')"
   ]
  },
  {
   "cell_type": "code",
   "execution_count": 6,
   "metadata": {},
   "outputs": [],
   "source": [
    "loan_encoded = pd.read_csv('kiva_loans_dummied.csv')"
   ]
  },
  {
   "cell_type": "code",
   "execution_count": 7,
   "metadata": {},
   "outputs": [],
   "source": [
    "loan_std = pd.read_csv('kiva_loans_standardized.csv')"
   ]
  },
  {
   "cell_type": "markdown",
   "metadata": {},
   "source": [
    "# Data_Visualization"
   ]
  },
  {
   "cell_type": "code",
   "execution_count": 9,
   "metadata": {},
   "outputs": [],
   "source": [
    "# Your code here"
   ]
  },
  {
   "cell_type": "markdown",
   "metadata": {},
   "source": [
    "# Data_Preprocessing"
   ]
  },
  {
   "cell_type": "markdown",
   "metadata": {},
   "source": [
    "There are two major concerns on the data preprocessing: \n",
    "\n",
    "1. Missing value\n",
    "2. Categorical Data\n",
    "3. Standardization\n",
    "4. Feature Selection\n",
    "\n",
    "For missing value, a missing flag is set to TRUE if it is missing.  No data is deleted because of its incompleteness.  \n",
    "\n",
    "For the Catgeorical Data, one-hot encoding is implemented for better fitting and training.  For the `borrower_genderss` column, it is broken into `count_male`  and `count_female`.  \n",
    "\n",
    "For the standardization, it is necessary for minimizing the learning cost and speed up the training speed.  \n",
    "\n",
    "For the feature selection, eight major features are selected with the equipment of financial knowledge.  They are namely `funded_amount`, `loan_amount`, `activity`, `sector`, `country_code`, `term_in_months`, `lender_count` and `borrower_genders`."
   ]
  },
  {
   "cell_type": "markdown",
   "metadata": {},
   "source": [
    "**Below is R code.**"
   ]
  },
  {
   "cell_type": "code",
   "execution_count": null,
   "metadata": {},
   "outputs": [],
   "source": [
    "# install.packages(\"dummies\")\n",
    "library(dummies)\n",
    "loan <- read.csv(\"kiva_loans.csv\")\n",
    "df = loan[, !names(loan) %in% c(\"date\", \"tags\", \"id\", \"funded_amount\", \"use\", \"country\", \"region\", \"currency\", \"partner_id\", \"posted_time\", \"disbursed_time\", \"funded_time\")]"
   ]
  },
  {
   "cell_type": "code",
   "execution_count": null,
   "metadata": {},
   "outputs": [],
   "source": [
    "# for checking\n",
    "head(df,5)"
   ]
  },
  {
   "cell_type": "code",
   "execution_count": null,
   "metadata": {},
   "outputs": [],
   "source": [
    "# for checking\n",
    "names(df)"
   ]
  },
  {
   "cell_type": "code",
   "execution_count": null,
   "metadata": {},
   "outputs": [],
   "source": [
    "df = dummy.data.frame(df, names = c(\"country_code\", \"activity\", \"sector\", \"repayment_interval\"), sep = \"_\")"
   ]
  },
  {
   "cell_type": "code",
   "execution_count": null,
   "metadata": {},
   "outputs": [],
   "source": [
    "# for checking\n",
    "head(df,5)"
   ]
  },
  {
   "cell_type": "code",
   "execution_count": null,
   "metadata": {},
   "outputs": [],
   "source": [
    "# for checking\n",
    "names(df)"
   ]
  },
  {
   "cell_type": "code",
   "execution_count": null,
   "metadata": {},
   "outputs": [],
   "source": [
    "# for the sake of safety, just choose first 5 rows to run.  I tested it an it success, but finally it takes too long such that I only demonstrate how to run here.  \n",
    "# df1 = df\n",
    "df1 = df[1:5,]"
   ]
  },
  {
   "cell_type": "code",
   "execution_count": null,
   "metadata": {},
   "outputs": [],
   "source": [
    "df1$count_male   = as.integer(rep(0, NROW(df1)))\n",
    "df1$count_female = as.integer(rep(0, NROW(df1)))\n",
    "for(i in 1:nrow(df1)) {\n",
    "    factor = df1[i, \"borrower_genders\"]\n",
    "    # print(string)\n",
    "    string = as.character(factor)\n",
    "    # print(string)\n",
    "    string_list = as.list(strsplit(string,', ')[[1]])    \n",
    "    # print(string_list)\n",
    "    df1[i,'count_male'] = sum(string_list == 'male')\n",
    "    df1[i,'count_female'] = sum(string_list == 'female')\n",
    "}"
   ]
  },
  {
   "cell_type": "code",
   "execution_count": null,
   "metadata": {},
   "outputs": [],
   "source": [
    "# for checking\n",
    "head(df,5)"
   ]
  },
  {
   "cell_type": "code",
   "execution_count": null,
   "metadata": {},
   "outputs": [],
   "source": [
    "# for checking\n",
    "names(df)"
   ]
  },
  {
   "cell_type": "code",
   "execution_count": null,
   "metadata": {},
   "outputs": [],
   "source": [
    "# drop the original borrower_genders column\n",
    "df1 = df1[ , !(names(df1) %in% c('borrower_genders'))]"
   ]
  },
  {
   "cell_type": "code",
   "execution_count": null,
   "metadata": {},
   "outputs": [],
   "source": [
    "# for checking\n",
    "head(df,5)"
   ]
  },
  {
   "cell_type": "code",
   "execution_count": null,
   "metadata": {},
   "outputs": [],
   "source": [
    "# for checking\n",
    "names(df)"
   ]
  },
  {
   "cell_type": "code",
   "execution_count": null,
   "metadata": {},
   "outputs": [],
   "source": [
    "df2 = df1"
   ]
  },
  {
   "cell_type": "code",
   "execution_count": null,
   "metadata": {},
   "outputs": [],
   "source": [
    "df2$loan_amount <- scale(df2$loan_amount)\n",
    "df2$term_in_months <- scale(df2$term_in_months)\n",
    "df2$lender_count <- scale(df2$lender_count)\n",
    "\n",
    "# check that we get mean of 0 and sd of 1\n",
    "colMeans(df2)  # faster version of apply(scaled.dat, 2, mean)\n",
    "apply(df2, 2, sd)"
   ]
  },
  {
   "cell_type": "code",
   "execution_count": null,
   "metadata": {},
   "outputs": [],
   "source": [
    "# for checking\n",
    "head(df2,5)"
   ]
  },
  {
   "cell_type": "code",
   "execution_count": null,
   "metadata": {},
   "outputs": [],
   "source": [
    "names(df2)"
   ]
  },
  {
   "cell_type": "markdown",
   "metadata": {},
   "source": [
    "# Feature_Extraction"
   ]
  },
  {
   "cell_type": "markdown",
   "metadata": {},
   "source": [
    "## Why Feature Extraction"
   ]
  },
  {
   "cell_type": "markdown",
   "metadata": {},
   "source": [
    "Feature Extraction is essential for this project.  There are more than 270 columns in the transformed dataset, making it overcomplicated and bewildering to interpret the data.  Therefore, we seek to reduce the dimension of the dataset at least to 10 features.  "
   ]
  },
  {
   "cell_type": "markdown",
   "metadata": {},
   "source": [
    "## Feature Extraction via LDA"
   ]
  },
  {
   "cell_type": "markdown",
   "metadata": {},
   "source": [
    "LDA is used for feature extraction.  There are several reasons for choosing LDA: \n",
    "\n",
    "1. LDA has better encapsulation of information comparising to best subset selection.  \n",
    "2. The dataset is stable and follows normal distribution compare to PCA.  "
   ]
  },
  {
   "cell_type": "code",
   "execution_count": 8,
   "metadata": {},
   "outputs": [],
   "source": [
    "selected_features = list(loan_std.columns)\n",
    "selected_features.remove('repayment_interval_irregular')\n",
    "selected_features.remove('repayment_interval_monthly')\n",
    "selected_features.remove('repayment_interval_weekly')\n",
    "selected_features.remove('repayment_interval_bullet')"
   ]
  },
  {
   "cell_type": "code",
   "execution_count": 14,
   "metadata": {},
   "outputs": [],
   "source": [
    "y = loan['repayment_interval']\n",
    "X = loan_std[selected_features]"
   ]
  },
  {
   "cell_type": "code",
   "execution_count": 15,
   "metadata": {},
   "outputs": [
    {
     "name": "stderr",
     "output_type": "stream",
     "text": [
      "c:\\program files\\python37\\lib\\site-packages\\sklearn\\discriminant_analysis.py:388: UserWarning: Variables are collinear.\n",
      "  warnings.warn(\"Variables are collinear.\")\n"
     ]
    }
   ],
   "source": [
    "# An example code for how to transform the training set and test set.  Don't run it; there is no X_train and X_test now.  \n",
    "lda = LDA()\n",
    "X_lda = lda.fit_transform(X, y)"
   ]
  },
  {
   "cell_type": "markdown",
   "metadata": {},
   "source": [
    "LDA can transforms data from 270+ columns to only 3 columns in maximum.  This is because LDA at most can transforms to c-1 columns for c different labels.  "
   ]
  },
  {
   "cell_type": "code",
   "execution_count": 16,
   "metadata": {
    "scrolled": true
   },
   "outputs": [
    {
     "data": {
      "text/plain": [
       "array([[ 0.08698293,  1.04031988, -0.56209015],\n",
       "       [ 0.49430152,  0.43254843, -0.16215149],\n",
       "       [-2.64729503, -1.78898871,  0.17332673],\n",
       "       [-0.40180061,  1.3212769 , -0.19542478],\n",
       "       [-0.55986093,  1.43175781, -0.43563611]])"
      ]
     },
     "execution_count": 16,
     "metadata": {},
     "output_type": "execute_result"
    }
   ],
   "source": [
    "X_lda[0:5]"
   ]
  },
  {
   "cell_type": "code",
   "execution_count": 160,
   "metadata": {},
   "outputs": [],
   "source": [
    "Irregular = [[],[],[]]\n",
    "Monthly = [[],[],[]]\n",
    "Weekly = [[],[],[]]\n",
    "Bullet = [[],[],[]]"
   ]
  },
  {
   "cell_type": "code",
   "execution_count": 161,
   "metadata": {},
   "outputs": [],
   "source": [
    "for i in range(len(y)):\n",
    "    if y[i] == 'irregular':        \n",
    "        Irregular[0].append(X_lda[i][0])\n",
    "        Irregular[1].append(X_lda[i][1])\n",
    "        Irregular[2].append(X_lda[i][2])\n",
    "    elif y[i] == 'monthly':\n",
    "        Monthly[0].append(X_lda[i][0])\n",
    "        Monthly[1].append(X_lda[i][1])\n",
    "        Monthly[2].append(X_lda[i][2])\n",
    "    elif y[i] == 'bullet':\n",
    "        Bullet[0].append(X_lda[i][0])\n",
    "        Bullet[1].append(X_lda[i][1])\n",
    "        Bullet[2].append(X_lda[i][2])\n",
    "    else:\n",
    "        Weekly[0].append(X_lda[i][0])\n",
    "        Weekly[1].append(X_lda[i][1])\n",
    "        Weekly[2].append(X_lda[i][2])"
   ]
  },
  {
   "cell_type": "code",
   "execution_count": 162,
   "metadata": {},
   "outputs": [
    {
     "data": {
      "image/png": "[encoded data removed]",
      "text/plain": [
       "<Figure size 432x288 with 1 Axes>"
      ]
     },
     "metadata": {
      "needs_background": "light"
     },
     "output_type": "display_data"
    }
   ],
   "source": [
    "fig = plt.figure()\n",
    "ax = fig.add_subplot(111, projection='3d')\n",
    "\n",
    "ax.scatter(Irregular[0], Irregular[1], Irregular[2], marker='o', color='red')\n",
    "ax.scatter(Monthly[0], Monthly[1], Monthly[2], marker='^', color='orange')\n",
    "ax.scatter(Weekly[0], Weekly[1], Weekly[2], marker='*', color='blue')\n",
    "ax.scatter(Bullet[0], Bullet[1], Bullet[2], marker='s', color='purple')\n",
    "\n",
    "ax.set_xlabel('X Label')\n",
    "ax.set_ylabel('Y Label')\n",
    "ax.set_zlabel('Z Label')\n",
    "\n",
    "plt.show()"
   ]
  },
  {
   "cell_type": "markdown",
   "metadata": {},
   "source": [
    "As one can see, the data is highly non-linear.  "
   ]
  },
  {
   "cell_type": "markdown",
   "metadata": {},
   "source": [
    "# Training_Method"
   ]
  },
  {
   "cell_type": "markdown",
   "metadata": {},
   "source": [
    "k-fold validation is used in the search for model.  It provides a relatively stable and valid result comparing with validation set, while balancing the time cost for LOOCV.  "
   ]
  },
  {
   "cell_type": "markdown",
   "metadata": {},
   "source": [
    "# Model_Selection"
   ]
  },
  {
   "cell_type": "markdown",
   "metadata": {},
   "source": [
    "## Perceptron"
   ]
  },
  {
   "cell_type": "code",
   "execution_count": 37,
   "metadata": {},
   "outputs": [],
   "source": [
    "ppn = Perceptron()"
   ]
  },
  {
   "cell_type": "code",
   "execution_count": 38,
   "metadata": {
    "scrolled": true
   },
   "outputs": [
    {
     "name": "stderr",
     "output_type": "stream",
     "text": [
      "c:\\program files\\python37\\lib\\site-packages\\sklearn\\linear_model\\stochastic_gradient.py:166: FutureWarning: max_iter and tol parameters have been added in Perceptron in 0.19. If both are left unset, they default to max_iter=5 and tol=None. If tol is not None, max_iter defaults to max_iter=1000. From 0.21, default max_iter will be 1000, and default tol will be 1e-3.\n",
      "  FutureWarning)\n",
      "c:\\program files\\python37\\lib\\site-packages\\sklearn\\linear_model\\stochastic_gradient.py:166: FutureWarning: max_iter and tol parameters have been added in Perceptron in 0.19. If both are left unset, they default to max_iter=5 and tol=None. If tol is not None, max_iter defaults to max_iter=1000. From 0.21, default max_iter will be 1000, and default tol will be 1e-3.\n",
      "  FutureWarning)\n",
      "c:\\program files\\python37\\lib\\site-packages\\sklearn\\linear_model\\stochastic_gradient.py:166: FutureWarning: max_iter and tol parameters have been added in Perceptron in 0.19. If both are left unset, they default to max_iter=5 and tol=None. If tol is not None, max_iter defaults to max_iter=1000. From 0.21, default max_iter will be 1000, and default tol will be 1e-3.\n",
      "  FutureWarning)\n",
      "c:\\program files\\python37\\lib\\site-packages\\sklearn\\linear_model\\stochastic_gradient.py:166: FutureWarning: max_iter and tol parameters have been added in Perceptron in 0.19. If both are left unset, they default to max_iter=5 and tol=None. If tol is not None, max_iter defaults to max_iter=1000. From 0.21, default max_iter will be 1000, and default tol will be 1e-3.\n",
      "  FutureWarning)\n",
      "c:\\program files\\python37\\lib\\site-packages\\sklearn\\linear_model\\stochastic_gradient.py:166: FutureWarning: max_iter and tol parameters have been added in Perceptron in 0.19. If both are left unset, they default to max_iter=5 and tol=None. If tol is not None, max_iter defaults to max_iter=1000. From 0.21, default max_iter will be 1000, and default tol will be 1e-3.\n",
      "  FutureWarning)\n",
      "c:\\program files\\python37\\lib\\site-packages\\sklearn\\linear_model\\stochastic_gradient.py:166: FutureWarning: max_iter and tol parameters have been added in Perceptron in 0.19. If both are left unset, they default to max_iter=5 and tol=None. If tol is not None, max_iter defaults to max_iter=1000. From 0.21, default max_iter will be 1000, and default tol will be 1e-3.\n",
      "  FutureWarning)\n",
      "c:\\program files\\python37\\lib\\site-packages\\sklearn\\linear_model\\stochastic_gradient.py:166: FutureWarning: max_iter and tol parameters have been added in Perceptron in 0.19. If both are left unset, they default to max_iter=5 and tol=None. If tol is not None, max_iter defaults to max_iter=1000. From 0.21, default max_iter will be 1000, and default tol will be 1e-3.\n",
      "  FutureWarning)\n",
      "c:\\program files\\python37\\lib\\site-packages\\sklearn\\linear_model\\stochastic_gradient.py:166: FutureWarning: max_iter and tol parameters have been added in Perceptron in 0.19. If both are left unset, they default to max_iter=5 and tol=None. If tol is not None, max_iter defaults to max_iter=1000. From 0.21, default max_iter will be 1000, and default tol will be 1e-3.\n",
      "  FutureWarning)\n",
      "c:\\program files\\python37\\lib\\site-packages\\sklearn\\linear_model\\stochastic_gradient.py:166: FutureWarning: max_iter and tol parameters have been added in Perceptron in 0.19. If both are left unset, they default to max_iter=5 and tol=None. If tol is not None, max_iter defaults to max_iter=1000. From 0.21, default max_iter will be 1000, and default tol will be 1e-3.\n",
      "  FutureWarning)\n",
      "c:\\program files\\python37\\lib\\site-packages\\sklearn\\linear_model\\stochastic_gradient.py:166: FutureWarning: max_iter and tol parameters have been added in Perceptron in 0.19. If both are left unset, they default to max_iter=5 and tol=None. If tol is not None, max_iter defaults to max_iter=1000. From 0.21, default max_iter will be 1000, and default tol will be 1e-3.\n",
      "  FutureWarning)\n"
     ]
    },
    {
     "name": "stdout",
     "output_type": "stream",
     "text": [
      "              precision    recall  f1-score   support\n",
      "\n",
      "      bullet       0.68      0.62      0.65     70728\n",
      "   irregular       0.75      0.78      0.77    257158\n",
      "     monthly       0.79      0.78      0.78    342717\n",
      "      weekly       0.00      0.00      0.00       602\n",
      "\n",
      "   micro avg       0.76      0.76      0.76    671205\n",
      "   macro avg       0.56      0.54      0.55    671205\n",
      "weighted avg       0.76      0.76      0.76    671205\n",
      "\n",
      "[[ 43603   6625  20498      2]\n",
      " [  4529 201009  51606     14]\n",
      " [ 15470  59702 267540      5]\n",
      " [    95      9    498      0]]\n"
     ]
    }
   ],
   "source": [
    "ALL_TRUE_LABEL = []\n",
    "ALL_PRED_LABEL = []\n",
    "kf = KFold(n_splits=10)\n",
    "for train_index, test_index in kf.split(X_lda):    \n",
    "    ppn.fit(X_lda[train_index],y[train_index])\n",
    "    ALL_PRED_LABEL.extend(ppn.predict(X_lda[test_index]))\n",
    "    ALL_TRUE_LABEL.extend(y[test_index])\n",
    "print(classification_report(ALL_TRUE_LABEL,ALL_PRED_LABEL))\n",
    "print(confusion_matrix(ALL_TRUE_LABEL,ALL_PRED_LABEL))"
   ]
  },
  {
   "cell_type": "markdown",
   "metadata": {},
   "source": [
    "## Logistic Regression"
   ]
  },
  {
   "cell_type": "code",
   "execution_count": 42,
   "metadata": {},
   "outputs": [],
   "source": [
    "lg = LogisticRegression(multi_class='ovr', solver='lbfgs')"
   ]
  },
  {
   "cell_type": "code",
   "execution_count": 43,
   "metadata": {},
   "outputs": [
    {
     "name": "stderr",
     "output_type": "stream",
     "text": [
      "c:\\program files\\python37\\lib\\site-packages\\sklearn\\metrics\\classification.py:1143: UndefinedMetricWarning: Precision and F-score are ill-defined and being set to 0.0 in labels with no predicted samples.\n",
      "  'precision', 'predicted', average, warn_for)\n"
     ]
    },
    {
     "name": "stdout",
     "output_type": "stream",
     "text": [
      "              precision    recall  f1-score   support\n",
      "\n",
      "      bullet       0.73      0.64      0.68     70728\n",
      "   irregular       0.86      0.77      0.81    257158\n",
      "     monthly       0.79      0.87      0.83    342717\n",
      "      weekly       0.00      0.00      0.00       602\n",
      "\n",
      "   micro avg       0.81      0.81      0.81    671205\n",
      "   macro avg       0.59      0.57      0.58    671205\n",
      "weighted avg       0.81      0.81      0.81    671205\n",
      "\n",
      "[[ 45323   4134  21271      0]\n",
      " [  1637 197001  58520      0]\n",
      " [ 14990  28549 299178      0]\n",
      " [     0    157    445      0]]\n"
     ]
    }
   ],
   "source": [
    "ALL_TRUE_LABEL = []\n",
    "ALL_PRED_LABEL = []\n",
    "kf = KFold(n_splits=10)\n",
    "for train_index, test_index in kf.split(X_lda):    \n",
    "    lg.fit(X_lda[train_index],y[train_index])\n",
    "    ALL_PRED_LABEL.extend(lg.predict(X_lda[test_index]))\n",
    "    ALL_TRUE_LABEL.extend(y[test_index])\n",
    "print(classification_report(ALL_TRUE_LABEL,ALL_PRED_LABEL))\n",
    "print(confusion_matrix(ALL_TRUE_LABEL,ALL_PRED_LABEL))"
   ]
  },
  {
   "cell_type": "markdown",
   "metadata": {},
   "source": [
    "## Decision Tree"
   ]
  },
  {
   "cell_type": "code",
   "execution_count": 48,
   "metadata": {},
   "outputs": [],
   "source": [
    "dtree = DTC()"
   ]
  },
  {
   "cell_type": "code",
   "execution_count": 49,
   "metadata": {},
   "outputs": [
    {
     "name": "stdout",
     "output_type": "stream",
     "text": [
      "              precision    recall  f1-score   support\n",
      "\n",
      "      bullet       0.78      0.79      0.79     70728\n",
      "   irregular       0.84      0.85      0.84    257158\n",
      "     monthly       0.86      0.85      0.86    342717\n",
      "      weekly       0.52      0.48      0.50       602\n",
      "\n",
      "   micro avg       0.84      0.84      0.84    671205\n",
      "   macro avg       0.75      0.74      0.75    671205\n",
      "weighted avg       0.84      0.84      0.84    671205\n",
      "\n",
      "[[ 56193   3215  11295     25]\n",
      " [  3445 219324  34204    185]\n",
      " [ 12142  39406 291118     51]\n",
      " [     6    240     68    288]]\n"
     ]
    }
   ],
   "source": [
    "ALL_TRUE_LABEL = []\n",
    "ALL_PRED_LABEL = []\n",
    "kf = KFold(n_splits=10)\n",
    "for train_index, test_index in kf.split(X_lda):    \n",
    "    dtree.fit(X_lda[train_index],y[train_index])\n",
    "    ALL_PRED_LABEL.extend(dtree.predict(X_lda[test_index]))\n",
    "    ALL_TRUE_LABEL.extend(y[test_index])\n",
    "print(classification_report(ALL_TRUE_LABEL,ALL_PRED_LABEL))\n",
    "print(confusion_matrix(ALL_TRUE_LABEL,ALL_PRED_LABEL))"
   ]
  },
  {
   "cell_type": "markdown",
   "metadata": {},
   "source": [
    "## Random Forest"
   ]
  },
  {
   "cell_type": "code",
   "execution_count": 19,
   "metadata": {},
   "outputs": [],
   "source": [
    "forest = RandomForestClassifier(n_estimators=10, max_depth=3)"
   ]
  },
  {
   "cell_type": "code",
   "execution_count": 20,
   "metadata": {},
   "outputs": [
    {
     "name": "stderr",
     "output_type": "stream",
     "text": [
      "c:\\program files\\python37\\lib\\site-packages\\sklearn\\metrics\\classification.py:1143: UndefinedMetricWarning: Precision and F-score are ill-defined and being set to 0.0 in labels with no predicted samples.\n",
      "  'precision', 'predicted', average, warn_for)\n"
     ]
    },
    {
     "name": "stdout",
     "output_type": "stream",
     "text": [
      "              precision    recall  f1-score   support\n",
      "\n",
      "      bullet       0.70      0.72      0.71     70728\n",
      "   irregular       0.86      0.77      0.81    257158\n",
      "     monthly       0.80      0.86      0.83    342717\n",
      "      weekly       0.00      0.00      0.00       602\n",
      "\n",
      "   micro avg       0.81      0.81      0.81    671205\n",
      "   macro avg       0.59      0.59      0.59    671205\n",
      "weighted avg       0.81      0.81      0.81    671205\n",
      "\n",
      "[[ 51269   3195  16264      0]\n",
      " [  3148 198020  55990      0]\n",
      " [ 18785  30042 293890      0]\n",
      " [     0    142    460      0]]\n"
     ]
    }
   ],
   "source": [
    "ALL_TRUE_LABEL = []\n",
    "ALL_PRED_LABEL = []\n",
    "kf = KFold(n_splits=10)\n",
    "for train_index, test_index in kf.split(X_lda):    \n",
    "    forest.fit(X_lda[train_index],y[train_index])\n",
    "    ALL_PRED_LABEL.extend(forest.predict(X_lda[test_index]))\n",
    "    ALL_TRUE_LABEL.extend(y[test_index])\n",
    "print(classification_report(ALL_TRUE_LABEL,ALL_PRED_LABEL))\n",
    "print(confusion_matrix(ALL_TRUE_LABEL,ALL_PRED_LABEL))"
   ]
  },
  {
   "cell_type": "markdown",
   "metadata": {},
   "source": [
    "## KNN"
   ]
  },
  {
   "cell_type": "code",
   "execution_count": 21,
   "metadata": {},
   "outputs": [],
   "source": [
    "knn = KNN(n_neighbors=100)"
   ]
  },
  {
   "cell_type": "code",
   "execution_count": 22,
   "metadata": {},
   "outputs": [
    {
     "name": "stdout",
     "output_type": "stream",
     "text": [
      "              precision    recall  f1-score   support\n",
      "\n",
      "      bullet       0.79      0.84      0.82     70728\n",
      "   irregular       0.86      0.87      0.86    257158\n",
      "     monthly       0.88      0.87      0.88    342717\n",
      "      weekly       0.06      0.00      0.01       602\n",
      "\n",
      "   micro avg       0.86      0.86      0.86    671205\n",
      "   macro avg       0.65      0.65      0.64    671205\n",
      "weighted avg       0.86      0.86      0.86    671205\n",
      "\n",
      "[[ 59702   2129   8894      3]\n",
      " [  3459 222699  30966     34]\n",
      " [ 12205  32476 298022     14]\n",
      " [     0    461    138      3]]\n"
     ]
    }
   ],
   "source": [
    "ALL_TRUE_LABEL = []\n",
    "ALL_PRED_LABEL = []\n",
    "kf = KFold(n_splits=10)\n",
    "for train_index, test_index in kf.split(X_lda):    \n",
    "    knn.fit(X_lda[train_index],y[train_index])\n",
    "    ALL_PRED_LABEL.extend(knn.predict(X_lda[test_index]))\n",
    "    ALL_TRUE_LABEL.extend(y[test_index])\n",
    "print(classification_report(ALL_TRUE_LABEL,ALL_PRED_LABEL))\n",
    "print(confusion_matrix(ALL_TRUE_LABEL,ALL_PRED_LABEL))"
   ]
  },
  {
   "cell_type": "markdown",
   "metadata": {},
   "source": [
    "## SVM"
   ]
  },
  {
   "cell_type": "code",
   "execution_count": 31,
   "metadata": {},
   "outputs": [],
   "source": [
    "svm = SVC(gamma='auto')"
   ]
  },
  {
   "cell_type": "code",
   "execution_count": 35,
   "metadata": {},
   "outputs": [
    {
     "name": "stdout",
     "output_type": "stream",
     "text": [
      "              precision    recall  f1-score   support\n",
      "\n",
      "      bullet       0.69      0.37      0.48      1019\n",
      "   irregular       0.83      0.82      0.83      3886\n",
      "     monthly       0.78      0.86      0.82      5081\n",
      "      weekly       0.00      0.00      0.00        14\n",
      "\n",
      "   micro avg       0.79      0.79      0.79     10000\n",
      "   macro avg       0.57      0.51      0.53     10000\n",
      "weighted avg       0.79      0.79      0.78     10000\n",
      "\n",
      "[[ 373   40  606    0]\n",
      " [  52 3201  633    0]\n",
      " [ 119  609 4353    0]\n",
      " [   0   12    2    0]]\n"
     ]
    },
    {
     "name": "stderr",
     "output_type": "stream",
     "text": [
      "c:\\program files\\python37\\lib\\site-packages\\sklearn\\metrics\\classification.py:1143: UndefinedMetricWarning: Precision and F-score are ill-defined and being set to 0.0 in labels with no predicted samples.\n",
      "  'precision', 'predicted', average, warn_for)\n"
     ]
    }
   ],
   "source": [
    "ALL_TRUE_LABEL = []\n",
    "ALL_PRED_LABEL = []\n",
    "kf = KFold(n_splits=10)\n",
    "for train_index, test_index in kf.split(X_lda):    \n",
    "    svm.fit(X_lda[train_index[0:10000]],y[train_index[0:10000]])\n",
    "    ALL_PRED_LABEL.extend(svm.predict(X_lda[test_index[0:1000]]))\n",
    "    ALL_TRUE_LABEL.extend(y[test_index[0:1000]])\n",
    "print(classification_report(ALL_TRUE_LABEL,ALL_PRED_LABEL))\n",
    "print(confusion_matrix(ALL_TRUE_LABEL,ALL_PRED_LABEL))"
   ]
  },
  {
   "cell_type": "markdown",
   "metadata": {},
   "source": [
    "**Summary**"
   ]
  },
  {
   "cell_type": "markdown",
   "metadata": {},
   "source": [
    "After investigation, we see that all prediction models have an accuracy of about 80% ~ 83%.  However, one significant measures is the `weekly` prediction: only decision tree can predict it well.  Therefore, we choose decision tree as the most suitable classifying model in this project.  "
   ]
  },
  {
   "cell_type": "markdown",
   "metadata": {},
   "source": [
    "# Tuning_Parameter"
   ]
  },
  {
   "cell_type": "markdown",
   "metadata": {},
   "source": [
    "## Grid Search"
   ]
  },
  {
   "cell_type": "markdown",
   "metadata": {},
   "source": [
    "By fine tuning the parameters in Decision Tree, we try to have a better performance.  "
   ]
  },
  {
   "cell_type": "code",
   "execution_count": 51,
   "metadata": {},
   "outputs": [
    {
     "name": "stdout",
     "output_type": "stream",
     "text": [
      "{'criterion': 'entropy', 'max_depth': 5, 'splitter': 'best'}\n"
     ]
    },
    {
     "name": "stderr",
     "output_type": "stream",
     "text": [
      "c:\\program files\\python37\\lib\\site-packages\\sklearn\\metrics\\classification.py:1143: UndefinedMetricWarning: Precision and F-score are ill-defined and being set to 0.0 in labels with no predicted samples.\n",
      "  'precision', 'predicted', average, warn_for)\n"
     ]
    },
    {
     "name": "stdout",
     "output_type": "stream",
     "text": [
      "              precision    recall  f1-score   support\n",
      "\n",
      "      bullet       0.45      0.69      0.54      5104\n",
      "   irregular       0.83      0.77      0.80     26919\n",
      "     monthly       0.80      0.79      0.80     35045\n",
      "      weekly       0.00      0.00      0.00        53\n",
      "\n",
      "   micro avg       0.77      0.77      0.77     67121\n",
      "   macro avg       0.52      0.56      0.53     67121\n",
      "weighted avg       0.79      0.77      0.78     67121\n",
      "\n",
      "[[ 3519   441  1144     0]\n",
      " [  672 20626  5621     0]\n",
      " [ 3696  3705 27644     0]\n",
      " [    0    36    17     0]]\n",
      "{'criterion': 'gini', 'max_depth': 5, 'splitter': 'best'}\n"
     ]
    },
    {
     "name": "stderr",
     "output_type": "stream",
     "text": [
      "c:\\program files\\python37\\lib\\site-packages\\sklearn\\metrics\\classification.py:1143: UndefinedMetricWarning: Precision and F-score are ill-defined and being set to 0.0 in labels with no predicted samples.\n",
      "  'precision', 'predicted', average, warn_for)\n"
     ]
    },
    {
     "name": "stdout",
     "output_type": "stream",
     "text": [
      "              precision    recall  f1-score   support\n",
      "\n",
      "      bullet       0.60      0.76      0.67      6808\n",
      "   irregular       0.82      0.73      0.77     26228\n",
      "     monthly       0.78      0.82      0.80     33942\n",
      "      weekly       0.00      0.00      0.00       143\n",
      "\n",
      "   micro avg       0.78      0.78      0.78     67121\n",
      "   macro avg       0.55      0.58      0.56     67121\n",
      "weighted avg       0.78      0.78      0.78     67121\n",
      "\n",
      "[[ 5172   798   838     0]\n",
      " [  422 19163  6643     0]\n",
      " [ 2975  3246 27721     0]\n",
      " [    0    26   117     0]]\n",
      "{'criterion': 'gini', 'max_depth': 5, 'splitter': 'best'}\n"
     ]
    },
    {
     "name": "stderr",
     "output_type": "stream",
     "text": [
      "c:\\program files\\python37\\lib\\site-packages\\sklearn\\metrics\\classification.py:1143: UndefinedMetricWarning: Precision and F-score are ill-defined and being set to 0.0 in labels with no predicted samples.\n",
      "  'precision', 'predicted', average, warn_for)\n"
     ]
    },
    {
     "name": "stdout",
     "output_type": "stream",
     "text": [
      "              precision    recall  f1-score   support\n",
      "\n",
      "      bullet       0.79      0.83      0.81      7918\n",
      "   irregular       0.87      0.74      0.80     25787\n",
      "     monthly       0.80      0.88      0.84     33237\n",
      "      weekly       0.00      0.00      0.00       179\n",
      "\n",
      "   micro avg       0.82      0.82      0.82     67121\n",
      "   macro avg       0.61      0.61      0.61     67121\n",
      "weighted avg       0.82      0.82      0.82     67121\n",
      "\n",
      "[[ 6590   238  1090     0]\n",
      " [  413 19199  6175     0]\n",
      " [ 1374  2552 29311     0]\n",
      " [    0    36   143     0]]\n",
      "{'criterion': 'gini', 'max_depth': 5, 'splitter': 'best'}\n"
     ]
    },
    {
     "name": "stderr",
     "output_type": "stream",
     "text": [
      "c:\\program files\\python37\\lib\\site-packages\\sklearn\\metrics\\classification.py:1143: UndefinedMetricWarning: Precision and F-score are ill-defined and being set to 0.0 in labels with no predicted samples.\n",
      "  'precision', 'predicted', average, warn_for)\n"
     ]
    },
    {
     "name": "stdout",
     "output_type": "stream",
     "text": [
      "              precision    recall  f1-score   support\n",
      "\n",
      "      bullet       0.75      0.77      0.76      8219\n",
      "   irregular       0.82      0.85      0.83     26354\n",
      "     monthly       0.86      0.83      0.85     32355\n",
      "      weekly       0.00      0.00      0.00       193\n",
      "\n",
      "   micro avg       0.83      0.83      0.83     67121\n",
      "   macro avg       0.61      0.61      0.61     67121\n",
      "weighted avg       0.83      0.83      0.83     67121\n",
      "\n",
      "[[ 6325  1006   888     0]\n",
      " [  466 22324  3564     0]\n",
      " [ 1589  3777 26989     0]\n",
      " [    0   141    52     0]]\n",
      "{'criterion': 'gini', 'max_depth': 5, 'splitter': 'best'}\n"
     ]
    },
    {
     "name": "stderr",
     "output_type": "stream",
     "text": [
      "c:\\program files\\python37\\lib\\site-packages\\sklearn\\metrics\\classification.py:1143: UndefinedMetricWarning: Precision and F-score are ill-defined and being set to 0.0 in labels with no predicted samples.\n",
      "  'precision', 'predicted', average, warn_for)\n"
     ]
    },
    {
     "name": "stdout",
     "output_type": "stream",
     "text": [
      "              precision    recall  f1-score   support\n",
      "\n",
      "      bullet       0.73      0.85      0.78      7038\n",
      "   irregular       0.84      0.82      0.83     25459\n",
      "     monthly       0.85      0.84      0.85     34590\n",
      "      weekly       0.00      0.00      0.00        34\n",
      "\n",
      "   micro avg       0.83      0.83      0.83     67121\n",
      "   macro avg       0.61      0.63      0.61     67121\n",
      "weighted avg       0.83      0.83      0.83     67121\n",
      "\n",
      "[[ 5977   212   849     0]\n",
      " [  403 20801  4255     0]\n",
      " [ 1840  3653 29097     0]\n",
      " [    0     6    28     0]]\n",
      "{'criterion': 'gini', 'max_depth': 5, 'splitter': 'best'}\n",
      "              precision    recall  f1-score   support\n",
      "\n",
      "      bullet       0.83      0.86      0.84      9308\n",
      "   irregular       0.84      0.84      0.84     23603\n",
      "     monthly       0.87      0.86      0.86     34209\n",
      "\n",
      "   micro avg       0.85      0.85      0.85     67120\n",
      "   macro avg       0.84      0.85      0.85     67120\n",
      "weighted avg       0.85      0.85      0.85     67120\n",
      "\n",
      "[[ 7965   252  1091]\n",
      " [  362 19808  3433]\n",
      " [ 1323  3494 29392]]\n",
      "{'criterion': 'entropy', 'max_depth': 5, 'splitter': 'best'}\n",
      "              precision    recall  f1-score   support\n",
      "\n",
      "      bullet       0.75      0.86      0.80      7463\n",
      "   irregular       0.84      0.86      0.85     26899\n",
      "     monthly       0.87      0.82      0.84     32758\n",
      "\n",
      "   micro avg       0.84      0.84      0.84     67120\n",
      "   macro avg       0.82      0.85      0.83     67120\n",
      "weighted avg       0.84      0.84      0.84     67120\n",
      "\n",
      "[[ 6454   196   813]\n",
      " [  293 23239  3367]\n",
      " [ 1831  4113 26814]]\n",
      "{'criterion': 'entropy', 'max_depth': 5, 'splitter': 'best'}\n",
      "              precision    recall  f1-score   support\n",
      "\n",
      "      bullet       0.63      0.78      0.69      6008\n",
      "   irregular       0.81      0.87      0.84     25944\n",
      "     monthly       0.87      0.78      0.82     35168\n",
      "\n",
      "   micro avg       0.82      0.82      0.82     67120\n",
      "   macro avg       0.77      0.81      0.79     67120\n",
      "weighted avg       0.82      0.82      0.82     67120\n",
      "\n",
      "[[ 4667   174  1167]\n",
      " [  216 22637  3091]\n",
      " [ 2555  5040 27573]]\n",
      "{'criterion': 'entropy', 'max_depth': 5, 'splitter': 'best'}\n",
      "              precision    recall  f1-score   support\n",
      "\n",
      "      bullet       0.62      0.75      0.68      6929\n",
      "   irregular       0.80      0.87      0.83     23020\n",
      "     monthly       0.87      0.79      0.83     37171\n",
      "\n",
      "   micro avg       0.81      0.81      0.81     67120\n",
      "   macro avg       0.76      0.80      0.78     67120\n",
      "weighted avg       0.82      0.81      0.81     67120\n",
      "\n",
      "[[ 5166   266  1497]\n",
      " [  204 19967  2849]\n",
      " [ 2988  4874 29309]]\n",
      "{'criterion': 'gini', 'max_depth': 5, 'splitter': 'best'}\n",
      "              precision    recall  f1-score   support\n",
      "\n",
      "      bullet       0.62      0.76      0.68      5933\n",
      "   irregular       0.85      0.86      0.85     26945\n",
      "     monthly       0.86      0.82      0.84     34242\n",
      "\n",
      "   micro avg       0.83      0.83      0.83     67120\n",
      "   macro avg       0.77      0.81      0.79     67120\n",
      "weighted avg       0.83      0.83      0.83     67120\n",
      "\n",
      "[[ 4489   253  1191]\n",
      " [  356 23054  3535]\n",
      " [ 2373  3910 27959]]\n"
     ]
    }
   ],
   "source": [
    "dtree = DTC()\n",
    "param_grid = {    \n",
    "    'criterion':['gini','entropy'],\n",
    "    'splitter':['best','random'],\n",
    "    'max_depth':[1,2,3,4,5],\n",
    "    \n",
    "}\n",
    "grid = GridSearchCV(dtree,param_grid,cv=5,refit=True)\n",
    "\n",
    "ALL_TRUE_LABEL = []\n",
    "ALL_PRED_LABEL = []\n",
    "kf = KFold(n_splits=10)\n",
    "for train_index, test_index in kf.split(X_lda):\n",
    "    \n",
    "    X_train_lda = X_lda[train_index]\n",
    "    y_train = y[train_index]\n",
    "    X_test_lda = X_lda[test_index]\n",
    "    y_test = y[test_index]\n",
    "    \n",
    "    grid.fit(X_train_lda,y_train)\n",
    "    y_pred = grid.predict(X_test_lda)\n",
    "    \n",
    "    print(grid.best_params_)\n",
    "    print(classification_report(y_test,y_pred))\n",
    "    print(confusion_matrix(y_test,y_pred))"
   ]
  },
  {
   "cell_type": "markdown",
   "metadata": {},
   "source": [
    "From the above result, we think that 'best' splitter and maximum depth >= 5 are good parameter.  Criterian is generally the same for gini or entropy.  \n",
    "\n",
    "Besides, given the test case that does not contain `weekly` prediction, the prediction is much more accurate.  "
   ]
  },
  {
   "cell_type": "code",
   "execution_count": 164,
   "metadata": {},
   "outputs": [],
   "source": [
    "# To verify the hypothesis\n",
    "\n",
    "y_no_weekly = loan['repayment_interval']\n",
    "y_no_weekly = y_no_weekly.loc[y_no_weekly != 'weekly']"
   ]
  },
  {
   "cell_type": "code",
   "execution_count": 168,
   "metadata": {},
   "outputs": [],
   "source": [
    "X_no_weekly = loan_std.loc[loan_std['repayment_interval_weekly'] < 1]"
   ]
  },
  {
   "cell_type": "code",
   "execution_count": 169,
   "metadata": {},
   "outputs": [],
   "source": [
    "selected_features = list(X_no_weekly.columns)\n",
    "selected_features.remove('repayment_interval_irregular')\n",
    "selected_features.remove('repayment_interval_monthly')\n",
    "selected_features.remove('repayment_interval_weekly')\n",
    "selected_features.remove('repayment_interval_bullet')\n",
    "\n",
    "X_no_weekly = X_no_weekly[selected_features]"
   ]
  },
  {
   "cell_type": "code",
   "execution_count": 170,
   "metadata": {},
   "outputs": [
    {
     "name": "stdout",
     "output_type": "stream",
     "text": [
      "670603\n",
      "670603\n"
     ]
    }
   ],
   "source": [
    "print(len(X_no_weekly))\n",
    "print(len(y_no_weekly))"
   ]
  },
  {
   "cell_type": "code",
   "execution_count": 176,
   "metadata": {
    "scrolled": true
   },
   "outputs": [
    {
     "name": "stdout",
     "output_type": "stream",
     "text": [
      "              precision    recall  f1-score   support\n",
      "\n",
      "      bullet       0.86      0.88      0.87      6999\n",
      "   irregular       0.91      0.93      0.92     25711\n",
      "     monthly       0.93      0.91      0.92     34351\n",
      "\n",
      "   micro avg       0.91      0.91      0.91     67061\n",
      "   macro avg       0.90      0.91      0.90     67061\n",
      "weighted avg       0.91      0.91      0.91     67061\n",
      "\n",
      "[[ 6156   205   638]\n",
      " [  207 23789  1715]\n",
      " [  774  2213 31364]]\n"
     ]
    }
   ],
   "source": [
    "dTree = DTC()\n",
    "X_train_no_weekly, X_test_no_weekly, y_train_no_weekly, y_test_no_weekly = train_test_split(X_no_weekly, y_no_weekly, test_size=0.1)\n",
    "dTree.fit(X_train_no_weekly, y_train_no_weekly)\n",
    "y_pred_no_weekly = dTree.predict(X_test_no_weekly)\n",
    "print(classification_report(y_test_no_weekly,y_pred_no_weekly))\n",
    "print(confusion_matrix(y_test_no_weekly,y_pred_no_weekly))"
   ]
  },
  {
   "cell_type": "code",
   "execution_count": 181,
   "metadata": {},
   "outputs": [
    {
     "name": "stderr",
     "output_type": "stream",
     "text": [
      "c:\\program files\\python37\\lib\\site-packages\\sklearn\\discriminant_analysis.py:388: UserWarning: Variables are collinear.\n",
      "  warnings.warn(\"Variables are collinear.\")\n"
     ]
    }
   ],
   "source": [
    "# An example code for how to transform the training set and test set.  Don't run it; there is no X_train and X_test now.  \n",
    "lda = LDA()\n",
    "X_lda_no_weekly = lda.fit_transform(X_no_weekly, y_no_weekly)"
   ]
  },
  {
   "cell_type": "code",
   "execution_count": 186,
   "metadata": {
    "scrolled": true
   },
   "outputs": [
    {
     "name": "stdout",
     "output_type": "stream",
     "text": [
      "              precision    recall  f1-score   support\n",
      "\n",
      "      bullet       0.74      0.76      0.75      6992\n",
      "   irregular       0.82      0.83      0.83     25792\n",
      "     monthly       0.85      0.83      0.84     34277\n",
      "\n",
      "   micro avg       0.82      0.82      0.82     67061\n",
      "   macro avg       0.80      0.81      0.80     67061\n",
      "weighted avg       0.82      0.82      0.82     67061\n",
      "\n",
      "[[ 5294   359  1339]\n",
      " [  412 21521  3859]\n",
      " [ 1443  4492 28342]]\n"
     ]
    }
   ],
   "source": [
    "X_lda_train_no_weekly, X_lda_test_no_weekly, y_train_no_weekly, y_test_no_weekly = train_test_split(X_lda_no_weekly, y_no_weekly, test_size=0.1)\n",
    "\n",
    "dTree = DTC()\n",
    "dTree.fit(X_lda_train_no_weekly, y_train_no_weekly)\n",
    "y_pred_no_weekly = dTree.predict(X_lda_test_no_weekly)\n",
    "print(classification_report(y_test_no_weekly,y_pred_no_weekly))\n",
    "print(confusion_matrix(y_test_no_weekly,y_pred_no_weekly))"
   ]
  },
  {
   "cell_type": "markdown",
   "metadata": {},
   "source": [
    "From the above result, we can see that without `weekly` as prediction outcome, the performance is much better.  Besides, LDA preprocessing also gives a poor result than using all features.  "
   ]
  },
  {
   "cell_type": "code",
   "execution_count": 188,
   "metadata": {},
   "outputs": [
    {
     "name": "stdout",
     "output_type": "stream",
     "text": [
      "              precision    recall  f1-score   support\n",
      "\n",
      "      bullet       0.72      0.64      0.68      6992\n",
      "   irregular       0.86      0.76      0.80     25792\n",
      "     monthly       0.78      0.87      0.83     34277\n",
      "\n",
      "   micro avg       0.80      0.80      0.80     67061\n",
      "   macro avg       0.79      0.76      0.77     67061\n",
      "weighted avg       0.81      0.80      0.80     67061\n",
      "\n",
      "[[ 4484   406  2102]\n",
      " [  153 19553  6086]\n",
      " [ 1553  2863 29861]]\n"
     ]
    }
   ],
   "source": [
    "lg = LogisticRegression(multi_class='ovr', solver='lbfgs')\n",
    "lg.fit(X_lda_train_no_weekly, y_train_no_weekly)\n",
    "y_pred_no_weekly = lg.predict(X_lda_test_no_weekly)\n",
    "print(classification_report(y_test_no_weekly,y_pred_no_weekly))\n",
    "print(confusion_matrix(y_test_no_weekly,y_pred_no_weekly))"
   ]
  },
  {
   "cell_type": "code",
   "execution_count": 189,
   "metadata": {
    "scrolled": true
   },
   "outputs": [
    {
     "name": "stderr",
     "output_type": "stream",
     "text": [
      "c:\\program files\\python37\\lib\\site-packages\\sklearn\\linear_model\\logistic.py:758: ConvergenceWarning: lbfgs failed to converge. Increase the number of iterations.\n",
      "  \"of iterations.\", ConvergenceWarning)\n",
      "c:\\program files\\python37\\lib\\site-packages\\sklearn\\linear_model\\logistic.py:758: ConvergenceWarning: lbfgs failed to converge. Increase the number of iterations.\n",
      "  \"of iterations.\", ConvergenceWarning)\n",
      "c:\\program files\\python37\\lib\\site-packages\\sklearn\\linear_model\\logistic.py:758: ConvergenceWarning: lbfgs failed to converge. Increase the number of iterations.\n",
      "  \"of iterations.\", ConvergenceWarning)\n"
     ]
    },
    {
     "name": "stdout",
     "output_type": "stream",
     "text": [
      "              precision    recall  f1-score   support\n",
      "\n",
      "      bullet       0.78      0.71      0.74      7026\n",
      "   irregular       0.86      0.77      0.81     25818\n",
      "     monthly       0.81      0.88      0.84     34217\n",
      "\n",
      "   micro avg       0.82      0.82      0.82     67061\n",
      "   macro avg       0.81      0.79      0.80     67061\n",
      "weighted avg       0.82      0.82      0.82     67061\n",
      "\n",
      "[[ 4978   380  1668]\n",
      " [  248 19976  5594]\n",
      " [ 1131  2998 30088]]\n"
     ]
    }
   ],
   "source": [
    "X_train_no_weekly, X_test_no_weekly, y_train_no_weekly, y_test_no_weekly = train_test_split(X_no_weekly, y_no_weekly, test_size=0.1)\n",
    "\n",
    "lg = LogisticRegression(multi_class='ovr', solver='lbfgs')\n",
    "lg.fit(X_train_no_weekly, y_train_no_weekly)\n",
    "y_pred_no_weekly = lg.predict(X_test_no_weekly)\n",
    "print(classification_report(y_test_no_weekly,y_pred_no_weekly))\n",
    "print(confusion_matrix(y_test_no_weekly,y_pred_no_weekly))"
   ]
  },
  {
   "cell_type": "code",
   "execution_count": null,
   "metadata": {},
   "outputs": [],
   "source": [
    "X_train_no_weekly, X_test_no_weekly, y_train_no_weekly, y_test_no_weekly = train_test_split(X_no_weekly, y_no_weekly, test_size=0.1)\n",
    "\n",
    "knn = KNN(n_neighbors=100)\n",
    "knn.fit(X_train_no_weekly, y_train_no_weekly)\n",
    "y_pred_no_weekly = lg.predict(X_test_no_weekly)\n",
    "print(classification_report(y_test_no_weekly,y_pred_no_weekly))\n",
    "print(confusion_matrix(y_test_no_weekly,y_pred_no_weekly))"
   ]
  },
  {
   "cell_type": "code",
   "execution_count": null,
   "metadata": {},
   "outputs": [],
   "source": [
    "X_lda_train_no_weekly, X_lda_test_no_weekly, y_train_no_weekly, y_test_no_weekly = train_test_split(X_lda_no_weekly, y_no_weekly, test_size=0.1)\n",
    "\n",
    "knn = KNN(n_neighbors=100)\n",
    "knn.fit(X_lda_train_no_weekly, y_train_no_weekly)\n",
    "y_pred_no_weekly = lg.predict(X_lda_test_no_weekly)\n",
    "print(classification_report(y_test_no_weekly,y_pred_no_weekly))\n",
    "print(confusion_matrix(y_test_no_weekly,y_pred_no_weekly))"
   ]
  },
  {
   "cell_type": "code",
   "execution_count": 45,
   "metadata": {},
   "outputs": [],
   "source": [
    "## Tree-based spline"
   ]
  },
  {
   "cell_type": "code",
   "execution_count": 93,
   "metadata": {},
   "outputs": [
    {
     "data": {
      "text/plain": [
       "670603"
      ]
     },
     "execution_count": 93,
     "metadata": {},
     "output_type": "execute_result"
    }
   ],
   "source": [
    "len(X_lda_no_weekly)"
   ]
  },
  {
   "cell_type": "code",
   "execution_count": 94,
   "metadata": {},
   "outputs": [
    {
     "data": {
      "text/plain": [
       "670603"
      ]
     },
     "execution_count": 94,
     "metadata": {},
     "output_type": "execute_result"
    }
   ],
   "source": [
    "len(y_no_weekly)"
   ]
  },
  {
   "cell_type": "code",
   "execution_count": 95,
   "metadata": {
    "scrolled": true
   },
   "outputs": [
    {
     "data": {
      "text/plain": [
       "DecisionTreeClassifier(class_weight=None, criterion='gini', max_depth=None,\n",
       "            max_features=None, max_leaf_nodes=None,\n",
       "            min_impurity_decrease=0.0, min_impurity_split=None,\n",
       "            min_samples_leaf=1, min_samples_split=2,\n",
       "            min_weight_fraction_leaf=0.0, presort=False, random_state=None,\n",
       "            splitter='best')"
      ]
     },
     "execution_count": 95,
     "metadata": {},
     "output_type": "execute_result"
    }
   ],
   "source": [
    "dtree.fit(X_lda_no_weekly,y_no_weekly)"
   ]
  },
  {
   "cell_type": "code",
   "execution_count": 97,
   "metadata": {},
   "outputs": [
    {
     "name": "stderr",
     "output_type": "stream",
     "text": [
      "c:\\program files\\python37\\lib\\site-packages\\pandas\\core\\series.py:942: FutureWarning: \n",
      "Passing list-likes to .loc or [] with any missing label will raise\n",
      "KeyError in the future, you can use .reindex() as an alternative.\n",
      "\n",
      "See the documentation here:\n",
      "https://pandas.pydata.org/pandas-docs/stable/indexing.html#deprecate-loc-reindex-listlike\n",
      "  return self.loc[key]\n",
      "c:\\program files\\python37\\lib\\site-packages\\pandas\\core\\series.py:942: FutureWarning: \n",
      "Passing list-likes to .loc or [] with any missing label will raise\n",
      "KeyError in the future, you can use .reindex() as an alternative.\n",
      "\n",
      "See the documentation here:\n",
      "https://pandas.pydata.org/pandas-docs/stable/indexing.html#deprecate-loc-reindex-listlike\n",
      "  return self.loc[key]\n",
      "c:\\program files\\python37\\lib\\site-packages\\pandas\\core\\series.py:942: FutureWarning: \n",
      "Passing list-likes to .loc or [] with any missing label will raise\n",
      "KeyError in the future, you can use .reindex() as an alternative.\n",
      "\n",
      "See the documentation here:\n",
      "https://pandas.pydata.org/pandas-docs/stable/indexing.html#deprecate-loc-reindex-listlike\n",
      "  return self.loc[key]\n",
      "c:\\program files\\python37\\lib\\site-packages\\pandas\\core\\series.py:942: FutureWarning: \n",
      "Passing list-likes to .loc or [] with any missing label will raise\n",
      "KeyError in the future, you can use .reindex() as an alternative.\n",
      "\n",
      "See the documentation here:\n",
      "https://pandas.pydata.org/pandas-docs/stable/indexing.html#deprecate-loc-reindex-listlike\n",
      "  return self.loc[key]\n",
      "c:\\program files\\python37\\lib\\site-packages\\pandas\\core\\series.py:942: FutureWarning: \n",
      "Passing list-likes to .loc or [] with any missing label will raise\n",
      "KeyError in the future, you can use .reindex() as an alternative.\n",
      "\n",
      "See the documentation here:\n",
      "https://pandas.pydata.org/pandas-docs/stable/indexing.html#deprecate-loc-reindex-listlike\n",
      "  return self.loc[key]\n",
      "c:\\program files\\python37\\lib\\site-packages\\sklearn\\metrics\\classification.py:1143: UndefinedMetricWarning: Precision and F-score are ill-defined and being set to 0.0 in labels with no predicted samples.\n",
      "  'precision', 'predicted', average, warn_for)\n"
     ]
    },
    {
     "name": "stdout",
     "output_type": "stream",
     "text": [
      "              precision    recall  f1-score   support\n",
      "\n",
      "      bullet       0.12      0.13      0.13     70575\n",
      "   irregular       0.40      0.40      0.40    257092\n",
      "     monthly       0.52      0.51      0.52    342334\n",
      "         nan       0.00      0.00      0.00       602\n",
      "\n",
      "   micro avg       0.43      0.43      0.43    670603\n",
      "   macro avg       0.26      0.26      0.26    670603\n",
      "weighted avg       0.43      0.43      0.43    670603\n",
      "\n",
      "[[  8943  26919  34713      0]\n",
      " [ 27011 104036 126045      0]\n",
      " [ 36136 131517 174681      0]\n",
      " [    77    239    286      0]]\n"
     ]
    }
   ],
   "source": [
    "ALL_TRUE_LABEL = []\n",
    "ALL_PRED_LABEL = []\n",
    "kf = KFold(n_splits=10)\n",
    "\n",
    "for train_index, test_index in kf.split(X_lda_no_weekly):\n",
    "#     dtree.fit(X_lda_no_weekly[train_index],y_no_weekly[train_index])\n",
    "    ALL_PRED_LABEL.extend(dtree.predict(X_lda_no_weekly[test_index]))\n",
    "    ALL_TRUE_LABEL.extend(y_no_weekly[test_index])\n",
    "print(classification_report(ALL_TRUE_LABEL,ALL_PRED_LABEL))\n",
    "print(confusion_matrix(ALL_TRUE_LABEL,ALL_PRED_LABEL))"
   ]
  },
  {
   "cell_type": "code",
   "execution_count": null,
   "metadata": {},
   "outputs": [],
   "source": []
  }
 ],
 "metadata": {
  "kernelspec": {
   "display_name": "Python 3",
   "language": "python",
   "name": "python3"
  },
  "language_info": {
   "codemirror_mode": {
    "name": "ipython",
    "version": 3
   },
   "file_extension": ".py",
   "mimetype": "text/x-python",
   "name": "python",
   "nbconvert_exporter": "python",
   "pygments_lexer": "ipython3",
   "version": "3.7.1"
  }
 },
 "nbformat": 4,
 "nbformat_minor": 2
}
