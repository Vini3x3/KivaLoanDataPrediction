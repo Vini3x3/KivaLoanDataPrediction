{
 "cells": [
  {
   "cell_type": "markdown",
   "metadata": {},
   "source": [
    "# Import Library"
   ]
  },
  {
   "cell_type": "code",
   "execution_count": 1,
   "metadata": {},
   "outputs": [],
   "source": [
    "import pandas as pd\n",
    "import numpy as np\n",
    "import matplotlib.pyplot as plt\n",
    "import seaborn as sns\n",
    "%matplotlib inline"
   ]
  },
  {
   "cell_type": "code",
   "execution_count": 2,
   "metadata": {},
   "outputs": [],
   "source": [
    "from sklearn.linear_model import LinearRegression\n",
    "from sklearn.linear_model import LogisticRegression\n",
    "from sklearn.ensemble import RandomForestClassifier\n",
    "from sklearn.model_selection import train_test_split\n",
    "from sklearn.metrics import classification_report\n",
    "from sklearn.preprocessing import StandardScaler\n",
    "from sklearn.preprocessing import MinMaxScaler\n",
    "from sklearn.metrics import confusion_matrix\n",
    "from sklearn.discriminant_analysis import LinearDiscriminantAnalysis as LDA\n",
    "from sklearn.decomposition import PCA\n",
    "from sklearn.svm import SVC\n",
    "from sklearn import tree\n",
    "from sklearn.neighbors import KNeighborsClassifier as KNN"
   ]
  },
  {
   "cell_type": "markdown",
   "metadata": {},
   "source": [
    "# Import Dataset"
   ]
  },
  {
   "cell_type": "code",
   "execution_count": 3,
   "metadata": {},
   "outputs": [],
   "source": [
    "loan = pd.read_csv('kiva_loans_standardized.csv')"
   ]
  },
  {
   "cell_type": "markdown",
   "metadata": {},
   "source": [
    "# Test By Label"
   ]
  },
  {
   "cell_type": "markdown",
   "metadata": {},
   "source": [
    "Because different labels has different landscape, it is the best to test different model for different lables.  "
   ]
  },
  {
   "cell_type": "markdown",
   "metadata": {},
   "source": [
    "## Bullet"
   ]
  },
  {
   "cell_type": "code",
   "execution_count": 39,
   "metadata": {},
   "outputs": [],
   "source": [
    "selected_features = list(loan.columns)\n",
    "selected_features.remove('repayment_interval_irregular')\n",
    "selected_features.remove('repayment_interval_monthly')\n",
    "selected_features.remove('repayment_interval_weekly')\n",
    "selected_features.remove('repayment_interval_bullet')"
   ]
  },
  {
   "cell_type": "code",
   "execution_count": 40,
   "metadata": {},
   "outputs": [],
   "source": [
    "y = loan['repayment_interval_bullet']\n",
    "X = loan[selected_features]"
   ]
  },
  {
   "cell_type": "code",
   "execution_count": 41,
   "metadata": {},
   "outputs": [],
   "source": [
    "X_train, X_test, y_train, y_test = train_test_split(X, y, test_size=0.05, random_state=1)"
   ]
  },
  {
   "cell_type": "code",
   "execution_count": 7,
   "metadata": {},
   "outputs": [
    {
     "name": "stderr",
     "output_type": "stream",
     "text": [
      "c:\\program files\\python37\\lib\\site-packages\\sklearn\\discriminant_analysis.py:388: UserWarning: Variables are collinear.\n",
      "  warnings.warn(\"Variables are collinear.\")\n"
     ]
    }
   ],
   "source": [
    "lda = LDA(n_components=2)\n",
    "X_train_lda = lda.fit_transform(X_train, y_train)\n",
    "X_test_lda = lda.transform(X_test)"
   ]
  },
  {
   "cell_type": "code",
   "execution_count": 42,
   "metadata": {},
   "outputs": [],
   "source": [
    "pca = PCA(n_components=2)\n",
    "X_train_pca = pca.fit_transform(X_train, y_train)\n",
    "X_test_pca = pca.transform(X_test)"
   ]
  },
  {
   "cell_type": "code",
   "execution_count": 43,
   "metadata": {},
   "outputs": [
    {
     "data": {
      "image/png": "[encoded data removed]",
      "text/plain": [
       "<Figure size 432x288 with 1 Axes>"
      ]
     },
     "metadata": {
      "needs_background": "light"
     },
     "output_type": "display_data"
    }
   ],
   "source": [
    "coord_X_0 = []\n",
    "coord_Y_0 = []\n",
    "coord_X_1 = []\n",
    "coord_Y_1 = []\n",
    "i = 0\n",
    "# for i in range(len(y_train)):\n",
    "for each in y_train:\n",
    "#     print(y_train[i])\n",
    "#     print(each)\n",
    "#     if y_train[i] == 1:\n",
    "    if each == 1:\n",
    "        coord_X_0.append(X_train_pca[i][0])\n",
    "        coord_Y_0.append(X_train_pca[i][1])\n",
    "    else:\n",
    "        coord_X_1.append(X_train_pca[i][0])\n",
    "        coord_Y_1.append(X_train_pca[i][1])\n",
    "    i += 1\n",
    "plt.scatter(coord_X_0, coord_Y_0, color=\"red\")\n",
    "plt.scatter(coord_X_1, coord_Y_1, color=\"blue\")\n",
    "plt.show()\n",
    "# print(coord_X_0)"
   ]
  },
  {
   "cell_type": "markdown",
   "metadata": {},
   "source": [
    "### Logistic Regression"
   ]
  },
  {
   "cell_type": "code",
   "execution_count": 92,
   "metadata": {},
   "outputs": [
    {
     "name": "stderr",
     "output_type": "stream",
     "text": [
      "c:\\program files\\python37\\lib\\site-packages\\sklearn\\linear_model\\logistic.py:433: FutureWarning: Default solver will be changed to 'lbfgs' in 0.22. Specify a solver to silence this warning.\n",
      "  FutureWarning)\n"
     ]
    },
    {
     "name": "stdout",
     "output_type": "stream",
     "text": [
      "              precision    recall  f1-score   support\n",
      "\n",
      "           0       0.90      1.00      0.95     30096\n",
      "           1       0.36      0.00      0.00      3465\n",
      "\n",
      "   micro avg       0.90      0.90      0.90     33561\n",
      "   macro avg       0.63      0.50      0.47     33561\n",
      "weighted avg       0.84      0.90      0.85     33561\n",
      "\n",
      "[[30089     7]\n",
      " [ 3461     4]]\n"
     ]
    }
   ],
   "source": [
    "lg = LogisticRegression()\n",
    "lg.fit(X_train_pca,y_train)\n",
    "y_pred = lg.predict(X_test_pca)\n",
    "print(classification_report(y_test,y_pred))\n",
    "print(confusion_matrix(y_test, y_pred))"
   ]
  },
  {
   "cell_type": "code",
   "execution_count": 93,
   "metadata": {
    "scrolled": true
   },
   "outputs": [
    {
     "name": "stderr",
     "output_type": "stream",
     "text": [
      "c:\\program files\\python37\\lib\\site-packages\\sklearn\\linear_model\\logistic.py:433: FutureWarning: Default solver will be changed to 'lbfgs' in 0.22. Specify a solver to silence this warning.\n",
      "  FutureWarning)\n"
     ]
    },
    {
     "name": "stdout",
     "output_type": "stream",
     "text": [
      "              precision    recall  f1-score   support\n",
      "\n",
      "           0       0.96      0.97      0.97     30096\n",
      "           1       0.73      0.62      0.67      3465\n",
      "\n",
      "   micro avg       0.94      0.94      0.94     33561\n",
      "   macro avg       0.85      0.80      0.82     33561\n",
      "weighted avg       0.93      0.94      0.94     33561\n",
      "\n",
      "[[29319   777]\n",
      " [ 1310  2155]]\n"
     ]
    }
   ],
   "source": [
    "lg = LogisticRegression()\n",
    "lg.fit(X_train_lda,y_train)\n",
    "y_pred = lg.predict(X_test_lda)\n",
    "print(classification_report(y_test,y_pred))\n",
    "print(confusion_matrix(y_test, y_pred))"
   ]
  },
  {
   "cell_type": "markdown",
   "metadata": {},
   "source": [
    "### Decision Tree"
   ]
  },
  {
   "cell_type": "code",
   "execution_count": 97,
   "metadata": {
    "scrolled": true
   },
   "outputs": [
    {
     "name": "stdout",
     "output_type": "stream",
     "text": [
      "              precision    recall  f1-score   support\n",
      "\n",
      "           0       0.94      0.94      0.94     30096\n",
      "           1       0.51      0.51      0.51      3465\n",
      "\n",
      "   micro avg       0.90      0.90      0.90     33561\n",
      "   macro avg       0.73      0.73      0.73     33561\n",
      "weighted avg       0.90      0.90      0.90     33561\n",
      "\n",
      "[[28387  1709]\n",
      " [ 1708  1757]]\n"
     ]
    }
   ],
   "source": [
    "dtree = tree.DecisionTreeClassifier()\n",
    "dtree.fit(X_train_pca, y_train)\n",
    "y_pred = dtree.predict(X_test_pca)\n",
    "print(classification_report(y_test,y_pred))\n",
    "print(confusion_matrix(y_test, y_pred))"
   ]
  },
  {
   "cell_type": "code",
   "execution_count": 96,
   "metadata": {},
   "outputs": [
    {
     "name": "stdout",
     "output_type": "stream",
     "text": [
      "              precision    recall  f1-score   support\n",
      "\n",
      "           0       0.97      0.97      0.97     30096\n",
      "           1       0.70      0.70      0.70      3465\n",
      "\n",
      "   micro avg       0.94      0.94      0.94     33561\n",
      "   macro avg       0.83      0.83      0.83     33561\n",
      "weighted avg       0.94      0.94      0.94     33561\n",
      "\n",
      "[[29069  1027]\n",
      " [ 1038  2427]]\n"
     ]
    }
   ],
   "source": [
    "dtree = tree.DecisionTreeClassifier()\n",
    "dtree.fit(X_train_lda, y_train)\n",
    "y_pred = dtree.predict(X_test_lda)\n",
    "print(classification_report(y_test,y_pred))\n",
    "print(confusion_matrix(y_test, y_pred))"
   ]
  },
  {
   "cell_type": "markdown",
   "metadata": {},
   "source": [
    "### Random Forest"
   ]
  },
  {
   "cell_type": "code",
   "execution_count": 103,
   "metadata": {
    "scrolled": true
   },
   "outputs": [
    {
     "name": "stdout",
     "output_type": "stream",
     "text": [
      "              precision    recall  f1-score   support\n",
      "\n",
      "           0       0.91      1.00      0.95     30096\n",
      "           1       0.80      0.15      0.25      3465\n",
      "\n",
      "   micro avg       0.91      0.91      0.91     33561\n",
      "   macro avg       0.85      0.57      0.60     33561\n",
      "weighted avg       0.90      0.91      0.88     33561\n",
      "\n",
      "[[29965   131]\n",
      " [ 2950   515]]\n"
     ]
    }
   ],
   "source": [
    "forest = RandomForestClassifier(n_estimators=100, max_depth=4)\n",
    "forest.fit(X_train_pca, y_train)\n",
    "y_pred = forest.predict(X_test_pca)\n",
    "print(classification_report(y_test,y_pred))\n",
    "print(confusion_matrix(y_test, y_pred))"
   ]
  },
  {
   "cell_type": "code",
   "execution_count": 102,
   "metadata": {},
   "outputs": [
    {
     "name": "stdout",
     "output_type": "stream",
     "text": [
      "              precision    recall  f1-score   support\n",
      "\n",
      "           0       0.97      0.97      0.97     30096\n",
      "           1       0.74      0.72      0.73      3465\n",
      "\n",
      "   micro avg       0.95      0.95      0.95     33561\n",
      "   macro avg       0.86      0.85      0.85     33561\n",
      "weighted avg       0.94      0.95      0.95     33561\n",
      "\n",
      "[[29229   867]\n",
      " [  963  2502]]\n"
     ]
    }
   ],
   "source": [
    "forest = RandomForestClassifier(n_estimators=100, max_depth=4)\n",
    "forest.fit(X_train_lda, y_train)\n",
    "y_pred = forest.predict(X_test_lda)\n",
    "print(classification_report(y_test,y_pred))\n",
    "print(confusion_matrix(y_test, y_pred))"
   ]
  },
  {
   "cell_type": "markdown",
   "metadata": {},
   "source": [
    "### K Nearest Neighbour"
   ]
  },
  {
   "cell_type": "code",
   "execution_count": 26,
   "metadata": {
    "scrolled": true
   },
   "outputs": [
    {
     "name": "stdout",
     "output_type": "stream",
     "text": [
      "              precision    recall  f1-score   support\n",
      "\n",
      "           0       0.92      0.99      0.95     30096\n",
      "           1       0.76      0.27      0.40      3465\n",
      "\n",
      "   micro avg       0.92      0.92      0.92     33561\n",
      "   macro avg       0.84      0.63      0.68     33561\n",
      "weighted avg       0.91      0.92      0.90     33561\n",
      "\n",
      "[[29803   293]\n",
      " [ 2528   937]]\n"
     ]
    }
   ],
   "source": [
    "knn = KNN(n_neighbors=100)\n",
    "knn.fit(X_train_pca,y_train)\n",
    "y_pred = knn.predict(X_test_pca)\n",
    "print(classification_report(y_test,y_pred))\n",
    "print(confusion_matrix(y_test, y_pred))"
   ]
  },
  {
   "cell_type": "code",
   "execution_count": 23,
   "metadata": {},
   "outputs": [
    {
     "name": "stdout",
     "output_type": "stream",
     "text": [
      "              precision    recall  f1-score   support\n",
      "\n",
      "           0       0.97      0.97      0.97     30096\n",
      "           1       0.76      0.71      0.73      3465\n",
      "\n",
      "   micro avg       0.95      0.95      0.95     33561\n",
      "   macro avg       0.86      0.84      0.85     33561\n",
      "weighted avg       0.95      0.95      0.95     33561\n",
      "\n",
      "[[29332   764]\n",
      " [ 1022  2443]]\n"
     ]
    }
   ],
   "source": [
    "knn = KNN(n_neighbors=100)\n",
    "knn.fit(X_train_lda,y_train)\n",
    "y_pred = knn.predict(X_test_lda)\n",
    "print(classification_report(y_test,y_pred))\n",
    "print(confusion_matrix(y_test, y_pred))"
   ]
  },
  {
   "cell_type": "markdown",
   "metadata": {},
   "source": [
    "### Support Vector Machine"
   ]
  },
  {
   "cell_type": "code",
   "execution_count": 40,
   "metadata": {
    "scrolled": false
   },
   "outputs": [
    {
     "name": "stderr",
     "output_type": "stream",
     "text": [
      "c:\\program files\\python37\\lib\\site-packages\\sklearn\\svm\\base.py:196: FutureWarning: The default value of gamma will change from 'auto' to 'scale' in version 0.22 to account better for unscaled features. Set gamma explicitly to 'auto' or 'scale' to avoid this warning.\n",
      "  \"avoid this warning.\", FutureWarning)\n"
     ]
    },
    {
     "name": "stdout",
     "output_type": "stream",
     "text": [
      "              precision    recall  f1-score   support\n",
      "\n",
      "           0       0.97      0.96      0.97     30096\n",
      "           1       0.69      0.77      0.73      3465\n",
      "\n",
      "   micro avg       0.94      0.94      0.94     33561\n",
      "   macro avg       0.83      0.86      0.85     33561\n",
      "weighted avg       0.94      0.94      0.94     33561\n",
      "\n",
      "[[28928  1168]\n",
      " [  808  2657]]\n"
     ]
    }
   ],
   "source": [
    "# Load too long for SVM! only choose some of the sample to train.  \n",
    "clf = SVC()\n",
    "clf.fit(X_train_lda[0:37644], y_train[0:37644])\n",
    "y_pred = clf.predict(X_test_lda)\n",
    "print(classification_report(y_test,y_pred))\n",
    "print(confusion_matrix(y_test, y_pred))"
   ]
  },
  {
   "cell_type": "markdown",
   "metadata": {},
   "source": [
    "### Summary"
   ]
  },
  {
   "cell_type": "markdown",
   "metadata": {},
   "source": [
    "Using LDA feature extraction, it is trivial that all prediction methods can come up to 94% precision, F1 score, recall and support.  \n",
    "\n",
    "However, if it is 95% precision, then only KNN can do it.  "
   ]
  },
  {
   "cell_type": "markdown",
   "metadata": {},
   "source": [
    "## Weekly"
   ]
  },
  {
   "cell_type": "code",
   "execution_count": 34,
   "metadata": {},
   "outputs": [],
   "source": [
    "selected_features = list(loan.columns)\n",
    "selected_features.remove('repayment_interval_irregular')\n",
    "selected_features.remove('repayment_interval_monthly')\n",
    "selected_features.remove('repayment_interval_weekly')\n",
    "selected_features.remove('repayment_interval_bullet')"
   ]
  },
  {
   "cell_type": "code",
   "execution_count": 35,
   "metadata": {},
   "outputs": [],
   "source": [
    "y = loan['repayment_interval_weekly']\n",
    "X = loan[selected_features]"
   ]
  },
  {
   "cell_type": "code",
   "execution_count": 36,
   "metadata": {},
   "outputs": [],
   "source": [
    "X_train, X_test, y_train, y_test = train_test_split(X, y, test_size=0.05, random_state=1)"
   ]
  },
  {
   "cell_type": "code",
   "execution_count": 44,
   "metadata": {},
   "outputs": [
    {
     "name": "stderr",
     "output_type": "stream",
     "text": [
      "c:\\program files\\python37\\lib\\site-packages\\sklearn\\discriminant_analysis.py:388: UserWarning: Variables are collinear.\n",
      "  warnings.warn(\"Variables are collinear.\")\n"
     ]
    }
   ],
   "source": [
    "lda = LDA(n_components=2)\n",
    "X_train_lda = lda.fit_transform(X_train, y_train)\n",
    "X_test_lda = lda.transform(X_test)"
   ]
  },
  {
   "cell_type": "code",
   "execution_count": 37,
   "metadata": {},
   "outputs": [],
   "source": [
    "pca = PCA(n_components=2)\n",
    "X_train_pca = pca.fit_transform(X_train, y_train)\n",
    "X_test_pca = pca.transform(X_test)"
   ]
  },
  {
   "cell_type": "code",
   "execution_count": 38,
   "metadata": {},
   "outputs": [
    {
     "data": {
      "image/png": "[encoded data removed]",
      "text/plain": [
       "<Figure size 432x288 with 1 Axes>"
      ]
     },
     "metadata": {
      "needs_background": "light"
     },
     "output_type": "display_data"
    }
   ],
   "source": [
    "coord_X_0 = []\n",
    "coord_Y_0 = []\n",
    "coord_X_1 = []\n",
    "coord_Y_1 = []\n",
    "i = 0\n",
    "# for i in range(len(y_train)):\n",
    "for each in y_train:\n",
    "#     print(y_train[i])\n",
    "#     print(each)\n",
    "#     if y_train[i] == 1:\n",
    "    if each == 1:\n",
    "        coord_X_0.append(X_train_pca[i][0])\n",
    "        coord_Y_0.append(X_train_pca[i][1])\n",
    "    else:\n",
    "        coord_X_1.append(X_train_pca[i][0])\n",
    "        coord_Y_1.append(X_train_pca[i][1])\n",
    "    i += 1\n",
    "plt.scatter(coord_X_0, coord_Y_0, color=\"red\")\n",
    "plt.scatter(coord_X_1, coord_Y_1, color=\"blue\")\n",
    "plt.show()\n",
    "# print(coord_X_0)"
   ]
  },
  {
   "cell_type": "markdown",
   "metadata": {},
   "source": [
    "### Logistic Regression"
   ]
  },
  {
   "cell_type": "code",
   "execution_count": 46,
   "metadata": {
    "scrolled": true
   },
   "outputs": [
    {
     "name": "stderr",
     "output_type": "stream",
     "text": [
      "c:\\program files\\python37\\lib\\site-packages\\sklearn\\linear_model\\logistic.py:433: FutureWarning: Default solver will be changed to 'lbfgs' in 0.22. Specify a solver to silence this warning.\n",
      "  FutureWarning)\n"
     ]
    },
    {
     "name": "stdout",
     "output_type": "stream",
     "text": [
      "              precision    recall  f1-score   support\n",
      "\n",
      "           0       1.00      1.00      1.00     33531\n",
      "           1       0.00      0.00      0.00        30\n",
      "\n",
      "   micro avg       1.00      1.00      1.00     33561\n",
      "   macro avg       0.50      0.50      0.50     33561\n",
      "weighted avg       1.00      1.00      1.00     33561\n",
      "\n",
      "[[33531     0]\n",
      " [   30     0]]\n"
     ]
    },
    {
     "name": "stderr",
     "output_type": "stream",
     "text": [
      "c:\\program files\\python37\\lib\\site-packages\\sklearn\\metrics\\classification.py:1143: UndefinedMetricWarning: Precision and F-score are ill-defined and being set to 0.0 in labels with no predicted samples.\n",
      "  'precision', 'predicted', average, warn_for)\n"
     ]
    }
   ],
   "source": [
    "lg = LogisticRegression()\n",
    "lg.fit(X_train_pca,y_train)\n",
    "y_pred = lg.predict(X_test_pca)\n",
    "print(classification_report(y_test,y_pred))\n",
    "print(confusion_matrix(y_test, y_pred))"
   ]
  },
  {
   "cell_type": "code",
   "execution_count": 47,
   "metadata": {
    "scrolled": false
   },
   "outputs": [
    {
     "name": "stderr",
     "output_type": "stream",
     "text": [
      "c:\\program files\\python37\\lib\\site-packages\\sklearn\\linear_model\\logistic.py:433: FutureWarning: Default solver will be changed to 'lbfgs' in 0.22. Specify a solver to silence this warning.\n",
      "  FutureWarning)\n"
     ]
    },
    {
     "name": "stdout",
     "output_type": "stream",
     "text": [
      "              precision    recall  f1-score   support\n",
      "\n",
      "           0       1.00      1.00      1.00     33531\n",
      "           1       0.00      0.00      0.00        30\n",
      "\n",
      "   micro avg       1.00      1.00      1.00     33561\n",
      "   macro avg       0.50      0.50      0.50     33561\n",
      "weighted avg       1.00      1.00      1.00     33561\n",
      "\n",
      "[[33531     0]\n",
      " [   30     0]]\n"
     ]
    },
    {
     "name": "stderr",
     "output_type": "stream",
     "text": [
      "c:\\program files\\python37\\lib\\site-packages\\sklearn\\metrics\\classification.py:1143: UndefinedMetricWarning: Precision and F-score are ill-defined and being set to 0.0 in labels with no predicted samples.\n",
      "  'precision', 'predicted', average, warn_for)\n"
     ]
    }
   ],
   "source": [
    "lg = LogisticRegression()\n",
    "lg.fit(X_train_lda,y_train)\n",
    "y_pred = lg.predict(X_test_lda)\n",
    "print(classification_report(y_test,y_pred))\n",
    "print(confusion_matrix(y_test, y_pred))"
   ]
  },
  {
   "cell_type": "markdown",
   "metadata": {},
   "source": [
    "### Decision Tree"
   ]
  },
  {
   "cell_type": "code",
   "execution_count": 48,
   "metadata": {
    "scrolled": true
   },
   "outputs": [
    {
     "name": "stdout",
     "output_type": "stream",
     "text": [
      "              precision    recall  f1-score   support\n",
      "\n",
      "           0       1.00      1.00      1.00     33531\n",
      "           1       0.37      0.53      0.44        30\n",
      "\n",
      "   micro avg       1.00      1.00      1.00     33561\n",
      "   macro avg       0.69      0.77      0.72     33561\n",
      "weighted avg       1.00      1.00      1.00     33561\n",
      "\n",
      "[[33504    27]\n",
      " [   14    16]]\n"
     ]
    }
   ],
   "source": [
    "dtree = tree.DecisionTreeClassifier()\n",
    "dtree.fit(X_train_pca, y_train)\n",
    "y_pred = dtree.predict(X_test_pca)\n",
    "print(classification_report(y_test,y_pred))\n",
    "print(confusion_matrix(y_test, y_pred))"
   ]
  },
  {
   "cell_type": "code",
   "execution_count": 49,
   "metadata": {
    "scrolled": true
   },
   "outputs": [
    {
     "name": "stdout",
     "output_type": "stream",
     "text": [
      "              precision    recall  f1-score   support\n",
      "\n",
      "           0       1.00      1.00      1.00     33531\n",
      "           1       0.38      0.50      0.43        30\n",
      "\n",
      "   micro avg       1.00      1.00      1.00     33561\n",
      "   macro avg       0.69      0.75      0.72     33561\n",
      "weighted avg       1.00      1.00      1.00     33561\n",
      "\n",
      "[[33507    24]\n",
      " [   15    15]]\n"
     ]
    }
   ],
   "source": [
    "dtree = tree.DecisionTreeClassifier()\n",
    "dtree.fit(X_train_lda, y_train)\n",
    "y_pred = dtree.predict(X_test_lda)\n",
    "print(classification_report(y_test,y_pred))\n",
    "print(confusion_matrix(y_test, y_pred))"
   ]
  },
  {
   "cell_type": "markdown",
   "metadata": {},
   "source": [
    "### Random Forest"
   ]
  },
  {
   "cell_type": "code",
   "execution_count": 51,
   "metadata": {
    "scrolled": true
   },
   "outputs": [
    {
     "name": "stdout",
     "output_type": "stream",
     "text": [
      "              precision    recall  f1-score   support\n",
      "\n",
      "           0       1.00      1.00      1.00     33531\n",
      "           1       0.00      0.00      0.00        30\n",
      "\n",
      "   micro avg       1.00      1.00      1.00     33561\n",
      "   macro avg       0.50      0.50      0.50     33561\n",
      "weighted avg       1.00      1.00      1.00     33561\n",
      "\n",
      "[[33531     0]\n",
      " [   30     0]]\n"
     ]
    },
    {
     "name": "stderr",
     "output_type": "stream",
     "text": [
      "c:\\program files\\python37\\lib\\site-packages\\sklearn\\metrics\\classification.py:1143: UndefinedMetricWarning: Precision and F-score are ill-defined and being set to 0.0 in labels with no predicted samples.\n",
      "  'precision', 'predicted', average, warn_for)\n"
     ]
    }
   ],
   "source": [
    "forest = RandomForestClassifier(n_estimators=100, max_depth=4)\n",
    "forest.fit(X_train_pca, y_train)\n",
    "y_pred = forest.predict(X_test_pca)\n",
    "print(classification_report(y_test,y_pred))\n",
    "print(confusion_matrix(y_test, y_pred))"
   ]
  },
  {
   "cell_type": "code",
   "execution_count": 50,
   "metadata": {
    "scrolled": true
   },
   "outputs": [
    {
     "name": "stdout",
     "output_type": "stream",
     "text": [
      "              precision    recall  f1-score   support\n",
      "\n",
      "           0       1.00      1.00      1.00     33531\n",
      "           1       0.00      0.00      0.00        30\n",
      "\n",
      "   micro avg       1.00      1.00      1.00     33561\n",
      "   macro avg       0.50      0.50      0.50     33561\n",
      "weighted avg       1.00      1.00      1.00     33561\n",
      "\n",
      "[[33531     0]\n",
      " [   30     0]]\n"
     ]
    },
    {
     "name": "stderr",
     "output_type": "stream",
     "text": [
      "c:\\program files\\python37\\lib\\site-packages\\sklearn\\metrics\\classification.py:1143: UndefinedMetricWarning: Precision and F-score are ill-defined and being set to 0.0 in labels with no predicted samples.\n",
      "  'precision', 'predicted', average, warn_for)\n"
     ]
    }
   ],
   "source": [
    "forest = RandomForestClassifier(n_estimators=100, max_depth=4)\n",
    "forest.fit(X_train_lda, y_train)\n",
    "y_pred = forest.predict(X_test_lda)\n",
    "print(classification_report(y_test,y_pred))\n",
    "print(confusion_matrix(y_test, y_pred))"
   ]
  },
  {
   "cell_type": "markdown",
   "metadata": {},
   "source": [
    "### K Nearest Neighbour"
   ]
  },
  {
   "cell_type": "code",
   "execution_count": 53,
   "metadata": {
    "scrolled": true
   },
   "outputs": [
    {
     "name": "stdout",
     "output_type": "stream",
     "text": [
      "              precision    recall  f1-score   support\n",
      "\n",
      "           0       1.00      1.00      1.00     33531\n",
      "           1       0.30      0.10      0.15        30\n",
      "\n",
      "   micro avg       1.00      1.00      1.00     33561\n",
      "   macro avg       0.65      0.55      0.57     33561\n",
      "weighted avg       1.00      1.00      1.00     33561\n",
      "\n",
      "[[33524     7]\n",
      " [   27     3]]\n"
     ]
    }
   ],
   "source": [
    "knn = KNN(n_neighbors=100)\n",
    "knn.fit(X_train_pca,y_train)\n",
    "y_pred = knn.predict(X_test_pca)\n",
    "print(classification_report(y_test,y_pred))\n",
    "print(confusion_matrix(y_test, y_pred))"
   ]
  },
  {
   "cell_type": "code",
   "execution_count": 52,
   "metadata": {
    "scrolled": true
   },
   "outputs": [
    {
     "name": "stdout",
     "output_type": "stream",
     "text": [
      "              precision    recall  f1-score   support\n",
      "\n",
      "           0       1.00      1.00      1.00     33531\n",
      "           1       0.00      0.00      0.00        30\n",
      "\n",
      "   micro avg       1.00      1.00      1.00     33561\n",
      "   macro avg       0.50      0.50      0.50     33561\n",
      "weighted avg       1.00      1.00      1.00     33561\n",
      "\n",
      "[[33531     0]\n",
      " [   30     0]]\n"
     ]
    },
    {
     "name": "stderr",
     "output_type": "stream",
     "text": [
      "c:\\program files\\python37\\lib\\site-packages\\sklearn\\metrics\\classification.py:1143: UndefinedMetricWarning: Precision and F-score are ill-defined and being set to 0.0 in labels with no predicted samples.\n",
      "  'precision', 'predicted', average, warn_for)\n"
     ]
    }
   ],
   "source": [
    "knn = KNN(n_neighbors=100)\n",
    "knn.fit(X_train_lda,y_train)\n",
    "y_pred = knn.predict(X_test_lda)\n",
    "print(classification_report(y_test,y_pred))\n",
    "print(confusion_matrix(y_test, y_pred))"
   ]
  },
  {
   "cell_type": "markdown",
   "metadata": {},
   "source": [
    "### Support Vector Machine"
   ]
  },
  {
   "cell_type": "code",
   "execution_count": 56,
   "metadata": {
    "scrolled": true
   },
   "outputs": [
    {
     "name": "stderr",
     "output_type": "stream",
     "text": [
      "c:\\program files\\python37\\lib\\site-packages\\sklearn\\svm\\base.py:196: FutureWarning: The default value of gamma will change from 'auto' to 'scale' in version 0.22 to account better for unscaled features. Set gamma explicitly to 'auto' or 'scale' to avoid this warning.\n",
      "  \"avoid this warning.\", FutureWarning)\n"
     ]
    },
    {
     "name": "stdout",
     "output_type": "stream",
     "text": [
      "              precision    recall  f1-score   support\n",
      "\n",
      "           0       1.00      1.00      1.00     33531\n",
      "           1       0.00      0.00      0.00        30\n",
      "\n",
      "   micro avg       1.00      1.00      1.00     33561\n",
      "   macro avg       0.50      0.50      0.50     33561\n",
      "weighted avg       1.00      1.00      1.00     33561\n",
      "\n",
      "[[33531     0]\n",
      " [   30     0]]\n"
     ]
    },
    {
     "name": "stderr",
     "output_type": "stream",
     "text": [
      "c:\\program files\\python37\\lib\\site-packages\\sklearn\\metrics\\classification.py:1143: UndefinedMetricWarning: Precision and F-score are ill-defined and being set to 0.0 in labels with no predicted samples.\n",
      "  'precision', 'predicted', average, warn_for)\n"
     ]
    }
   ],
   "source": [
    "# Load too long for SVM! only choose some of the sample to train.  \n",
    "clf = SVC()\n",
    "clf.fit(X_train_pca[0:137644], y_train[0:137644])\n",
    "y_pred = clf.predict(X_test_pca)\n",
    "print(classification_report(y_test,y_pred))\n",
    "print(confusion_matrix(y_test, y_pred))"
   ]
  },
  {
   "cell_type": "code",
   "execution_count": 57,
   "metadata": {
    "scrolled": true
   },
   "outputs": [
    {
     "name": "stderr",
     "output_type": "stream",
     "text": [
      "c:\\program files\\python37\\lib\\site-packages\\sklearn\\svm\\base.py:196: FutureWarning: The default value of gamma will change from 'auto' to 'scale' in version 0.22 to account better for unscaled features. Set gamma explicitly to 'auto' or 'scale' to avoid this warning.\n",
      "  \"avoid this warning.\", FutureWarning)\n"
     ]
    },
    {
     "name": "stdout",
     "output_type": "stream",
     "text": [
      "              precision    recall  f1-score   support\n",
      "\n",
      "           0       1.00      1.00      1.00     33531\n",
      "           1       0.00      0.00      0.00        30\n",
      "\n",
      "   micro avg       1.00      1.00      1.00     33561\n",
      "   macro avg       0.50      0.50      0.50     33561\n",
      "weighted avg       1.00      1.00      1.00     33561\n",
      "\n",
      "[[33531     0]\n",
      " [   30     0]]\n"
     ]
    },
    {
     "name": "stderr",
     "output_type": "stream",
     "text": [
      "c:\\program files\\python37\\lib\\site-packages\\sklearn\\metrics\\classification.py:1143: UndefinedMetricWarning: Precision and F-score are ill-defined and being set to 0.0 in labels with no predicted samples.\n",
      "  'precision', 'predicted', average, warn_for)\n"
     ]
    }
   ],
   "source": [
    "# Load too long for SVM! only choose some of the sample to train.  \n",
    "clf = SVC()\n",
    "clf.fit(X_train_lda[0:137644], y_train[0:137644])\n",
    "y_pred = clf.predict(X_test_lda)\n",
    "print(classification_report(y_test,y_pred))\n",
    "print(confusion_matrix(y_test, y_pred))"
   ]
  },
  {
   "cell_type": "markdown",
   "metadata": {},
   "source": [
    "### Summary"
   ]
  },
  {
   "cell_type": "markdown",
   "metadata": {},
   "source": [
    "Among all these models, only KNN and decision tree can predict something.  \n",
    "\n",
    "In comparison, decision tree does suprisingly well; it can recognize half of the cases.  \n",
    "\n",
    "Also, the PCA's dataset does better than LDA's in both KNN and decision tree.  "
   ]
  },
  {
   "cell_type": "markdown",
   "metadata": {},
   "source": [
    "## Monthly"
   ]
  },
  {
   "cell_type": "code",
   "execution_count": 28,
   "metadata": {},
   "outputs": [],
   "source": [
    "selected_features = list(loan.columns)\n",
    "selected_features.remove('repayment_interval_irregular')\n",
    "selected_features.remove('repayment_interval_monthly')\n",
    "selected_features.remove('repayment_interval_weekly')\n",
    "selected_features.remove('repayment_interval_bullet')"
   ]
  },
  {
   "cell_type": "code",
   "execution_count": 29,
   "metadata": {},
   "outputs": [],
   "source": [
    "y = loan['repayment_interval_monthly']\n",
    "X = loan[selected_features]"
   ]
  },
  {
   "cell_type": "code",
   "execution_count": 30,
   "metadata": {},
   "outputs": [],
   "source": [
    "X_train, X_test, y_train, y_test = train_test_split(X, y, test_size=0.05, random_state=1)"
   ]
  },
  {
   "cell_type": "code",
   "execution_count": 31,
   "metadata": {},
   "outputs": [
    {
     "name": "stderr",
     "output_type": "stream",
     "text": [
      "c:\\program files\\python37\\lib\\site-packages\\sklearn\\discriminant_analysis.py:388: UserWarning: Variables are collinear.\n",
      "  warnings.warn(\"Variables are collinear.\")\n"
     ]
    }
   ],
   "source": [
    "lda = LDA(n_components=2)\n",
    "X_train_lda = lda.fit_transform(X_train, y_train)\n",
    "X_test_lda = lda.transform(X_test)"
   ]
  },
  {
   "cell_type": "code",
   "execution_count": 32,
   "metadata": {},
   "outputs": [],
   "source": [
    "pca = PCA(n_components=2)\n",
    "X_train_pca = pca.fit_transform(X_train, y_train)\n",
    "X_test_pca = pca.transform(X_test)"
   ]
  },
  {
   "cell_type": "code",
   "execution_count": 33,
   "metadata": {},
   "outputs": [
    {
     "data": {
      "image/png": "[encoded data removed]",
      "text/plain": [
       "<Figure size 432x288 with 1 Axes>"
      ]
     },
     "metadata": {
      "needs_background": "light"
     },
     "output_type": "display_data"
    }
   ],
   "source": [
    "coord_X_0 = []\n",
    "coord_Y_0 = []\n",
    "coord_X_1 = []\n",
    "coord_Y_1 = []\n",
    "i = 0\n",
    "# for i in range(len(y_train)):\n",
    "for each in y_train:\n",
    "#     print(y_train[i])\n",
    "#     print(each)\n",
    "#     if y_train[i] == 1:\n",
    "    if each == 1:\n",
    "        coord_X_0.append(X_train_pca[i][0])\n",
    "        coord_Y_0.append(X_train_pca[i][1])\n",
    "    else:\n",
    "        coord_X_1.append(X_train_pca[i][0])\n",
    "        coord_Y_1.append(X_train_pca[i][1])\n",
    "    i += 1\n",
    "plt.scatter(coord_X_0, coord_Y_0, color=\"red\")\n",
    "plt.scatter(coord_X_1, coord_Y_1, color=\"blue\")\n",
    "plt.show()\n",
    "# print(coord_X_0)"
   ]
  },
  {
   "cell_type": "markdown",
   "metadata": {},
   "source": [
    "### Logistic Regression"
   ]
  },
  {
   "cell_type": "code",
   "execution_count": 63,
   "metadata": {},
   "outputs": [
    {
     "name": "stderr",
     "output_type": "stream",
     "text": [
      "c:\\program files\\python37\\lib\\site-packages\\sklearn\\linear_model\\logistic.py:433: FutureWarning: Default solver will be changed to 'lbfgs' in 0.22. Specify a solver to silence this warning.\n",
      "  FutureWarning)\n"
     ]
    },
    {
     "name": "stdout",
     "output_type": "stream",
     "text": [
      "              precision    recall  f1-score   support\n",
      "\n",
      "           0       0.68      0.75      0.72     16454\n",
      "           1       0.74      0.67      0.70     17107\n",
      "\n",
      "   micro avg       0.71      0.71      0.71     33561\n",
      "   macro avg       0.71      0.71      0.71     33561\n",
      "weighted avg       0.71      0.71      0.71     33561\n",
      "\n",
      "[[12408  4046]\n",
      " [ 5707 11400]]\n"
     ]
    }
   ],
   "source": [
    "lg = LogisticRegression()\n",
    "lg.fit(X_train_pca,y_train)\n",
    "y_pred = lg.predict(X_test_pca)\n",
    "print(classification_report(y_test,y_pred))\n",
    "print(confusion_matrix(y_test, y_pred))"
   ]
  },
  {
   "cell_type": "code",
   "execution_count": 64,
   "metadata": {
    "scrolled": true
   },
   "outputs": [
    {
     "name": "stderr",
     "output_type": "stream",
     "text": [
      "c:\\program files\\python37\\lib\\site-packages\\sklearn\\linear_model\\logistic.py:433: FutureWarning: Default solver will be changed to 'lbfgs' in 0.22. Specify a solver to silence this warning.\n",
      "  FutureWarning)\n"
     ]
    },
    {
     "name": "stdout",
     "output_type": "stream",
     "text": [
      "              precision    recall  f1-score   support\n",
      "\n",
      "           0       0.83      0.77      0.80     16454\n",
      "           1       0.79      0.85      0.82     17107\n",
      "\n",
      "   micro avg       0.81      0.81      0.81     33561\n",
      "   macro avg       0.81      0.81      0.81     33561\n",
      "weighted avg       0.81      0.81      0.81     33561\n",
      "\n",
      "[[12624  3830]\n",
      " [ 2586 14521]]\n"
     ]
    }
   ],
   "source": [
    "lg = LogisticRegression()\n",
    "lg.fit(X_train_lda,y_train)\n",
    "y_pred = lg.predict(X_test_lda)\n",
    "print(classification_report(y_test,y_pred))\n",
    "print(confusion_matrix(y_test, y_pred))"
   ]
  },
  {
   "cell_type": "markdown",
   "metadata": {},
   "source": [
    "### Decision Tree"
   ]
  },
  {
   "cell_type": "code",
   "execution_count": 65,
   "metadata": {
    "scrolled": true
   },
   "outputs": [
    {
     "name": "stdout",
     "output_type": "stream",
     "text": [
      "              precision    recall  f1-score   support\n",
      "\n",
      "           0       0.77      0.79      0.78     16454\n",
      "           1       0.80      0.78      0.79     17107\n",
      "\n",
      "   micro avg       0.78      0.78      0.78     33561\n",
      "   macro avg       0.78      0.78      0.78     33561\n",
      "weighted avg       0.78      0.78      0.78     33561\n",
      "\n",
      "[[13027  3427]\n",
      " [ 3800 13307]]\n"
     ]
    }
   ],
   "source": [
    "dtree = tree.DecisionTreeClassifier()\n",
    "dtree.fit(X_train_pca, y_train)\n",
    "y_pred = dtree.predict(X_test_pca)\n",
    "print(classification_report(y_test,y_pred))\n",
    "print(confusion_matrix(y_test, y_pred))"
   ]
  },
  {
   "cell_type": "code",
   "execution_count": 66,
   "metadata": {
    "scrolled": true
   },
   "outputs": [
    {
     "name": "stdout",
     "output_type": "stream",
     "text": [
      "              precision    recall  f1-score   support\n",
      "\n",
      "           0       0.80      0.82      0.81     16454\n",
      "           1       0.83      0.81      0.82     17107\n",
      "\n",
      "   micro avg       0.82      0.82      0.82     33561\n",
      "   macro avg       0.82      0.82      0.82     33561\n",
      "weighted avg       0.82      0.82      0.82     33561\n",
      "\n",
      "[[13571  2883]\n",
      " [ 3303 13804]]\n"
     ]
    }
   ],
   "source": [
    "dtree = tree.DecisionTreeClassifier()\n",
    "dtree.fit(X_train_lda, y_train)\n",
    "y_pred = dtree.predict(X_test_lda)\n",
    "print(classification_report(y_test,y_pred))\n",
    "print(confusion_matrix(y_test, y_pred))"
   ]
  },
  {
   "cell_type": "markdown",
   "metadata": {},
   "source": [
    "### Random Forest"
   ]
  },
  {
   "cell_type": "code",
   "execution_count": 68,
   "metadata": {
    "scrolled": false
   },
   "outputs": [
    {
     "name": "stdout",
     "output_type": "stream",
     "text": [
      "              precision    recall  f1-score   support\n",
      "\n",
      "           0       0.75      0.69      0.72     16454\n",
      "           1       0.72      0.77      0.75     17107\n",
      "\n",
      "   micro avg       0.73      0.73      0.73     33561\n",
      "   macro avg       0.73      0.73      0.73     33561\n",
      "weighted avg       0.73      0.73      0.73     33561\n",
      "\n",
      "[[11377  5077]\n",
      " [ 3860 13247]]\n"
     ]
    }
   ],
   "source": [
    "forest = RandomForestClassifier(n_estimators=100, max_depth=4)\n",
    "forest.fit(X_train_pca, y_train)\n",
    "y_pred = forest.predict(X_test_pca)\n",
    "print(classification_report(y_test,y_pred))\n",
    "print(confusion_matrix(y_test, y_pred))"
   ]
  },
  {
   "cell_type": "code",
   "execution_count": 67,
   "metadata": {
    "scrolled": true
   },
   "outputs": [
    {
     "name": "stdout",
     "output_type": "stream",
     "text": [
      "              precision    recall  f1-score   support\n",
      "\n",
      "           0       0.79      0.86      0.82     16454\n",
      "           1       0.85      0.79      0.82     17107\n",
      "\n",
      "   micro avg       0.82      0.82      0.82     33561\n",
      "   macro avg       0.82      0.82      0.82     33561\n",
      "weighted avg       0.82      0.82      0.82     33561\n",
      "\n",
      "[[14083  2371]\n",
      " [ 3676 13431]]\n"
     ]
    }
   ],
   "source": [
    "forest = RandomForestClassifier(n_estimators=100, max_depth=4)\n",
    "forest.fit(X_train_lda, y_train)\n",
    "y_pred = forest.predict(X_test_lda)\n",
    "print(classification_report(y_test,y_pred))\n",
    "print(confusion_matrix(y_test, y_pred))"
   ]
  },
  {
   "cell_type": "markdown",
   "metadata": {},
   "source": [
    "### K Nearest Neighbour"
   ]
  },
  {
   "cell_type": "code",
   "execution_count": 70,
   "metadata": {
    "scrolled": false
   },
   "outputs": [
    {
     "name": "stdout",
     "output_type": "stream",
     "text": [
      "              precision    recall  f1-score   support\n",
      "\n",
      "           0       0.78      0.75      0.76     16454\n",
      "           1       0.77      0.79      0.78     17107\n",
      "\n",
      "   micro avg       0.77      0.77      0.77     33561\n",
      "   macro avg       0.77      0.77      0.77     33561\n",
      "weighted avg       0.77      0.77      0.77     33561\n",
      "\n",
      "[[12369  4085]\n",
      " [ 3527 13580]]\n"
     ]
    }
   ],
   "source": [
    "knn = KNN(n_neighbors=100)\n",
    "knn.fit(X_train_pca,y_train)\n",
    "y_pred = knn.predict(X_test_pca)\n",
    "print(classification_report(y_test,y_pred))\n",
    "print(confusion_matrix(y_test, y_pred))"
   ]
  },
  {
   "cell_type": "code",
   "execution_count": 69,
   "metadata": {
    "scrolled": true
   },
   "outputs": [
    {
     "name": "stdout",
     "output_type": "stream",
     "text": [
      "              precision    recall  f1-score   support\n",
      "\n",
      "           0       0.82      0.82      0.82     16454\n",
      "           1       0.83      0.82      0.83     17107\n",
      "\n",
      "   micro avg       0.82      0.82      0.82     33561\n",
      "   macro avg       0.82      0.82      0.82     33561\n",
      "weighted avg       0.82      0.82      0.82     33561\n",
      "\n",
      "[[13546  2908]\n",
      " [ 3020 14087]]\n"
     ]
    }
   ],
   "source": [
    "knn = KNN(n_neighbors=100)\n",
    "knn.fit(X_train_lda,y_train)\n",
    "y_pred = knn.predict(X_test_lda)\n",
    "print(classification_report(y_test,y_pred))\n",
    "print(confusion_matrix(y_test, y_pred))"
   ]
  },
  {
   "cell_type": "markdown",
   "metadata": {},
   "source": [
    "### Support Vector Machine"
   ]
  },
  {
   "cell_type": "code",
   "execution_count": 10,
   "metadata": {},
   "outputs": [
    {
     "name": "stderr",
     "output_type": "stream",
     "text": [
      "c:\\program files\\python37\\lib\\site-packages\\sklearn\\svm\\base.py:196: FutureWarning: The default value of gamma will change from 'auto' to 'scale' in version 0.22 to account better for unscaled features. Set gamma explicitly to 'auto' or 'scale' to avoid this warning.\n",
      "  \"avoid this warning.\", FutureWarning)\n"
     ]
    },
    {
     "name": "stdout",
     "output_type": "stream",
     "text": [
      "              precision    recall  f1-score   support\n",
      "\n",
      "           0       0.74      0.71      0.73     16454\n",
      "           1       0.73      0.76      0.75     17107\n",
      "\n",
      "   micro avg       0.74      0.74      0.74     33561\n",
      "   macro avg       0.74      0.74      0.74     33561\n",
      "weighted avg       0.74      0.74      0.74     33561\n",
      "\n",
      "[[11693  4761]\n",
      " [ 4068 13039]]\n"
     ]
    }
   ],
   "source": [
    "# Load too long for SVM! only choose some of the sample to train.  \n",
    "clf = SVC()\n",
    "clf.fit(X_train_pca[0:37644], y_train[0:37644])\n",
    "y_pred = clf.predict(X_test_pca)\n",
    "print(classification_report(y_test,y_pred))\n",
    "print(confusion_matrix(y_test, y_pred))"
   ]
  },
  {
   "cell_type": "code",
   "execution_count": 9,
   "metadata": {
    "scrolled": true
   },
   "outputs": [
    {
     "name": "stderr",
     "output_type": "stream",
     "text": [
      "c:\\program files\\python37\\lib\\site-packages\\sklearn\\svm\\base.py:196: FutureWarning: The default value of gamma will change from 'auto' to 'scale' in version 0.22 to account better for unscaled features. Set gamma explicitly to 'auto' or 'scale' to avoid this warning.\n",
      "  \"avoid this warning.\", FutureWarning)\n"
     ]
    },
    {
     "name": "stdout",
     "output_type": "stream",
     "text": [
      "              precision    recall  f1-score   support\n",
      "\n",
      "           0       0.82      0.79      0.81     16454\n",
      "           1       0.81      0.83      0.82     17107\n",
      "\n",
      "   micro avg       0.81      0.81      0.81     33561\n",
      "   macro avg       0.81      0.81      0.81     33561\n",
      "weighted avg       0.81      0.81      0.81     33561\n",
      "\n",
      "[[13044  3410]\n",
      " [ 2858 14249]]\n"
     ]
    }
   ],
   "source": [
    "# Load too long for SVM! only choose some of the sample to train.  \n",
    "clf = SVC()\n",
    "clf.fit(X_train_lda[0:37644], y_train[0:37644])\n",
    "y_pred = clf.predict(X_test_lda)\n",
    "print(classification_report(y_test,y_pred))\n",
    "print(confusion_matrix(y_test, y_pred))"
   ]
  },
  {
   "cell_type": "markdown",
   "metadata": {},
   "source": [
    "### Summary"
   ]
  },
  {
   "cell_type": "markdown",
   "metadata": {},
   "source": [
    "No models has precision, recall, f1-score or support above 82%.  \n",
    "\n",
    "Need much more efford to have accurate prediction.  "
   ]
  },
  {
   "cell_type": "markdown",
   "metadata": {},
   "source": [
    "## Irregular"
   ]
  },
  {
   "cell_type": "code",
   "execution_count": 11,
   "metadata": {},
   "outputs": [],
   "source": [
    "selected_features = list(loan.columns)\n",
    "selected_features.remove('repayment_interval_irregular')\n",
    "selected_features.remove('repayment_interval_monthly')\n",
    "selected_features.remove('repayment_interval_weekly')\n",
    "selected_features.remove('repayment_interval_bullet')"
   ]
  },
  {
   "cell_type": "code",
   "execution_count": 12,
   "metadata": {},
   "outputs": [],
   "source": [
    "y = loan['repayment_interval_irregular']\n",
    "X = loan[selected_features]"
   ]
  },
  {
   "cell_type": "code",
   "execution_count": 13,
   "metadata": {},
   "outputs": [],
   "source": [
    "X_train, X_test, y_train, y_test = train_test_split(X, y, test_size=0.05, random_state=1)"
   ]
  },
  {
   "cell_type": "code",
   "execution_count": 14,
   "metadata": {},
   "outputs": [
    {
     "name": "stderr",
     "output_type": "stream",
     "text": [
      "c:\\program files\\python37\\lib\\site-packages\\sklearn\\discriminant_analysis.py:388: UserWarning: Variables are collinear.\n",
      "  warnings.warn(\"Variables are collinear.\")\n"
     ]
    }
   ],
   "source": [
    "lda = LDA(n_components=2)\n",
    "X_train_lda = lda.fit_transform(X_train, y_train)\n",
    "X_test_lda = lda.transform(X_test)"
   ]
  },
  {
   "cell_type": "code",
   "execution_count": 15,
   "metadata": {},
   "outputs": [],
   "source": [
    "pca = PCA(n_components=2)\n",
    "X_train_pca = pca.fit_transform(X_train, y_train)\n",
    "X_test_pca = pca.transform(X_test)"
   ]
  },
  {
   "cell_type": "code",
   "execution_count": 27,
   "metadata": {},
   "outputs": [
    {
     "data": {
      "image/png": "[encoded data removed]",
      "text/plain": [
       "<Figure size 432x288 with 1 Axes>"
      ]
     },
     "metadata": {
      "needs_background": "light"
     },
     "output_type": "display_data"
    }
   ],
   "source": [
    "coord_X_0 = []\n",
    "coord_Y_0 = []\n",
    "coord_X_1 = []\n",
    "coord_Y_1 = []\n",
    "i = 0\n",
    "# for i in range(len(y_train)):\n",
    "for each in y_train:\n",
    "#     print(y_train[i])\n",
    "#     print(each)\n",
    "#     if y_train[i] == 1:\n",
    "    if each == 1:\n",
    "        coord_X_0.append(X_train_pca[i][0])\n",
    "        coord_Y_0.append(X_train_pca[i][1])\n",
    "    else:\n",
    "        coord_X_1.append(X_train_pca[i][0])\n",
    "        coord_Y_1.append(X_train_pca[i][1])\n",
    "    i += 1\n",
    "plt.scatter(coord_X_0, coord_Y_0, color=\"red\")\n",
    "plt.scatter(coord_X_1, coord_Y_1, color=\"blue\")\n",
    "plt.show()\n",
    "# print(coord_X_0)"
   ]
  },
  {
   "cell_type": "markdown",
   "metadata": {},
   "source": [
    "### Logistic Regression"
   ]
  },
  {
   "cell_type": "code",
   "execution_count": 16,
   "metadata": {},
   "outputs": [
    {
     "name": "stderr",
     "output_type": "stream",
     "text": [
      "c:\\program files\\python37\\lib\\site-packages\\sklearn\\linear_model\\logistic.py:433: FutureWarning: Default solver will be changed to 'lbfgs' in 0.22. Specify a solver to silence this warning.\n",
      "  FutureWarning)\n"
     ]
    },
    {
     "name": "stdout",
     "output_type": "stream",
     "text": [
      "              precision    recall  f1-score   support\n",
      "\n",
      "           0       0.73      0.85      0.79     20602\n",
      "           1       0.68      0.51      0.58     12959\n",
      "\n",
      "   micro avg       0.72      0.72      0.72     33561\n",
      "   macro avg       0.71      0.68      0.69     33561\n",
      "weighted avg       0.71      0.72      0.71     33561\n",
      "\n",
      "[[17524  3078]\n",
      " [ 6336  6623]]\n"
     ]
    }
   ],
   "source": [
    "lg = LogisticRegression()\n",
    "lg.fit(X_train_pca,y_train)\n",
    "y_pred = lg.predict(X_test_pca)\n",
    "print(classification_report(y_test,y_pred))\n",
    "print(confusion_matrix(y_test, y_pred))"
   ]
  },
  {
   "cell_type": "code",
   "execution_count": 17,
   "metadata": {
    "scrolled": true
   },
   "outputs": [
    {
     "name": "stderr",
     "output_type": "stream",
     "text": [
      "c:\\program files\\python37\\lib\\site-packages\\sklearn\\linear_model\\logistic.py:433: FutureWarning: Default solver will be changed to 'lbfgs' in 0.22. Specify a solver to silence this warning.\n",
      "  FutureWarning)\n"
     ]
    },
    {
     "name": "stdout",
     "output_type": "stream",
     "text": [
      "              precision    recall  f1-score   support\n",
      "\n",
      "           0       0.85      0.93      0.89     20602\n",
      "           1       0.86      0.74      0.80     12959\n",
      "\n",
      "   micro avg       0.86      0.86      0.86     33561\n",
      "   macro avg       0.86      0.84      0.84     33561\n",
      "weighted avg       0.86      0.86      0.85     33561\n",
      "\n",
      "[[19096  1506]\n",
      " [ 3323  9636]]\n"
     ]
    }
   ],
   "source": [
    "lg = LogisticRegression()\n",
    "lg.fit(X_train_lda,y_train)\n",
    "y_pred = lg.predict(X_test_lda)\n",
    "print(classification_report(y_test,y_pred))\n",
    "print(confusion_matrix(y_test, y_pred))"
   ]
  },
  {
   "cell_type": "markdown",
   "metadata": {},
   "source": [
    "### Decision Tree"
   ]
  },
  {
   "cell_type": "code",
   "execution_count": 18,
   "metadata": {
    "scrolled": true
   },
   "outputs": [
    {
     "name": "stdout",
     "output_type": "stream",
     "text": [
      "              precision    recall  f1-score   support\n",
      "\n",
      "           0       0.86      0.85      0.85     20602\n",
      "           1       0.76      0.77      0.77     12959\n",
      "\n",
      "   micro avg       0.82      0.82      0.82     33561\n",
      "   macro avg       0.81      0.81      0.81     33561\n",
      "weighted avg       0.82      0.82      0.82     33561\n",
      "\n",
      "[[17507  3095]\n",
      " [ 2938 10021]]\n"
     ]
    }
   ],
   "source": [
    "dtree = tree.DecisionTreeClassifier()\n",
    "dtree.fit(X_train_pca, y_train)\n",
    "y_pred = dtree.predict(X_test_pca)\n",
    "print(classification_report(y_test,y_pred))\n",
    "print(confusion_matrix(y_test, y_pred))"
   ]
  },
  {
   "cell_type": "code",
   "execution_count": 19,
   "metadata": {
    "scrolled": true
   },
   "outputs": [
    {
     "name": "stdout",
     "output_type": "stream",
     "text": [
      "              precision    recall  f1-score   support\n",
      "\n",
      "           0       0.88      0.88      0.88     20602\n",
      "           1       0.81      0.81      0.81     12959\n",
      "\n",
      "   micro avg       0.85      0.85      0.85     33561\n",
      "   macro avg       0.84      0.84      0.84     33561\n",
      "weighted avg       0.85      0.85      0.85     33561\n",
      "\n",
      "[[18088  2514]\n",
      " [ 2523 10436]]\n"
     ]
    }
   ],
   "source": [
    "dtree = tree.DecisionTreeClassifier()\n",
    "dtree.fit(X_train_lda, y_train)\n",
    "y_pred = dtree.predict(X_test_lda)\n",
    "print(classification_report(y_test,y_pred))\n",
    "print(confusion_matrix(y_test, y_pred))"
   ]
  },
  {
   "cell_type": "markdown",
   "metadata": {},
   "source": [
    "### Random Forest"
   ]
  },
  {
   "cell_type": "code",
   "execution_count": 20,
   "metadata": {
    "scrolled": false
   },
   "outputs": [
    {
     "name": "stdout",
     "output_type": "stream",
     "text": [
      "              precision    recall  f1-score   support\n",
      "\n",
      "           0       0.79      0.86      0.83     20602\n",
      "           1       0.75      0.64      0.69     12959\n",
      "\n",
      "   micro avg       0.78      0.78      0.78     33561\n",
      "   macro avg       0.77      0.75      0.76     33561\n",
      "weighted avg       0.78      0.78      0.77     33561\n",
      "\n",
      "[[17803  2799]\n",
      " [ 4653  8306]]\n"
     ]
    }
   ],
   "source": [
    "forest = RandomForestClassifier(n_estimators=100, max_depth=4)\n",
    "forest.fit(X_train_pca, y_train)\n",
    "y_pred = forest.predict(X_test_pca)\n",
    "print(classification_report(y_test,y_pred))\n",
    "print(confusion_matrix(y_test, y_pred))"
   ]
  },
  {
   "cell_type": "code",
   "execution_count": 21,
   "metadata": {
    "scrolled": true
   },
   "outputs": [
    {
     "name": "stdout",
     "output_type": "stream",
     "text": [
      "              precision    recall  f1-score   support\n",
      "\n",
      "           0       0.89      0.88      0.89     20602\n",
      "           1       0.82      0.83      0.82     12959\n",
      "\n",
      "   micro avg       0.86      0.86      0.86     33561\n",
      "   macro avg       0.85      0.86      0.86     33561\n",
      "weighted avg       0.86      0.86      0.86     33561\n",
      "\n",
      "[[18160  2442]\n",
      " [ 2183 10776]]\n"
     ]
    }
   ],
   "source": [
    "forest = RandomForestClassifier(n_estimators=100, max_depth=4)\n",
    "forest.fit(X_train_lda, y_train)\n",
    "y_pred = forest.predict(X_test_lda)\n",
    "print(classification_report(y_test,y_pred))\n",
    "print(confusion_matrix(y_test, y_pred))"
   ]
  },
  {
   "cell_type": "markdown",
   "metadata": {},
   "source": [
    "### K Nearest Neighbour"
   ]
  },
  {
   "cell_type": "code",
   "execution_count": 22,
   "metadata": {
    "scrolled": false
   },
   "outputs": [
    {
     "name": "stdout",
     "output_type": "stream",
     "text": [
      "              precision    recall  f1-score   support\n",
      "\n",
      "           0       0.82      0.87      0.85     20602\n",
      "           1       0.78      0.71      0.74     12959\n",
      "\n",
      "   micro avg       0.81      0.81      0.81     33561\n",
      "   macro avg       0.80      0.79      0.79     33561\n",
      "weighted avg       0.81      0.81      0.81     33561\n",
      "\n",
      "[[17987  2615]\n",
      " [ 3818  9141]]\n"
     ]
    }
   ],
   "source": [
    "knn = KNN(n_neighbors=100)\n",
    "knn.fit(X_train_pca,y_train)\n",
    "y_pred = knn.predict(X_test_pca)\n",
    "print(classification_report(y_test,y_pred))\n",
    "print(confusion_matrix(y_test, y_pred))"
   ]
  },
  {
   "cell_type": "code",
   "execution_count": 23,
   "metadata": {
    "scrolled": true
   },
   "outputs": [
    {
     "name": "stdout",
     "output_type": "stream",
     "text": [
      "              precision    recall  f1-score   support\n",
      "\n",
      "           0       0.88      0.91      0.89     20602\n",
      "           1       0.84      0.80      0.82     12959\n",
      "\n",
      "   micro avg       0.86      0.86      0.86     33561\n",
      "   macro avg       0.86      0.85      0.86     33561\n",
      "weighted avg       0.86      0.86      0.86     33561\n",
      "\n",
      "[[18673  1929]\n",
      " [ 2633 10326]]\n"
     ]
    }
   ],
   "source": [
    "knn = KNN(n_neighbors=100)\n",
    "knn.fit(X_train_lda,y_train)\n",
    "y_pred = knn.predict(X_test_lda)\n",
    "print(classification_report(y_test,y_pred))\n",
    "print(confusion_matrix(y_test, y_pred))"
   ]
  },
  {
   "cell_type": "markdown",
   "metadata": {},
   "source": [
    "### Support Vector Machine"
   ]
  },
  {
   "cell_type": "code",
   "execution_count": 25,
   "metadata": {},
   "outputs": [
    {
     "name": "stderr",
     "output_type": "stream",
     "text": [
      "c:\\program files\\python37\\lib\\site-packages\\sklearn\\svm\\base.py:196: FutureWarning: The default value of gamma will change from 'auto' to 'scale' in version 0.22 to account better for unscaled features. Set gamma explicitly to 'auto' or 'scale' to avoid this warning.\n",
      "  \"avoid this warning.\", FutureWarning)\n"
     ]
    },
    {
     "name": "stdout",
     "output_type": "stream",
     "text": [
      "              precision    recall  f1-score   support\n",
      "\n",
      "           0       0.80      0.85      0.82     20602\n",
      "           1       0.74      0.65      0.69     12959\n",
      "\n",
      "   micro avg       0.77      0.77      0.77     33561\n",
      "   macro avg       0.77      0.75      0.76     33561\n",
      "weighted avg       0.77      0.77      0.77     33561\n",
      "\n",
      "[[17558  3044]\n",
      " [ 4509  8450]]\n"
     ]
    }
   ],
   "source": [
    "# Load too long for SVM! only choose some of the sample to train.  \n",
    "clf = SVC()\n",
    "clf.fit(X_train_pca[0:37644], y_train[0:37644])\n",
    "y_pred = clf.predict(X_test_pca)\n",
    "print(classification_report(y_test,y_pred))\n",
    "print(confusion_matrix(y_test, y_pred))"
   ]
  },
  {
   "cell_type": "code",
   "execution_count": 26,
   "metadata": {
    "scrolled": true
   },
   "outputs": [
    {
     "name": "stderr",
     "output_type": "stream",
     "text": [
      "c:\\program files\\python37\\lib\\site-packages\\sklearn\\svm\\base.py:196: FutureWarning: The default value of gamma will change from 'auto' to 'scale' in version 0.22 to account better for unscaled features. Set gamma explicitly to 'auto' or 'scale' to avoid this warning.\n",
      "  \"avoid this warning.\", FutureWarning)\n"
     ]
    },
    {
     "name": "stdout",
     "output_type": "stream",
     "text": [
      "              precision    recall  f1-score   support\n",
      "\n",
      "           0       0.87      0.91      0.89     20602\n",
      "           1       0.85      0.77      0.81     12959\n",
      "\n",
      "   micro avg       0.86      0.86      0.86     33561\n",
      "   macro avg       0.86      0.84      0.85     33561\n",
      "weighted avg       0.86      0.86      0.86     33561\n",
      "\n",
      "[[18804  1798]\n",
      " [ 2931 10028]]\n"
     ]
    }
   ],
   "source": [
    "# Load too long for SVM! only choose some of the sample to train.  \n",
    "clf = SVC()\n",
    "clf.fit(X_train_lda[0:37644], y_train[0:37644])\n",
    "y_pred = clf.predict(X_test_lda)\n",
    "print(classification_report(y_test,y_pred))\n",
    "print(confusion_matrix(y_test, y_pred))"
   ]
  },
  {
   "cell_type": "markdown",
   "metadata": {},
   "source": [
    "### Summary"
   ]
  },
  {
   "cell_type": "markdown",
   "metadata": {},
   "source": [
    "All models performs 86% accuracy in the four indices. \n",
    "\n",
    "However, no model have more than 86% accuracy.  "
   ]
  },
  {
   "cell_type": "markdown",
   "metadata": {},
   "source": [
    "# Conclusion"
   ]
  },
  {
   "cell_type": "markdown",
   "metadata": {},
   "source": [
    "Overall, the difficulty of prediction is:\n",
    "\n",
    "1. Weekly (Possible reasobn: too little samples)\n",
    "2. Monthly\n",
    "3. Irregular\n",
    "4. Bullet\n",
    "\n",
    "Decision Tree and KNN performs the best in average.  However, Decision Tree particularlly outperforms KNN in Weekly.  This infers Decision Tree is most suitable for this dataset.  \n",
    "\n",
    "Another importance of this paper is it suggests that LDA is better than PCA in nearly all cases.  Fine tuning of parameter may yield other discovery, but in general we should choose LDA for feature extraction.  \n",
    "\n",
    "Lastly, from the experiments, the prediction is in-between linear relationship and non-linear relation.  Although all models perform the same in general case, it is only the decision tree and KNN have the best result in special cases.  Flexible models are suggested for futher work.  "
   ]
  },
  {
   "cell_type": "code",
   "execution_count": null,
   "metadata": {},
   "outputs": [],
   "source": []
  }
 ],
 "metadata": {
  "kernelspec": {
   "display_name": "Python 3",
   "language": "python",
   "name": "python3"
  },
  "language_info": {
   "codemirror_mode": {
    "name": "ipython",
    "version": 3
   },
   "file_extension": ".py",
   "mimetype": "text/x-python",
   "name": "python",
   "nbconvert_exporter": "python",
   "pygments_lexer": "ipython3",
   "version": "3.7.1"
  }
 },
 "nbformat": 4,
 "nbformat_minor": 2
}
