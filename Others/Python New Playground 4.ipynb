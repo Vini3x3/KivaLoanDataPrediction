{
 "cells": [
  {
   "cell_type": "code",
   "execution_count": 1,
   "metadata": {},
   "outputs": [],
   "source": [
    "# data visualization and utilities\n",
    "import pandas as pd\n",
    "import numpy as np\n",
    "import matplotlib.pyplot as plt\n",
    "import seaborn as sns\n",
    "%matplotlib inline"
   ]
  },
  {
   "cell_type": "code",
   "execution_count": 2,
   "metadata": {},
   "outputs": [],
   "source": [
    "# classifier\n",
    "from sklearn.linear_model import LinearRegression\n",
    "from sklearn.linear_model import LogisticRegression\n",
    "from sklearn.tree import DecisionTreeRegressor\n",
    "from sklearn.ensemble import RandomForestRegressor\n",
    "from sklearn.neighbors import KNeighborsRegressor\n",
    "from sklearn.neural_network import MLPClassifier as MLP\n",
    "from sklearn.svm import SVR"
   ]
  },
  {
   "cell_type": "code",
   "execution_count": 3,
   "metadata": {},
   "outputs": [],
   "source": [
    "# evaluation\n",
    "from sklearn.metrics import classification_report, confusion_matrix\n",
    "from sklearn.model_selection import KFold, GridSearchCV, train_test_split\n",
    "from sklearn.metrics import r2_score\n",
    "from sklearn.metrics import explained_variance_score\n",
    "from sklearn.metrics import mean_absolute_error\n",
    "from sklearn.metrics import mean_squared_error\n",
    "from sklearn.metrics import mean_squared_log_error\n",
    "from sklearn.metrics import median_absolute_error\n",
    "from sklearn.metrics import r2_score\n",
    "from sklearn.metrics import precision_score"
   ]
  },
  {
   "cell_type": "code",
   "execution_count": 4,
   "metadata": {},
   "outputs": [],
   "source": [
    "# data preprocessing\n",
    "from sklearn.preprocessing import StandardScaler\n",
    "from sklearn.discriminant_analysis import LinearDiscriminantAnalysis as LDA\n",
    "from sklearn.decomposition import PCA\n",
    "from sklearn.feature_selection import SelectKBest, f_classif"
   ]
  },
  {
   "cell_type": "code",
   "execution_count": 5,
   "metadata": {},
   "outputs": [],
   "source": [
    "def convert(row,labels):\n",
    "    if len(row) != len(labels):\n",
    "        print('length of row does not match length of labels')\n",
    "        return \n",
    "    else:\n",
    "        max_value = row[0]\n",
    "        max_index = 0\n",
    "        for i in range(len(row)):\n",
    "            if row[i] > max_value:\n",
    "                max_value = row[i]\n",
    "                max_index = i\n",
    "        return labels[max_index]"
   ]
  },
  {
   "cell_type": "code",
   "execution_count": 35,
   "metadata": {},
   "outputs": [],
   "source": [
    "def multiclass_regression_report(y_test, y_pred, y_label):\n",
    "    \n",
    "    space_tab = 3\n",
    "    rounds = 3\n",
    "    \n",
    "    # convert to numpy array first\n",
    "    y_test_np = np.array(y_test)\n",
    "    y_pred_np = np.array(y_pred)\n",
    "    \n",
    "    # transpose\n",
    "    y_test_np_T = y_test_np.T\n",
    "    y_pred_np_T = y_pred_np.T\n",
    "    \n",
    "    if len(y_test_np) != len(y_pred_np):\n",
    "        return 'length of true labels and predicted labels are not equal.'\n",
    "    elif len(y_test_np[0]) != len(y_pred_np[0]):\n",
    "        return 'column of true labels and predicted labels are not equal.'\n",
    "    elif len(y_test_np[0]) != len(y_label):\n",
    "        return 'column of true labels and given labels are not equal.'\n",
    "    \n",
    "    report = []   \n",
    "    \n",
    "    for i in range(len(y_label)):\n",
    "        test = y_test_np_T[i]\n",
    "        pred = y_pred_np_T[i]\n",
    "        label = y_label[i]\n",
    "        report.append([\n",
    "            label, \n",
    "            round(r2_score(test,pred), rounds), \n",
    "            round(mean_squared_error(test, pred),rounds), \n",
    "            round(explained_variance_score(test,pred),rounds), \n",
    "            sum(test)\n",
    "        ])\n",
    "    \n",
    "    # macro\n",
    "    macro = [\n",
    "        'macro avg', \n",
    "        round(sum([row[1] for row in report]) / len(y_label),rounds), \n",
    "        round(sum([row[2] for row in report]) / len(y_label),rounds), \n",
    "        round(sum([row[3] for row in report]) / len(y_label),rounds), \n",
    "        sum([row[4] for row in report])\n",
    "    ]\n",
    "        \n",
    "    # micro    \n",
    "    micro_test = [max(row) for row in y_test_np]\n",
    "    micro_pred = [max(row) for row in y_pred_np]    \n",
    "    micro = [\n",
    "        'micro avg', \n",
    "        round(r2_score(micro_test,micro_pred),rounds), \n",
    "        round(mean_squared_error(micro_test,micro_pred), rounds),\n",
    "        round(explained_variance_score(micro_test,micro_pred), rounds),\n",
    "        len(y_test_np)\n",
    "    ]\n",
    "        \n",
    "    # weighted    \n",
    "    weighted = [\n",
    "        'weighted avg', \n",
    "        round(sum([row[1]*row[4] for row in report])/micro[4],rounds), \n",
    "        round(sum([row[2]*row[4] for row in report])/micro[4],rounds), \n",
    "        round(sum([row[3]*row[4] for row in report])/micro[4],rounds), \n",
    "        len(y_test_np)\n",
    "    ]\n",
    "    \n",
    "    #formatting\n",
    "    space = ['    ', '    ', '    ', '    ', '    ']    \n",
    "    header = ['    ', 'r2_score', 'mean_squared_error', 'explained_variance_score', 'support']\n",
    "    \n",
    "    # add all the things    \n",
    "    report.insert(0,space)\n",
    "    report.insert(0,header)\n",
    "    report.append(space)\n",
    "    report.append(micro)\n",
    "    report.append(macro)\n",
    "    report.append(weighted)\n",
    "    \n",
    "    result = ''\n",
    "    \n",
    "    col = []\n",
    "    for i in range(len(report[0])):\n",
    "        col.append(max([len(str(row[i])) for row in report])+space_tab)\n",
    "    \n",
    "    for row in report:\n",
    "        for i in range(len(row)):\n",
    "            result += str(row[i]).rjust(col[i], ' ')\n",
    "        result += '\\n'\n",
    "    return result   "
   ]
  },
  {
   "cell_type": "code",
   "execution_count": 12,
   "metadata": {},
   "outputs": [],
   "source": [
    "loan_raw = pd.read_csv('kiva_loans.csv')"
   ]
  },
  {
   "cell_type": "code",
   "execution_count": 13,
   "metadata": {},
   "outputs": [],
   "source": [
    "loan_std = pd.read_csv('kiva_loans_standardized.csv')"
   ]
  },
  {
   "cell_type": "code",
   "execution_count": null,
   "metadata": {},
   "outputs": [],
   "source": []
  },
  {
   "cell_type": "code",
   "execution_count": 14,
   "metadata": {},
   "outputs": [],
   "source": [
    "dataframe_features = list(loan_std.columns)"
   ]
  },
  {
   "cell_type": "code",
   "execution_count": 15,
   "metadata": {},
   "outputs": [],
   "source": [
    "dataframe_score = ['repayment_interval_bullet','repayment_interval_monthly','repayment_interval_weekly','repayment_interval_irregular']"
   ]
  },
  {
   "cell_type": "code",
   "execution_count": 16,
   "metadata": {},
   "outputs": [],
   "source": [
    "for i in range(len(dataframe_score)):\n",
    "    dataframe_features.remove(dataframe_score[i])"
   ]
  },
  {
   "cell_type": "code",
   "execution_count": 17,
   "metadata": {},
   "outputs": [],
   "source": [
    "X = loan_std[dataframe_features]\n",
    "y = loan_std[dataframe_score]"
   ]
  },
  {
   "cell_type": "code",
   "execution_count": null,
   "metadata": {},
   "outputs": [],
   "source": []
  },
  {
   "cell_type": "code",
   "execution_count": 18,
   "metadata": {},
   "outputs": [],
   "source": [
    "X_train, X_test, y_train, y_test = train_test_split(X, y, test_size=0.1)"
   ]
  },
  {
   "cell_type": "code",
   "execution_count": 19,
   "metadata": {},
   "outputs": [],
   "source": [
    "dtr = DecisionTreeRegressor()"
   ]
  },
  {
   "cell_type": "code",
   "execution_count": 20,
   "metadata": {},
   "outputs": [
    {
     "data": {
      "text/plain": [
       "DecisionTreeRegressor(criterion='mse', max_depth=None, max_features=None,\n",
       "           max_leaf_nodes=None, min_impurity_decrease=0.0,\n",
       "           min_impurity_split=None, min_samples_leaf=1,\n",
       "           min_samples_split=2, min_weight_fraction_leaf=0.0,\n",
       "           presort=False, random_state=None, splitter='best')"
      ]
     },
     "execution_count": 20,
     "metadata": {},
     "output_type": "execute_result"
    }
   ],
   "source": [
    "dtr.fit(X_train,y_train)"
   ]
  },
  {
   "cell_type": "code",
   "execution_count": 22,
   "metadata": {},
   "outputs": [],
   "source": [
    "y_revise = dtr.predict(X_train)"
   ]
  },
  {
   "cell_type": "code",
   "execution_count": 23,
   "metadata": {},
   "outputs": [],
   "source": [
    "y_labels = ['bullet','monthly','weekly','irregular']"
   ]
  },
  {
   "cell_type": "code",
   "execution_count": null,
   "metadata": {},
   "outputs": [],
   "source": []
  },
  {
   "cell_type": "code",
   "execution_count": 36,
   "metadata": {},
   "outputs": [
    {
     "name": "stdout",
     "output_type": "stream",
     "text": [
      "                  r2_score   mean_squared_error   explained_variance_score   support\n",
      "                                                                                    \n",
      "         bullet       0.97                0.003                       0.97     63588\n",
      "        monthly       0.94                0.015                       0.94    308487\n",
      "         weekly      0.908                  0.0                      0.908       541\n",
      "      irregular      0.942                0.014                      0.942    231468\n",
      "                                                                                    \n",
      "      micro avg        0.0                0.007                        0.0    604084\n",
      "      macro avg       0.94                0.008                       0.94    604084\n",
      "   weighted avg      0.944                0.013                      0.944    604084\n",
      "\n"
     ]
    }
   ],
   "source": [
    "print(multiclass_regression_report(y_train,y_revise,y_labels))"
   ]
  },
  {
   "cell_type": "code",
   "execution_count": null,
   "metadata": {},
   "outputs": [],
   "source": []
  },
  {
   "cell_type": "code",
   "execution_count": 37,
   "metadata": {},
   "outputs": [],
   "source": [
    "y_raw_label = [convert(row, y_labels) for row in y_revise]"
   ]
  },
  {
   "cell_type": "code",
   "execution_count": 38,
   "metadata": {},
   "outputs": [],
   "source": [
    "y_true_label = [convert(row, y_labels) for row in y_train.values.tolist()]"
   ]
  },
  {
   "cell_type": "code",
   "execution_count": 40,
   "metadata": {},
   "outputs": [
    {
     "name": "stdout",
     "output_type": "stream",
     "text": [
      "              precision    recall  f1-score   support\n",
      "\n",
      "      bullet       0.97      0.99      0.98     63588\n",
      "   irregular       0.97      0.98      0.97    231468\n",
      "     monthly       0.98      0.98      0.98    308487\n",
      "      weekly       0.89      0.98      0.93       541\n",
      "\n",
      "   micro avg       0.98      0.98      0.98    604084\n",
      "   macro avg       0.95      0.98      0.97    604084\n",
      "weighted avg       0.98      0.98      0.98    604084\n",
      "\n"
     ]
    }
   ],
   "source": [
    "print(classification_report(y_true_label, y_raw_label))"
   ]
  },
  {
   "cell_type": "code",
   "execution_count": 41,
   "metadata": {
    "scrolled": true
   },
   "outputs": [
    {
     "name": "stdout",
     "output_type": "stream",
     "text": [
      "[[ 62773    185    630      0]\n",
      " [   482 225811   5109     66]\n",
      " [  1554   5942 300989      2]\n",
      " [     0     10      2    529]]\n"
     ]
    }
   ],
   "source": [
    "print(confusion_matrix(y_true_label, y_raw_label))"
   ]
  },
  {
   "cell_type": "code",
   "execution_count": null,
   "metadata": {},
   "outputs": [],
   "source": []
  },
  {
   "cell_type": "code",
   "execution_count": 50,
   "metadata": {},
   "outputs": [],
   "source": [
    "y_pred = dtr.predict(X_test)"
   ]
  },
  {
   "cell_type": "code",
   "execution_count": 51,
   "metadata": {},
   "outputs": [],
   "source": [
    "y_pred_label = [convert(row, y_labels) for row in y_pred]   "
   ]
  },
  {
   "cell_type": "code",
   "execution_count": 52,
   "metadata": {},
   "outputs": [],
   "source": [
    "y_test_label = [convert(row, y_labels) for row in y_test.values.tolist()]"
   ]
  },
  {
   "cell_type": "code",
   "execution_count": 53,
   "metadata": {},
   "outputs": [
    {
     "name": "stdout",
     "output_type": "stream",
     "text": [
      "              precision    recall  f1-score   support\n",
      "\n",
      "      bullet       0.87      0.88      0.87      7140\n",
      "   irregular       0.91      0.92      0.92     25690\n",
      "     monthly       0.93      0.92      0.92     34230\n",
      "      weekly       0.66      0.77      0.71        61\n",
      "\n",
      "   micro avg       0.91      0.91      0.91     67121\n",
      "   macro avg       0.84      0.87      0.86     67121\n",
      "weighted avg       0.91      0.91      0.91     67121\n",
      "\n"
     ]
    }
   ],
   "source": [
    "print(classification_report(y_test_label, y_pred_label))"
   ]
  },
  {
   "cell_type": "code",
   "execution_count": 54,
   "metadata": {},
   "outputs": [
    {
     "name": "stdout",
     "output_type": "stream",
     "text": [
      "[[ 6264   197   676     3]\n",
      " [  194 23643  1833    20]\n",
      " [  745  2066 31418     1]\n",
      " [    0    11     3    47]]\n"
     ]
    }
   ],
   "source": [
    "print(confusion_matrix(y_test_label, y_pred_label))"
   ]
  },
  {
   "cell_type": "code",
   "execution_count": 55,
   "metadata": {},
   "outputs": [
    {
     "name": "stdout",
     "output_type": "stream",
     "text": [
      "                  r2_score   mean_squared_error   explained_variance_score   support\n",
      "                                                                                    \n",
      "         bullet      0.735                0.025                      0.735      7140\n",
      "        monthly      0.705                0.074                      0.705     34230\n",
      "         weekly      0.433                0.001                      0.433        61\n",
      "      irregular      0.745                 0.06                      0.745     25690\n",
      "                                                                                    \n",
      "      micro avg        0.0                0.007                        0.0     67121\n",
      "      macro avg      0.654                 0.04                      0.654     67121\n",
      "   weighted avg      0.723                0.063                      0.723     67121\n",
      "\n"
     ]
    }
   ],
   "source": [
    "print(multiclass_regression_report(y_test,y_pred,y_labels))"
   ]
  },
  {
   "cell_type": "code",
   "execution_count": null,
   "metadata": {},
   "outputs": [],
   "source": []
  },
  {
   "cell_type": "code",
   "execution_count": null,
   "metadata": {},
   "outputs": [],
   "source": []
  },
  {
   "cell_type": "code",
   "execution_count": null,
   "metadata": {},
   "outputs": [],
   "source": []
  },
  {
   "cell_type": "code",
   "execution_count": 74,
   "metadata": {},
   "outputs": [
    {
     "name": "stdout",
     "output_type": "stream",
     "text": [
      "Finish Test Iteration  0\n",
      "Finish Test Iteration  1\n",
      "Finish Test Iteration  2\n",
      "Finish Test Iteration  3\n",
      "Finish Test Iteration  4\n",
      "Finish Test Iteration  5\n",
      "Finish Test Iteration  6\n",
      "Finish Test Iteration  7\n",
      "Finish Test Iteration  8\n",
      "Finish Test Iteration  9\n",
      "                  r2_score   mean_squared_error   explained_variance_score   support\n",
      "                                                                                    \n",
      "         bullet      0.669                0.031                      0.669     70728\n",
      "        monthly      0.654                0.086                      0.654    342717\n",
      "         weekly      0.507                  0.0                      0.507       602\n",
      "      irregular      0.705                 0.07                      0.705    257158\n",
      "                                                                                    \n",
      "      micro avg        0.0                0.007                        0.0    671205\n",
      "      macro avg      0.634                0.047                      0.634    671205\n",
      "   weighted avg      0.675                0.074                      0.675    671205\n",
      "\n",
      "              precision    recall  f1-score   support\n",
      "\n",
      "      bullet       0.84      0.85      0.85     70728\n",
      "   irregular       0.90      0.90      0.90    257158\n",
      "     monthly       0.91      0.91      0.91    342717\n",
      "      weekly       0.71      0.75      0.73       602\n",
      "\n",
      "   micro avg       0.90      0.90      0.90    671205\n",
      "   macro avg       0.84      0.85      0.85    671205\n",
      "weighted avg       0.90      0.90      0.90    671205\n",
      "\n",
      "[[ 59993   2515   8210     10]\n",
      " [  2443 232331  22237    147]\n",
      " [  8798  22747 311141     31]\n",
      " [     3    121     26    452]]\n"
     ]
    }
   ],
   "source": [
    "model = DecisionTreeRegressor()\n",
    "y_labels = ['bullet','monthly','weekly','irregular']\n",
    "ALL_TRUE_LABEL = []\n",
    "ALL_PRED_LABEL = []\n",
    "ALL_TRUE_VALUE = []\n",
    "ALL_PRED_VALUE = []\n",
    "kf = KFold(n_splits=10)\n",
    "i = 0\n",
    "for train_index, test_index in kf.split(X):\n",
    "    \n",
    "    X_train, X_test = X.iloc[train_index], X.iloc[test_index]\n",
    "    y_train, y_test = y.iloc[train_index], y.iloc[test_index]\n",
    "    \n",
    "\n",
    "    model.fit(X_train,y_train)    \n",
    "    y_pred = model.predict(X_test)\n",
    "    \n",
    "    y_test_label = [convert(row, y_labels) for row in y_test.values.tolist()]\n",
    "    y_pred_label = [convert(row, y_labels) for row in y_pred]\n",
    "    \n",
    "    ALL_PRED_LABEL.extend(y_pred_label)\n",
    "    ALL_TRUE_LABEL.extend(y_test_label)\n",
    "    ALL_PRED_VALUE.extend(y_pred)\n",
    "    ALL_TRUE_VALUE.extend(y_test.values.tolist())\n",
    "\n",
    "    # Screen Output for tracking the progress, sometimes I wait too long......\n",
    "    print('Finish Test Iteration ',i)\n",
    "    i += 1\n",
    "#     break\n",
    "\n",
    "print(multiclass_regression_report(ALL_TRUE_VALUE, ALL_PRED_VALUE,y_labels))\n",
    "print(classification_report(ALL_TRUE_LABEL, ALL_PRED_LABEL))\n",
    "print(confusion_matrix(ALL_TRUE_LABEL, ALL_PRED_LABEL))"
   ]
  },
  {
   "cell_type": "code",
   "execution_count": 77,
   "metadata": {},
   "outputs": [
    {
     "name": "stdout",
     "output_type": "stream",
     "text": [
      "Finish Test Iteration  0\n",
      "Finish Test Iteration  1\n",
      "Finish Test Iteration  2\n",
      "Finish Test Iteration  3\n",
      "Finish Test Iteration  4\n",
      "Finish Test Iteration  5\n",
      "Finish Test Iteration  6\n",
      "Finish Test Iteration  7\n",
      "Finish Test Iteration  8\n",
      "Finish Test Iteration  9\n",
      "Finish Subset Iteration  0\n",
      "Finish Test Iteration  0\n",
      "Finish Test Iteration  1\n",
      "Finish Test Iteration  2\n",
      "Finish Test Iteration  3\n",
      "Finish Test Iteration  4\n",
      "Finish Test Iteration  5\n",
      "Finish Test Iteration  6\n",
      "Finish Test Iteration  7\n",
      "Finish Test Iteration  8\n",
      "Finish Test Iteration  9\n",
      "Finish Subset Iteration  1\n",
      "Finish Test Iteration  0\n",
      "Finish Test Iteration  1\n",
      "Finish Test Iteration  2\n",
      "Finish Test Iteration  3\n",
      "Finish Test Iteration  4\n",
      "Finish Test Iteration  5\n",
      "Finish Test Iteration  6\n",
      "Finish Test Iteration  7\n",
      "Finish Test Iteration  8\n",
      "Finish Test Iteration  9\n",
      "Finish Subset Iteration  2\n",
      "Finish Test Iteration  0\n",
      "Finish Test Iteration  1\n",
      "Finish Test Iteration  2\n",
      "Finish Test Iteration  3\n",
      "Finish Test Iteration  4\n",
      "Finish Test Iteration  5\n",
      "Finish Test Iteration  6\n",
      "Finish Test Iteration  7\n",
      "Finish Test Iteration  8\n",
      "Finish Test Iteration  9\n",
      "Finish Subset Iteration  3\n",
      "Finish Test Iteration  0\n",
      "Finish Test Iteration  1\n",
      "Finish Test Iteration  2\n",
      "Finish Test Iteration  3\n",
      "Finish Test Iteration  4\n",
      "Finish Test Iteration  5\n",
      "Finish Test Iteration  6\n",
      "Finish Test Iteration  7\n",
      "Finish Test Iteration  8\n",
      "Finish Test Iteration  9\n",
      "Finish Subset Iteration  4\n",
      "Finish Test Iteration  0\n",
      "Finish Test Iteration  1\n",
      "Finish Test Iteration  2\n",
      "Finish Test Iteration  3\n",
      "Finish Test Iteration  4\n",
      "Finish Test Iteration  5\n",
      "Finish Test Iteration  6\n",
      "Finish Test Iteration  7\n",
      "Finish Test Iteration  8\n",
      "Finish Test Iteration  9\n",
      "Finish Subset Iteration  5\n",
      "Finish Test Iteration  0\n",
      "Finish Test Iteration  1\n",
      "Finish Test Iteration  2\n",
      "Finish Test Iteration  3\n",
      "Finish Test Iteration  4\n",
      "Finish Test Iteration  5\n",
      "Finish Test Iteration  6\n",
      "Finish Test Iteration  7\n",
      "Finish Test Iteration  8\n",
      "Finish Test Iteration  9\n",
      "Finish Subset Iteration  6\n",
      "Finish Test Iteration  0\n",
      "Finish Test Iteration  1\n",
      "Finish Test Iteration  2\n",
      "Finish Test Iteration  3\n",
      "Finish Test Iteration  4\n",
      "Finish Test Iteration  5\n",
      "Finish Test Iteration  6\n",
      "Finish Test Iteration  7\n",
      "Finish Test Iteration  8\n",
      "Finish Test Iteration  9\n",
      "Finish Subset Iteration  7\n",
      "Finish Test Iteration  0\n",
      "Finish Test Iteration  1\n",
      "Finish Test Iteration  2\n",
      "Finish Test Iteration  3\n",
      "Finish Test Iteration  4\n",
      "Finish Test Iteration  5\n",
      "Finish Test Iteration  6\n",
      "Finish Test Iteration  7\n",
      "Finish Test Iteration  8\n",
      "Finish Test Iteration  9\n",
      "Finish Subset Iteration  8\n",
      "Finish Test Iteration  0\n",
      "Finish Test Iteration  1\n",
      "Finish Test Iteration  2\n",
      "Finish Test Iteration  3\n",
      "Finish Test Iteration  4\n",
      "Finish Test Iteration  5\n",
      "Finish Test Iteration  6\n",
      "Finish Test Iteration  7\n",
      "Finish Test Iteration  8\n",
      "Finish Test Iteration  9\n",
      "Finish Subset Iteration  9\n"
     ]
    }
   ],
   "source": [
    "score = []\n",
    "j = 0\n",
    "min_impurity_decrease_ = [1e-1, 1e-2, 1e-3, 1e-4, 1e-5, 1e-6, 1e-7, 1e-8, 1e-9, 0]\n",
    "y_labels = ['bullet','monthly','weekly','irregular']\n",
    "for j in range(len(min_impurity_decrease_)):          \n",
    "    \n",
    "    model = DecisionTreeRegressor(min_impurity_decrease = min_impurity_decrease_[j])\n",
    "    \n",
    "    ALL_TRUE_LABEL = []\n",
    "    ALL_PRED_LABEL = []\n",
    "    ALL_TRUE_VALUE = []\n",
    "    ALL_PRED_VALUE = []\n",
    "    kf = KFold(n_splits=10)\n",
    "    i = 0\n",
    "    for train_index, test_index in kf.split(X):\n",
    "\n",
    "        X_train, X_test = X.iloc[train_index], X.iloc[test_index]\n",
    "        y_train, y_test = y.iloc[train_index], y.iloc[test_index]\n",
    "\n",
    "\n",
    "        model.fit(X_train,y_train)    \n",
    "        y_pred = model.predict(X_test)\n",
    "\n",
    "        y_test_label = [convert(row, y_labels) for row in y_test.values.tolist()]\n",
    "        y_pred_label = [convert(row, y_labels) for row in y_pred]\n",
    "\n",
    "        ALL_PRED_LABEL.extend(y_pred_label)\n",
    "        ALL_TRUE_LABEL.extend(y_test_label)\n",
    "        ALL_PRED_VALUE.extend(y_pred)\n",
    "        ALL_TRUE_VALUE.extend(y_test.values.tolist())\n",
    "\n",
    "        # Screen Output for tracking the progress, sometimes I wait too long......\n",
    "        print('Finish Test Iteration ',i)\n",
    "        i += 1\n",
    "#         break\n",
    "        \n",
    "    score.append(mean_squared_error(ALL_TRUE_VALUE, ALL_PRED_VALUE))\n",
    "    print('Finish Subset Iteration ',j)    \n",
    "#     break"
   ]
  },
  {
   "cell_type": "code",
   "execution_count": 79,
   "metadata": {},
   "outputs": [
    {
     "data": {
      "image/png": "[encoded data removed]",
      "text/plain": [
       "<Figure size 432x288 with 1 Axes>"
      ]
     },
     "metadata": {
      "needs_background": "light"
     },
     "output_type": "display_data"
    }
   ],
   "source": [
    "min_split = ['1e-1', '1e-2', '1e-3', '1e-4', '1e-5', '1e-6', '1e-7', '1e-8', '1e-9', '0']\n",
    "\n",
    "plt.plot(min_split, score)\n",
    "plt.xlabel('MSE')\n",
    "plt.ylabel('Minimum Split')\n",
    "plt.grid()\n",
    "plt.title('MSE vs Min Split')\n",
    "plt.show()"
   ]
  },
  {
   "cell_type": "markdown",
   "metadata": {},
   "source": [
    "1e-6 is the best.  "
   ]
  },
  {
   "cell_type": "code",
   "execution_count": 80,
   "metadata": {},
   "outputs": [
    {
     "name": "stdout",
     "output_type": "stream",
     "text": [
      "Finish Test Iteration  0\n",
      "Finish Test Iteration  1\n",
      "Finish Test Iteration  2\n",
      "Finish Test Iteration  3\n",
      "Finish Test Iteration  4\n",
      "Finish Test Iteration  5\n",
      "Finish Test Iteration  6\n",
      "Finish Test Iteration  7\n",
      "Finish Test Iteration  8\n",
      "Finish Test Iteration  9\n",
      "Finish Subset Iteration  0\n",
      "Finish Test Iteration  0\n",
      "Finish Test Iteration  1\n",
      "Finish Test Iteration  2\n",
      "Finish Test Iteration  3\n",
      "Finish Test Iteration  4\n",
      "Finish Test Iteration  5\n",
      "Finish Test Iteration  6\n",
      "Finish Test Iteration  7\n",
      "Finish Test Iteration  8\n",
      "Finish Test Iteration  9\n",
      "Finish Subset Iteration  1\n",
      "Finish Test Iteration  0\n",
      "Finish Test Iteration  1\n",
      "Finish Test Iteration  2\n",
      "Finish Test Iteration  3\n",
      "Finish Test Iteration  4\n",
      "Finish Test Iteration  5\n",
      "Finish Test Iteration  6\n",
      "Finish Test Iteration  7\n",
      "Finish Test Iteration  8\n",
      "Finish Test Iteration  9\n",
      "Finish Subset Iteration  2\n",
      "Finish Test Iteration  0\n",
      "Finish Test Iteration  1\n",
      "Finish Test Iteration  2\n",
      "Finish Test Iteration  3\n",
      "Finish Test Iteration  4\n",
      "Finish Test Iteration  5\n",
      "Finish Test Iteration  6\n",
      "Finish Test Iteration  7\n",
      "Finish Test Iteration  8\n",
      "Finish Test Iteration  9\n",
      "Finish Subset Iteration  3\n",
      "Finish Test Iteration  0\n",
      "Finish Test Iteration  1\n",
      "Finish Test Iteration  2\n",
      "Finish Test Iteration  3\n",
      "Finish Test Iteration  4\n",
      "Finish Test Iteration  5\n",
      "Finish Test Iteration  6\n",
      "Finish Test Iteration  7\n",
      "Finish Test Iteration  8\n",
      "Finish Test Iteration  9\n",
      "Finish Subset Iteration  4\n",
      "Finish Test Iteration  0\n",
      "Finish Test Iteration  1\n",
      "Finish Test Iteration  2\n",
      "Finish Test Iteration  3\n",
      "Finish Test Iteration  4\n",
      "Finish Test Iteration  5\n",
      "Finish Test Iteration  6\n",
      "Finish Test Iteration  7\n",
      "Finish Test Iteration  8\n",
      "Finish Test Iteration  9\n",
      "Finish Subset Iteration  5\n",
      "Finish Test Iteration  0\n",
      "Finish Test Iteration  1\n",
      "Finish Test Iteration  2\n",
      "Finish Test Iteration  3\n",
      "Finish Test Iteration  4\n",
      "Finish Test Iteration  5\n",
      "Finish Test Iteration  6\n",
      "Finish Test Iteration  7\n",
      "Finish Test Iteration  8\n",
      "Finish Test Iteration  9\n",
      "Finish Subset Iteration  6\n",
      "Finish Test Iteration  0\n",
      "Finish Test Iteration  1\n",
      "Finish Test Iteration  2\n",
      "Finish Test Iteration  3\n",
      "Finish Test Iteration  4\n",
      "Finish Test Iteration  5\n",
      "Finish Test Iteration  6\n",
      "Finish Test Iteration  7\n",
      "Finish Test Iteration  8\n",
      "Finish Test Iteration  9\n",
      "Finish Subset Iteration  7\n",
      "Finish Test Iteration  0\n",
      "Finish Test Iteration  1\n",
      "Finish Test Iteration  2\n",
      "Finish Test Iteration  3\n",
      "Finish Test Iteration  4\n",
      "Finish Test Iteration  5\n",
      "Finish Test Iteration  6\n",
      "Finish Test Iteration  7\n",
      "Finish Test Iteration  8\n",
      "Finish Test Iteration  9\n",
      "Finish Subset Iteration  8\n",
      "Finish Test Iteration  0\n",
      "Finish Test Iteration  1\n",
      "Finish Test Iteration  2\n",
      "Finish Test Iteration  3\n",
      "Finish Test Iteration  4\n",
      "Finish Test Iteration  5\n",
      "Finish Test Iteration  6\n",
      "Finish Test Iteration  7\n",
      "Finish Test Iteration  8\n",
      "Finish Test Iteration  9\n",
      "Finish Subset Iteration  9\n",
      "Finish Test Iteration  0\n",
      "Finish Test Iteration  1\n",
      "Finish Test Iteration  2\n",
      "Finish Test Iteration  3\n",
      "Finish Test Iteration  4\n",
      "Finish Test Iteration  5\n",
      "Finish Test Iteration  6\n",
      "Finish Test Iteration  7\n",
      "Finish Test Iteration  8\n",
      "Finish Test Iteration  9\n",
      "Finish Subset Iteration  10\n",
      "Finish Test Iteration  0\n",
      "Finish Test Iteration  1\n",
      "Finish Test Iteration  2\n",
      "Finish Test Iteration  3\n",
      "Finish Test Iteration  4\n",
      "Finish Test Iteration  5\n",
      "Finish Test Iteration  6\n",
      "Finish Test Iteration  7\n",
      "Finish Test Iteration  8\n",
      "Finish Test Iteration  9\n",
      "Finish Subset Iteration  11\n"
     ]
    }
   ],
   "source": [
    "score = []\n",
    "j = 0\n",
    "max_depth_ = [i*10000 for i in range(1,22,2)]\n",
    "max_depth_.append(None)\n",
    "y_labels = ['bullet','monthly','weekly','irregular']\n",
    "for j in range(len(max_depth_)):\n",
    "    \n",
    "    model = DecisionTreeRegressor(min_impurity_decrease = 1e-6, max_depth = max_depth_[j])\n",
    "    \n",
    "    ALL_TRUE_LABEL = []\n",
    "    ALL_PRED_LABEL = []\n",
    "    ALL_TRUE_VALUE = []\n",
    "    ALL_PRED_VALUE = []\n",
    "    kf = KFold(n_splits=10)\n",
    "    i = 0\n",
    "    for train_index, test_index in kf.split(X):\n",
    "\n",
    "        X_train, X_test = X.iloc[train_index], X.iloc[test_index]\n",
    "        y_train, y_test = y.iloc[train_index], y.iloc[test_index]\n",
    "\n",
    "\n",
    "        model.fit(X_train,y_train)    \n",
    "        y_pred = model.predict(X_test)\n",
    "\n",
    "        y_test_label = [convert(row, y_labels) for row in y_test.values.tolist()]\n",
    "        y_pred_label = [convert(row, y_labels) for row in y_pred]\n",
    "\n",
    "        ALL_PRED_LABEL.extend(y_pred_label)\n",
    "        ALL_TRUE_LABEL.extend(y_test_label)\n",
    "        ALL_PRED_VALUE.extend(y_pred)\n",
    "        ALL_TRUE_VALUE.extend(y_test.values.tolist())\n",
    "\n",
    "        # Screen Output for tracking the progress, sometimes I wait too long......\n",
    "        print('Finish Test Iteration ',i)\n",
    "        i += 1\n",
    "#         break\n",
    "        \n",
    "    score.append(mean_squared_error(ALL_TRUE_VALUE, ALL_PRED_VALUE))\n",
    "    print('Finish Subset Iteration ',j)    \n",
    "#     break"
   ]
  },
  {
   "cell_type": "code",
   "execution_count": 84,
   "metadata": {},
   "outputs": [
    {
     "data": {
      "image/png": "[encoded data removed]",
      "text/plain": [
       "<Figure size 432x288 with 1 Axes>"
      ]
     },
     "metadata": {
      "needs_background": "light"
     },
     "output_type": "display_data"
    }
   ],
   "source": [
    "max_depth = [i for i in range(1,22,2)]\n",
    "max_depth.append('none')\n",
    "\n",
    "plt.plot(max_depth, score)\n",
    "plt.xlabel('Maximum Depth (10,000)')\n",
    "plt.ylabel('MSE')\n",
    "plt.grid()\n",
    "plt.title('MSE vs Max Depth')\n",
    "plt.show()"
   ]
  },
  {
   "cell_type": "code",
   "execution_count": 85,
   "metadata": {},
   "outputs": [
    {
     "name": "stdout",
     "output_type": "stream",
     "text": [
      "Finish Test Iteration  0\n",
      "Finish Test Iteration  1\n",
      "Finish Test Iteration  2\n",
      "Finish Test Iteration  3\n",
      "Finish Test Iteration  4\n",
      "Finish Test Iteration  5\n",
      "Finish Test Iteration  6\n",
      "Finish Test Iteration  7\n",
      "Finish Test Iteration  8\n",
      "Finish Test Iteration  9\n",
      "                  r2_score   mean_squared_error   explained_variance_score   support\n",
      "                                                                                    \n",
      "         bullet      0.782                0.021                      0.782     70728\n",
      "        monthly      0.762                0.059                      0.762    342717\n",
      "         weekly       0.67                  0.0                       0.67       602\n",
      "      irregular      0.796                0.048                      0.796    257158\n",
      "                                                                                    \n",
      "      micro avg        0.0                0.016                        0.0    671205\n",
      "      macro avg      0.752                0.032                      0.752    671205\n",
      "   weighted avg      0.777                0.051                      0.777    671205\n",
      "\n",
      "              precision    recall  f1-score   support\n",
      "\n",
      "      bullet       0.86      0.88      0.87     70728\n",
      "   irregular       0.92      0.92      0.92    257158\n",
      "     monthly       0.93      0.92      0.92    342717\n",
      "      weekly       0.76      0.86      0.80       602\n",
      "\n",
      "   micro avg       0.92      0.92      0.92    671205\n",
      "   macro avg       0.87      0.89      0.88    671205\n",
      "weighted avg       0.92      0.92      0.92    671205\n",
      "\n",
      "[[ 61945   1598   7171     14]\n",
      " [  2386 237418  17216    138]\n",
      " [  7694  19444 315565     14]\n",
      " [     3     59     23    517]]\n"
     ]
    }
   ],
   "source": [
    "model = DecisionTreeRegressor(min_impurity_decrease = 1e-6, max_depth =150000)\n",
    "y_labels = ['bullet','monthly','weekly','irregular']\n",
    "ALL_TRUE_LABEL = []\n",
    "ALL_PRED_LABEL = []\n",
    "ALL_TRUE_VALUE = []\n",
    "ALL_PRED_VALUE = []\n",
    "kf = KFold(n_splits=10)\n",
    "i = 0\n",
    "for train_index, test_index in kf.split(X):\n",
    "    \n",
    "    X_train, X_test = X.iloc[train_index], X.iloc[test_index]\n",
    "    y_train, y_test = y.iloc[train_index], y.iloc[test_index]\n",
    "    \n",
    "\n",
    "    model.fit(X_train,y_train)    \n",
    "    y_pred = model.predict(X_test)\n",
    "    \n",
    "    y_test_label = [convert(row, y_labels) for row in y_test.values.tolist()]\n",
    "    y_pred_label = [convert(row, y_labels) for row in y_pred]\n",
    "    \n",
    "    ALL_PRED_LABEL.extend(y_pred_label)\n",
    "    ALL_TRUE_LABEL.extend(y_test_label)\n",
    "    ALL_PRED_VALUE.extend(y_pred)\n",
    "    ALL_TRUE_VALUE.extend(y_test.values.tolist())\n",
    "\n",
    "    # Screen Output for tracking the progress, sometimes I wait too long......\n",
    "    print('Finish Test Iteration ',i)\n",
    "    i += 1\n",
    "#     break\n",
    "\n",
    "print(multiclass_regression_report(ALL_TRUE_VALUE, ALL_PRED_VALUE,y_labels))\n",
    "print(classification_report(ALL_TRUE_LABEL, ALL_PRED_LABEL))\n",
    "print(confusion_matrix(ALL_TRUE_LABEL, ALL_PRED_LABEL))"
   ]
  },
  {
   "cell_type": "code",
   "execution_count": 86,
   "metadata": {},
   "outputs": [
    {
     "name": "stdout",
     "output_type": "stream",
     "text": [
      "Finish Test Iteration  0\n",
      "Finish Test Iteration  1\n",
      "Finish Test Iteration  2\n",
      "Finish Test Iteration  3\n",
      "Finish Test Iteration  4\n",
      "Finish Test Iteration  5\n",
      "Finish Test Iteration  6\n",
      "Finish Test Iteration  7\n",
      "Finish Test Iteration  8\n",
      "Finish Test Iteration  9\n",
      "Finish Subset Iteration  0\n",
      "Finish Test Iteration  0\n",
      "Finish Test Iteration  1\n",
      "Finish Test Iteration  2\n",
      "Finish Test Iteration  3\n",
      "Finish Test Iteration  4\n",
      "Finish Test Iteration  5\n",
      "Finish Test Iteration  6\n",
      "Finish Test Iteration  7\n",
      "Finish Test Iteration  8\n",
      "Finish Test Iteration  9\n",
      "Finish Subset Iteration  1\n",
      "Finish Test Iteration  0\n",
      "Finish Test Iteration  1\n",
      "Finish Test Iteration  2\n",
      "Finish Test Iteration  3\n",
      "Finish Test Iteration  4\n",
      "Finish Test Iteration  5\n",
      "Finish Test Iteration  6\n",
      "Finish Test Iteration  7\n",
      "Finish Test Iteration  8\n",
      "Finish Test Iteration  9\n",
      "Finish Subset Iteration  2\n"
     ]
    }
   ],
   "source": [
    "score = []\n",
    "j = 0\n",
    "max_features_ = ['sqrt','log2','auto']\n",
    "y_labels = ['bullet','monthly','weekly','irregular']\n",
    "for j in range(len(max_features_)):\n",
    "    \n",
    "    model = DecisionTreeRegressor(min_impurity_decrease = 1e-6, max_depth = 150000, max_features = max_features_[j])\n",
    "    \n",
    "    ALL_TRUE_LABEL = []\n",
    "    ALL_PRED_LABEL = []\n",
    "    ALL_TRUE_VALUE = []\n",
    "    ALL_PRED_VALUE = []\n",
    "    kf = KFold(n_splits=10)\n",
    "    i = 0\n",
    "    for train_index, test_index in kf.split(X):\n",
    "\n",
    "        X_train, X_test = X.iloc[train_index], X.iloc[test_index]\n",
    "        y_train, y_test = y.iloc[train_index], y.iloc[test_index]\n",
    "\n",
    "\n",
    "        model.fit(X_train,y_train)    \n",
    "        y_pred = model.predict(X_test)\n",
    "\n",
    "        y_test_label = [convert(row, y_labels) for row in y_test.values.tolist()]\n",
    "        y_pred_label = [convert(row, y_labels) for row in y_pred]\n",
    "\n",
    "        ALL_PRED_LABEL.extend(y_pred_label)\n",
    "        ALL_TRUE_LABEL.extend(y_test_label)\n",
    "        ALL_PRED_VALUE.extend(y_pred)\n",
    "        ALL_TRUE_VALUE.extend(y_test.values.tolist())\n",
    "\n",
    "        # Screen Output for tracking the progress, sometimes I wait too long......\n",
    "        print('Finish Test Iteration ',i)\n",
    "        i += 1\n",
    "#         break\n",
    "        \n",
    "    score.append(mean_squared_error(ALL_TRUE_VALUE, ALL_PRED_VALUE))\n",
    "    print('Finish Subset Iteration ',j)    \n",
    "#     break"
   ]
  },
  {
   "cell_type": "code",
   "execution_count": 87,
   "metadata": {},
   "outputs": [
    {
     "data": {
      "image/png": "[encoded data removed]",
      "text/plain": [
       "<Figure size 432x288 with 1 Axes>"
      ]
     },
     "metadata": {
      "needs_background": "light"
     },
     "output_type": "display_data"
    }
   ],
   "source": [
    "max_features_ = ['sqrt','log2','auto']\n",
    "\n",
    "plt.scatter(max_features_, score)\n",
    "plt.xlabel('max_features')\n",
    "plt.ylabel('MSE')\n",
    "plt.grid()\n",
    "plt.title('MSE vs Max Features')\n",
    "plt.show()"
   ]
  },
  {
   "cell_type": "code",
   "execution_count": null,
   "metadata": {},
   "outputs": [],
   "source": []
  }
 ],
 "metadata": {
  "kernelspec": {
   "display_name": "Python 3",
   "language": "python",
   "name": "python3"
  },
  "language_info": {
   "codemirror_mode": {
    "name": "ipython",
    "version": 3
   },
   "file_extension": ".py",
   "mimetype": "text/x-python",
   "name": "python",
   "nbconvert_exporter": "python",
   "pygments_lexer": "ipython3",
   "version": "3.7.1"
  }
 },
 "nbformat": 4,
 "nbformat_minor": 2
}
