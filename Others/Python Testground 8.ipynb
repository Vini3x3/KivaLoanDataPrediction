{
 "cells": [
  {
   "cell_type": "code",
   "execution_count": null,
   "metadata": {},
   "outputs": [],
   "source": []
  },
  {
   "cell_type": "code",
   "execution_count": 1,
   "metadata": {},
   "outputs": [],
   "source": [
    "# data visualization and utilities\n",
    "import pandas as pd\n",
    "import numpy as np\n",
    "import matplotlib.pyplot as plt\n",
    "import seaborn as sns\n",
    "from mpl_toolkits.mplot3d import Axes3D\n",
    "import graphviz\n",
    "%matplotlib inline"
   ]
  },
  {
   "cell_type": "code",
   "execution_count": 2,
   "metadata": {},
   "outputs": [],
   "source": [
    "# classifier\n",
    "from sklearn.linear_model import Perceptron\n",
    "from sklearn.linear_model import LinearRegression\n",
    "from sklearn.linear_model import LogisticRegression\n",
    "from sklearn.ensemble import RandomForestClassifier\n",
    "from sklearn.neural_network import MLPClassifier as MLP\n",
    "from sklearn.svm import SVC\n",
    "from sklearn.tree import DecisionTreeClassifier as DTC\n",
    "from sklearn.neighbors import KNeighborsClassifier as KNN\n",
    "from sklearn.ensemble import GradientBoostingClassifier as GBC\n",
    "from sklearn.linear_model import Lasso"
   ]
  },
  {
   "cell_type": "code",
   "execution_count": null,
   "metadata": {},
   "outputs": [],
   "source": [
    "# evaluation\n",
    "from sklearn.metrics import classification_report, confusion_matrix\n",
    "from sklearn.model_selection import KFold, GridSearchCV\n",
    "from sklearn.metrics import r2_score"
   ]
  },
  {
   "cell_type": "code",
   "execution_count": 4,
   "metadata": {},
   "outputs": [],
   "source": [
    "# data preprocessing\n",
    "from sklearn.model_selection import train_test_split\n",
    "from sklearn.preprocessing import StandardScaler, MinMaxScaler\n",
    "from sklearn.discriminant_analysis import LinearDiscriminantAnalysis as LDA\n",
    "from sklearn.decomposition import PCA\n",
    "from sklearn.feature_selection import SelectKBest, f_classif"
   ]
  },
  {
   "cell_type": "code",
   "execution_count": 5,
   "metadata": {},
   "outputs": [],
   "source": [
    "loan = pd.read_csv('kiva_loans.csv')"
   ]
  },
  {
   "cell_type": "code",
   "execution_count": 6,
   "metadata": {},
   "outputs": [],
   "source": [
    "loan_std = pd.read_csv('kiva_loans_standardized.csv')"
   ]
  },
  {
   "cell_type": "code",
   "execution_count": null,
   "metadata": {},
   "outputs": [],
   "source": []
  },
  {
   "cell_type": "code",
   "execution_count": 7,
   "metadata": {},
   "outputs": [],
   "source": [
    "selected_features = list(loan_std.columns)\n",
    "selected_features.remove('repayment_interval_irregular')\n",
    "selected_features.remove('repayment_interval_monthly')\n",
    "selected_features.remove('repayment_interval_weekly')\n",
    "selected_features.remove('repayment_interval_bullet')"
   ]
  },
  {
   "cell_type": "code",
   "execution_count": 9,
   "metadata": {},
   "outputs": [],
   "source": [
    "y = loan['repayment_interval']\n",
    "X = loan_std[selected_features]"
   ]
  },
  {
   "cell_type": "code",
   "execution_count": null,
   "metadata": {},
   "outputs": [],
   "source": []
  },
  {
   "cell_type": "code",
   "execution_count": 11,
   "metadata": {},
   "outputs": [
    {
     "data": {
      "text/plain": [
       "107938"
      ]
     },
     "execution_count": 11,
     "metadata": {},
     "output_type": "execute_result"
    }
   ],
   "source": [
    "107938"
   ]
  },
  {
   "cell_type": "code",
   "execution_count": 10,
   "metadata": {},
   "outputs": [],
   "source": [
    "from sklearn.metrics import precision_score"
   ]
  },
  {
   "cell_type": "code",
   "execution_count": 14,
   "metadata": {},
   "outputs": [
    {
     "name": "stdout",
     "output_type": "stream",
     "text": [
      "Finish Test Iteration  0\n",
      "Finish Test Iteration  1\n",
      "Finish Test Iteration  2\n",
      "Finish Test Iteration  3\n",
      "Finish Test Iteration  4\n",
      "Finish Test Iteration  5\n",
      "Finish Test Iteration  6\n",
      "Finish Test Iteration  7\n",
      "Finish Test Iteration  8\n",
      "Finish Test Iteration  9\n",
      "Finish Subset Iteration  1\n",
      "Finish Test Iteration  0\n",
      "Finish Test Iteration  1\n",
      "Finish Test Iteration  2\n",
      "Finish Test Iteration  3\n",
      "Finish Test Iteration  4\n",
      "Finish Test Iteration  5\n",
      "Finish Test Iteration  6\n",
      "Finish Test Iteration  7\n",
      "Finish Test Iteration  8\n",
      "Finish Test Iteration  9\n",
      "Finish Subset Iteration  2\n",
      "Finish Test Iteration  0\n",
      "Finish Test Iteration  1\n",
      "Finish Test Iteration  2\n",
      "Finish Test Iteration  3\n",
      "Finish Test Iteration  4\n",
      "Finish Test Iteration  5\n",
      "Finish Test Iteration  6\n",
      "Finish Test Iteration  7\n",
      "Finish Test Iteration  8\n",
      "Finish Test Iteration  9\n",
      "Finish Subset Iteration  3\n",
      "Finish Test Iteration  0\n",
      "Finish Test Iteration  1\n",
      "Finish Test Iteration  2\n",
      "Finish Test Iteration  3\n",
      "Finish Test Iteration  4\n",
      "Finish Test Iteration  5\n",
      "Finish Test Iteration  6\n",
      "Finish Test Iteration  7\n",
      "Finish Test Iteration  8\n",
      "Finish Test Iteration  9\n",
      "Finish Subset Iteration  4\n",
      "Finish Test Iteration  0\n",
      "Finish Test Iteration  1\n",
      "Finish Test Iteration  2\n",
      "Finish Test Iteration  3\n",
      "Finish Test Iteration  4\n",
      "Finish Test Iteration  5\n",
      "Finish Test Iteration  6\n",
      "Finish Test Iteration  7\n",
      "Finish Test Iteration  8\n",
      "Finish Test Iteration  9\n",
      "Finish Subset Iteration  5\n",
      "Finish Test Iteration  0\n",
      "Finish Test Iteration  1\n",
      "Finish Test Iteration  2\n",
      "Finish Test Iteration  3\n",
      "Finish Test Iteration  4\n",
      "Finish Test Iteration  5\n",
      "Finish Test Iteration  6\n",
      "Finish Test Iteration  7\n",
      "Finish Test Iteration  8\n",
      "Finish Test Iteration  9\n",
      "Finish Subset Iteration  6\n",
      "Finish Test Iteration  0\n",
      "Finish Test Iteration  1\n",
      "Finish Test Iteration  2\n",
      "Finish Test Iteration  3\n",
      "Finish Test Iteration  4\n",
      "Finish Test Iteration  5\n",
      "Finish Test Iteration  6\n",
      "Finish Test Iteration  7\n",
      "Finish Test Iteration  8\n",
      "Finish Test Iteration  9\n",
      "Finish Subset Iteration  7\n",
      "Finish Test Iteration  0\n",
      "Finish Test Iteration  1\n",
      "Finish Test Iteration  2\n",
      "Finish Test Iteration  3\n",
      "Finish Test Iteration  4\n",
      "Finish Test Iteration  5\n",
      "Finish Test Iteration  6\n",
      "Finish Test Iteration  7\n",
      "Finish Test Iteration  8\n",
      "Finish Test Iteration  9\n",
      "Finish Subset Iteration  8\n",
      "Finish Test Iteration  0\n",
      "Finish Test Iteration  1\n",
      "Finish Test Iteration  2\n",
      "Finish Test Iteration  3\n",
      "Finish Test Iteration  4\n",
      "Finish Test Iteration  5\n",
      "Finish Test Iteration  6\n",
      "Finish Test Iteration  7\n",
      "Finish Test Iteration  8\n",
      "Finish Test Iteration  9\n",
      "Finish Subset Iteration  9\n",
      "Finish Test Iteration  0\n",
      "Finish Test Iteration  1\n",
      "Finish Test Iteration  2\n",
      "Finish Test Iteration  3\n",
      "Finish Test Iteration  4\n",
      "Finish Test Iteration  5\n",
      "Finish Test Iteration  6\n",
      "Finish Test Iteration  7\n",
      "Finish Test Iteration  8\n",
      "Finish Test Iteration  9\n",
      "Finish Subset Iteration  10\n"
     ]
    }
   ],
   "source": [
    "score = []\n",
    "j = 1\n",
    "for j in range(1,11):\n",
    "            \n",
    "    dtree = DTC(max_depth = j * 10000)\n",
    "\n",
    "    ALL_TRUE_LABEL = []\n",
    "    ALL_PRED_LABEL = []\n",
    "    kf = KFold(n_splits=10)\n",
    "    i = 0\n",
    "\n",
    "    for train_index, test_index in kf.split(X):    \n",
    "\n",
    "        X_train, X_test = X.iloc[train_index], X.iloc[test_index]\n",
    "        y_train, y_test = y.iloc[train_index], y.iloc[test_index]\n",
    "\n",
    "        dtree.fit(X_train,y_train)\n",
    "        ALL_PRED_LABEL.extend(dtree.predict(X_test))\n",
    "        ALL_TRUE_LABEL.extend(y_test)\n",
    "\n",
    "        # Screen Output for tracking the progress, sometimes I wait too long......\n",
    "        print('Finish Test Iteration ',i)\n",
    "        i += 1\n",
    "    score.append(precision_score(ALL_TRUE_LABEL, ALL_PRED_LABEL, average = 'macro'))\n",
    "    print('Finish Subset Iteration ',j)\n",
    "#     print(classification_report(ALL_TRUE_LABEL,ALL_PRED_LABEL))\n",
    "#     print(confusion_matrix(ALL_TRUE_LABEL,ALL_PRED_LABEL))"
   ]
  },
  {
   "cell_type": "code",
   "execution_count": 15,
   "metadata": {},
   "outputs": [
    {
     "data": {
      "text/plain": [
       "[10000, 20000, 30000, 40000, 50000, 60000, 70000, 80000, 90000, 100000]"
      ]
     },
     "execution_count": 15,
     "metadata": {},
     "output_type": "execute_result"
    }
   ],
   "source": [
    "max_depth = [i * 10000 for i in range(1,11)]\n",
    "max_depth"
   ]
  },
  {
   "cell_type": "code",
   "execution_count": 17,
   "metadata": {},
   "outputs": [
    {
     "data": {
      "image/png": "[encoded data removed]",
      "text/plain": [
       "<Figure size 432x288 with 1 Axes>"
      ]
     },
     "metadata": {
      "needs_background": "light"
     },
     "output_type": "display_data"
    }
   ],
   "source": [
    "plt.plot(max_depth, score)\n",
    "# plt.xlabel('Precision(macro)')\n",
    "# plt.ylabel('Maximum Depth')\n",
    "plt.title('Precision(macro) vs Max Depth')\n",
    "plt.show()"
   ]
  },
  {
   "cell_type": "code",
   "execution_count": 18,
   "metadata": {},
   "outputs": [
    {
     "name": "stdout",
     "output_type": "stream",
     "text": [
      "Finish Test Iteration  0\n",
      "Finish Test Iteration  1\n",
      "Finish Test Iteration  2\n",
      "Finish Test Iteration  3\n",
      "Finish Test Iteration  4\n",
      "Finish Test Iteration  5\n",
      "Finish Test Iteration  6\n",
      "Finish Test Iteration  7\n",
      "Finish Test Iteration  8\n",
      "Finish Test Iteration  9\n",
      "              precision    recall  f1-score   support\n",
      "\n",
      "      bullet       0.84      0.85      0.85     70728\n",
      "   irregular       0.89      0.91      0.90    257158\n",
      "     monthly       0.92      0.90      0.91    342717\n",
      "      weekly       0.73      0.70      0.72       602\n",
      "\n",
      "   micro avg       0.90      0.90      0.90    671205\n",
      "   macro avg       0.85      0.84      0.84    671205\n",
      "weighted avg       0.90      0.90      0.90    671205\n",
      "\n",
      "[[ 60016   2612   8090     10]\n",
      " [  2446 234930  19667    115]\n",
      " [  8808  24915 308965     29]\n",
      " [     4    148     27    423]]\n"
     ]
    }
   ],
   "source": [
    "dtree = DTC(max_depth = 4 * 10000)\n",
    "\n",
    "ALL_TRUE_LABEL = []\n",
    "ALL_PRED_LABEL = []\n",
    "kf = KFold(n_splits=10)\n",
    "i = 0\n",
    "\n",
    "for train_index, test_index in kf.split(X):    \n",
    "\n",
    "    X_train, X_test = X.iloc[train_index], X.iloc[test_index]\n",
    "    y_train, y_test = y.iloc[train_index], y.iloc[test_index]\n",
    "\n",
    "    dtree.fit(X_train,y_train)\n",
    "    ALL_PRED_LABEL.extend(dtree.predict(X_test))\n",
    "    ALL_TRUE_LABEL.extend(y_test)\n",
    "\n",
    "    # Screen Output for tracking the progress, sometimes I wait too long......\n",
    "    print('Finish Test Iteration ',i)\n",
    "    i += 1    \n",
    "\n",
    "print(classification_report(ALL_TRUE_LABEL,ALL_PRED_LABEL))\n",
    "print(confusion_matrix(ALL_TRUE_LABEL,ALL_PRED_LABEL))"
   ]
  },
  {
   "cell_type": "markdown",
   "metadata": {},
   "source": [
    "It proves that 40,000 works well as 100,000+ depth.  \n",
    "\n",
    "One tiny point is that, although the score are pretty much the same, there are some minor advantage in teh confucsion matrix compairing the both matrix.  In fact there are more correct cases than limiting only 40,000 depth in decision tree.  "
   ]
  },
  {
   "cell_type": "markdown",
   "metadata": {},
   "source": [
    "Another search for depth limit between 30,000 and 50,000.  "
   ]
  },
  {
   "cell_type": "code",
   "execution_count": 19,
   "metadata": {},
   "outputs": [
    {
     "name": "stdout",
     "output_type": "stream",
     "text": [
      "Finish Test Iteration  0\n",
      "Finish Test Iteration  1\n",
      "Finish Test Iteration  2\n",
      "Finish Test Iteration  3\n",
      "Finish Test Iteration  4\n",
      "Finish Test Iteration  5\n",
      "Finish Test Iteration  6\n",
      "Finish Test Iteration  7\n",
      "Finish Test Iteration  8\n",
      "Finish Test Iteration  9\n",
      "Finish Depth Iteration  30\n",
      "Finish Test Iteration  0\n",
      "Finish Test Iteration  1\n",
      "Finish Test Iteration  2\n",
      "Finish Test Iteration  3\n",
      "Finish Test Iteration  4\n",
      "Finish Test Iteration  5\n",
      "Finish Test Iteration  6\n",
      "Finish Test Iteration  7\n",
      "Finish Test Iteration  8\n",
      "Finish Test Iteration  9\n",
      "Finish Depth Iteration  31\n",
      "Finish Test Iteration  0\n",
      "Finish Test Iteration  1\n",
      "Finish Test Iteration  2\n",
      "Finish Test Iteration  3\n",
      "Finish Test Iteration  4\n",
      "Finish Test Iteration  5\n",
      "Finish Test Iteration  6\n",
      "Finish Test Iteration  7\n",
      "Finish Test Iteration  8\n",
      "Finish Test Iteration  9\n",
      "Finish Depth Iteration  32\n",
      "Finish Test Iteration  0\n",
      "Finish Test Iteration  1\n",
      "Finish Test Iteration  2\n",
      "Finish Test Iteration  3\n",
      "Finish Test Iteration  4\n",
      "Finish Test Iteration  5\n",
      "Finish Test Iteration  6\n",
      "Finish Test Iteration  7\n",
      "Finish Test Iteration  8\n",
      "Finish Test Iteration  9\n",
      "Finish Depth Iteration  33\n",
      "Finish Test Iteration  0\n",
      "Finish Test Iteration  1\n",
      "Finish Test Iteration  2\n",
      "Finish Test Iteration  3\n",
      "Finish Test Iteration  4\n",
      "Finish Test Iteration  5\n",
      "Finish Test Iteration  6\n",
      "Finish Test Iteration  7\n",
      "Finish Test Iteration  8\n",
      "Finish Test Iteration  9\n",
      "Finish Depth Iteration  34\n",
      "Finish Test Iteration  0\n",
      "Finish Test Iteration  1\n",
      "Finish Test Iteration  2\n",
      "Finish Test Iteration  3\n",
      "Finish Test Iteration  4\n",
      "Finish Test Iteration  5\n",
      "Finish Test Iteration  6\n",
      "Finish Test Iteration  7\n",
      "Finish Test Iteration  8\n",
      "Finish Test Iteration  9\n",
      "Finish Depth Iteration  35\n",
      "Finish Test Iteration  0\n",
      "Finish Test Iteration  1\n",
      "Finish Test Iteration  2\n",
      "Finish Test Iteration  3\n",
      "Finish Test Iteration  4\n",
      "Finish Test Iteration  5\n",
      "Finish Test Iteration  6\n",
      "Finish Test Iteration  7\n",
      "Finish Test Iteration  8\n",
      "Finish Test Iteration  9\n",
      "Finish Depth Iteration  36\n",
      "Finish Test Iteration  0\n",
      "Finish Test Iteration  1\n",
      "Finish Test Iteration  2\n",
      "Finish Test Iteration  3\n",
      "Finish Test Iteration  4\n",
      "Finish Test Iteration  5\n",
      "Finish Test Iteration  6\n",
      "Finish Test Iteration  7\n",
      "Finish Test Iteration  8\n",
      "Finish Test Iteration  9\n",
      "Finish Depth Iteration  37\n",
      "Finish Test Iteration  0\n",
      "Finish Test Iteration  1\n",
      "Finish Test Iteration  2\n",
      "Finish Test Iteration  3\n",
      "Finish Test Iteration  4\n",
      "Finish Test Iteration  5\n",
      "Finish Test Iteration  6\n",
      "Finish Test Iteration  7\n",
      "Finish Test Iteration  8\n",
      "Finish Test Iteration  9\n",
      "Finish Depth Iteration  38\n",
      "Finish Test Iteration  0\n",
      "Finish Test Iteration  1\n",
      "Finish Test Iteration  2\n",
      "Finish Test Iteration  3\n",
      "Finish Test Iteration  4\n",
      "Finish Test Iteration  5\n",
      "Finish Test Iteration  6\n",
      "Finish Test Iteration  7\n",
      "Finish Test Iteration  8\n",
      "Finish Test Iteration  9\n",
      "Finish Depth Iteration  39\n",
      "Finish Test Iteration  0\n",
      "Finish Test Iteration  1\n",
      "Finish Test Iteration  2\n",
      "Finish Test Iteration  3\n",
      "Finish Test Iteration  4\n",
      "Finish Test Iteration  5\n",
      "Finish Test Iteration  6\n",
      "Finish Test Iteration  7\n",
      "Finish Test Iteration  8\n",
      "Finish Test Iteration  9\n",
      "Finish Depth Iteration  40\n",
      "Finish Test Iteration  0\n",
      "Finish Test Iteration  1\n",
      "Finish Test Iteration  2\n",
      "Finish Test Iteration  3\n",
      "Finish Test Iteration  4\n",
      "Finish Test Iteration  5\n",
      "Finish Test Iteration  6\n",
      "Finish Test Iteration  7\n",
      "Finish Test Iteration  8\n",
      "Finish Test Iteration  9\n",
      "Finish Depth Iteration  41\n",
      "Finish Test Iteration  0\n",
      "Finish Test Iteration  1\n",
      "Finish Test Iteration  2\n",
      "Finish Test Iteration  3\n",
      "Finish Test Iteration  4\n",
      "Finish Test Iteration  5\n",
      "Finish Test Iteration  6\n",
      "Finish Test Iteration  7\n",
      "Finish Test Iteration  8\n",
      "Finish Test Iteration  9\n",
      "Finish Depth Iteration  42\n",
      "Finish Test Iteration  0\n",
      "Finish Test Iteration  1\n",
      "Finish Test Iteration  2\n",
      "Finish Test Iteration  3\n",
      "Finish Test Iteration  4\n",
      "Finish Test Iteration  5\n",
      "Finish Test Iteration  6\n",
      "Finish Test Iteration  7\n",
      "Finish Test Iteration  8\n",
      "Finish Test Iteration  9\n",
      "Finish Depth Iteration  43\n",
      "Finish Test Iteration  0\n",
      "Finish Test Iteration  1\n",
      "Finish Test Iteration  2\n",
      "Finish Test Iteration  3\n",
      "Finish Test Iteration  4\n",
      "Finish Test Iteration  5\n",
      "Finish Test Iteration  6\n",
      "Finish Test Iteration  7\n",
      "Finish Test Iteration  8\n",
      "Finish Test Iteration  9\n",
      "Finish Depth Iteration  44\n",
      "Finish Test Iteration  0\n",
      "Finish Test Iteration  1\n",
      "Finish Test Iteration  2\n",
      "Finish Test Iteration  3\n",
      "Finish Test Iteration  4\n",
      "Finish Test Iteration  5\n",
      "Finish Test Iteration  6\n",
      "Finish Test Iteration  7\n",
      "Finish Test Iteration  8\n",
      "Finish Test Iteration  9\n",
      "Finish Depth Iteration  45\n",
      "Finish Test Iteration  0\n",
      "Finish Test Iteration  1\n",
      "Finish Test Iteration  2\n",
      "Finish Test Iteration  3\n",
      "Finish Test Iteration  4\n",
      "Finish Test Iteration  5\n",
      "Finish Test Iteration  6\n",
      "Finish Test Iteration  7\n",
      "Finish Test Iteration  8\n",
      "Finish Test Iteration  9\n",
      "Finish Depth Iteration  46\n",
      "Finish Test Iteration  0\n",
      "Finish Test Iteration  1\n",
      "Finish Test Iteration  2\n",
      "Finish Test Iteration  3\n",
      "Finish Test Iteration  4\n",
      "Finish Test Iteration  5\n",
      "Finish Test Iteration  6\n",
      "Finish Test Iteration  7\n",
      "Finish Test Iteration  8\n",
      "Finish Test Iteration  9\n",
      "Finish Depth Iteration  47\n",
      "Finish Test Iteration  0\n",
      "Finish Test Iteration  1\n",
      "Finish Test Iteration  2\n",
      "Finish Test Iteration  3\n",
      "Finish Test Iteration  4\n",
      "Finish Test Iteration  5\n",
      "Finish Test Iteration  6\n",
      "Finish Test Iteration  7\n",
      "Finish Test Iteration  8\n",
      "Finish Test Iteration  9\n",
      "Finish Depth Iteration  48\n",
      "Finish Test Iteration  0\n",
      "Finish Test Iteration  1\n",
      "Finish Test Iteration  2\n",
      "Finish Test Iteration  3\n",
      "Finish Test Iteration  4\n",
      "Finish Test Iteration  5\n",
      "Finish Test Iteration  6\n",
      "Finish Test Iteration  7\n",
      "Finish Test Iteration  8\n",
      "Finish Test Iteration  9\n",
      "Finish Depth Iteration  49\n"
     ]
    }
   ],
   "source": [
    "score = []\n",
    "j = 1\n",
    "for j in range(30,50):\n",
    "            \n",
    "    dtree = DTC(max_depth = j * 1000)\n",
    "\n",
    "    ALL_TRUE_LABEL = []\n",
    "    ALL_PRED_LABEL = []\n",
    "    kf = KFold(n_splits=10)\n",
    "    i = 0\n",
    "\n",
    "    for train_index, test_index in kf.split(X):    \n",
    "\n",
    "        X_train, X_test = X.iloc[train_index], X.iloc[test_index]\n",
    "        y_train, y_test = y.iloc[train_index], y.iloc[test_index]\n",
    "\n",
    "        dtree.fit(X_train,y_train)\n",
    "        ALL_PRED_LABEL.extend(dtree.predict(X_test))\n",
    "        ALL_TRUE_LABEL.extend(y_test)\n",
    "\n",
    "        # Screen Output for tracking the progress, sometimes I wait too long......\n",
    "        print('Finish Test Iteration ',i)\n",
    "        i += 1\n",
    "    score.append(precision_score(ALL_TRUE_LABEL, ALL_PRED_LABEL, average = 'macro'))\n",
    "    print('Finish Depth Iteration ',j)\n",
    "#     print(classification_report(ALL_TRUE_LABEL,ALL_PRED_LABEL))\n",
    "#     print(confusion_matrix(ALL_TRUE_LABEL,ALL_PRED_LABEL))"
   ]
  },
  {
   "cell_type": "code",
   "execution_count": 20,
   "metadata": {},
   "outputs": [
    {
     "data": {
      "text/plain": [
       "[30000,\n",
       " 31000,\n",
       " 32000,\n",
       " 33000,\n",
       " 34000,\n",
       " 35000,\n",
       " 36000,\n",
       " 37000,\n",
       " 38000,\n",
       " 39000,\n",
       " 40000,\n",
       " 41000,\n",
       " 42000,\n",
       " 43000,\n",
       " 44000,\n",
       " 45000,\n",
       " 46000,\n",
       " 47000,\n",
       " 48000,\n",
       " 49000]"
      ]
     },
     "execution_count": 20,
     "metadata": {},
     "output_type": "execute_result"
    }
   ],
   "source": [
    "max_depth = [i * 1000 for i in range(30,50)]\n",
    "max_depth"
   ]
  },
  {
   "cell_type": "code",
   "execution_count": 21,
   "metadata": {},
   "outputs": [
    {
     "data": {
      "image/png": "[encoded data removed]",
      "text/plain": [
       "<Figure size 432x288 with 1 Axes>"
      ]
     },
     "metadata": {
      "needs_background": "light"
     },
     "output_type": "display_data"
    }
   ],
   "source": [
    "plt.plot(max_depth, score)\n",
    "# plt.xlabel('Precision(macro)')\n",
    "# plt.ylabel('Maximum Depth')\n",
    "plt.title('Precision(macro) vs Max Depth')\n",
    "plt.show()"
   ]
  },
  {
   "cell_type": "code",
   "execution_count": 22,
   "metadata": {},
   "outputs": [
    {
     "name": "stdout",
     "output_type": "stream",
     "text": [
      "Finish Test Iteration  0\n",
      "Finish Test Iteration  1\n",
      "Finish Test Iteration  2\n",
      "Finish Test Iteration  3\n",
      "Finish Test Iteration  4\n",
      "Finish Test Iteration  5\n",
      "Finish Test Iteration  6\n",
      "Finish Test Iteration  7\n",
      "Finish Test Iteration  8\n",
      "Finish Test Iteration  9\n",
      "              precision    recall  f1-score   support\n",
      "\n",
      "      bullet       0.84      0.85      0.85     70728\n",
      "   irregular       0.89      0.91      0.90    257158\n",
      "     monthly       0.92      0.90      0.91    342717\n",
      "      weekly       0.74      0.71      0.72       602\n",
      "\n",
      "   micro avg       0.90      0.90      0.90    671205\n",
      "   macro avg       0.85      0.84      0.85    671205\n",
      "weighted avg       0.90      0.90      0.90    671205\n",
      "\n",
      "[[ 59988   2588   8142     10]\n",
      " [  2439 234967  19638    114]\n",
      " [  8789  24971 308928     29]\n",
      " [     4    146     25    427]]\n"
     ]
    }
   ],
   "source": [
    "dtree = DTC(max_depth = 310000)\n",
    "\n",
    "ALL_TRUE_LABEL = []\n",
    "ALL_PRED_LABEL = []\n",
    "kf = KFold(n_splits=10)\n",
    "i = 0\n",
    "\n",
    "for train_index, test_index in kf.split(X):    \n",
    "\n",
    "    X_train, X_test = X.iloc[train_index], X.iloc[test_index]\n",
    "    y_train, y_test = y.iloc[train_index], y.iloc[test_index]\n",
    "\n",
    "    dtree.fit(X_train,y_train)\n",
    "    ALL_PRED_LABEL.extend(dtree.predict(X_test))\n",
    "    ALL_TRUE_LABEL.extend(y_test)\n",
    "\n",
    "    # Screen Output for tracking the progress, sometimes I wait too long......\n",
    "    print('Finish Test Iteration ',i)\n",
    "    i += 1    \n",
    "\n",
    "print(classification_report(ALL_TRUE_LABEL,ALL_PRED_LABEL))\n",
    "print(confusion_matrix(ALL_TRUE_LABEL,ALL_PRED_LABEL))"
   ]
  },
  {
   "cell_type": "code",
   "execution_count": 23,
   "metadata": {},
   "outputs": [
    {
     "name": "stdout",
     "output_type": "stream",
     "text": [
      "Finish Test Iteration  0\n",
      "Finish Test Iteration  1\n",
      "Finish Test Iteration  2\n",
      "Finish Test Iteration  3\n",
      "Finish Test Iteration  4\n",
      "Finish Test Iteration  5\n",
      "Finish Test Iteration  6\n",
      "Finish Test Iteration  7\n",
      "Finish Test Iteration  8\n",
      "Finish Test Iteration  9\n",
      "              precision    recall  f1-score   support\n",
      "\n",
      "      bullet       0.84      0.85      0.85     70728\n",
      "   irregular       0.89      0.91      0.90    257158\n",
      "     monthly       0.92      0.90      0.91    342717\n",
      "      weekly       0.73      0.71      0.72       602\n",
      "\n",
      "   micro avg       0.90      0.90      0.90    671205\n",
      "   macro avg       0.85      0.84      0.85    671205\n",
      "weighted avg       0.90      0.90      0.90    671205\n",
      "\n",
      "[[ 60030   2591   8096     11]\n",
      " [  2423 234949  19672    114]\n",
      " [  8776  24911 309000     30]\n",
      " [     5    145     24    428]]\n"
     ]
    }
   ],
   "source": [
    "dtree = DTC(max_depth = 46000)\n",
    "\n",
    "ALL_TRUE_LABEL = []\n",
    "ALL_PRED_LABEL = []\n",
    "kf = KFold(n_splits=10)\n",
    "i = 0\n",
    "\n",
    "for train_index, test_index in kf.split(X):    \n",
    "\n",
    "    X_train, X_test = X.iloc[train_index], X.iloc[test_index]\n",
    "    y_train, y_test = y.iloc[train_index], y.iloc[test_index]\n",
    "\n",
    "    dtree.fit(X_train,y_train)\n",
    "    ALL_PRED_LABEL.extend(dtree.predict(X_test))\n",
    "    ALL_TRUE_LABEL.extend(y_test)\n",
    "\n",
    "    # Screen Output for tracking the progress, sometimes I wait too long......\n",
    "    print('Finish Test Iteration ',i)\n",
    "    i += 1    \n",
    "\n",
    "print(classification_report(ALL_TRUE_LABEL,ALL_PRED_LABEL))\n",
    "print(confusion_matrix(ALL_TRUE_LABEL,ALL_PRED_LABEL))"
   ]
  },
  {
   "cell_type": "code",
   "execution_count": 31,
   "metadata": {},
   "outputs": [
    {
     "data": {
      "text/plain": [
       "DecisionTreeClassifier(class_weight=None, criterion='gini', max_depth=46000,\n",
       "            max_features=None, max_leaf_nodes=None,\n",
       "            min_impurity_decrease=0.0, min_impurity_split=None,\n",
       "            min_samples_leaf=1, min_samples_split=2,\n",
       "            min_weight_fraction_leaf=0.0, presort=False, random_state=None,\n",
       "            splitter='best')"
      ]
     },
     "execution_count": 31,
     "metadata": {},
     "output_type": "execute_result"
    }
   ],
   "source": [
    "dtree_vis = DTC(max_depth = 1)\n",
    "dtree.fit(X,y)"
   ]
  },
  {
   "cell_type": "code",
   "execution_count": 25,
   "metadata": {},
   "outputs": [],
   "source": [
    "from graphviz import Source\n",
    "from sklearn import tree"
   ]
  },
  {
   "cell_type": "code",
   "execution_count": 32,
   "metadata": {},
   "outputs": [],
   "source": [
    "dotfile = open(\"dtree_vis.dot\", 'w')\n",
    "tree.export_graphviz(dtree, out_file = dotfile, feature_names = X.columns)\n",
    "dotfile.close()"
   ]
  },
  {
   "cell_type": "code",
   "execution_count": 34,
   "metadata": {},
   "outputs": [
    {
     "data": {
      "text/plain": [
       "1e-06"
      ]
     },
     "execution_count": 34,
     "metadata": {},
     "output_type": "execute_result"
    }
   ],
   "source": [
    "1e-7 * 10"
   ]
  },
  {
   "cell_type": "code",
   "execution_count": 36,
   "metadata": {},
   "outputs": [
    {
     "name": "stdout",
     "output_type": "stream",
     "text": [
      "Finish Test Iteration  0\n",
      "Finish Test Iteration  1\n",
      "Finish Test Iteration  2\n",
      "Finish Test Iteration  3\n",
      "Finish Test Iteration  4\n",
      "Finish Test Iteration  5\n",
      "Finish Test Iteration  6\n",
      "Finish Test Iteration  7\n",
      "Finish Test Iteration  8\n",
      "Finish Test Iteration  9\n",
      "Finish Depth Iteration  0\n",
      "Finish Test Iteration  0\n",
      "Finish Test Iteration  1\n",
      "Finish Test Iteration  2\n",
      "Finish Test Iteration  3\n",
      "Finish Test Iteration  4\n",
      "Finish Test Iteration  5\n",
      "Finish Test Iteration  6\n",
      "Finish Test Iteration  7\n",
      "Finish Test Iteration  8\n",
      "Finish Test Iteration  9\n",
      "Finish Depth Iteration  1\n",
      "Finish Test Iteration  0\n",
      "Finish Test Iteration  1\n",
      "Finish Test Iteration  2\n",
      "Finish Test Iteration  3\n",
      "Finish Test Iteration  4\n",
      "Finish Test Iteration  5\n",
      "Finish Test Iteration  6\n",
      "Finish Test Iteration  7\n",
      "Finish Test Iteration  8\n",
      "Finish Test Iteration  9\n",
      "Finish Depth Iteration  2\n",
      "Finish Test Iteration  0\n",
      "Finish Test Iteration  1\n",
      "Finish Test Iteration  2\n",
      "Finish Test Iteration  3\n",
      "Finish Test Iteration  4\n",
      "Finish Test Iteration  5\n",
      "Finish Test Iteration  6\n",
      "Finish Test Iteration  7\n",
      "Finish Test Iteration  8\n",
      "Finish Test Iteration  9\n",
      "Finish Depth Iteration  3\n",
      "Finish Test Iteration  0\n",
      "Finish Test Iteration  1\n",
      "Finish Test Iteration  2\n",
      "Finish Test Iteration  3\n",
      "Finish Test Iteration  4\n",
      "Finish Test Iteration  5\n",
      "Finish Test Iteration  6\n",
      "Finish Test Iteration  7\n",
      "Finish Test Iteration  8\n",
      "Finish Test Iteration  9\n",
      "Finish Depth Iteration  4\n",
      "Finish Test Iteration  0\n",
      "Finish Test Iteration  1\n",
      "Finish Test Iteration  2\n",
      "Finish Test Iteration  3\n",
      "Finish Test Iteration  4\n",
      "Finish Test Iteration  5\n",
      "Finish Test Iteration  6\n",
      "Finish Test Iteration  7\n",
      "Finish Test Iteration  8\n",
      "Finish Test Iteration  9\n",
      "Finish Depth Iteration  5\n"
     ]
    }
   ],
   "source": [
    "score = []\n",
    "impurity = [1e-5, 1e-6, 1e-7, 1e-8, 1e-9, 0]\n",
    "j = 1\n",
    "for j in range(len(impurity)):\n",
    "            \n",
    "    dtree = DTC(max_depth = 46000, min_impurity_decrease = impurity[j])\n",
    "\n",
    "    ALL_TRUE_LABEL = []\n",
    "    ALL_PRED_LABEL = []\n",
    "    kf = KFold(n_splits=10)\n",
    "    i = 0\n",
    "\n",
    "    for train_index, test_index in kf.split(X):    \n",
    "\n",
    "        X_train, X_test = X.iloc[train_index], X.iloc[test_index]\n",
    "        y_train, y_test = y.iloc[train_index], y.iloc[test_index]\n",
    "\n",
    "        dtree.fit(X_train,y_train)\n",
    "        ALL_PRED_LABEL.extend(dtree.predict(X_test))\n",
    "        ALL_TRUE_LABEL.extend(y_test)\n",
    "\n",
    "        # Screen Output for tracking the progress, sometimes I wait too long......\n",
    "        print('Finish Test Iteration ',i)\n",
    "        i += 1\n",
    "    score.append(precision_score(ALL_TRUE_LABEL, ALL_PRED_LABEL, average = 'macro'))\n",
    "    print('Finish Depth Iteration ',j)\n",
    "#     print(classification_report(ALL_TRUE_LABEL,ALL_PRED_LABEL))\n",
    "#     print(confusion_matrix(ALL_TRUE_LABEL,ALL_PRED_LABEL))\n"
   ]
  },
  {
   "cell_type": "code",
   "execution_count": 37,
   "metadata": {},
   "outputs": [],
   "source": [
    "min_split = ['1e-5', '1e-6', '1e-7', '1e-8', '1e-9', '0']"
   ]
  },
  {
   "cell_type": "code",
   "execution_count": 38,
   "metadata": {},
   "outputs": [
    {
     "data": {
      "image/png": "[encoded data removed]",
      "text/plain": [
       "<Figure size 432x288 with 1 Axes>"
      ]
     },
     "metadata": {
      "needs_background": "light"
     },
     "output_type": "display_data"
    }
   ],
   "source": [
    "plt.plot(min_split, score)\n",
    "# plt.xlabel('Precision(macro)')\n",
    "# plt.ylabel('Maximum Depth')\n",
    "plt.title('Precision(macro) vs Min Split')\n",
    "plt.show()"
   ]
  },
  {
   "cell_type": "code",
   "execution_count": 39,
   "metadata": {
    "scrolled": true
   },
   "outputs": [
    {
     "name": "stdout",
     "output_type": "stream",
     "text": [
      "Finish Test Iteration  0\n",
      "Finish Test Iteration  1\n",
      "Finish Test Iteration  2\n",
      "Finish Test Iteration  3\n",
      "Finish Test Iteration  4\n",
      "Finish Test Iteration  5\n",
      "Finish Test Iteration  6\n",
      "Finish Test Iteration  7\n",
      "Finish Test Iteration  8\n",
      "Finish Test Iteration  9\n"
     ]
    },
    {
     "name": "stderr",
     "output_type": "stream",
     "text": [
      "c:\\program files\\python37\\lib\\site-packages\\sklearn\\metrics\\classification.py:1143: UndefinedMetricWarning: Precision is ill-defined and being set to 0.0 in labels with no predicted samples.\n",
      "  'precision', 'predicted', average, warn_for)\n"
     ]
    },
    {
     "name": "stdout",
     "output_type": "stream",
     "text": [
      "Finish Depth Iteration  0\n",
      "Finish Test Iteration  0\n",
      "Finish Test Iteration  1\n",
      "Finish Test Iteration  2\n",
      "Finish Test Iteration  3\n",
      "Finish Test Iteration  4\n",
      "Finish Test Iteration  5\n",
      "Finish Test Iteration  6\n",
      "Finish Test Iteration  7\n",
      "Finish Test Iteration  8\n",
      "Finish Test Iteration  9\n"
     ]
    },
    {
     "name": "stderr",
     "output_type": "stream",
     "text": [
      "c:\\program files\\python37\\lib\\site-packages\\sklearn\\metrics\\classification.py:1143: UndefinedMetricWarning: Precision is ill-defined and being set to 0.0 in labels with no predicted samples.\n",
      "  'precision', 'predicted', average, warn_for)\n"
     ]
    },
    {
     "name": "stdout",
     "output_type": "stream",
     "text": [
      "Finish Depth Iteration  1\n",
      "Finish Test Iteration  0\n",
      "Finish Test Iteration  1\n",
      "Finish Test Iteration  2\n",
      "Finish Test Iteration  3\n",
      "Finish Test Iteration  4\n",
      "Finish Test Iteration  5\n",
      "Finish Test Iteration  6\n",
      "Finish Test Iteration  7\n",
      "Finish Test Iteration  8\n",
      "Finish Test Iteration  9\n"
     ]
    },
    {
     "name": "stderr",
     "output_type": "stream",
     "text": [
      "c:\\program files\\python37\\lib\\site-packages\\sklearn\\metrics\\classification.py:1143: UndefinedMetricWarning: Precision is ill-defined and being set to 0.0 in labels with no predicted samples.\n",
      "  'precision', 'predicted', average, warn_for)\n"
     ]
    },
    {
     "name": "stdout",
     "output_type": "stream",
     "text": [
      "Finish Depth Iteration  2\n",
      "Finish Test Iteration  0\n",
      "Finish Test Iteration  1\n",
      "Finish Test Iteration  2\n",
      "Finish Test Iteration  3\n",
      "Finish Test Iteration  4\n",
      "Finish Test Iteration  5\n",
      "Finish Test Iteration  6\n",
      "Finish Test Iteration  7\n",
      "Finish Test Iteration  8\n",
      "Finish Test Iteration  9\n",
      "Finish Depth Iteration  3\n",
      "Finish Test Iteration  0\n",
      "Finish Test Iteration  1\n",
      "Finish Test Iteration  2\n",
      "Finish Test Iteration  3\n",
      "Finish Test Iteration  4\n",
      "Finish Test Iteration  5\n",
      "Finish Test Iteration  6\n",
      "Finish Test Iteration  7\n",
      "Finish Test Iteration  8\n",
      "Finish Test Iteration  9\n",
      "Finish Depth Iteration  4\n"
     ]
    }
   ],
   "source": [
    "score = []\n",
    "impurity = [1e-1, 1e-2, 1e-3, 1e-4, 1e-5]\n",
    "j = 1\n",
    "for j in range(len(impurity)):\n",
    "            \n",
    "    dtree = DTC(max_depth = 46000, min_impurity_decrease = impurity[j])\n",
    "\n",
    "    ALL_TRUE_LABEL = []\n",
    "    ALL_PRED_LABEL = []\n",
    "    kf = KFold(n_splits=10)\n",
    "    i = 0\n",
    "\n",
    "    for train_index, test_index in kf.split(X):    \n",
    "\n",
    "        X_train, X_test = X.iloc[train_index], X.iloc[test_index]\n",
    "        y_train, y_test = y.iloc[train_index], y.iloc[test_index]\n",
    "\n",
    "        dtree.fit(X_train,y_train)\n",
    "        ALL_PRED_LABEL.extend(dtree.predict(X_test))\n",
    "        ALL_TRUE_LABEL.extend(y_test)\n",
    "\n",
    "        # Screen Output for tracking the progress, sometimes I wait too long......\n",
    "        print('Finish Test Iteration ',i)\n",
    "        i += 1\n",
    "    score.append(precision_score(ALL_TRUE_LABEL, ALL_PRED_LABEL, average = 'macro'))\n",
    "    print('Finish Depth Iteration ',j)\n",
    "#     print(classification_report(ALL_TRUE_LABEL,ALL_PRED_LABEL))\n",
    "#     print(confusion_matrix(ALL_TRUE_LABEL,ALL_PRED_LABEL))\n"
   ]
  },
  {
   "cell_type": "code",
   "execution_count": 40,
   "metadata": {},
   "outputs": [],
   "source": [
    "min_split = ['1e-1', '1e-2', '1e-3', '1e-4', '1e-5']"
   ]
  },
  {
   "cell_type": "code",
   "execution_count": 41,
   "metadata": {
    "scrolled": true
   },
   "outputs": [
    {
     "data": {
      "image/png": "[encoded data removed]",
      "text/plain": [
       "<Figure size 432x288 with 1 Axes>"
      ]
     },
     "metadata": {
      "needs_background": "light"
     },
     "output_type": "display_data"
    }
   ],
   "source": [
    "plt.plot(min_split, score)\n",
    "# plt.xlabel('Precision(macro)')\n",
    "# plt.ylabel('Maximum Depth')\n",
    "plt.title('Precision(macro) vs Min Split')\n",
    "plt.show()"
   ]
  },
  {
   "cell_type": "markdown",
   "metadata": {},
   "source": [
    "Retest for depth with min_split_decrease = 1e-5.  "
   ]
  },
  {
   "cell_type": "code",
   "execution_count": 42,
   "metadata": {
    "scrolled": true
   },
   "outputs": [
    {
     "name": "stdout",
     "output_type": "stream",
     "text": [
      "Finish Test Iteration  0\n",
      "Finish Test Iteration  1\n",
      "Finish Test Iteration  2\n",
      "Finish Test Iteration  3\n",
      "Finish Test Iteration  4\n",
      "Finish Test Iteration  5\n",
      "Finish Test Iteration  6\n",
      "Finish Test Iteration  7\n",
      "Finish Test Iteration  8\n",
      "Finish Test Iteration  9\n",
      "Finish Subset Iteration  1\n",
      "Finish Test Iteration  0\n",
      "Finish Test Iteration  1\n",
      "Finish Test Iteration  2\n",
      "Finish Test Iteration  3\n",
      "Finish Test Iteration  4\n",
      "Finish Test Iteration  5\n",
      "Finish Test Iteration  6\n",
      "Finish Test Iteration  7\n",
      "Finish Test Iteration  8\n",
      "Finish Test Iteration  9\n",
      "Finish Subset Iteration  2\n",
      "Finish Test Iteration  0\n",
      "Finish Test Iteration  1\n",
      "Finish Test Iteration  2\n",
      "Finish Test Iteration  3\n",
      "Finish Test Iteration  4\n",
      "Finish Test Iteration  5\n",
      "Finish Test Iteration  6\n",
      "Finish Test Iteration  7\n",
      "Finish Test Iteration  8\n",
      "Finish Test Iteration  9\n",
      "Finish Subset Iteration  3\n",
      "Finish Test Iteration  0\n",
      "Finish Test Iteration  1\n",
      "Finish Test Iteration  2\n",
      "Finish Test Iteration  3\n",
      "Finish Test Iteration  4\n",
      "Finish Test Iteration  5\n",
      "Finish Test Iteration  6\n",
      "Finish Test Iteration  7\n",
      "Finish Test Iteration  8\n",
      "Finish Test Iteration  9\n",
      "Finish Subset Iteration  4\n",
      "Finish Test Iteration  0\n",
      "Finish Test Iteration  1\n",
      "Finish Test Iteration  2\n",
      "Finish Test Iteration  3\n",
      "Finish Test Iteration  4\n",
      "Finish Test Iteration  5\n",
      "Finish Test Iteration  6\n",
      "Finish Test Iteration  7\n",
      "Finish Test Iteration  8\n",
      "Finish Test Iteration  9\n",
      "Finish Subset Iteration  5\n",
      "Finish Test Iteration  0\n",
      "Finish Test Iteration  1\n",
      "Finish Test Iteration  2\n",
      "Finish Test Iteration  3\n",
      "Finish Test Iteration  4\n",
      "Finish Test Iteration  5\n",
      "Finish Test Iteration  6\n",
      "Finish Test Iteration  7\n",
      "Finish Test Iteration  8\n",
      "Finish Test Iteration  9\n",
      "Finish Subset Iteration  6\n",
      "Finish Test Iteration  0\n",
      "Finish Test Iteration  1\n",
      "Finish Test Iteration  2\n",
      "Finish Test Iteration  3\n",
      "Finish Test Iteration  4\n",
      "Finish Test Iteration  5\n",
      "Finish Test Iteration  6\n",
      "Finish Test Iteration  7\n",
      "Finish Test Iteration  8\n",
      "Finish Test Iteration  9\n",
      "Finish Subset Iteration  7\n",
      "Finish Test Iteration  0\n",
      "Finish Test Iteration  1\n",
      "Finish Test Iteration  2\n",
      "Finish Test Iteration  3\n",
      "Finish Test Iteration  4\n",
      "Finish Test Iteration  5\n",
      "Finish Test Iteration  6\n",
      "Finish Test Iteration  7\n",
      "Finish Test Iteration  8\n",
      "Finish Test Iteration  9\n",
      "Finish Subset Iteration  8\n",
      "Finish Test Iteration  0\n",
      "Finish Test Iteration  1\n",
      "Finish Test Iteration  2\n",
      "Finish Test Iteration  3\n",
      "Finish Test Iteration  4\n",
      "Finish Test Iteration  5\n",
      "Finish Test Iteration  6\n",
      "Finish Test Iteration  7\n",
      "Finish Test Iteration  8\n",
      "Finish Test Iteration  9\n",
      "Finish Subset Iteration  9\n",
      "Finish Test Iteration  0\n",
      "Finish Test Iteration  1\n",
      "Finish Test Iteration  2\n",
      "Finish Test Iteration  3\n",
      "Finish Test Iteration  4\n",
      "Finish Test Iteration  5\n",
      "Finish Test Iteration  6\n",
      "Finish Test Iteration  7\n",
      "Finish Test Iteration  8\n",
      "Finish Test Iteration  9\n",
      "Finish Subset Iteration  10\n"
     ]
    }
   ],
   "source": [
    "score = []\n",
    "j = 1\n",
    "for j in range(1,11):\n",
    "            \n",
    "    dtree = DTC(max_depth = j * 10000, min_impurity_decrease = 1e-5)\n",
    "\n",
    "    ALL_TRUE_LABEL = []\n",
    "    ALL_PRED_LABEL = []\n",
    "    kf = KFold(n_splits=10)\n",
    "    i = 0\n",
    "\n",
    "    for train_index, test_index in kf.split(X):    \n",
    "\n",
    "        X_train, X_test = X.iloc[train_index], X.iloc[test_index]\n",
    "        y_train, y_test = y.iloc[train_index], y.iloc[test_index]\n",
    "\n",
    "        dtree.fit(X_train,y_train)\n",
    "        ALL_PRED_LABEL.extend(dtree.predict(X_test))\n",
    "        ALL_TRUE_LABEL.extend(y_test)\n",
    "\n",
    "        # Screen Output for tracking the progress, sometimes I wait too long......\n",
    "        print('Finish Test Iteration ',i)\n",
    "        i += 1\n",
    "    score.append(precision_score(ALL_TRUE_LABEL, ALL_PRED_LABEL, average = 'macro'))\n",
    "    print('Finish Subset Iteration ',j)\n",
    "#     print(classification_report(ALL_TRUE_LABEL,ALL_PRED_LABEL))\n",
    "#     print(confusion_matrix(ALL_TRUE_LABEL,ALL_PRED_LABEL))"
   ]
  },
  {
   "cell_type": "code",
   "execution_count": 43,
   "metadata": {},
   "outputs": [
    {
     "data": {
      "text/plain": [
       "[10000, 20000, 30000, 40000, 50000, 60000, 70000, 80000, 90000, 100000]"
      ]
     },
     "execution_count": 43,
     "metadata": {},
     "output_type": "execute_result"
    }
   ],
   "source": [
    "max_depth = [i * 10000 for i in range(1,11)]\n",
    "max_depth"
   ]
  },
  {
   "cell_type": "code",
   "execution_count": 44,
   "metadata": {},
   "outputs": [
    {
     "data": {
      "text/plain": [
       "[0.8595655808861964,\n",
       " 0.8595883384817247,\n",
       " 0.8595830187671134,\n",
       " 0.8595805450311882,\n",
       " 0.8595515873112465,\n",
       " 0.8596270504197978,\n",
       " 0.8596170974651811,\n",
       " 0.8595606872621224,\n",
       " 0.8596028777388205,\n",
       " 0.859563973736035]"
      ]
     },
     "execution_count": 44,
     "metadata": {},
     "output_type": "execute_result"
    }
   ],
   "source": [
    "# I get smarter.  i want to reproduce the graph again anytime without running all over 1 hour again.  \n",
    "score"
   ]
  },
  {
   "cell_type": "code",
   "execution_count": 46,
   "metadata": {},
   "outputs": [
    {
     "data": {
      "image/png": "[encoded data removed]",
      "text/plain": [
       "<Figure size 432x288 with 1 Axes>"
      ]
     },
     "metadata": {
      "needs_background": "light"
     },
     "output_type": "display_data"
    }
   ],
   "source": [
    "plt.plot(max_depth, score)\n",
    "# plt.xlabel('Precision(macro)')\n",
    "# plt.ylabel('Maximum Depth')\n",
    "plt.title('Precision(macro) vs Max Depth with min split=1e-5')\n",
    "plt.show()"
   ]
  },
  {
   "cell_type": "code",
   "execution_count": 47,
   "metadata": {},
   "outputs": [
    {
     "name": "stdout",
     "output_type": "stream",
     "text": [
      "Finish Test Iteration  0\n",
      "Finish Test Iteration  1\n",
      "Finish Test Iteration  2\n",
      "Finish Test Iteration  3\n",
      "Finish Test Iteration  4\n",
      "Finish Test Iteration  5\n",
      "Finish Test Iteration  6\n",
      "Finish Test Iteration  7\n",
      "Finish Test Iteration  8\n",
      "Finish Test Iteration  9\n",
      "Finish Depth Iteration  55\n",
      "Finish Test Iteration  0\n",
      "Finish Test Iteration  1\n",
      "Finish Test Iteration  2\n",
      "Finish Test Iteration  3\n",
      "Finish Test Iteration  4\n",
      "Finish Test Iteration  5\n",
      "Finish Test Iteration  6\n",
      "Finish Test Iteration  7\n",
      "Finish Test Iteration  8\n",
      "Finish Test Iteration  9\n",
      "Finish Depth Iteration  56\n",
      "Finish Test Iteration  0\n",
      "Finish Test Iteration  1\n",
      "Finish Test Iteration  2\n",
      "Finish Test Iteration  3\n",
      "Finish Test Iteration  4\n",
      "Finish Test Iteration  5\n",
      "Finish Test Iteration  6\n",
      "Finish Test Iteration  7\n",
      "Finish Test Iteration  8\n",
      "Finish Test Iteration  9\n",
      "Finish Depth Iteration  57\n",
      "Finish Test Iteration  0\n",
      "Finish Test Iteration  1\n",
      "Finish Test Iteration  2\n",
      "Finish Test Iteration  3\n",
      "Finish Test Iteration  4\n",
      "Finish Test Iteration  5\n",
      "Finish Test Iteration  6\n",
      "Finish Test Iteration  7\n",
      "Finish Test Iteration  8\n",
      "Finish Test Iteration  9\n",
      "Finish Depth Iteration  58\n",
      "Finish Test Iteration  0\n",
      "Finish Test Iteration  1\n",
      "Finish Test Iteration  2\n",
      "Finish Test Iteration  3\n",
      "Finish Test Iteration  4\n",
      "Finish Test Iteration  5\n",
      "Finish Test Iteration  6\n",
      "Finish Test Iteration  7\n",
      "Finish Test Iteration  8\n",
      "Finish Test Iteration  9\n",
      "Finish Depth Iteration  59\n",
      "Finish Test Iteration  0\n",
      "Finish Test Iteration  1\n",
      "Finish Test Iteration  2\n",
      "Finish Test Iteration  3\n",
      "Finish Test Iteration  4\n",
      "Finish Test Iteration  5\n",
      "Finish Test Iteration  6\n",
      "Finish Test Iteration  7\n",
      "Finish Test Iteration  8\n",
      "Finish Test Iteration  9\n",
      "Finish Depth Iteration  60\n",
      "Finish Test Iteration  0\n",
      "Finish Test Iteration  1\n",
      "Finish Test Iteration  2\n",
      "Finish Test Iteration  3\n",
      "Finish Test Iteration  4\n",
      "Finish Test Iteration  5\n",
      "Finish Test Iteration  6\n",
      "Finish Test Iteration  7\n",
      "Finish Test Iteration  8\n",
      "Finish Test Iteration  9\n",
      "Finish Depth Iteration  61\n",
      "Finish Test Iteration  0\n",
      "Finish Test Iteration  1\n",
      "Finish Test Iteration  2\n",
      "Finish Test Iteration  3\n",
      "Finish Test Iteration  4\n",
      "Finish Test Iteration  5\n",
      "Finish Test Iteration  6\n",
      "Finish Test Iteration  7\n",
      "Finish Test Iteration  8\n",
      "Finish Test Iteration  9\n",
      "Finish Depth Iteration  62\n",
      "Finish Test Iteration  0\n",
      "Finish Test Iteration  1\n",
      "Finish Test Iteration  2\n",
      "Finish Test Iteration  3\n",
      "Finish Test Iteration  4\n",
      "Finish Test Iteration  5\n",
      "Finish Test Iteration  6\n",
      "Finish Test Iteration  7\n",
      "Finish Test Iteration  8\n",
      "Finish Test Iteration  9\n",
      "Finish Depth Iteration  63\n",
      "Finish Test Iteration  0\n",
      "Finish Test Iteration  1\n",
      "Finish Test Iteration  2\n",
      "Finish Test Iteration  3\n",
      "Finish Test Iteration  4\n",
      "Finish Test Iteration  5\n",
      "Finish Test Iteration  6\n",
      "Finish Test Iteration  7\n",
      "Finish Test Iteration  8\n",
      "Finish Test Iteration  9\n",
      "Finish Depth Iteration  64\n"
     ]
    }
   ],
   "source": [
    "score = []\n",
    "j = 1\n",
    "for j in range(55,65):\n",
    "            \n",
    "    dtree = DTC(max_depth = j * 1000)\n",
    "\n",
    "    ALL_TRUE_LABEL = []\n",
    "    ALL_PRED_LABEL = []\n",
    "    kf = KFold(n_splits=10)\n",
    "    i = 0\n",
    "\n",
    "    for train_index, test_index in kf.split(X):    \n",
    "\n",
    "        X_train, X_test = X.iloc[train_index], X.iloc[test_index]\n",
    "        y_train, y_test = y.iloc[train_index], y.iloc[test_index]\n",
    "\n",
    "        dtree.fit(X_train,y_train)\n",
    "        ALL_PRED_LABEL.extend(dtree.predict(X_test))\n",
    "        ALL_TRUE_LABEL.extend(y_test)\n",
    "\n",
    "        # Screen Output for tracking the progress, sometimes I wait too long......\n",
    "        print('Finish Test Iteration ',i)\n",
    "        i += 1\n",
    "    score.append(precision_score(ALL_TRUE_LABEL, ALL_PRED_LABEL, average = 'macro'))\n",
    "    print('Finish Depth Iteration ',j)\n",
    "#     print(classification_report(ALL_TRUE_LABEL,ALL_PRED_LABEL))\n",
    "#     print(confusion_matrix(ALL_TRUE_LABEL,ALL_PRED_LABEL))"
   ]
  },
  {
   "cell_type": "code",
   "execution_count": 48,
   "metadata": {},
   "outputs": [
    {
     "data": {
      "text/plain": [
       "[550000,\n",
       " 560000,\n",
       " 570000,\n",
       " 580000,\n",
       " 590000,\n",
       " 600000,\n",
       " 610000,\n",
       " 620000,\n",
       " 630000,\n",
       " 640000]"
      ]
     },
     "execution_count": 48,
     "metadata": {},
     "output_type": "execute_result"
    }
   ],
   "source": [
    "max_depth = [i * 10000 for i in range(55,65)]\n",
    "max_depth"
   ]
  },
  {
   "cell_type": "code",
   "execution_count": 49,
   "metadata": {},
   "outputs": [
    {
     "data": {
      "text/plain": [
       "[0.8466404968352742,\n",
       " 0.8465867349226112,\n",
       " 0.8457345214747769,\n",
       " 0.847100031721099,\n",
       " 0.8471999017673282,\n",
       " 0.847306793687157,\n",
       " 0.848592940699122,\n",
       " 0.8465217209153013,\n",
       " 0.8472588465179925,\n",
       " 0.8481486374340961]"
      ]
     },
     "execution_count": 49,
     "metadata": {},
     "output_type": "execute_result"
    }
   ],
   "source": [
    "score"
   ]
  },
  {
   "cell_type": "code",
   "execution_count": 50,
   "metadata": {},
   "outputs": [
    {
     "data": {
      "image/png": "[encoded data removed]",
      "text/plain": [
       "<Figure size 432x288 with 1 Axes>"
      ]
     },
     "metadata": {
      "needs_background": "light"
     },
     "output_type": "display_data"
    }
   ],
   "source": [
    "plt.plot(max_depth, score)\n",
    "# plt.xlabel('Precision(macro)')\n",
    "# plt.ylabel('Maximum Depth')\n",
    "plt.title('Precision(macro) vs Max Depth with min split=1e-5')\n",
    "plt.show()"
   ]
  },
  {
   "cell_type": "code",
   "execution_count": 52,
   "metadata": {},
   "outputs": [
    {
     "name": "stdout",
     "output_type": "stream",
     "text": [
      "Finish Test Iteration  0\n",
      "Finish Test Iteration  1\n",
      "Finish Test Iteration  2\n",
      "Finish Test Iteration  3\n",
      "Finish Test Iteration  4\n",
      "Finish Test Iteration  5\n",
      "Finish Test Iteration  6\n",
      "Finish Test Iteration  7\n",
      "Finish Test Iteration  8\n",
      "Finish Test Iteration  9\n",
      "              precision    recall  f1-score   support\n",
      "\n",
      "      bullet       0.85      0.88      0.86     70728\n",
      "   irregular       0.92      0.92      0.92    257158\n",
      "     monthly       0.93      0.92      0.92    342717\n",
      "      weekly       0.74      0.84      0.79       602\n",
      "\n",
      "   micro avg       0.92      0.92      0.92    671205\n",
      "   macro avg       0.86      0.89      0.87    671205\n",
      "weighted avg       0.92      0.92      0.92    671205\n",
      "\n",
      "[[ 61996   1683   7034     15]\n",
      " [  2526 236842  17638    152]\n",
      " [  8158  19401 315147     11]\n",
      " [     5     65     25    507]]\n"
     ]
    }
   ],
   "source": [
    "dtree = DTC(max_depth = 61000, min_impurity_decrease = 1e-5)\n",
    "\n",
    "ALL_TRUE_LABEL = []\n",
    "ALL_PRED_LABEL = []\n",
    "kf = KFold(n_splits=10)\n",
    "i = 0\n",
    "\n",
    "    for train_index, test_index in kf.split(X):\n",
    "\n",
    "    X_train, X_test = X.iloc[train_index], X.iloc[test_index]\n",
    "    y_train, y_test = y.iloc[train_index], y.iloc[test_index]\n",
    "\n",
    "    dtree.fit(X_train,y_train)\n",
    "    ALL_PRED_LABEL.extend(dtree.predict(X_test))\n",
    "    ALL_TRUE_LABEL.extend(y_test)\n",
    "\n",
    "    # Screen Output for tracking the progress, sometimes I wait too long......\n",
    "    print('Finish Test Iteration ',i)\n",
    "    i += 1    \n",
    "\n",
    "print(classification_report(ALL_TRUE_LABEL,ALL_PRED_LABEL))\n",
    "print(confusion_matrix(ALL_TRUE_LABEL,ALL_PRED_LABEL))"
   ]
  },
  {
   "cell_type": "code",
   "execution_count": null,
   "metadata": {},
   "outputs": [],
   "source": []
  },
  {
   "cell_type": "code",
   "execution_count": 53,
   "metadata": {},
   "outputs": [],
   "source": [
    "dtree = DTC(max_depth = 61000, min_impurity_decrease = 1e-5)"
   ]
  },
  {
   "cell_type": "code",
   "execution_count": 54,
   "metadata": {},
   "outputs": [
    {
     "data": {
      "text/plain": [
       "DecisionTreeClassifier(class_weight=None, criterion='gini', max_depth=61000,\n",
       "            max_features=None, max_leaf_nodes=None,\n",
       "            min_impurity_decrease=1e-05, min_impurity_split=None,\n",
       "            min_samples_leaf=1, min_samples_split=2,\n",
       "            min_weight_fraction_leaf=0.0, presort=False, random_state=None,\n",
       "            splitter='best')"
      ]
     },
     "execution_count": 54,
     "metadata": {},
     "output_type": "execute_result"
    }
   ],
   "source": [
    "dtree.fit(X,y)"
   ]
  },
  {
   "cell_type": "code",
   "execution_count": 55,
   "metadata": {},
   "outputs": [],
   "source": [
    "from graphviz import Source\n",
    "from sklearn.tree import export_graphviz"
   ]
  },
  {
   "cell_type": "code",
   "execution_count": 56,
   "metadata": {},
   "outputs": [],
   "source": [
    "dotfile = open(\"dtree4.dot\", 'w')\n",
    "export_graphviz(dtree, out_file = dotfile, feature_names = X.columns)\n",
    "dotfile.close()"
   ]
  },
  {
   "cell_type": "code",
   "execution_count": null,
   "metadata": {},
   "outputs": [],
   "source": []
  },
  {
   "cell_type": "code",
   "execution_count": 58,
   "metadata": {},
   "outputs": [],
   "source": [
    "loan_encoded = pd.read_csv('kiva_loans_dummied.csv')"
   ]
  },
  {
   "cell_type": "code",
   "execution_count": 59,
   "metadata": {},
   "outputs": [],
   "source": [
    "selected_features = list(loan_encoded.columns)\n",
    "selected_features.remove('repayment_interval_irregular')\n",
    "selected_features.remove('repayment_interval_monthly')\n",
    "selected_features.remove('repayment_interval_weekly')\n",
    "selected_features.remove('repayment_interval_bullet')"
   ]
  },
  {
   "cell_type": "code",
   "execution_count": 61,
   "metadata": {},
   "outputs": [],
   "source": [
    "X_encoded = loan_encoded[selected_features]"
   ]
  },
  {
   "cell_type": "code",
   "execution_count": 64,
   "metadata": {},
   "outputs": [
    {
     "data": {
      "text/plain": [
       "DecisionTreeClassifier(class_weight=None, criterion='gini', max_depth=61000,\n",
       "            max_features=None, max_leaf_nodes=None,\n",
       "            min_impurity_decrease=1e-05, min_impurity_split=None,\n",
       "            min_samples_leaf=1, min_samples_split=2,\n",
       "            min_weight_fraction_leaf=0.0, presort=False, random_state=None,\n",
       "            splitter='best')"
      ]
     },
     "execution_count": 64,
     "metadata": {},
     "output_type": "execute_result"
    }
   ],
   "source": [
    "dtree = DTC(max_depth = 61000, min_impurity_decrease = 1e-5)\n",
    "dtree.fit(X_encoded,y)"
   ]
  },
  {
   "cell_type": "code",
   "execution_count": 65,
   "metadata": {},
   "outputs": [],
   "source": [
    "dotfile = open(\"dtree4.dot\", 'w')\n",
    "export_graphviz(dtree, out_file = dotfile, feature_names = X.columns)\n",
    "dotfile.close()"
   ]
  },
  {
   "cell_type": "code",
   "execution_count": null,
   "metadata": {},
   "outputs": [],
   "source": []
  }
 ],
 "metadata": {
  "kernelspec": {
   "display_name": "Python 3",
   "language": "python",
   "name": "python3"
  },
  "language_info": {
   "codemirror_mode": {
    "name": "ipython",
    "version": 3
   },
   "file_extension": ".py",
   "mimetype": "text/x-python",
   "name": "python",
   "nbconvert_exporter": "python",
   "pygments_lexer": "ipython3",
   "version": "3.7.1"
  }
 },
 "nbformat": 4,
 "nbformat_minor": 2
}
